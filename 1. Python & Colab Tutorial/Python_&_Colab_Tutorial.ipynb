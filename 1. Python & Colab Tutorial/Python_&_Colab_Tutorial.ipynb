{
  "nbformat": 4,
  "nbformat_minor": 0,
  "metadata": {
    "colab": {
      "provenance": []
    },
    "kernelspec": {
      "name": "python3",
      "display_name": "Python 3"
    },
    "language_info": {
      "name": "python"
    }
  },
  "cells": [
    {
      "cell_type": "markdown",
      "source": [
        "#Hello World\n",
        "\n",
        "We can start by running the first and simplest line of code in Python by just using \"print\"."
      ],
      "metadata": {
        "id": "tPrZnbMRKWdC"
      }
    },
    {
      "cell_type": "code",
      "source": [
        "print(\"Hello World\")"
      ],
      "metadata": {
        "colab": {
          "base_uri": "https://localhost:8080/"
        },
        "id": "Zmwjob9wLinN",
        "outputId": "61efd803-5654-45ee-c352-b4865fdce3a1"
      },
      "execution_count": 1,
      "outputs": [
        {
          "output_type": "stream",
          "name": "stdout",
          "text": [
            "Hello World\n"
          ]
        }
      ]
    },
    {
      "cell_type": "markdown",
      "source": [
        "#Imports & Libraries\n",
        "Before we begin, we sometimes require certain **libraries** for different usages (random number generation, file system navigation, etc.)."
      ],
      "metadata": {
        "id": "e9RlcgfAeK7P"
      }
    },
    {
      "cell_type": "code",
      "source": [
        "import random\n",
        "import sys\n",
        "import os"
      ],
      "metadata": {
        "id": "z0cr2YIYenUa"
      },
      "execution_count": 2,
      "outputs": []
    },
    {
      "cell_type": "markdown",
      "source": [
        "Suppose we require a library that isn't available by default. We need to run a pip command to install it. For instance, if we require the py3dmol library, we can use it to install it and then import it."
      ],
      "metadata": {
        "id": "eqjHU9qBgJtV"
      }
    },
    {
      "cell_type": "code",
      "source": [
        "! pip install py3dmol\n",
        "import py3Dmol"
      ],
      "metadata": {
        "colab": {
          "base_uri": "https://localhost:8080/"
        },
        "id": "AxF4Hu-UgYuw",
        "outputId": "c7dfbd95-7c74-4d9d-f32d-0a6eadd0be4a"
      },
      "execution_count": 3,
      "outputs": [
        {
          "output_type": "stream",
          "name": "stdout",
          "text": [
            "Collecting py3dmol\n",
            "  Downloading py3Dmol-2.4.0-py2.py3-none-any.whl.metadata (1.9 kB)\n",
            "Downloading py3Dmol-2.4.0-py2.py3-none-any.whl (7.0 kB)\n",
            "Installing collected packages: py3dmol\n",
            "Successfully installed py3dmol-2.4.0\n"
          ]
        }
      ]
    },
    {
      "cell_type": "markdown",
      "source": [
        "#Comments\n",
        "\n",
        "We can add a single or multi-line **comments** as well in Python. Comments are for programmers and are not read by Python."
      ],
      "metadata": {
        "id": "J-xHakybMLiQ"
      }
    },
    {
      "cell_type": "code",
      "source": [
        "# This is a single line comment.\n",
        "\n",
        "\"\"\"\n",
        "This is a\n",
        "multi-line\n",
        "comment.\n",
        "\"\"\"\n",
        "\n",
        "print(\"XYZ\")"
      ],
      "metadata": {
        "colab": {
          "base_uri": "https://localhost:8080/"
        },
        "id": "0KJKxOVMNlQM",
        "outputId": "8052dcf1-481b-48e8-fa9e-8844f650b380"
      },
      "execution_count": 4,
      "outputs": [
        {
          "output_type": "stream",
          "name": "stdout",
          "text": [
            "XYZ\n"
          ]
        }
      ]
    },
    {
      "cell_type": "markdown",
      "source": [
        "#Variables\n",
        "\n",
        "We can store values in **variables**. For instance, the variable used below, \"Name\" is capable of storing anything. In this case, it stores the value \"Derek\" as a string. The variable names must start with a letter, but can have numbers or underscores after."
      ],
      "metadata": {
        "id": "9tEoW3znNwEj"
      }
    },
    {
      "cell_type": "code",
      "source": [
        "name = \"Derek\"\n",
        "print(name)"
      ],
      "metadata": {
        "colab": {
          "base_uri": "https://localhost:8080/"
        },
        "id": "W3uWiHIVOQzM",
        "outputId": "3be46ff4-4cf4-4522-b2b8-3432aa402eee"
      },
      "execution_count": 5,
      "outputs": [
        {
          "output_type": "stream",
          "name": "stdout",
          "text": [
            "Derek\n"
          ]
        }
      ]
    },
    {
      "cell_type": "markdown",
      "source": [
        "#Datatypes\n",
        "There are five main data types in Python:\n",
        "1. Numbers\n",
        "2. Strings\n",
        "3. Lists\n",
        "4. Tuples\n",
        "5. Dictionaries\n",
        "\n",
        "A variable can switch between them at any point of time by direct assignment. As we can see below, initially name was a String with the value \"Derek\", but later was changed to a Number, with the value \"123\"."
      ],
      "metadata": {
        "id": "f82QZcBNO0W_"
      }
    },
    {
      "cell_type": "code",
      "source": [
        "print(name)\n",
        "\n",
        "name = 123\n",
        "print(name)"
      ],
      "metadata": {
        "colab": {
          "base_uri": "https://localhost:8080/"
        },
        "id": "z027K9WjPOXM",
        "outputId": "c89c69f0-246d-47e0-a6da-8316f0ea5793"
      },
      "execution_count": 6,
      "outputs": [
        {
          "output_type": "stream",
          "name": "stdout",
          "text": [
            "Derek\n",
            "123\n"
          ]
        }
      ]
    },
    {
      "cell_type": "markdown",
      "source": [
        "##Numbers\n",
        "There are seven main arithmetic operators we can use with **Numbers** - Addition (+), Subtraction (-), Multiplication (\\*), Division (/), Modulus/Remainder (%), Exponent (\\*\\*), and Floor Division (//).\n",
        "\n",
        "There is a hierarchial order of operations for all arithmetic calculations performed."
      ],
      "metadata": {
        "id": "cJnvZKPVPtO2"
      }
    },
    {
      "cell_type": "code",
      "source": [
        "print(\"5 + 2 = \", 5 + 2)\n",
        "print(\"5 - 2 = \", 5 - 2)\n",
        "print(\"5 * 2 = \", 5 * 2)\n",
        "print(\"5 / 2 = \", 5 / 2)\n",
        "print(\"5 % 2 = \", 5 % 2)\n",
        "print(\"5 ** 2 = \", 5 ** 2)\n",
        "print(\"5 // 2 = \", 5 // 2)"
      ],
      "metadata": {
        "colab": {
          "base_uri": "https://localhost:8080/"
        },
        "id": "DfodcBjWQRXc",
        "outputId": "0583db11-de15-45c9-9dbd-f2a69ec3099b"
      },
      "execution_count": 7,
      "outputs": [
        {
          "output_type": "stream",
          "name": "stdout",
          "text": [
            "5 + 2 =  7\n",
            "5 - 2 =  3\n",
            "5 * 2 =  10\n",
            "5 / 2 =  2.5\n",
            "5 % 2 =  1\n",
            "5 ** 2 =  25\n",
            "5 // 2 =  2\n"
          ]
        }
      ]
    },
    {
      "cell_type": "code",
      "source": [
        "print(\"1 + 2 - 3 * 2 = \", 1 + 2 - 3 * 2)\n",
        "print(\"(1 + 2 - 3) * 2 = \", (1 + 2 - 3) * 2)"
      ],
      "metadata": {
        "colab": {
          "base_uri": "https://localhost:8080/"
        },
        "id": "fMnCvHnoQ2Zz",
        "outputId": "751e68c0-d745-4413-b1b7-9fc67571bba2"
      },
      "execution_count": 8,
      "outputs": [
        {
          "output_type": "stream",
          "name": "stdout",
          "text": [
            "1 + 2 - 3 * 2 =  -3\n",
            "(1 + 2 - 3) * 2 =  0\n"
          ]
        }
      ]
    },
    {
      "cell_type": "markdown",
      "source": [
        "While printing a number, we can use float precision to define the precision (number of digits) for our value."
      ],
      "metadata": {
        "id": "M15VARMSIpTW"
      }
    },
    {
      "cell_type": "code",
      "source": [
        "num1 = 15\n",
        "num2 = 3.14159\n",
        "\n",
        "print(\"%.2f\" % num1)\n",
        "print(\"%.2f\" % num2)"
      ],
      "metadata": {
        "colab": {
          "base_uri": "https://localhost:8080/"
        },
        "id": "DxS5PjSBIt6u",
        "outputId": "c5208152-a453-4565-ddd0-a55d64c073f0"
      },
      "execution_count": 9,
      "outputs": [
        {
          "output_type": "stream",
          "name": "stdout",
          "text": [
            "15.00\n",
            "3.14\n"
          ]
        }
      ]
    },
    {
      "cell_type": "markdown",
      "source": [
        "##Strings\n",
        "**String** is a combination of alphanumeric and special characters between single or double quotes.\n",
        "\n",
        "To put certain special characters such as one of the quotes, we need to use backslash before the required character.\n",
        "\n",
        "Strings can also be multi-line using triple quotes."
      ],
      "metadata": {
        "id": "TFa9n69MQjJx"
      }
    },
    {
      "cell_type": "code",
      "source": [
        "text = \"Hello\"\n",
        "print(text)\n",
        "\n",
        "text = \"Hello \\\"World\\\"\"\n",
        "print(text)\n",
        "\n",
        "text = \"\"\"Hello\n",
        "World\"\"\"\n",
        "print(text)"
      ],
      "metadata": {
        "colab": {
          "base_uri": "https://localhost:8080/"
        },
        "id": "DYQMCOJURyLf",
        "outputId": "81f100be-f314-4c66-ccac-ed7b98fd2714"
      },
      "execution_count": 10,
      "outputs": [
        {
          "output_type": "stream",
          "name": "stdout",
          "text": [
            "Hello\n",
            "Hello \"World\"\n",
            "Hello\n",
            "World\n"
          ]
        }
      ]
    },
    {
      "cell_type": "markdown",
      "source": [
        "Strings can be concatenated (joined) by using a simple + sign. They can also be repeated using the * sign.\n",
        "\n",
        "Strings can also be formatted inside print statement. We can also stop the print statement from going to a new line with every new statement using the end feature."
      ],
      "metadata": {
        "id": "E0FPam98SJGr"
      }
    },
    {
      "cell_type": "code",
      "source": [
        "text = \"Hello\"\n",
        "name = \"Derek\"\n",
        "text = text + \" \" + name\n",
        "print(text)\n",
        "\n",
        "hey = \"Hey \" * 3\n",
        "print(hey)\n",
        "\n",
        "new_text = \"This is Yash\"\n",
        "print(\"%s %s\" % (text, new_text))\n",
        "\n",
        "print(text, end=\" \")\n",
        "print(new_text)"
      ],
      "metadata": {
        "colab": {
          "base_uri": "https://localhost:8080/"
        },
        "id": "EQxyoxq7SSvM",
        "outputId": "8b7931ba-c486-4ea1-8db1-90095fd2231d"
      },
      "execution_count": 11,
      "outputs": [
        {
          "output_type": "stream",
          "name": "stdout",
          "text": [
            "Hello Derek\n",
            "Hey Hey Hey \n",
            "Hello Derek This is Yash\n",
            "Hello Derek This is Yash\n"
          ]
        }
      ]
    },
    {
      "cell_type": "markdown",
      "source": [
        "We can perform multiple operations to manipulate strings such as capitalize, find substring, check alphabet/numerical/mixed, replace, trim/strip, split, and more."
      ],
      "metadata": {
        "id": "EPacMMNdH7KB"
      }
    },
    {
      "cell_type": "code",
      "source": [
        "string = \"hello everyone my name is Yash\"\n",
        "\n",
        "print(string.capitalize())\n",
        "print(string.find(\"everyone\"))\n",
        "print(string.isalpha())\n",
        "print(string.isalnum())\n",
        "print(string.replace(\"Yash\", \"Derek\"))\n",
        "print(string.strip())\n",
        "\n",
        "words = string.split(\" \")\n",
        "print(words)"
      ],
      "metadata": {
        "colab": {
          "base_uri": "https://localhost:8080/"
        },
        "id": "XxVKP82MIQGQ",
        "outputId": "8625c0be-a1bc-4117-8d6c-3076fc6f6e58"
      },
      "execution_count": 12,
      "outputs": [
        {
          "output_type": "stream",
          "name": "stdout",
          "text": [
            "Hello everyone my name is yash\n",
            "6\n",
            "False\n",
            "False\n",
            "hello everyone my name is Derek\n",
            "hello everyone my name is Yash\n",
            "['hello', 'everyone', 'my', 'name', 'is', 'Yash']\n"
          ]
        }
      ]
    },
    {
      "cell_type": "markdown",
      "source": [
        "##Lists\n",
        "**Lists** are simply a list of values which can be of any datatypes. Each item has an index, starting from 0, which can be used to refer to the item positioned at the index within the list. We can also use a subset of indices (for eg, 1:3) to return all items from first till before second index."
      ],
      "metadata": {
        "id": "C1xUkj4PSrzk"
      }
    },
    {
      "cell_type": "code",
      "source": [
        "grocery_list = [\"Bananas\", \"Apples\", \"Oranges\", \"Juice\"]\n",
        "\n",
        "print(grocery_list)\n",
        "print(grocery_list[1])\n",
        "print(grocery_list[1:3])"
      ],
      "metadata": {
        "colab": {
          "base_uri": "https://localhost:8080/"
        },
        "id": "LNAxMz1e1-B5",
        "outputId": "21324ed0-cad3-4b19-a479-7b8164982f61"
      },
      "execution_count": 13,
      "outputs": [
        {
          "output_type": "stream",
          "name": "stdout",
          "text": [
            "['Bananas', 'Apples', 'Oranges', 'Juice']\n",
            "Apples\n",
            "['Apples', 'Oranges']\n"
          ]
        }
      ]
    },
    {
      "cell_type": "markdown",
      "source": [
        "Lists can hold any and all datatypes within it, including other lists. The elemnts don't have to be the same datatype either. In the below example, we store a string and another list inside the same list. The items inside the inner lists can be accessed similarly through double indexing."
      ],
      "metadata": {
        "id": "S-4yl5Y44dTV"
      }
    },
    {
      "cell_type": "code",
      "source": [
        "deadline = \"09/03\"\n",
        "to_do_list = [deadline, grocery_list]\n",
        "\n",
        "print(to_do_list)\n",
        "print(to_do_list[1][2])"
      ],
      "metadata": {
        "colab": {
          "base_uri": "https://localhost:8080/"
        },
        "id": "ZBPlDO-f4o4J",
        "outputId": "95f9eed7-1d23-456b-9e02-43c349540039"
      },
      "execution_count": 14,
      "outputs": [
        {
          "output_type": "stream",
          "name": "stdout",
          "text": [
            "['09/03', ['Bananas', 'Apples', 'Oranges', 'Juice']]\n",
            "Oranges\n"
          ]
        }
      ]
    },
    {
      "cell_type": "markdown",
      "source": [
        "Lists are mutable and can be changed at any point. We can add or remove items from the list. We can also insert items at specific positions/index."
      ],
      "metadata": {
        "id": "YdtGo1Fd5knK"
      }
    },
    {
      "cell_type": "code",
      "source": [
        "grocery_list.append(\"Milk\")\n",
        "print(grocery_list)\n",
        "\n",
        "grocery_list.remove(\"Juice\")\n",
        "print(grocery_list)\n",
        "\n",
        "grocery_list.insert(0, \"Salt\")\n",
        "print(grocery_list)"
      ],
      "metadata": {
        "colab": {
          "base_uri": "https://localhost:8080/"
        },
        "id": "H_QpfXnK5q6q",
        "outputId": "a0a7425a-f1c7-4a3a-89df-6ab0a8581aee"
      },
      "execution_count": 15,
      "outputs": [
        {
          "output_type": "stream",
          "name": "stdout",
          "text": [
            "['Bananas', 'Apples', 'Oranges', 'Juice', 'Milk']\n",
            "['Bananas', 'Apples', 'Oranges', 'Milk']\n",
            "['Salt', 'Bananas', 'Apples', 'Oranges', 'Milk']\n"
          ]
        }
      ]
    },
    {
      "cell_type": "markdown",
      "source": [
        "We can also perform other operations such as sorting and reversing on a list directly using the appropriate methods. We can also use the del command to delete an item using its index, as opposed to deleting it using the value directly."
      ],
      "metadata": {
        "id": "aqktE3yB6MYa"
      }
    },
    {
      "cell_type": "code",
      "source": [
        "grocery_list.sort()\n",
        "print(grocery_list)\n",
        "\n",
        "grocery_list.reverse()\n",
        "print(grocery_list)\n",
        "\n",
        "del grocery_list[0]\n",
        "print(grocery_list)"
      ],
      "metadata": {
        "colab": {
          "base_uri": "https://localhost:8080/"
        },
        "id": "tFkj06j46SZ3",
        "outputId": "0458a719-6940-4df6-8f86-e8b0aea7173f"
      },
      "execution_count": 16,
      "outputs": [
        {
          "output_type": "stream",
          "name": "stdout",
          "text": [
            "['Apples', 'Bananas', 'Milk', 'Oranges', 'Salt']\n",
            "['Salt', 'Oranges', 'Milk', 'Bananas', 'Apples']\n",
            "['Oranges', 'Milk', 'Bananas', 'Apples']\n"
          ]
        }
      ]
    },
    {
      "cell_type": "markdown",
      "source": [
        "We can also concatenate lists using the + sign. We can also apply other operations such as finding the size/length of the list or getting the maximum/minimum value in the list"
      ],
      "metadata": {
        "id": "zmbDZCUm9N_q"
      }
    },
    {
      "cell_type": "code",
      "source": [
        "list1 = [1, 2]\n",
        "list2 = [3, 4]\n",
        "list3 = list1 + list2\n",
        "print(list3)\n",
        "\n",
        "print(len(list3))\n",
        "print(max(list3))\n",
        "print(min(list3))"
      ],
      "metadata": {
        "colab": {
          "base_uri": "https://localhost:8080/"
        },
        "id": "sDIDlx6w9Yye",
        "outputId": "a573ff2b-a85c-48ec-96a0-9707c6491b22"
      },
      "execution_count": 17,
      "outputs": [
        {
          "output_type": "stream",
          "name": "stdout",
          "text": [
            "[1, 2, 3, 4]\n",
            "4\n",
            "4\n",
            "1\n"
          ]
        }
      ]
    },
    {
      "cell_type": "markdown",
      "source": [
        "##Tuples\n",
        "**Tuples** are very similar to lists, except that they are immutable (cannot change post-creation). Tuples and lists can be typecasted to each other. We can also perform the same operations as lists, such as length, maximum/minimum, etc."
      ],
      "metadata": {
        "id": "BUb8ZCFy91Em"
      }
    },
    {
      "cell_type": "code",
      "source": [
        "t = (1, 2, 3, 4)\n",
        "print(t)\n",
        "\n",
        "tuple_gl = tuple(grocery_list)\n",
        "print(tuple_gl)\n",
        "\n",
        "print(len(tuple_gl))\n",
        "print(max(tuple_gl))\n",
        "print(min(tuple_gl));"
      ],
      "metadata": {
        "colab": {
          "base_uri": "https://localhost:8080/"
        },
        "id": "L2jDw5Lg-AwK",
        "outputId": "84eed51c-ff02-46c0-a8f4-adc68c2bb253"
      },
      "execution_count": 18,
      "outputs": [
        {
          "output_type": "stream",
          "name": "stdout",
          "text": [
            "(1, 2, 3, 4)\n",
            "('Oranges', 'Milk', 'Bananas', 'Apples')\n",
            "4\n",
            "Oranges\n",
            "Apples\n"
          ]
        }
      ]
    },
    {
      "cell_type": "markdown",
      "source": [
        "##Dictionaries\n",
        "**Dictionaries**, or maps, are key-value pairs. These are also similar to lists, but you cannot join them together with a + sign. The keys act like an index to access the value stored for the particular pair."
      ],
      "metadata": {
        "id": "ice9IwVI-cgE"
      }
    },
    {
      "cell_type": "code",
      "source": [
        "players_teams = {\"Saka\": \"Arsenal\", \"Haaland\": \"Man City\", \"Mbappe\": \"Real Madrid\"}\n",
        "\n",
        "print(players_teams[\"Saka\"])"
      ],
      "metadata": {
        "colab": {
          "base_uri": "https://localhost:8080/"
        },
        "id": "Cv9RgI06-qz8",
        "outputId": "c43f56d2-f7db-408f-ff75-c40e289cf6eb"
      },
      "execution_count": 19,
      "outputs": [
        {
          "output_type": "stream",
          "name": "stdout",
          "text": [
            "Arsenal\n"
          ]
        }
      ]
    },
    {
      "cell_type": "markdown",
      "source": [
        "As it is mutable, operations such as del, update, and assignment can be done at any point."
      ],
      "metadata": {
        "id": "XZBF2IB9_Hls"
      }
    },
    {
      "cell_type": "code",
      "source": [
        "players_teams[\"Messi\"] = \"Barcelona\"\n",
        "print(players_teams)\n",
        "\n",
        "players_teams[\"Messi\"] = \"Inter Miami\"\n",
        "print(players_teams)\n",
        "\n",
        "del players_teams[\"Mbappe\"]\n",
        "print(players_teams)"
      ],
      "metadata": {
        "colab": {
          "base_uri": "https://localhost:8080/"
        },
        "id": "DZPBziTy_PXQ",
        "outputId": "794469e2-9380-4cf3-f9f0-b86393fe57cf"
      },
      "execution_count": 20,
      "outputs": [
        {
          "output_type": "stream",
          "name": "stdout",
          "text": [
            "{'Saka': 'Arsenal', 'Haaland': 'Man City', 'Mbappe': 'Real Madrid', 'Messi': 'Barcelona'}\n",
            "{'Saka': 'Arsenal', 'Haaland': 'Man City', 'Mbappe': 'Real Madrid', 'Messi': 'Inter Miami'}\n",
            "{'Saka': 'Arsenal', 'Haaland': 'Man City', 'Messi': 'Inter Miami'}\n"
          ]
        }
      ]
    },
    {
      "cell_type": "markdown",
      "source": [
        "We can perform similar operations such as length for dictionaries. We can also use get method to retrieve the value for a particular key. We can also access the list of keys and values present in the dictionary."
      ],
      "metadata": {
        "id": "KsBHFBRa_-DX"
      }
    },
    {
      "cell_type": "code",
      "source": [
        "print(len(players_teams))\n",
        "\n",
        "print(players_teams.get(\"Messi\"))\n",
        "\n",
        "print(players_teams.keys())\n",
        "print(players_teams.values())"
      ],
      "metadata": {
        "colab": {
          "base_uri": "https://localhost:8080/"
        },
        "id": "ohQo4SoXAOlM",
        "outputId": "ee17a3ab-6d3f-482b-fab9-b980902fc710"
      },
      "execution_count": 21,
      "outputs": [
        {
          "output_type": "stream",
          "name": "stdout",
          "text": [
            "3\n",
            "Inter Miami\n",
            "dict_keys(['Saka', 'Haaland', 'Messi'])\n",
            "dict_values(['Arsenal', 'Man City', 'Inter Miami'])\n"
          ]
        }
      ]
    },
    {
      "cell_type": "markdown",
      "source": [
        "#Conditionals\n",
        "The statements *'if'*, *'elif'*, and *'else'* are used to create conditions based on the validity/truthfulness of which we can perform different set of actions/statements.\n",
        "\n",
        "We can use different **comparison operators** for this process - equality (==), inequality (!=), greater than (>), less than (<), greater than or equal to (>=), and less than or equal to (<=)"
      ],
      "metadata": {
        "id": "we2dTCPsAV6n"
      }
    },
    {
      "cell_type": "code",
      "source": [
        "age = 18\n",
        "\n",
        "if age >= 21:\n",
        "  print(\"You can drive a tractor trailer\")\n",
        "elif age >= 16:\n",
        "  print(\"You can drive a car\")\n",
        "else:\n",
        "  print(\"You can't drive anything\")"
      ],
      "metadata": {
        "colab": {
          "base_uri": "https://localhost:8080/"
        },
        "id": "Qdmk4uroAn-1",
        "outputId": "2ff4cc4f-e56d-4684-8c53-e74c9b717dcf"
      },
      "execution_count": 22,
      "outputs": [
        {
          "output_type": "stream",
          "name": "stdout",
          "text": [
            "You can drive a car\n"
          ]
        }
      ]
    },
    {
      "cell_type": "markdown",
      "source": [
        "We can combine or negate conditions using **logical operators** such as *and*, *or*, and *not*."
      ],
      "metadata": {
        "id": "6aS0B3bzA1iq"
      }
    },
    {
      "cell_type": "code",
      "source": [
        "age = 25\n",
        "\n",
        "if (age >= 1) and (age <= 18):\n",
        "  print(\"Important Birthday\")\n",
        "elif (age == 21) or (age >= 65):\n",
        "  print(\"Important Birthday\")\n",
        "elif not(age == 30):\n",
        "  print(\"Not Important Birthday\")\n",
        "else:\n",
        "  print(\"Normal Birthday\")"
      ],
      "metadata": {
        "colab": {
          "base_uri": "https://localhost:8080/"
        },
        "id": "qCVeiJN6CNVx",
        "outputId": "0b8aa5e7-e9fc-49f8-a1de-ce1ec10f661c"
      },
      "execution_count": 23,
      "outputs": [
        {
          "output_type": "stream",
          "name": "stdout",
          "text": [
            "Not Important Birthday\n"
          ]
        }
      ]
    },
    {
      "cell_type": "markdown",
      "source": [
        "#Looping\n",
        "**Looping** allows us to perform the same set of statements multiple times. We can use *For* or *While* statements to do this.\n",
        "\n",
        "For statements can be used to iterate over a list directly, or over a range of numbers."
      ],
      "metadata": {
        "id": "IGgMrRKbCjIb"
      }
    },
    {
      "cell_type": "code",
      "source": [
        "for x in range(0, 10):\n",
        "  print(x, \" \", end=\"\")\n",
        "\n",
        "print(\"\\n\")\n",
        "\n",
        "for y in grocery_list:\n",
        "  print(y, end=\" \")\n",
        "\n",
        "print(\"\\n\")\n",
        "\n",
        "for x in [2, 4, 6, 8, 10]:\n",
        "  print(x, end = \" \")"
      ],
      "metadata": {
        "colab": {
          "base_uri": "https://localhost:8080/"
        },
        "id": "Lle63LzFCxJj",
        "outputId": "2bf3de63-cba0-4cf3-e6e9-a4b42f9d9eed"
      },
      "execution_count": 24,
      "outputs": [
        {
          "output_type": "stream",
          "name": "stdout",
          "text": [
            "0  1  2  3  4  5  6  7  8  9  \n",
            "\n",
            "Oranges Milk Bananas Apples \n",
            "\n",
            "2 4 6 8 10 "
          ]
        }
      ]
    },
    {
      "cell_type": "markdown",
      "source": [
        "If we have a multi-dimensional list, we can use nested for loops."
      ],
      "metadata": {
        "id": "OQ0IkpJ2Dcdo"
      }
    },
    {
      "cell_type": "code",
      "source": [
        "num_list = [[1,2,3],[11,12,13],[21,22,23]]\n",
        "\n",
        "for x in range(0, 3):\n",
        "  for y in range(0, 3):\n",
        "    print(num_list[x][y], end=\" \")"
      ],
      "metadata": {
        "colab": {
          "base_uri": "https://localhost:8080/"
        },
        "id": "ooyZ1_uVDlBs",
        "outputId": "60ea7661-4a7c-4ab2-ddbf-b254fec60a7e"
      },
      "execution_count": 25,
      "outputs": [
        {
          "output_type": "stream",
          "name": "stdout",
          "text": [
            "1 2 3 11 12 13 21 22 23 "
          ]
        }
      ]
    },
    {
      "cell_type": "markdown",
      "source": [
        "If there are an indefinite number of loops to be run, we can use the While statement instead."
      ],
      "metadata": {
        "id": "tVHBQlYjDzgx"
      }
    },
    {
      "cell_type": "code",
      "source": [
        "random_num = random.randrange(0, 20)\n",
        "\n",
        "while (random_num != 5):\n",
        "  print(random_num, end=\" \")\n",
        "  random_num = random.randrange(0, 20)\n",
        "\n",
        "print(\"\\n\")\n",
        "print(random_num, \"found\")"
      ],
      "metadata": {
        "colab": {
          "base_uri": "https://localhost:8080/"
        },
        "id": "qfD0qmJoEBX1",
        "outputId": "f5deb7c8-ca4e-48f2-a860-c7f15df278e5"
      },
      "execution_count": 26,
      "outputs": [
        {
          "output_type": "stream",
          "name": "stdout",
          "text": [
            "12 13 12 9 9 6 11 17 15 11 13 0 10 17 0 4 18 1 11 10 18 4 2 19 6 7 14 11 4 12 3 16 7 7 19 8 4 15 15 15 0 7 4 17 10 18 16 10 19 4 19 19 17 10 4 7 7 10 8 9 9 3 11 15 19 1 18 \n",
            "\n",
            "5 found\n"
          ]
        }
      ]
    },
    {
      "cell_type": "markdown",
      "source": [
        "While loops can be used similarly to For loops for iteration over a fixed number of times. The continue statement is used to skip the remaining portion of the particular iteration of the loop, whereas the break stops it entirely and exits the looping process itself."
      ],
      "metadata": {
        "id": "wi2hluf8EbWY"
      }
    },
    {
      "cell_type": "code",
      "source": [
        "i = 0\n",
        "\n",
        "while (i <= 10):\n",
        "  if i % 2 == 0:\n",
        "    print(i, end=\" \")\n",
        "  elif i == 9:\n",
        "    break\n",
        "  else:\n",
        "    i += 1\n",
        "    continue\n",
        "\n",
        "  i += 1"
      ],
      "metadata": {
        "colab": {
          "base_uri": "https://localhost:8080/"
        },
        "id": "gqXV7plnEhao",
        "outputId": "09dd02c0-9757-476f-bc57-fca18a93e53f"
      },
      "execution_count": 27,
      "outputs": [
        {
          "output_type": "stream",
          "name": "stdout",
          "text": [
            "0 2 4 6 8 "
          ]
        }
      ]
    },
    {
      "cell_type": "markdown",
      "source": [
        "#Functions\n",
        "**Functions** are a set of statements that we can reuse instead of writing it each time where required, to keep the code readable. If the function has a return statement, we can store the returned value and use it in the following steps."
      ],
      "metadata": {
        "id": "E3lSzdNMFI1_"
      }
    },
    {
      "cell_type": "code",
      "source": [
        "def add_numbers(first, second):\n",
        "  sum = first + second\n",
        "  return sum\n",
        "\n",
        "print(add_numbers(1, 2))\n",
        "\n",
        "x = add_numbers(1, 7)\n",
        "y = add_numbers(x, 2)\n",
        "print(x, y)"
      ],
      "metadata": {
        "colab": {
          "base_uri": "https://localhost:8080/"
        },
        "id": "DSFDf3LzFXlX",
        "outputId": "fa9c8f8e-4686-40cc-c647-40c227fdbbe2"
      },
      "execution_count": 28,
      "outputs": [
        {
          "output_type": "stream",
          "name": "stdout",
          "text": [
            "3\n",
            "8 10\n"
          ]
        }
      ]
    },
    {
      "cell_type": "markdown",
      "source": [
        "For some use cases, we may require input from the user. We can do this through multiple ways."
      ],
      "metadata": {
        "id": "qrb_xCCnF-9b"
      }
    },
    {
      "cell_type": "code",
      "source": [
        "print(\"What is your name?\")\n",
        "name = input()\n",
        "print(\"Hello \" + name)"
      ],
      "metadata": {
        "colab": {
          "base_uri": "https://localhost:8080/"
        },
        "id": "fH6nL9hzGHNG",
        "outputId": "ad87769f-0702-4d2c-f27c-fe459da153c5"
      },
      "execution_count": 29,
      "outputs": [
        {
          "output_type": "stream",
          "name": "stdout",
          "text": [
            "What is your name?\n",
            "Yash\n",
            "Hello Yash\n"
          ]
        }
      ]
    },
    {
      "cell_type": "markdown",
      "source": [
        "#Slicing\n",
        "With strings, lists, and other datatypes, we can slice indices to return a subset of the data. We can also use negative indices to return items/characters in reverse. If either side of the colon is empty, it will consider the extreme ends and return the subset appropriately."
      ],
      "metadata": {
        "id": "raQDpPwyGqpq"
      }
    },
    {
      "cell_type": "code",
      "source": [
        "string = \"Hello everyone, my name is Yash\"\n",
        "print(string[0:5])\n",
        "print(string[:-4])\n",
        "print(string[-4:])"
      ],
      "metadata": {
        "colab": {
          "base_uri": "https://localhost:8080/"
        },
        "id": "Tmbq-LlCG3No",
        "outputId": "1226914b-dc82-4f4d-c21a-685cc36aa6c3"
      },
      "execution_count": 30,
      "outputs": [
        {
          "output_type": "stream",
          "name": "stdout",
          "text": [
            "Hello\n",
            "Hello everyone, my name is \n",
            "Yash\n"
          ]
        }
      ]
    },
    {
      "cell_type": "markdown",
      "source": [
        "#File IO\n",
        "We can create, open, read, and write files from our directory."
      ],
      "metadata": {
        "id": "Fi8aVrD1HVWk"
      }
    },
    {
      "cell_type": "code",
      "source": [
        "test_file = open(\"test.txt\", \"wb\")\n",
        "\n",
        "print(test_file.mode)\n",
        "print(test_file.name)\n",
        "\n",
        "test_file.write(bytes(\"Write me to the file\\n\", \"UTF-8\"))\n",
        "test_file.close()"
      ],
      "metadata": {
        "colab": {
          "base_uri": "https://localhost:8080/"
        },
        "id": "PQ4ZksZv7vLz",
        "outputId": "11f182fe-6f58-4c0d-bc8c-16a5ffc13182"
      },
      "execution_count": 31,
      "outputs": [
        {
          "output_type": "stream",
          "name": "stdout",
          "text": [
            "wb\n",
            "test.txt\n"
          ]
        }
      ]
    },
    {
      "cell_type": "code",
      "source": [
        "test_file = open(\"test.txt\", \"r+\")\n",
        "\n",
        "text_in_file = test_file.read()\n",
        "print(text_in_file)\n",
        "\n",
        "test_file.close()"
      ],
      "metadata": {
        "colab": {
          "base_uri": "https://localhost:8080/"
        },
        "id": "CBxQdMUP76BS",
        "outputId": "e14afda8-3466-4994-fe49-22e1526d0dad"
      },
      "execution_count": 32,
      "outputs": [
        {
          "output_type": "stream",
          "name": "stdout",
          "text": [
            "Write me to the file\n",
            "\n"
          ]
        }
      ]
    },
    {
      "cell_type": "markdown",
      "source": [
        "#Classes and Objects\n",
        "Object-oriented programming (or OOP) concepts allow us to model real-world things or objects through code. Similar to how each real-world object has attributes (color, height, etc.) and abilities (walk, talk, etc.), we can define **classes** with *variables as attributes* and *methods/functions as abilities*.\n",
        "\n",
        "In the example used below, we have defined Animal as a class, with attributes name, height, weight, and sound. We have also defined get/set methods (aka getters/setters) to retrieve or assign values to the variables respectively.\n",
        "\n",
        "The self keyword here is used to refer to the same object of the class which is calling the method.\n",
        "\n",
        "A special method, known as the constructor (init) is used to initialize the object of the class."
      ],
      "metadata": {
        "id": "ava0KcVB8BpB"
      }
    },
    {
      "cell_type": "code",
      "source": [
        "class Animal:\n",
        "  __name = \"\"\n",
        "  __height = 0\n",
        "  __weight = 0\n",
        "  __sound = 0\n",
        "\n",
        "  def __init__(self, name, height, weight, sound):\n",
        "    self.__name = name\n",
        "    self.__height = height\n",
        "    self.__weight = weight\n",
        "    self.__sound = sound\n",
        "\n",
        "  def set_name(self, name):\n",
        "    self.__name = name\n",
        "\n",
        "  def get_name(self):\n",
        "    return self.__name\n",
        "\n",
        "  def set_height(self, height):\n",
        "    self.__height = height\n",
        "\n",
        "  def get_height(self):\n",
        "    return self.__height\n",
        "\n",
        "  def set_weight(self, weight):\n",
        "    self.__weight = weight\n",
        "\n",
        "  def get_weight(self):\n",
        "    return self.__weight\n",
        "\n",
        "  def set_sound(self, sound):\n",
        "    self.__sound = sound\n",
        "\n",
        "  def get_sound(self):\n",
        "    return self.__sound\n",
        "\n",
        "  def get_type(self):\n",
        "    print(\"Animal\")\n",
        "\n",
        "  def to_string(self):\n",
        "    return \"{} is {} cm tall and weighs {} kilograms and says {}\".format(self.__name, self.__height, self.__weight, self.__sound)"
      ],
      "metadata": {
        "id": "BJQZbrvk8rHf"
      },
      "execution_count": 33,
      "outputs": []
    },
    {
      "cell_type": "markdown",
      "source": [
        "**Objects** are instances of a class, such as a cat or mouse for the animal class. While both are animals, a cat or a mouse display different sets of behaviours and attributes."
      ],
      "metadata": {
        "id": "XHlF2K1j-bbe"
      }
    },
    {
      "cell_type": "code",
      "source": [
        "cat = Animal(\"Tom\", 33, 10, \"Meow\")\n",
        "mouse = Animal(\"Jerry\", 5, 2, \"Squeak\")\n",
        "\n",
        "print(cat.to_string())\n",
        "print(mouse.to_string())"
      ],
      "metadata": {
        "colab": {
          "base_uri": "https://localhost:8080/"
        },
        "id": "hp8D_Lq--p63",
        "outputId": "a2cf3761-1fa7-458a-d0c9-c0c7c1faaf5a"
      },
      "execution_count": 34,
      "outputs": [
        {
          "output_type": "stream",
          "name": "stdout",
          "text": [
            "Tom is 33 cm tall and weighs 10 kilograms and says Meow\n",
            "Jerry is 5 cm tall and weighs 2 kilograms and says Squeak\n"
          ]
        }
      ]
    },
    {
      "cell_type": "markdown",
      "source": [
        "#Inheritance\n",
        "When a class inherits from another class, it also inherits all its methods and attributes. A Dog is also an Animal and displays all attributes and behaviors of an animal, hence we can use it as the parent class to the Dog class and inherit the Animal class' attributes and behaviors.\n",
        "\n",
        "After inheriting the methods, the child class can overwrite them or add new methods/attributes to customize to their use case specifically.\n",
        "\n",
        "In this case, we modify the to string method to include the new owner attribute. Moreover, we have also defined the constructor to set the owner here and call the parent Animal class' constructor for the remaining attributes."
      ],
      "metadata": {
        "id": "S7tSpHSt_AQV"
      }
    },
    {
      "cell_type": "code",
      "source": [
        "class Dog(Animal):\n",
        "  __owner = \"\"\n",
        "\n",
        "  def __init__(self, name, height, weight, sound, owner):\n",
        "    super().__init__(name, height, weight, sound)\n",
        "    self.__owner = owner\n",
        "\n",
        "  def set_owner(self, owner):\n",
        "    self.__owner = owner\n",
        "\n",
        "  def get_owner(self):\n",
        "    return self.__owner\n",
        "\n",
        "  def get_type(self):\n",
        "    print(\"Dog\")\n",
        "\n",
        "  def to_string(self):\n",
        "    return \"{}, owned by {}, is {} cm tall and weighs {} kilograms and says {}\".format(self.get_name(), self.__owner, self.get_height(), self.get_weight(), self.get_sound())"
      ],
      "metadata": {
        "id": "oFjC6_-d_h69"
      },
      "execution_count": 35,
      "outputs": []
    },
    {
      "cell_type": "code",
      "source": [
        "d = Dog(\"Tim\", 30, 30, \"Bark\", \"Derek\")\n",
        "print(d.to_string())"
      ],
      "metadata": {
        "colab": {
          "base_uri": "https://localhost:8080/"
        },
        "id": "kULtoykrAz5s",
        "outputId": "a320cb21-eb01-4052-9caf-1e136cc8d035"
      },
      "execution_count": 36,
      "outputs": [
        {
          "output_type": "stream",
          "name": "stdout",
          "text": [
            "Tim, owned by Derek, is 30 cm tall and weighs 30 kilograms and says Bark\n"
          ]
        }
      ]
    },
    {
      "cell_type": "markdown",
      "source": [
        "#Method Overloading\n",
        "Depending on the attributes that are sent in, we can define perform different action for the same method. We can do this using different signatures or simple if statements too."
      ],
      "metadata": {
        "id": "87WrfibsCzJO"
      }
    },
    {
      "cell_type": "code",
      "source": [
        "class operations:\n",
        "  def divide(self, a, b):\n",
        "    if b is None or b == 0:\n",
        "      print(\"Cannot divide by 0\")\n",
        "    else:\n",
        "      print(a / b)\n",
        "\n",
        "op = operations()\n",
        "op.divide(1, 2)\n",
        "op.divide(1, 0)"
      ],
      "metadata": {
        "colab": {
          "base_uri": "https://localhost:8080/"
        },
        "id": "Byn-ogJSE3JD",
        "outputId": "68f5b082-f780-49ec-807a-f0278b96ac03"
      },
      "execution_count": 37,
      "outputs": [
        {
          "output_type": "stream",
          "name": "stdout",
          "text": [
            "0.5\n",
            "Cannot divide by 0\n"
          ]
        }
      ]
    },
    {
      "cell_type": "markdown",
      "source": [
        "#Polymorphism\n",
        "Polymorphism allows us to refer to objects as their superclass. In the below example, an object of type Animal is expected. Using the Dog object instead is still legal as Dog is a subclass of Animal (or simply, Dog is an Animal). It still refers to the overridden method defined under dog, but it is valid."
      ],
      "metadata": {
        "id": "Ll0aymeKFSVU"
      }
    },
    {
      "cell_type": "code",
      "source": [
        "class AnimalTesting:\n",
        "  def get_type(self, animal):\n",
        "    animal.get_type()\n",
        "\n",
        "test_animals = AnimalTesting()\n",
        "\n",
        "test_animals.get_type(cat)\n",
        "test_animals.get_type(d)"
      ],
      "metadata": {
        "colab": {
          "base_uri": "https://localhost:8080/"
        },
        "id": "8sKK06B_Fa7O",
        "outputId": "61f1da9d-a340-4ee4-9b76-72b363d946e3"
      },
      "execution_count": 38,
      "outputs": [
        {
          "output_type": "stream",
          "name": "stdout",
          "text": [
            "Animal\n",
            "Dog\n"
          ]
        }
      ]
    },
    {
      "cell_type": "markdown",
      "source": [
        "#Colab Features\n",
        "**Google Colab** allows us to run *Jupyter Notebooks* on the cloud. We can perform the same actions except for this running on Google Cloud.\n",
        "\n",
        "To obtain data, we can use the **wget** command to obtain data from a web server. Depending on the data format, we can apply numerous techniques to extract and read it. If it is a zipped file, we can unzip it before further operations. If it is an HTML file, we can use the BeautifulSoup library, and so on."
      ],
      "metadata": {
        "id": "Kl_vqd7HmIoX"
      }
    },
    {
      "cell_type": "code",
      "source": [
        "!wget -q https://github.com/datasciencedojo/datasets/blob/master/titanic.csv"
      ],
      "metadata": {
        "id": "pyDN4qAUnBS0"
      },
      "execution_count": 39,
      "outputs": []
    },
    {
      "cell_type": "markdown",
      "source": [
        "![Screenshot (169).png](data:image/png;base64,iVBORw0KGgoAAAANSUhEUgAABt0AAAIsCAYAAACeIGbMAAAAAXNSR0IArs4c6QAAAARnQU1BAACxjwv8YQUAAAAJcEhZcwAADsMAAA7DAcdvqGQAAP+lSURBVHhe7N0HYBRl2gfwf3ohECAJmAAhECmhC0H6UVSCCqeIolIUDwU9RETwPLDwYUNPihi9ExSFo1gRT7EEFEGKoAGRDlJCgARIKIGQkP7NMyWZ3ewmu8mmAP/f3bg7ZWfeKTvAPPs8r1vnD/YVgIiIiIiIiIiIiIiIiIjKzF1/JSIiIiIiIiIiIiIiIqIyYtCNiIiIiIiIiIiIiIiIqJwYdCMiIiIiIiIiIiIiIiIqJwbdiIiIiIiIiIiIiIiIiMqJQTciIiIiIiIiIiIiIiKicmLQjYiIiIiIiIiIiIiIiKic3Dp/sK9Af3/Vq+3thiYB7qirvNbycoMb8vU5RETFZeW74Vx2AU5fLsDBi5V4v1DuygXK/9zc3PQJRETFFRQo9wnlf+pNozLvF7xHEZGDquw+RUREREREVEXKHXRrHeiOG4M80DTADXW8lcHH8X9MncsqUB9oH7pUgF9T87AnrWIeat8S6oluQe5oobSViKgsLuYUYEtqPladzMOJDFfeq/R7ZoE8jNLeEhGVifyNTr2PyH/K9dc7E96jiMiFKuQ+VRp9o4Xb1hWOa2+08GBltYmIiIiIiK5WZQq6+Xq4oW99d9wW5om6TgTZSnM2qwDfnMjD2tN5uJxX/n/w9KnvgXsbe6pZbUREriI/EvjwcC4u5JT/PqU95iEich01s8RNfmjEexQRVU+uvE+5lPoDA971iIiIiIio7JwOukk22/NtvVHft+L+MXIyswCv7M5Wg3BlNTTcE3c08tTHiIhcK+Wycp/alY2UMt+nlHsoM0eIqIKo5R/LdYPhPYqIKlb571PFyd/KXLFGV62HiIiIiIiuPU7VW2zg74YX21VswE1c5+eG/2vrjUY1ylYO8r7GHgy4EVGFClHugy+290awT9nuUwXSpySf5hBRBdGKpJX1RwG8RxFRxSvvfcpM1qIF8VxD1iO/OyAiIiIiInKWw0+La3q54ZlW3i4tJ1mSIGU7k6M84efh3PY6BXlgUEMvfYyIqOJI6donWzof4NeSR/g0m4gqlnqfKcNTY96jiKiylPU+ZYur71tSZZJxNyIiIiIicpZDQTf558uTLb3UQFhlkgySx5t7OfzPpyB9eSKiytIkwB3DmzgTeHNjVyFEVHnUG44zNx3eo4iokjl9nyquom5bxnoZfCMiIiIiIkc5FHTrGuyOlrXKVkKtvDrUdVe37wgpK+ldNc0komvYbWGeCPUv/eYjD2zUkm1ERJXKsQJuvEcRUdUpW6HJSisBWWkbIiIiIiKiK51b5w/2lfgvCD9PN7zWwavM/Ra5QsrlAjz9ezZy8u03tba3G97p7KOPERFVrlVJuVh0JFcfs0d+L82HNkRU+aSnI+k9yXBLqCda1nLD0iN5OJttBNocv0f1ahSAB9vVResQP7gXpoJon83Pz1feFsDd3R1uetqcvMpc47n176cysGD7GcQnZ2gTiOiaZ32falHLHeE13LDhdD4y86zvTZX/dyq5fzETmIiIiIiISlNqJK1DbbcqDbiJEF83tFPaUZLOQR76uwrCXzcSUQkcuwc5kUGi3HPc8vPVQb3/ODFYfI6ISGV5PxjZxANdgz1wv/JaxLF7VHSoP17tG4Z29fzUx95Cffwt9x83N3h4eMDT01MNusk0CcLl5eWpyxgBuk7X+ePNWxqqwTsiIo3lfeqxZl4Y1dQL3UOK/1u0KrJyGXAjIiIiIiJHlBpNa1+nagNuhtLacWNQGdpZIL/ENv2DTd6bx+Uffsa4/CtLfaBd+f/AI6Lqr46PG66vWcp9qMCxpzXykFruOQXywFoZ1PuPPhTYGMzz1WXMn2PgjYgUbla3Ag+5PyikUkAhB+9Rj3YMho+HGyTxRIJo8qm8/Hw1yJaRkYEvvvgC7733Hnbv3q1OkyCcDNk5OcjOzlaWL0Cu8tcpb2Udf2tfV1spEV3zrO9T8sNLEWi+Tym0jDjH7leuJk3k36yIiIiIiKgkpZaXfLWDNxrXKENAy8WOXsrH1O3Z+lhx82/0QQ0vB//xpT/QLlSQp/xHGXcz7ad5GZkvg7u3Ni6s10FE17wPD+Xgh5NyP7HDifuGz/nT6PrHT4g4cwz1My+idlYmAnOz4JmvZYsUBtOU9eUr965sdw+c8/TCRR9/nPatieN16uO3Nr1xMaSRthwRXdus7j9Le/iqr3su5OOVnfrfrxy8R/36UAvtobO+fG5uLrw8PfHzzz/jH//4B+rWrQtfX1+kp6ejZ8+euOWWW+Dn54cOHTqon89XPicZcWoZSuWO1n3RAXU6EV3j7Nynlh/LxReJRSW85f7j2N+migsN8FKH5PQcdSiL8myfiIiIiIiufqUG3f7d2RuB3lUfdEvLzsfff7MfdDP+UeYMvwtr4H9hNTyzE5Uxd2T7RiIz8FZcrnGjMu4G70u/o8b5r+GdtR/Iz0GeTygyA/ohvdatcPMwBeCIiBQfH83D18ftP8Bx8Hk2Ak8n4sXYceh24k99StnsrVMfUybMQ1J4S30KEV2rrO8/toJujt6jtjzUQn3gLMEzCZx5enggKSkJAwYMwMSJE/HQQw+py40aNQqff/45unXrpgbgGjZsiNjYWFx33XXIyclRS1BKZm/XReW71xHR1cHefcocdNP+4arlupXFIzcE45EOQXhv+xm893uqPtU5BeXYPhERERERXf1Kjab5e1aPf1C4sh1uuRcQfGwS6h/9G+qmf4Ra+RuVYT2C0xei3uGR8L24BQGnF6DB0fsRfPED1MpW5uf9ijqX/oewpAmon/gI3LNT9LU5bsGC+WjeIsJi+OWXjfrcspF1HPhzvz5Wub76+kuLfSkL63U4ux5Z3tH9f/mV6er2HCXLW7fNGJxZj6sYx+rs2bP6lJLJsq68NqyPh4w7KuHoEdx73136WOkSEo7g3DnH9tNRm5Tv2uiHH8SlS5f0KUVkmsyTZcqjtN8nOPIwW9z800dqwC3L0xt5Hp7Ic/coPnh62Z6uD/LZqHOn0Hvtx/panfPOgEZqNstfmwfqU0r2Uu9QrBneTB+7siy5I0IdSjM+OkQ9JuahqvZZti3tKS/r/ZHz7ijjeDhKlnVFm69WXu5ueK1vGPpF1NSnWJLpMl+WKwtH7j+O3qOEBNuEBNy++eYb3HPPPejVq5cacPvoo4/QunVrtaTk0aNHsXr1amzatAkRERF44IEHcPHiRbi5u2vrcGajJo/b+D7KNPGicj+S8Xdi7F/PxjLyapDvs3l9Mvy1WdE90PiM9WCPbN+8nHlbwtY+mO9Fpc23Zq991tutDEZbnDkHxv462l5nl6fy6xzqj7n9G8LPxr/LZJrMk2XKyqH7lATmqjjgJduXACEREREREZEtpQbdyvJw59dfN+vvbCttvi1lfchUTH4efH9+BbX+/J9aTTInG8jMDsHlnBD1aGT53wDvjM24LvUlIC8LuTnKR3KV6dk+KFBe5TeWNY5tgO/a55UPZ2rrdMIz/5iKA/sT1GHlyjg8OGq4w4E3CdrJUB1IMGfy5CcL92XmzDedCsIICdzs2PFH4TpkWLRwabkDka7y3LPTCtv1wAMPqftojP910J36UiWTAJnsp6OBspLINmXbUrarMsm5ln1o16594f7LEHpdqEv2q7IsWbII69evw8OPjLIIvMl7mSbzZJnqoEniXrVkpIdyv/LIy4V7Qb72XgYUaK/KzUl9b56nDOZlZR1Nkg7qa3VOVJAv0rPzEdO0lj7l2va/e5piZNu6uPHD/RbDxewSyolWY0ZQdfHOsxb707Cml77E1eNKCQi3CPJBj0YBeKVPGPo2DtCnamRcpst8Wa7KFRSoGWrubm5q5trUqVPVAFrz5s2xZcsWddr777+Pt99+G/PmzcOggYPwxx9/4I033kBeXh7Wrl2rBuvkM2X5293/7onEA1bfx5c3nETXBjX0JTRRwfarIPRsGKDe46x9f/hC4Tp/S8rAcz2vswi8yWfM25XBnkBfj8JlpH0DlPupOUBUr4YnktNzLdY14n8J+tzS59ti3T5ju3LMHCX7K/cH836XlTPn4O34FLXNL6xL1qeUzNnlqfzuiaqDbsr3bG7/RhaBNy3g1kidJ8tUJAe7nqx41aUdRERERERU7ZQadHPWJ59+hBEj78Orr76oT7Ek02X+l//7Qp9SubwPfw+fP1fi3J8+SD8ditTwGUiOXIHkJp/gVK1nkBE4EDXPLYc8BnJzK0C2TzOcDJ2BUxEf4HTY/yH9QhOkHfCHz+F18D7wP32tZdO8WQs1kPPjmh/0KVeOM6mpaiDK0LJlFBITj+pjpZMAnQQgJbBl1q1bD3Wg6mPgwBg1GGodaBw9ekylBwDLY87sWPylV29s3fpbYeDNCLjJNJkny1QHEWmp8htquMuDbTflXmT+ObW3t0Tggb59JdVEffgN96JbuSwrn5HPyjoaK+tylpGNtGL/eTX4dq2TAFVNb+3hubU7Pjusv7tyyPmVTISXN55EbLxl1vaVuD9Xi10pl/GPH08gN78Ar/ZtUJjxJq8yLtNlvixX1dSAm3LfSU5OxqJFi9QSkgMHDlRLSJ49cxZ///vfkZKSghtvvBHBwcG4c/CdaqnJZ599FqGhoWr2m6xD+nWTV2dI5lRNb/di38ev/kyzCEgZwRxbWVBGRlxpxsUdU4NeZf3xgbk90r4DZ7PQtHZR0DTI17PEwH1p8x0h25VjJcespKyziuCKc0DVy3PrkvDLiUvoUN+vMPBmBNxkmsyTZSqSZLoRERERERFVZy4Punm4e6gPURYu+qBY4E3GZbrMd5c0syrgtX8FPD2Uf7C5u+Fc6DNIr30/8nwaIte3KS7Ue0xZIg/+OIaCPCDbsxFOh8/HpaD7kVWzBy7UHYVzIc+gIL8A7h7u8DrwtbZSFzCyiawzhyQ4ZZSlfP1fr6qDvLcubyjTjMG6pKCxbmOwzkiTcVmfvBrLlFY+sUWLKPz3vx8WtvfTTz/GwIF/Vd8LWYe9LChpj3xWgjalMUoqOtou6xKettpgXsb6WDjDOK5msj1ju9LWrt06qtPl1XpZow3GYGacD6OtMm69PWNbxlARWZCyXQmuOhIINV8/Mvz55wF9jm1Lly3Gv96YgbffmYvVq+P0qZakxKT0E5SWdh55eUUd6JeFj48P3nlnfmHgbfTDD6iDEXCTebJMdVArM10Lnin/swi4iexs4OabgTjlmM2cCQQFacE3E+0z2mfrXi5eTrM0XRrUwN4zlwsDMrZKAkr2kGRCGIOZZIUtsSqBJuswL2cu42adhSTTjOWNwboN1vPN27Num/VnZVljnrS1NBKgkgCkI6zbZWv9RpaZMdgq6SifM69D2mx9TM1K22ezm5vUxG/JGfjqQJo+xT7zOmUoiZQiNS9rr73mc29r383rkMFMljeOh/nz5nMqg1EWVZaVgEmAt7s63Xw+xnUKUdvyzb2R+OyuJph9cwN9jkaO4d0ta+Nv7YPwYLu66mAr+NKolrca0HAFeWBtBN4ks21C5xD11Qi4yfzqQM1QU/4u9/PPPyMsLAzNmjXD6dOn4enliZq1aqrZbcePH1cDbYcPH0bv3r3x008/KffyNKxcuVLt000+L4xXR3UO88cXDn4f96ZeRvt6xUvd3dKkljrvWiL721C5Vg0SCDN/Z4zAmATmJLtPyKvMMxT7njmQCefsOZD1GgE5aYtk6MmrsU3rjD3z8ka5SePVGKzJOox58l72SwYqXXZeAZ7W70USZItVzo0MRsBN5skyFauaRN2c/MEAERERERFdO1we+br77qF45eXX1fcSYJs1S3svrzIuZP5f/+pYeT5Xczt7SM0AyfYPQ27j3so/mPL1bJE89b3XZenM3w2eXgVID/wrcnybaPUl82V+HvKv64BcnzrqP7TcLyRqKy2HlNOn1TJ9kvXWp08/bNj4sz5HC6pIcGrw4LvVcn6SGWaUpzRnHUkmklHyTzLnZNwgpRplfPMv2wqXEdbBJikVOXTofep8KXsp47YCVgbJcJLsJyOYdFO/mx0uubhv316LLDl7JIi0cuVXhe2WQdplL/BmtNdYVo7FP6dMVqcZ5POtWrUuXEay8yoiWCXkeMhxF8bxF0awTI6fua0yzUzOfUi9eup8W8d2xYrPLc6rBGRdXZpTyn9KWcnSjBn7N/U6Ntoi19CQu/+KQ4dslzaUgFy3rt3xj6en4PFxE1CzVi31ujA7duwYfH191Qe6gYG1XfJswwi8dezYCdu2bVWHnj3/Uq0CbsJN7jfaO/3VRLLazp0DvLyASZOAX38Fxo7VZxYxPumZm62/c1zzuj7Ypz8MTUrPUYNwZhLgkeCDZEpJBoW8moMRO05nIizAskyhrEOyPIR8fuPxdPWzMkgmh/UDT3MpRwkQDW5RW5+jBUNkvrk0YlqWdsyMthnTZRlZ1gjCyHakbcZ8aavsrz1G8Mo6I8wW2bZsyzguMghzoEe2L9mDxnwZJKhnDj7JMkZmnQyltbG0fbYWquy/cX7tMQJoceZSe8p5sPUA2zA0qo7FvkubpW1m0q43fzutzpdlZd+NZRzdprRfzrfMH/f9scL9NH/myc711GmSuSfrM0ruGZl8xrmaufkUbv/kEO754og6XQJcZuGB3tijHKtFO87i58R0eHm44fo6RedC2pKv3JwumkrklZcReBPD29RV11+dAm5mderUQWamVmrb398f58+dV8el3zbJdpuk3KNq1qyJRx99FP/+97/VcpMzZ87EBx98oAbuJFvOGUZwRcoKOkLOfWiAp0VwSN7LNMlic4QEVM9cLt+PPgxy7zl8XrsPCik/Kd8TucZlsL4PljbfGfJDCtlvgwTCjO/Mf5V7hpSglGMjx0VKUgp5lfnCOIbGZ6T05pM3at+zkpT3HBhtNrYr47Yy58wkoGcsL5mK5uOm3V+1TEkZ/jidUeL9lYozAm/yZ1O7en7qsLnSAm7KP8Fs/d3IjndvDS/8/hjDIx2C1Hnyaj1Plnec4+0gIiIiIqJrS4Wkm0ng7YUXtCy3efP/o5aTlFcxbdpL6vwqo//7yE2y3TxM/1gyfnGt/leT7xmEAgnKydN+GZQPueVcAnIva7+xLGe2ngRIJFAiQTUhmWIS5DDs368Fp0or4SfBG0PPHn9RX40A1IcLF6jzzev4+2PjLbLUhATzJPAnjACgbN8eCXxJf3QSXJE2yvvCoNef+9XPl9RuCdCURNYlx+a1GTP1KRrZFwnE2SLbM2fPybFYu3aNPqaR/TRnbU2e/Iy6ncokwTLrdkhQTY6ZOWgm4yUFMq3LO8o6U1IdexDpjJBg+xkzwmiz+djLNfTUU//A5s2b9CmWmjVrjqZNi36tHt6oMTIyM/QxjZQg8/Mr+nW8sw9nr2SlPsaR+5URhZRroHZRQMpasUy5UkiQSQIURpBpy4lLxR5I9mgYoD5INTKl5FUCHYbn1yWrmUVGwErIOmRdQubLYJAHd9aZQrJ+g7yX9RnBFSNTyxwIk+CLkLZJ0MkgyySn56hBKfm8tEOCPgZph8wvibnPISEBG/NDOmM/rY+LWPDHGUhgRrZta/tCPmOU8SxLG0vaZ3uOXig5GCsBNAmSms+THGM5FtaBNIOU0jPvu3y+rl/RQ35h67qRB7bC0W3KuHG+hazHXMbPuF5KYpyrbw8VXWf/U9YT5OdhEWROychVHyaLI+ezkZmTj5o+Rev2Vv4eURkPmasbDw8P5RZUgH79+qmZah999JHy97tpahBO+nczk6DbSy+9hN9//x3/+te/8PDDD6sZb5s3b1bv6xJ8c4b197EkRknHoa2K+piS74XxA4DSLNGDNeY+w4ysSWNwtK80WU6Cs+Z1yXVrBH9kkO++sU1R2vzyuOOzQ/o7LYgpx1WCzPZYl+905HsmynsO1O+7KTgnnzOX6LRlwfaissoSVDN+BCLBPvX++mvR/VXOhwTmiIiIiIiIiFylwp5ijxj+AKZOfUF9/+uvm9VXGR8+bKT6vqoU1G6q9tfmdTEJHofXaYEz9WG+Mijvc3yul6VQkO8G34zNcJP5Hso/1j20B4eeu5bBO++SsgY35AdZlkRzhFEeUgYJVElWkBE4kSCRORgmfb1JBllpgoKD9Xda4EmkntEeRkvQSUpBmskyEtAxlhGSUWUWHt7YbgBHgmqSMSZtl+CK9MtmZL1J29f/vM6i1KQtySeLHjrZIm2zFbiTfbEOpJnJ9o3ja5R2NI6nsN7P4CDtYbl5mYom+y7Zdta63NjV4pjLOSiNuVSmXFuSOekICZoan5OhpGy/0gJ5Ml/abk36+Tt1+pQ+Vtzhw4cKy0vGxX2r9gVk5ulp+bDe2RJktmRlZWHcuDFqhptku8mwYcPP6jSZV13kFu6rjYf58oC6Zk0t8LZoEXDDDcqNRcsoNjM+maPfuxxllJY0SADHOughD1rNQTZxNtPyoaU8GDWCF/JZWYc5SGYOXMkDWMnsMjt9qWh9RpCmsV4aTYJY8sDXFmmbZDCZH4rL8kI+L+0wB4ZEaVlK1g+WJShkPAQ3s3VcZFuyTdm2ve3LZ4xtlKWNJe2zPbKdkkgQ9IgpI8cgmY/WgTQzCQgYbZCH24E+9s+rkOvGOPeObtNWH1cSrDS2+1wPrTSeTLNHjtlWq3O1LjEdmTkFqOdftC0JspmdvZyLWqZr1cfDDRlWy5RXN+V786+btFKXS3edhbvyXZdxmV6dSLBM7tN33303xowZg+nTp+Pxxx/H4v8uxsGDBzFjxgy8/PLLWLp0qZoF16RJk8L7bGBgIDIytOPvbJ9u1t/H0kjQVK5Fg5SnNAKptkjGl3EtybXZb6lUQCgi309zIMwcvLLHKKFb2rL/3an8HcbUVmulzS+NtN3MXOpVjmu9GiX/eSFBK2N5owSlOYPNHmfPgZn1vS/tcl6xPy+sSaDPIPcc45qRoKJ6fzXNF+XtN+9aIz82eEO5J8kPJuRHMzJ0Ve5PMk3mVSezt5zCo98dsxhWHtT+/iCv5u+yDI9+V/4qJkRERERERM49uXDSqAf/Vhh4k1cZr2rZLe5Ebp4E1QpQ5+S/UPP85/DIToJn1lHUSnkP+fBARkFDuHkUwP3oRvit/z94Jq6HZ8Ja+K2ZCp/dHynLuCPfzQ3ZLbUMNWcY5SGNwUwCTJI1JhlmEgSSAJwjfWlVNgmqyX6YSTuNco4S/DEy7myRzCkp6+hqEkiSQJtRctEo7egI6+DelUCCZcK4lqzPSUkkg874nAz2+teTjERHA3nO+N9XK/DL5k2F5SVjYm7T51QcI+D28/p16NSpMxa8/191kPcyrToF3jJ9a6BAucfI/+TVgre31P0E7rtPucmOAhKU+4hVFqB8RsovyaPsiz7F+9IpiTwYlZJ/xoNV42GskY3kKMlqM7ILmtT2sQjkSblFyTQyHnLZC6CVlbnEoTGYM6OcYWSEmbP2qiNn9lkeOpf2cL0s5FoRxvYdzWQp7wNvKc0pgTbjGMhrRfn9ZCY83d3U49c40Bs5yt8lLrkw6GYE3GQbz65NwtzfUtRXGa+OgTcJmJ04cQJ/+9vf1PedOnXCr7/9igYNGuCLL75A586dlT9fRuPSpUvIy8tD/fr18dtvvyl/B0hUl5XPOJPFnJimfR8dCfQYJItLMpmkJKEM8r6k8pTfK/cj4xp2JKBWEiNIteF4ukPrMvbPntLml0SyaY0AltHnmbTL2FfrgJw1o683o+SkUYLSEc6eA6q+jICb3Iu2n8rE+Lhj6iDvZVqlBN7cHA/Uy59D205mWAylZbc7zIl2EBERERHRtaVCg25CAm3Lln5aLQJuIqfprchudjtqN89CjXonUPfoZIQeGoLrDg1F/fOvoEbaSlyqexcykj2RdQCosedT+MeNg/+q8ahxcIWabVPDMx+Xmw1W1lXUd5qrSGabZLhJ4M2ZIIo9ki1mXSZSAnqSLWZkebmKUQrRupylNQnQyfbt9c0mpG2yjHUGmuyL7JMtUprTvG1zJp/BOoBU0vpKYytLztY2rUkga8+e3fpYkS2/bi61lKPBKOFpDpaVlj1YFr3+0lsNosr27JE2S9utSR9t9evV18csbdywHnfecZc+BmRalZYUubmWGTHOZkNYm/jU+MKA2/vvLUSNGjXUQd4bgTdZpjpIqB2iBs0kuC/lIS0Cbzk5wD33AJ98omW7yQNrU3m2wmWV1wI3dyTW0voucYSRkWY8hDUGKV1olEgUsowE5swksGZmZLVJsEoCeebAmqzLXD6xpMwpW2xt31DSPAmgSQDROgPKuv85M8k4k4d2UtKyNLa2LduSbcq27W1fPiOfFWVpY0n7bIsEQEsqPSnk4bz1ORXSDuusRmGUJTWXn7MuGSqsg32yDSMQ4Ow2DQ1rapmPRnZgaVl8QtrayeqY9Q4PgJ+XG05n2N+WkCBhsHLN+nq64XKu6x66tgnxLQy4Tf3pBNYkXFSny6uMG4E3Wa6qyf1YBvk7UePGjXH06FG89tpr+PDDD/H555+r8zZt0soLS/9tktlWu3ZtfPbZZ2oQzihFKdlyzmQxS4aSBGxGdyjK8HeElBjs2TBAHeR9ZZEglWSnmUtKlsTIxLKntPn2SPBPsstWH9HuwxKAk/uaddnMkjRUvlcSkDSyxEoqRWlLVZ0DMwlaqvdXq6BtSfdXsvRy77DCgNuEVceQqdwDZZD3RuBNlqlI8oOk6qC6tIOIiIiIiKqfCg+6iejoG/V31YCHJy73fh4XI2+DWz7g7Qv4eSXDz/sUoIz7ZsTjsn80Ttf9P2VZfzXjrYZ7Dmp45KolnqQEZWqze5HZ/Z/aA28Xk4CUZLhJ4E0CHmZSGtHZwMpDo0Zb9Lcm/v2fWDWgV9bsLluBGFm/ZF6Fhzcutj1bpC84KVFpHXiT/sFkkLZJGyVzzkzWLftkjzmYNXNm8ZJ71u0ubX0lkTZK4Ev6aDNYb9NWAFD68JN2mPtvM46DM5mN5qCkrEuuG1eT8qGSwThwYEyxwJuUpJTtG202l6iUZWfP/hduu22gPqW4U6e0X8lLwO3nn9eq782Sk5MtMs8kS6I8Rox4EL169S4MuBmMwJvMk2Wqg4SwZnAvyEeeu4c65Cv3nTxlkNf8/ALk5+YhX7mXSalcZVSbbl5G3ru7q+s4cp3j/f9INps5I81glJg0AjXWQRsjsGZNygJKsEp+VW5dLtEIEklwyZmAkdh4PF3dvjkwJdlOwmibed4SvQ8kaYO0ZXT7okCkfK60h80SSJJAoWTolcRWu2Rb8nBbtm0E8J7sbFnmVj4jnxVlaWNJ+2yLZMDJNozMNDNjHz/de049p+ayosYxNve5ZmYOFsrnbJW4lHYajOtGtiXKsk2DOVg3uIVlH4fm8nIG41zdFlnUnjuUth+/kFPY96A9ZzPz4OvpDj9lcFnGhGL/mSxsPJauZrb9dNSy3K6My3SZL8tVNTe5vyiDhBylvKTcr6dMmYKuXbviq6++wl133aXcT0eowTWZ3rp1a2zduhWXL1/GO++8g3vuuQd5+flalpuTf5eSjLHQAE+1jzQzCaTYu+4luGRcA44GwMrLkYwu6314oG1d7E01ZwWXPN8RktUmwT8JmJnbYg40WR83e4E1c19qd1l9z0pTFefAmq2grWTwlXR/JUufKffpX5R7pBFwMxiBN5knyxAREREREV3LSv1XZloZflFbEVzZjnzPWkgNfwsnG83HWb+7ccGtqzJ0w5mA4TjZZDEu1+iBnHYjkHbHIlxo9xjSGvVHWsObkdZmFNIHLsDlXtMA74or8STBJim/KAEPM6PPNwlulZQlZiYBEaO/NaP/Lsm0sldO0BHSLgmaSSDGWKdR1tHcv5tMt5chJeuQsoYrV35VuA4ZJNhoBHGkjdJXmHm+rNteYOrvj41Xg1nGspMnP6PPKSIBJAmMGcvIuDOBLmuvzZhZ6jblfBrHSkggTo6VBPyMz8lxmD/vA3W+I+T4yXqN4yzBRhmvCJLBKO01n28ZJAhsBBWl7ZLtZsyTZdf+tAl16tgO7D7yyKPqtSx9uv344w82y0s2atQIZ86cQVJSEtLSzjtVgsyW7sp5XvD+IouAm0GmyTxZpkI5mK23ts+92FfnOvjkZsMjP08bCvLVIFrhkJdrOa4MsoyxvHduDk7UqI11fe/X11o6CZLss/NAVwI7kh0hJGgjwSMJ2sgggTVbJSIleCHrlP5ezGRZCXjIZyUA5Wx5SQnAyGekpKDRBiMTStomfaSZ55nd8dlhtT8g8zzZl9JIxp9kYhmfMwbZlpHVZ6td8hlz9pe8l2CkeR3yGXNQyV4b07JsB55L22dbZBuyXWN5Y/jhiJZdJcE/KdNonCcZ5Pxb929lkGMgbTTaIEEwW8fVvE3ph06yKGVbwtltGhb8cUYN1hmfWbH/vD5HYwSNZZ4RVDTO1eSu9fHNvZH47K4maplIR0pTHjyXBU/ldpSZ69q/H0mpyn/+lFSY4WZNpst8Wa5MHLn/OHiPkuXknpyXm4tatWph8eLF2LFjB/r164ebb74ZzZs3R8OGDbF582bccccd+Ne//qWWofzuu+/Qq1cv5Oblleuern0f8wrPuQwSWDJ/16z9lpThdMDKFgnQmLcrgwS2rAX5eqrBQetlZTAzT5fA2Lg4y7Kwpc23Zt0+CdTJ8TIHuox1GMscPp9VLINOvr/yWZkvFmxPtfiefWH1PXOEq85BeUjQVrJwjf0Q6v31Mvt1c4T8WTNh1XGLgJtBC7wdV5cpMwfvQY7eqiqKtn3nfjBARERERETXDrfOH+wr8Z8tr3bwRuMaVf8L0KOX8jF1u/2+LJb2cKLckvxLyfzL6nz5pboy7m4qe2W9jBWjrFJFePmV6WjXrn1huUYiujJ8cSwPyxNLyHyRu62Dt43AU0fRc+MXiEo+jOsy01ErJxO18nLVgJqUnCxcj/JWSkpKRtwFGbz9cdq/JvYHNcSm7ncgpVHpARiq/iRYJMHL0jK+qHJICTUpBZp00XWZbhXO6v5j/L1pz4V8vLJT//uVg/eoX0a1gLu+nPx9SCoBSKnIP/74Q81m+/LLL7Fz5071hxnHjh1Ts5bffvttdOrYCTnKfczLy0s+qP49S1YjQSGiqiIZhVLysqoy8MjEzn1q+bFcfJFYculfR8mPgWQ4k5mLo2XsJ9HBWyUREREREV2jSg26PdrME73qOdffTkVYfzoX7/5p/x9bTgXdDAX56gOfwn82ybhw04OM8kBI/llVOJ6vPSMqZ8ZNSSQzTLKEJLPIyCIioitDqUE3Rx/T6A+jzQqUUXd3N/VBt8yRNQnjvVpmUvlPsX79bayLrixSYlFKcDIwUT3ccJ0fvJQv4q9JVdMvVdnJzaHoXmAz6ObgPWrhoMZoFewLSfbzUG460genp5eXxSelnOT27dvVvttuvfVW+Pn5qRluHsrfqdyU45enbMpD+YAEkx/+JlH/FFHlkvKS0t8d76/Vhe37lCuDbq4hbZS2EhERERERFVdq0K1bsDseb+FcZ+kV4e392fgl1X4ppzIF3XQVmbXmKOkbS0oFCindaF1akoiqv9KDbk48pJH7kjJIFpvK0XuUBNkU6mflTQX+SIAqhmS1mftDk7JvpZVYpIrXpUENhPh7IjMnHz/aKQFZvVnef2wH3Ry7R/VqFIAZfcPg7aH1Kym3p4L8fLXvTaNspIeHh/pqkMCcTJMfEMh/5AcEWXkFmLj6OOLLU46OyAmS1SZlPw28v1Y3tu9TtoJuspQsXfmqbstERERERHRlKDXo5uUOzOnogzo+VfePi/PZBXhya3aJ/ZiUJ+hGROQKEnCTwFtJqkOQn4iuNRKE10o5GmwH3Ry/R0WH+mN0hyDcUN9fn6JsIz+/8LOyHik5KeOF/bcp72Vc/jq3OyUTi3acxfpj6do8IrrG2b9P2Qu6qT9QcuB+5SrFW0hERERERFRcqUE3cWuYB0Y0KfrVfWX74HAOfky2/yC7hpcb5t/oo48REVWN75NysfhIaeWP5GFNqbddIiKXkTuO9WPiW0I90bKWG5YeycPZbHMlAd6jiKjy2bpPtajljvAabthwOh+ZUpO2GDcUFBQF+yuS9oME+QEB749ERERERFQyh+qOfZ+Uh31p9ks7VqTt5/KxpoSAm6hddfFAIqJCtbwceehTIE9u9PdERBVLbje27kyrk3MRuz/HKuAmeI8iospl7z61/0K+cq/KsxNwE/LBig+4qdTt8N5IRERERESlcyjoJv+8mLs/B6lZlRt4O5NVgLeV7Zb2z5vaDj3oJiKqWIHejt2LpJ82vcc1IqIKo5ZCK8NfkXiPIqLKUtb7lKEy/hUod0P+a5OIiIiIiBzlUNBNXMgpwJx9OWqn95VBfng9a292Cb9sLNI0wOHdICKqME0DHHskI0u5KbdfKVVERFRR5D5TFrxHEVFlKet9qpgKuV1pPz9gwI2IiIiIiJzh1L9yEtILMO63bMSfqdiMt19S8/DYr1k4esmxfz1FBzHoRkRVz8/DDa1rO3o/Mjr/50NtInIteUys3VnKc3/hPYqIKo5r7lMmyu3KWFN5fy8gn9dW4caAGxEREREROc3paJVkns3Zl4039mbj1GUX/SNJd1pZ3+t7ctSSkpcdzKir7e2G62sy6EZE1UPnus7ej6SMm8seORHRNUy9j7hpj4ld96CY9ygicp2KuU9pCtdXzhXL7w1c3TYiIiIiIrp2uHX+YF+5nqO0CnTHjcEeiKzhhjreyuDj+D9RzmUV4Fx2AQ6nF+DXM3nYneZ8Bt2IJl64NcxDHyMiqlqZuQV4enu2en8rE/Xn2Vp/SlqWCRGRbVL+UX1sXZm3Ct6jiMgJVXKf0mlblnuWdt8yXgoVjhv3NWN5IiIiIiKisit30K0qhfm5442O3voYEVH1sPF0Hv79Z44+RkRERERERERERETXgiu2LqP0nfRklJc+RkRUffSo54HuIczAJSIiIiIiIiIiIrqWXLFBt8lRnmjgVwV1SoiIHDCuuReiAhl4IyIiIiIiIiIiIrpWXJFBtyeae6ElH2YTUTU3KcoTbWvzXkVERERERERERER0Lbiigm41vNwwvZ0XurBsGxFdAaQM7j9be2FQQ5bCJSIiIiIiIiIiIrraXTFBt171PPFKOy9cX5MBNyK6stzX2APPt/FCfV+WxCUiIiIiIiIiIiK6Wrl1/mBfgf6+2mng7452td0RE+qBED6sJqKrwDcncvHb2Xz8eSFfn0JEREREREREREREV4NqFXTrEuyBhv5AQz93tKjlhkDvK7LLOSKiUl3KKcDei/k4fqkACcrw25k8fQ4RERERERERERERXYnsBt2i63qgSYAbGitD0xoMgBERERERERERERERERHZUyzoVs/XDY+38EJkAINsRERERERERERERERERI6wiKz1u84TMzp4M+BGRERERERERERERERE5ITC6NrN13lgdKQnfD3c9ClERERERERERERERERE5Ag16Fbf1w0jmnipE4iIiIiIiIiIiIiIiIjIOWrQbXxzL3ixoiQRERERERERERERERFRmbi3qOWOJjUZcSMiIiIiIiIiIiIiIiIqK/dIBtyIiIiIiIiIiIiIiIiIysVt8cZDBV2CPfRRIioLTw8PeHp5wsPDHe7u2uDh4QY3Nwa1iYiIiIiIiIiIiAgoKMhHXl4B8pXX/Dx5n4/cnFzk5uXpS9CVzu2XHYcLgnwYGCBylpeXJ3x8vNVXCbIRERERERERERERETkrPz8fOTm5yMrKVl/pyuV2YH9Cgf6eiBwgWW1+/r7w9vbSpxARERERERERERERlV92djYyM7KY/XaFYnoOkYMkm61GDT/UCqzJgBsRERERERERERERuZy3t7f6DFqeRbPC2pWHZ4zIAe7ubggI8Ievrw/c3PSJREREREREREREREQuJs+g5Vl0QICf8p5hnCsJzxZRKTw83FGrVk217zYiIiIiIiIiIiIiosrg5eWFwMAa6jNqujKwTzeiEkigLSCghprpVpqCggLk5OYiNzdP7fiyIK8A8j93N3e4KZ+XG6Osz8PDQ/9E5XBT/idtK2CGHhEREREREREREV1VCuBWIJlh7so7bfxqJM+b0y9eQk4u+3mr7hh0I7JDbtS1atWAp2fJQTIJsmVkXkZOdo4+pWRSh1dSg/38fPQprufmpgXaiIiIiIiIiIiIiK4VWhKEPBvVJ1xF5Dn0hQuXlH3L16dQdcScRCI7agb4lRhwk6DWpfQMpKVddDjgJuRXCRkZmTh/XvlcTq4+1XXkDxQG3IiIiIiIiIiIiOhaI1W/8vO116uNPKuWPt6oemPQjcgGyUTz8vbSx4qTwNmFtHRczsrWpzgvL09+maCsIzNLn+IKBWonm0RERERERERERETXInk+Khlv8v+rLfjm7e2lPruuLtRujQqHfCaDKBh0I7IiZSVLKv0owbK0tHTkKq+ucCkjUx1cgxE3IiIiIiIiIiIiInlUWnAVPi6VZ9fyDLuqSGAtXw+uSTdHRYO7+irUZfK1YFx1Ex//KwbfNRCdb+yAF1+ahuzssifW2MI+3Yis+Pv72Q26yY1CyklKppur1VC261uB/bwRERERERERERERXVMk6KMHgipabm4uPD099bGKlZmZpXZhVJmMAJoRWBOXMi4j6fR5XEjPUMbyUD+oDsLq14W7e1FQUJ6pu7tXj+jnxYsX0esvXZVjd0mfAjw5YRL+/vfx+lj5MehGVW7btq2Y/uLzmPbCS+jYsZM+tWp4eHggMDDA4sZhkJuKdFQpN8+KEhhYs8R+5IiIiIiIiIiIiIjIcRIAqYyQz1uxb+KJ8U/qYxVLnlVLNTapylbZLqRnIvXcBSSnpCErJxd1AgMRUMMHqWdScfZsmtq2sPpBCK0XhOC6gfCqoufde/fuwU8//WhxjE6eOonPPvtYH9M0adIUA2//qz6maRQejgExt8HX11ef4rhKC7plZ2fhnX/H4rFHHy9TQ6uCBFd27tyB9u07WERmq6ODB//Epk0bcPjwIRw/fgyhYQ1wQ4eOuOWW/qhZs5a6zJMTxyM1NQVLFlteVFVp/nv/wZw5M9ULXwJeEydOxphHHtPnVr6SstzklwPyC4KKJNdZ7do1bQb9iIiIiIiIiIiIiKj62bN3D15//VU888xUtIpqpU+tWJWZ7SaBtNNnL+Jo0hllm1moG1QbtWr4wNfHEzX8fJF5ORMXLlxQn/NLIO7y5TycTDkDby9PhNQNRKtmEfDz9dbXVvF+Xr8ODz/8oD5WNh1v6ISPP16ujzmuUoJuEnB79LFHsGHDzxj14N8wdeoL+pzq7ddfN2Pfvr0Ia9AA/freXC0Db3JsX3n1RXz00VJ9iiVvbx+MeeRRPProOMQM6IcTJ45DOef63Kpz8eIFTH56ohpprlOnLsb9fbwalD137iz69r0JM9+YUxgsrEyBtWvC06N45F1SYM+flyi9PsHk1KmTeO75Kdi8eROaNInEP//5LLp366HPdZ6fvy/8lRuVo1z7S43f8GbwLdg6fz8W31Vfn1a6+Lm1EYPVODOhsz6Frt5jUrZr5KqxZzGmLElBzMSn0CdEn0aV4vS62ZiztSMmPtUH9fRpRGWzG4unLgFGzMBIe/8OSlmL2XO2oSO/62RBu3ZSYibiqd7anWj34ilYkhLDexMRERER0TVu7tw52Pb7VjVQM2HCRH1qxcrNy0Pa+Yv6WMWQYJskiGTn5GHDtv2IjGgEP283eHq4qyUjMzKzcCkjQ41TSOlGL09P+Pv7KvM91c/m5gOnz6YjqFYNtG0ZUbi+ivbvf8fizbmzcPNNtyAqqrU+1XELFy1QA5p79xzUpziuwoNuOTk5GDP2b9i4cT3at78BCz9cgho1auhzqzdp++of4pCakqJmjt3Ur3oF3qSDv9EPP4AtWzar4wMG3IZ77r4XjRqFIzMzUw1oLV32X6Qo7Y+OvhEJCUfUTLeqDrrt378PYx8djaSkE7jxxq6YMzsWISEhajsnPjVeDXaGKcd73rsL0KJFS/1TFU8y7STLzJZL6Rm4nFW8Q8WsrCz89Y5bceLECbRt2w579+5Wj/0Xy79G69Zt9KWc467csOrUrvyAo4ZBN1dh0O3KowZ14kIw4tWRsPtHsaNBN/WBfRxCSnqo7wIltVkeBG/rZHv76kPivfoIQiowiKg9oN6jj2nKtj2Hgm76cU/RR4sJNh6MF39wbk07tsXXFKJ/RjuG9vblNNbOnoO4kBEYgSWmY21LK/382TpWGmObRayXNbejtH3T5hcFnIraOmOk5VVkXCetnLyOSzt2qtK+SxUa4LY+BjY4HHTTj1+qPlrIhd+rEu8ndrZf0rVu73tS+JlSqOem+JVa4nVibNORbcj6v29kar9yHkq6L1eq4sfTHHRLsbi32mJ8368Cdq6Dcu1jsWvz6jleDv0dg4iIiIiuWGfPnsFTk54sDCjNnvUm6tYN0udWrPPnL1ZoiUljnzIv5+DXXYfR+vqG8PCQIFyumlgjz7GbNmmgZrvlK8uePJmKA4cS1G6afP181GSRS5fz4FYAdG7fotL6d4uNfROxb7+J12bMxF133a1PdVzfvj1wIulEmWIpFRpBupIDbsLLywu33ByD4JAQJCsH+Mc1PygXRb4+t+q99vorasBN+kH76qvv8Nbcf6NXr96IiGiCqKhWaud/337zgxrYio//VQ24VbVPPlmGIXffgeTkJDz22OP476JlasBNyKuMy3SZL8vJ8pXF29tLf2dJuVcgK7t4wE2sW/cTjhw5jOef/z98tOwzrF61Tp3+38UL1ddXXnkRI0beZ3OQm7Et+Xn5yKnAfuOIyJbT2LM1BSExMVfQwzB7bZaHwvYf/BY+IH51BmYow8QYIG7ObKx18R8R8oBxiv5wWrZTOIwIUbY3BVMW79aXdKGQPnjKvK3CYQQkFtBqgAMBBTMJEFity3jQ3nqkrDMF2/acVsct7IlDXGor5V7fWlnO/HmtHRJ8Kppm+QDWcp42WATP5KF0sePq+sCUnL+yBNwKlXDsrkpRIyz2VfteTcFii5iE9t20nFZ22ndsDrZ1sr5mtOusZBIUNH9GGRwJuBWy/PzEmBDsWWJ/307v2YaU4BCEpG7DnlLuNadTlPtap1ZaW5TP7QlupGztyuDs9/3KZ+M6Kus+ShBPDy5fvceLiIiIiKpSRWYexa36Xg1OSUU3eZXxymLvmbarGFlpBcr/JGCWVyDPrvNw8WIaOndsha6d26oP0BNPnMSJpFOIaByGjh1aoWGDeohq0RTXR4YjL09iKhUfaKsuKizodqUH3AzVNfAmnQAuWbIIbdq0xaKFy9CyRZQ+RyP1UyUgJ+Ux779veKWkbJbmH89MwvMvTFWvgw8/WIyJT04uljko4zJd5stysrx8rjJ4eNj+OuTm5aqBN1tycnO0N1YLSAac2Ltvj5q5Z2uQTEV7si7bn0dEFSBlD7alhqBjKxcFBfTgT5mCFY4q1mbJeJmiBrrsPtNPWYs4yc4aWfRwvV7vEYgJTkHc9y4Mgu1ZrGY6ScCmWKCl1UjMmBiDkL1LMHudjYBVBdi9WDkmwTGIcen5aI2YmBCkxMXB8sgp5+H7PRUUwN2NxXPigBh7WWwuYjp/FXoNX8W075VyKLe64Htl636iniO5FGwFM1tjZGEATXmvfLaiA54l76/2A4FWA0ago3KvsRmoNklJTEFIiNZeCcApI84Fy+nKIz8mWLLnqr7n1Ov9FIOIRERERFWsop6Oy3PgtWvXwtPTE/94+hn1+baMG8+HK5q9Z9quIkFElXIAJcSQn1eA9EsX0TW6LQICamDtxm3YdzBJGU5g/eYd+GTFahxJOIEb2rfCqdQ0NGwQimZNG6rxoqoQt+o7ZGRc0scqR4Wckasl4GaojoG3Dz98X32dMGESfHx81PdmEpQb+cB96iAlGwu/HFXoyy+Xq/20ffW/b9G9e099qm0yX5aT5eVzlcFeWmtejv303C43dlWu7QC8+NI0TJ36D9x9zx3qsR4Qc6s6f8nij9UUVFvDddeFqsvYUlU3IaJr1e7v45ASFVMBZewqTvE2p+BYqpaZZC/TRcs26YhWFvtZD606KRP2brMKHpWVFnSSzB+7D09D+mCEzYBVRdiNbZKx5WSWmzz4L+1hf73eMcpx3oM4c/BQz3KLqYggh2T9KFuskHUb9Iffkp1T1offjhy7q189OQQVZDcWq+doRNnuWSnHlLtFSAW2z4r+nZAfCMi9JmXrHuUuYY98X0PQSG+bGoALr6yGUlXR/mxy9Q8jiIiIiIhcR2IB586dxeHDh7B1azx++HE1Pl/+Gea/Nw8zXnsFly9nonv3HmqXSfIq4zJd5stysrx8Tj4v63FlbKEySjWqCqQspAfSL11Cw7AQ1KxZA1u27UaduiG4nJ2D9PRL8Pf3x+WsPOTm5ePsuYs4kZyCU6fPoGaAP9T6kpVIYjkSCJUuuEY+MKzMz9tPnDiuv3Ocy4Nu0vi///0RNeAm6ZSPPToOu3btVLOuShuqyqlTJ0sdpBRg27bt1QCXBN7kZFVl4G3TLxvVtvSwE7xq0KAhxj/+pM2hKtWqVQv161+nj5VMlpPlK4uHnf768ko4z8HBIfjPv99TbyifL/9ULYv5xBMT1f71ykNSdcvi1BfDERRc2zTMQbw+T5Q23zbpw8v8GWWY+5s+z8qp5RhpXm7kcpzSZ9ki/Z6p64qfo3/G3B7r7Vq39RS+GGmeXxsjv7DcmvX+Ws8v2m7R8KbFRrQ2yDS1rbKMed+LfX44rDdhfUyKtcGG4u3+TdvXYse9+Lmxvf7ix8reOSzcT314M17bRqntdvLca0prf+n7px4r2ZbV9rXzaLXfdtukB2U6Wf/+XCsFN6VwWKxMsaKW+pPSjEaW2RQte0udrpdaM7+3IqUep8xea3oA7cA2VbbarGW02A+UaNkmtoIh9dSn7ymQpBKhtkvKP0q5r8J2aG0rnp2m77tRLlLNwLN1PC3Va9URIVCWtTguRcexcChWhtLqGJVSpvL0ujg1UNWxQh7mWme7VWSWm7LnWyWY2bECMyWUYyv9KUWNsJsZpZU0NB1/u9eoixV+1/Tr09SG4t8t6++RMpRWzlT/ntran9K3Z8tp9ftkBIy0dWhZqFKG0WhT8XuArqR7iFPBV3vfW1fTgv62AmTm61b93qfGIc7qGBZdV3KMUrQStMq4lDhNiZtTeLw0xc+v9Tmxe50WXkdW92xdpV3fhfdWY3BRid/C61gflGtrt7pP2n4Y+2d5vPRjoV6HVvdzE7vXaimsj+nsdbuttqGXSjZKilaY4teN9fdCbavso9Vx1I6X1Z9P5mNhfdzNg76f2nGopPslEREREblcWloa5s6dg+kvTsNbsW9i8eJF+Prr/6kxEOl6SBhJGDH9B6ivMl3my3KyvHxOPi/rkfW5ipudZ9quUlhBr8BN7TtO+nOLaBSG5NNnlHleajzo9GnlH4QFWnAyIqKRsqgHzpw9ix6d26hBwV37jsDD3UNdTWUV5JPqfxvW/4rOnW/Ezp1/4IsvPtPnOKdvv56YPPlJp2JBLj8jT058HOt+Xqu+l6jto489XJhxVdpQVeLivnNo+GnND4VpoRLh/Fnfz6pw7tw5Nagp0VpbGjZsiPHjn7Q5kG32blClfaG6du2GjRt+w+effYnffv0Dj4+boM+pXBIsaTUGeG/3eZxJ1Ya45/WZevCh1ZhoxOnztPnTEWMrUGRy6os3ge+LPnNm9wLc9tItxYMw8W9i5GRgZuH6V+P570ajVWnBF/ncxp76ZyYiWqapAZRbsHX+fn260VYj8Cb70wKPRK8unC/t6qTO02jHw7S/ynyMaWFqt7KOucr335ivDHvm346XBhQ/HlvnKjfpHvpyEzqr09Rgz4DpeN50bPbMV1tfRDlOQeZj8v00fKu0wTKwZ6lYu1P3Y/CKW/DId/oCBjXgZ3mMjH20CKipx9LqWMm5kbZZnBvtGomJX4A9puUw4Ba8pC9hl7Sl9Wh0KjwW+/EeSjn3+jl+6Xk759DR/RNynZmOs1z3ch5HKtdI4gT9s8b1aCPYqAZlrH9hrz5As+o3awSwZInVk13dtsVLAL0vn2LBipBW6Giz7JoWOCt80GhjmyOi9mCJjYd0NtvsIJtZIyE2+kxKicPsrR31tjhREkvPojEyVewKCVG3mZJiPLaUB6JzEAdzX2BWGXupcZgzdRs6GvNLLVO5W/nzW2mN00EwLWACZd1FD09tPxQ3st3U4GFFZrnpbZLzZ/0Q2zrgUDYpWDtbK8M5caSto6U9cJ4TF4IRhefHuEbNx8bxY1cW2xZPwbZORdu31ZeYfD9g7heqtOtEvnt6sNH6Wndke7bsXqxcy6ZrQevrS7uetWxUZZA+/5TvP2z0c6Zm/ihL2woWq0GscvRzppZsVK7ZJaZrqLxBOaOE64hi177VDwTs3A+10nvKMRmh7LBcg+rxluPVquh6U69LuU9Y35stD5IEh4zSm8YyIyyrsNu4Zzt6fZefGrxakmLVJ56NPgBLCuSog1W7JJCn7Li5T7SJnbZhiXIPNMhxlmOx5/uigNHpdUvUa3WEU336OUY7F+ZjOhEdt8r29AVUesA2pJ52bOztX3moQU6r60Y76MUDjPLnzGLlFqIvpx6vJbMxe/YcHBtg7IdybarL6Z+10Z+ods1pfXsSERER0ZWvTp06mDr1eXTr2l2fAjWY8/i4JzD9/17Gu/+ZrybBiPDwxuq4TJf5HTsWPbGUz8t6ZH2u4lFJmW4SLJNievn5efD29sTp02eRnZ2DY8eOw8fHG3nKdAmw1Q6shaDgEJxNy8DFixdx7lwa0i6mw8NDC7pVZkG+unXr4uWXXlPfS5nJsvrq6y+xerXyD00HuTzodu/QYYWBoMDAQNx4Y1eHh6oiZf4cHYxSjh7KPjZr1lx9XxX8/HzVNFVHSRQ6NvZNzH/vP/qUqrf6h1Vqm6wHmV41bH/jHYlie3t7o127Duo1XyXi5yDmpdvx3u6luKu+Pk0RPUEPYsUvwyPfTUOcEdTSRU/Yj/du/QaPfGw760nUv2spnjR/qP4QTHge+PZYoj5B9100JiwegqLNd8aTuxfgtu9G46MSgkzq5/RAliH+49H49tYFmGnamegJq/E8pmOuGhFLRKJyn3y+h+lzSrueNJY/tRxzX1Lmf2/aX2X+zPm349sxy/TAXX3ctdjyeNS/60llG98g8Zg+Qfdt9JOWx0BZ/+Qx36gBN/P0+ndNtDj+gHLMzcckephyvIGXNto53mq75Tya2yXtlH03k4DhdNw2fz8Wmzeo7OPi76cpG3izMHCoHksJbFkcYxvnxrhGbJ1Dfcw2rS1QtlF0LJQ2zyzp3CufmWyjXYXn0PH90yjHbGZRu6PvkzZ/o5w3c5s6437l/OOlDVYZk7Z/Ya+VbrTK9mk1Un3gXlwK0KmkMm92yjdaZauo27R6aN16pDx0tipfaKfN5ZeCY+YHnKnS91vlPSw0HtpPtHjw2xojLdqgtGmiKSgS0gcxUUrL7ZWrK3M5xnro85T1A1Qt+6Z4sEXLdtvz/WLl+ix/llthVk+xB8/ag2mZvwQSHNLa5WgQqFR7JWCoXOb2ynDqAcURVkGp1iMnWvUJ6MyxK8poKjbYDHDLd82y7KWtIIJMs8j4NK4TKXtpzRxwK3a9O7Y9lUWQ0QjUORCsbtVRuUKt+znTv+MVlDFZGOAyhhFKC2wFH0pkee6WWPUVWUj/DhYFD0suZysBwaIfIqQo90Sr4KJMU6ZY9L+p3JsLz9GexVpbJj5lcU9uPdJ8LuS8Wt2zHb6+y0m53tR+Na3aZ/O6shHIsRzM6zitZ9navl7N1D9XUuOwRP1zRfthQqsRDlyrNtn4DhvXUeG+mtct9wct+FxIPafKviv3MXOAW7tvuCLwVnRsLP5Ml+MrAVvl3me5DctrufWAGGWK0sYQc8lk7b5vtyxz4XVY1uNKRERERNWRPP999NG/4+67h6rjv/++Tc0Ci4iIgJ+fvzrNIOMy/cyZM9i+/Xd1uXvuuVf9vKznSmJ0WyUBNXc3KTHprnbHlZl5GWfPnVP2MxwtW0SicbgEHd1wJCERJ04kQwq5NQi7DvXrBamP3T09taBbZZMf+InTpyz+Fe+0k6dO6u9K5/Kg21/+0hvvzf9QPfASyRx6z31qv1aODFWlf/8BDg0tWrRU0yXdPTzQt0+/wuh1VWgcHoHz58+r5QwdIV/u2LffxMqVX+tTqt4PEnRT2mQ9yPSqkGenpKO7izqj/PzzT/HYY4/g2WefwYED+/WprhG/cTpw613oYYpPmKnzn+9pEWDS1EePwbYCEda0LCijTF+MpD7FJypTTWytv364mrm0NdFuvpPS7nA00t9qfsMGCZhNMAd/RDjCbzWCfdp7W1lp4tTGL9Sg3f1WDaofLhPiYdEcNePK2Dctq8u6vbc1CtffadT1Yxp6Fj+gloodk/rQmmB17HTaeqMRXuw8avtb6NQGrPjudgy2dcKje6qBwxUbZQv6sTQHJw31e2KwKQCoXUPW50Khn0O79La8d5/VNko69+pn7LRLOLx/OutrX9+29XmzSS2FaPUAF/bKTUIvw1ic8Qe4Pbb6/rIsFahvs1jAIwSNgpVmmoMFNtvsClbZaeXIpHGGduyssv7sKdYfnfIZydxLley64lxZjlEylWwGWxTq+U3dgz0uyHKTB8P2H6wrrAKz9XqPQIxkDtlol1OiRmj7t8T2Q277x7L0PgHtHzt5KG3eV9Nglb2ksX3d274GLEvBSZlCebhvuf3dheU0iwfchBPbU7PkpO0SpJHj6GgZOesSpYoK+47b0WqkdrwLgw+Wx04brPfH6txN7IhtEnyxCNxpwQ7r66ZYaVlTRtecuJSiwLOcGzW71bR9NUNWgjG2j6+WBVj8PmHN+p5dnuvbGbb71dTYy3p0SAnXTPHs5tYYqQZa47BYfuygXLsWQWqn2PgO698l+/uq/blWjFU7tB+duCDgWdL3yVbQ27rNelZ28eNoh1zP5elzkYiIiIiqvUED/4qnJk6Gp4cnYt+ei69XfqXPsSTlJD/6eCm8vX0w8clJGHj7IH2Oa9l7pu0qRnlJSbTyUpOtPHDpUqYaTEtNPVs4v379erjuunrKvEtq0C0j/SLq1K6FpOTTyMnJRUANX3U5t0ru200qGIqmTSPV17KQQGnv3n31sdK5POgmevTohfnzPlBTBv/xzFP4/vtv9TlXrqNHE7B+/To1j7Jf35vUThGrUvceWl9u/3n3HfW1NCu/0b78PXv2Ul+rk6lTX8Di/36svlalAjsZbe5u5f+azJ07G1Of/Qd+XLMan33+CYbc/Vfs3r1Ln1tep5AoEbPocKsglUGfX0ZaH18tsGKwudSjPtMVrNt9KhFblZeXBhQF+bShhanEomR/STu+wSOttfnmcpfHjn2jlRy0+LwyDJiuLyH0/sJaf4HBhSU5rTPKNJ2somDq+m0FqMrJ4fUeS4RDd1X9WJautGuoBGpbis5D0VBCWUr1M7cj3N6OOrp/LqBltMVYPhjTf3XvOAdKKaI1OkYpq96qZ2SpGQCmwJ7pl/6WD7qlRJ22iMFmm51gO9vHRtAqpHjfbw5RS1VaZc3ZomesqMdO3//SgpdOsT7GLmA/wKc/RHZRgK8kxQOTelDATuDRGYVZPcUCGnrJyHKwf+xcTytRNwfbOplLteozTfYskf7DXF3+zcjk2YMlDmaOWQehtKxX+4GjCjmWFt/b4tmKpWbt2coaUoMdyqtVFqAaTFMmFwZhCzO65PorCuLIOSsKQhvbl74rZbmi8phFGZT6dVrqvcv6nl3+69tRNu+/rmDrHl6SViOV47sHe/ZWXPlDZ/e1+L1a+3NTTo5lsNxJzh6bcjmNtYvl+2ur1CoRERERXU3at++Ap59+Rn3/zTcrbVZKSzpxQn195pkp6vIVxd4zbVeTMpY1/H2QkZWHo8eS0KRxA9QPqY0/Dx5R40CSESfZbxKEy7p8GS2ub4yc3FwcTzqNzMtZCK5jVIirnHKYhw8fwiuvvIjnnv+nOm5kKDpr8OAh+Pyz/yGicYQ+pXQVEnQT5sDbxKfGX9GBt+oWcBMjR4xSS11+/PHSwmitPd9+txJLl/4XNWoEYMTwB/Sp1UdUy1bo0qWr+lqV8u38KqC01Fd7ZTJlSEo6gbNnz+Cdf7+Flsr+bf99D2bNnKv2Dfjm3Fn6GorzcCrdVs+esqu0+SUoLFt53rLMn5Osg1Yl0rOUzH2lWQymcoTRRn9del9pRl9fjRrdDtxq7pvMPGglOOPn3oKX1GUsS3I6Ql1/VWoUXkrJR11pWWquoLZFu0aKH2s7101p7Xd0/8rNTkab/qt2VzNnMWgZAKY+2fRtFvb1ZD0UPhS1n4VXunqyGZsPMLU+npQ2lLjjdrITrNntw86SRRZERRxz9UGr7T6xrkza8bf7ILswM7GU5ZRzXRjsLMYUMLLIbNKvnerM2P/Csm42+le00mqEEbyxnTVVohIzQY3Sc9Zl6+yw+M7Yy3otUixTrLqw6hvS6JfO3EeaMaileq2zuvSMJO1ak0CYvWy/oqCgUV5V65OurNdp5V3fDmdLCVMGoO3BlJVqq1/OkujfkxC5/i2Cw647Fg7vq7JBWbKof08ryvxyha+cPTbloPWPp9x/bJVaJSIiIqKrzuXLl9XXli1aqiUXhTwHNlzfrJn6mpnpeBdRZWHvmbYrGduoU8sfWTn5SDp5DpcuZWBgzF9Qw9cDJ5KSsWfPfhw9mqgG53p0bYuWzZvg9+17kJNbAD9fX9QKqKGuw8iMq2jffPM1Fv33A7XbrZEjR+Evf+mjz3HO66/NQsuWNn7JW4IKC7oJI/AmF92VGnirjgE3Ua9ePcye9ZZ6bCc8OQ4ffPAesrOz9bma7OwsLF/+GZ5++il1udmz5lab9ldHeXm2fxXg7e2lv7PNXplMGZKSk5CYqPV9ducdg+Hv749Bg+5Ai+YtkZBwRJ1ui08p27SmBoFKKBFpf/4pbFzxjY0yiCXRShYWY2v98RvwUkkZTTbppSPt9XtmS/RE7JH+uvSyjWoZye++gLkCoUPU9pauzOsvRXSPabbXq5djLKQG06xKLBr0Y66VZizhWFqUeCyhzGhpx6SktthT2mcc3r/yOb0uTu1DrDDwVUgLWtgKGqklyMqqlbKtYCljtdtGn2z2t2lmv82OsV2+TOs/ytEsrWLBHCObpVA99BmgbGfvEvv9jKWsxRLpR6gwsODY/jvDlaUlNc4dJ9ezV+ZOb1fhg+lS+swqobydpjVGTpQ+jPZgyeyicpDqA3Sb63TkuLjq2Fn3fSas998WLZBVnARvSgq8lXV7yprVsp8piFvsSNlP4zujHF/l/Fj2gWaD3ked4yUsS2cEyMoVpLbIKCr5nGsld62Or3y+MJgpfRiW9kMAWY/WZ5lxX7J/nZasfNe349QSxXZKSBYrjelMn27KeiVT0e71amE3FuvlD58aqXzXbd2ri/04w953yD67+1rszwyrTPBC2jadClTaYvfYKNTvm4tKuep/rrGsJBEREdG1Y7/efVDzFi3UbqD+8593MPGpCfjXG68hISEBzZu1UOf/6eJuhqzZe6btStKfmwirVxsXL1yAl7cftu3YjwsX03Fb/57o0KoJOraNxMCYnhh6501o17oFtv6+G8eTTiHjci4ahQap6zD6h6tMUl3v+ef+Tx+rHBUadBNXcuCtugbcDLfcEqP2nyc1RV97/RXc2KUD/jb6Acx47WWMGHkfOnZqhylTn0ZAQADe/c/76KvsA9mXnZ2jv7Mk0feSst3GjHlMLY9pa2jRvAUaNWqkXv9frPgcmzZtUAOhfx48gOsjtV872OJsh5r175qN926djpjgORZBk/i52rj9+VKycRriTNljFtSMI8vgh5ohpr+3pKxfzzRTSV9pUs7x+Sf1TDK9X7iRy9XAmH31cdeEacBLt1iUjBTG/qilIc3bMoKHRnnE6GHK/krJQ8v9lTa9qa9TDURaBLiUdVqUnyxB9ES9tKVln3Knvphjs485u+LnqKUY3zQaabPdynGbPNqq3GJnPKln91kcI/2Y3zZ/tn7MlWM5cwFuU46lkQWoUfa1tbLO51fjST3aWv+uJ/G8nEOL8+PIMemM++ffrralcD9USrvnGuuyPvf226+dH0f3rzy0B5G2+xArChpp2RM6NTNAf18mWjAkJU5+CW/d95edbSp2LzYerJfUZgfpgT9zIED7Zb4jJcaMYI75Aa1eSksfK9RqpFUGiolyHKW8HGImmvrvUfZff/hr2SfUbix2sESfpfI+rC2+3d2LpdRnCGIGuOLRe9logRzLzJTCzApTu4w+BM1BM5Vy7KXPrJKyqFRGqUDpT0vfVuG2rYJT2nExXz8Ve+zk+2POHiu2br1MovkB+27pt0p/X5wE3mxl92lK3Z5d+ndaOYZxhRsvIbis9i2ltEENhsSUGuDRSoFKm230wScZUtbn3qTonqLTrwtHtmuXbFNpO4zSt3uU/U5VdstuVm7xQItk3Bbe3yQYYiubUNnOYot7iuV33f51Wvzcmjl+fZeTWtZRSrhanrfT62ZrGZplzpAy+gacYxFA0+4P+ohO/T4Y5Q+V7/oI9V5dtN/ajzPisMR0nEv+Dtlh/HljUa7W9p8Zav9tNrdZ/n4y5dhofdjNsfzzSL9mXRMkY1lJIiIiomvRwYN/qq/Hjx3DP56ZhM1bfkHt2nXULoWm/d9zWPPTj+r8P/XlKoq9Z9quJgEz6dOt4XV1cfpsOvz9amCL8m+6+N/3qm0IDAyAj483jhw9gS9X/ogjCSeQV+CB82kXENm4gfr5yspyM6tVs5b+rvJUeNBNGIE3CSRIScQrhQRK3N09qmXAzdCrV298881q3Drgdnh5eWHDhp/x4Yfv49dfN6NOnToYdv8IrIr7CX369NM/UbWkrOKWLZvVITXV+p/cGpluLCPLVxZJNc1VBlt8fe1ft5FNI9XymLaGmsqXOigoWC0peeTIEYx6aIQaCG3UKBwvvGA7mCEBPg8PZ7+aRh9nElgr6lcrBkYGm5358VJecaL9LLf6Q7DYKN2of2ZDDzt9uj2/GnsavVm4XFDr0cD8/RblIB0WPRFndi8ATNuVYW6jYUVtlUBS4bwWeCR6tWlbtvc3qHUieurRmvp3LdUDZ8b8Dehpp083W6S05Z75sOjLrNWKcJQvAUvavV8PkBrrfQqYKdP0RQy2jpFyzDt9b1XSUc6h7JfF8boFW4udm854Upaz6AvPsWMix1JKfFr2w9cCiT2GKHtkh832f4Fw4wA6un9lpZcxs/vr9lYjMUN/SFdYymtrR3VaeWhl4RS2siZkmxNjAPM2lSEuXH8QXlqbHSIBhonKvSEOc/T1z4kLwYjS+mvSGVklRX3PLQHUh//6Aiay7IxXRyDEan+mKB+RcnPFSv+pWR0j0EoCb4XLKwuXpZSmWkJRWWUpfcRZnF9jMAJGFu2YgiUpMZhoziypICW2yTh/KUVt086fdbv0fq9M51kd9GNfFOwsgR44VY+DGsCRbUs/WxKYKFqndlysrp8KO3YhiFG+I8fmmNYtfVJZZPxoAUPzcdzWyXafbkXkeBmBN3MfYQ5sryRq0EG+L0bQQQ/EGcfHIjip91+lbNOx77h2PmaMCFFuGUXtUwcJapcYnLc8h1OWpDhUjtOSBFNM61C2GSLlcfXglJYVXHLmnBHcMYKScs8obIPcD5+yHYCy/I4sQUrMRFPb7VynKC1TzYnru5xaj5SymHKrL9qO7e+xc+T4GT92KGw/RmjfY530d2gd3CsWpNe/+859h2yRY2oEh4022fszQ/sOmv+8cOmxt/Xnq37NOnfd26YFZ5U38kMFY/3GYPUjBCIiIiKqOq4M+Mhz5D//PKC+37hpA3x9fTF27GOY+2as+hoYGIgjRw6r8/fv32ezzzdXkGfZ0pbKIoGzpg3rIf1iOs6kZSK0fj2kXbyMPQcSsXX7AazftA1bf9+jHGt3+Pr54XjyWdzQ+nq1qltVZLlVFbcD+xMqbW8vXLiAWrUqP7JYHlKi0dv7ygkUSsBK+hFr0qSpGvCpTpq3sN3ZoGSESYBKgmwjH7hPn2pJuU71dxWrhr+fckOwfb7Pn79YrpuYlJP8ae0a1FZuurfcMkDNQLSlVq0AeHl56mNEQjLFWmDF4P2uCTg55Te8GXwL8P35wqy4q4H64BEjTH2lVX9XYpuJXEayUuZsQ8eJrgjeXWGu5X2ncpMsOmd+XFHxTmPt7DmIC7m2/jxTz8PWjphoJ5hMRERERFeWw4cPYfqL09SknZtuugVD7hoCPz9/fa7045aBz5d/jjVrflADbtP/72VERNh+Nl4emZlZyMio2D7jbMm8nIVN2w8jvGE9hNTxR0G+Gy5lZODixTR4e3kiKzsXx06eQ726gbihdSQk3lbZSW7SHZdUB5Q4SUhpfRfYsH3772qS0+/bnP8hXaUG3ejaFhv7pv7O0uDBd6Nhw4Y4fvw4Vqz4XJ9qafz4J/V3FUsyzGrXth2szMrOQfrFS/pYxfDz94W/n68+5hj5Ald+Yi5VKimrqGd5VXrgS0pgDojHe7uXuqCkYzWhPsDWfuHuUMZPdXAltpnIla7lwJOUZFWzFKtL0ISuJAy6VQ/84QwRERHR1eX7779Ty0n+7aHRCA9vrE8tLjHxKD74cAF6dO+hdhXlaufPX6iUPt3MjDKRaemZ2LHvGOqFBKFOLW/k5+XhwsU0pF/KwolT59DoumB0UANuVVNW8ty5s2oXXEZGYlm89OKruPfeYfqY4xh0I7JSI8APvnbKoGZcylQj+RVBauLWCrSd/Vaqqvi5AFWA3/DmyETcv9hcllHLNHvpeXP5zAoggb2Pw7HYvA092CdlQis/w46IyOSaDbpdmwEKcp2rIeimlcXUR6z515C/oOsj1qQcbDXYb/5whoiIiKjqyXNTF5Y3PHYsEQ0bNnIomCRBJ6lM16BBQ32Ka1zOysKl9MrPchNGIC07Oxc7D57AxUtZCKoTgJSUFGRmXEbr5uGIaBRaZQG3qsagG5EVd8l2C6xp94aQfikDWZez9THXkG1Jhp27e1lvQvI5fpWvfFoZyUe+00d1t1VK0EsP7uljhuevsrKSRHSFutaCbmp2m97ZWRQDblR2zHSrOuZgYSsG3IiIiIjIhSSYJV0hVVRfcY6QJ9HGk+yzaZeQmJQCb093NIsIVcsyXqsBN8GgG5ENJfXtJrKysnHpUqZ68ygvTy9P1AyoUY6AGxERERERERERERFZkGe3V2Hgp6r6crNmL7B2LQfchLv+SkQmGZmXkZubq48V5+PjjcBaAWofcOUh/bfJehhwIyIiIiIiIiIiInIh96sv/CHPrDMzL+tjVcscWJNAW36+lqByLQfcBINuRDbITeLixUvIy83TpxTn4emBwMBaCAjwh6fy3nFu8PH1UctJ+vn76tNcx42lJomIiIiIiIiIiOhapT4adZOHvOro1SIvL199Zu2K6muuJoE2JpZoWF6SqAQSWKtV07FMtNzcPGRezkJOdrbN+7mHhwd8fL3VLDn3yoj2yzYKpK4vb3ZERERERERERER09VIDUW7ySNT9qgu2Cckiu3Dhohp4o+qNQTeiUkgJyYCAGk5msxERERERERERERERlY+UlExPz0Renv2qbFR9sLwkUSnk1wMXLqQjOztbn0JEREREREREREREVLGys3Nw4cIlBtyuIAy6ETlA6+MtA+npGYUdQhIRERERERERERERuZo8g06/lFFt+3Aj+xh0I3JCVlY20tIuIOsys96IiIiIiIiIiIiIyLX4DPrKxqAbkZOMXxmoJSezcpj5RkRERERERERERERlJs+Y5VmzPHNmtbUrm9uB/Qk8e0Tl5O3trQwe8PDwUL5VbnCXwZ0xbSIiIiIiIiIiIiIqkp+frwfVCpCXm4/snBy17za6OjDoRkRERERERERERERERFROTMUhIiIiIiIiIiIiIiIiKicG3YiIiIiIiIiIiIiIiIjKiUE3IiIiIiIiIiIiIiIionJi0I2IiIiIiIiIiIiIiIionBh0IyIiIiIiIiIiIiIiIionBt2IiIiIiIiIiIiIiIiIyolBNyIiIiIiIiIiIiIiIqJycvv44+UF+nsiIiIiIiIiIiIiIiIiKgO3rl27MuhGREREREREREREREREVA4sL0lERERERERERERERERUTgy6EREREREREREREREREZUTg25ERERERERERERERERE5cSgGxEREREREREREREREVE5MehGREREREREREREREREVE4MuhERERERERERERERERGVE4NuREREREREREREREREROXEoBsRERERERERERERERFROTHoRkRERERERERERERERFRODLoRERERERERERERERERlRODbkRERERERERERERERETlxKAbERERERERERERERERUTkx6EZERERERERERERERERUTgy6EREREREREREREREREZUTg27VQIEHcLlu8SHPV1+AiMjlWqJf32b6eyIiIiIiIiIiIiIqLwbdqpqPO3KH18PJG1FsGH3ncfRtc05fkIjIdTxvaIM2bdujg6c+gYiIiIiIiIiIiIjKxa1r164F+nuqAvm9A5F/QwDSTqbh4vl0fSpQyzMPu7v+jsOn/DD23ShczilbfLR5z/6IqKmPFEpHwnebcEAfq1jN0f3WCARkncWuNfFI0qdeGcIQPfx+DIqspby/gP3ffIRlW8u7B8o6+/VH755NIGsVWSnxWPX114g/rk8oJ+2cZ+PszrVlW2fDaPRpWxfeFxOwakMZrxJjHfpoia6ka0PZr2GDOuHi2nn4eq8+zUlhnfqgTT1vpCeswqYyrqP8aqDHyLHoEgKc/nUelmy4pE8nIiIiIiIiIiIiorJi0K0KFdTzQt6wetr73HwkHzmF/Lx8dfzdFodwe4iW5TZvVUMs+fk69b2zpn78CwY11kespSchfuU8zJi7qgIDHlPx0S+DEJEej9hbxmOZPrXaazgMs94Zi+71zGGjdBz4bBoenL1JH3dGcwx54Vk8dFNzBNmKROVlI2n755j3WixWlTP4pp3zdMTPvQXjP9YnOuO+WKyeEI2Ao1+j232v6hOdZKxDHy3RFXNtRGP6Z7Ho31B5e3otpt0xBau0GU4Z9vZqjO8UgISV3XD/K/rEyla/P0YPb4NAeX9hF5a8vwqn1RlEREREREREREREVFYsL1mF8rsauU6Am6c7AutoKWnRNdMLA27i7m6nUL92tj5WRtnZyM40DbK6gDBE3zcdi94ehjBtqTKahEVr1mHdF7MwRJ9yZQvD+Ff1gFt6AjZ9twpr/ziDbASg+V3jMfVGfTFHSQDvf+9h8q1awC37dAJ2/bIKq5T1rvpuLeIPy7q9EdZpGKZ/uAiTeuqfu5LlZeOC+XqTIU+fZ30tXsxGlj7LWUPeWI51yrW36Gl9QmXxD0Cw/vZK1KxzMy3gJmo1Q5fm+nsiIiIiIiIiIiIiKjMG3apIQTM/FDT11cc0NYID4OPpjdcaJOpTNEE1c3B311P6WFmkI/4/vdG7n2no3Q0PvhevzAECOo3F9EfKE3bzgbefN7xreivvrgaj0L2ZN5B3AJ8/dD8mvTgNUx4dg2W70pF9Oh1ZWnKig4Zh1rvjCwN4q2Y/iN533I9HnpqGacp6p704BeOHD0TvR+Zh0+lsNRDaskN3/bNXsM8mYYj5elOGedu18qkJqyyn975rEparc5zn41dLu/ZsZQ+6XDymvTATn3/3NeZNv4KyNq15dkD7pvJNzUVWZq7y6oMm7TuAXbsRERERERERERERlQ+DblUkv2uxjtZUbS67oUVwhj5W5O5up9E8rPj08jjwwXi89csZ5Z032vS6OnLUXCrzApILSz0mYd70B3H/XY9g1kp9kgOGzX0I3YOUN+fjEfvQ/Zj2mZ0+0vYuxKRxbyF29jg88nZZyldSpdi7HLNefBULN+jjV6AaXdsgXCJsmUew6scjapahZ6M26GL7lkREREREREREREREDmKfblUgPzoA+T0Li7sVuZAHzw9P4u8xx3F/z5P6xCKr/gjCS5810cccU2r/Xub+u15OwKS7WqBW9hHEvbYQNkM/Nw7DpAHKMnlJ2PhKEpq8EI0w5X+dbm2DoMwEbFp7QM2eQ0o8pv3na+WNuU+3GUidMAkP9WuHsJqSSXYRSTvj8OFse/2YhaH/I+Nxz63RaF5bS2XKPn8A8au/wofKui3DV4MwVtqibncr+ju1HWv9MeN/09GnXjZ2fXA/HnmvjD3eNZyERR/fjeYeZ7DplYGY5ESwzlrze6Zi/J3d0TK0JuRIZF9Mwr5fvsaiJcsQb7VPts+5fixvaouIeuZ1fI7Y15ZbHkuLPt0+x5B/jsfd3VoWHcv9m/D5O69i+V59eQeV1JfZoMemIzrkAvZ/PwvLftUnmljPjx4+CYMiayGgVR90b+yNM7tWYesxWdJ6HWW9hvZjyAtPY1i35gj2yUbS2jdw/4urgIFjMb1jGC4c+hqzlsbrn1M07I+xj9+DPlER2nFCNi4m78OmL2PxqlWgtcL7dPMLRZu2TRFUtx5CanoA3gEIql0DnvCAh49nYUZb2s4lWLBaudofHoE2RqXb3Fxk5eUpr5eQdjYdl5GHjNOncebsYWzfmVzmMqBERERERERERERE14JKz3Tz8shHj8hzeKJvAt6+bze+f+I3rJu0GcvHbsOsu/diXJ+jGNj2NBrUvqx/omTubgVo1/AiHu55DHPv3YNlo7fj2/G/4ceJW9R1vj9yJ5699SBuiUpFoJ+UUqti/h4WfbmZuW++ABQA//6+IXLz3PSpRfq3P4O/tDqvj7lGWGQwAvT32HURYTf2R/87xmLsU7bLTQ66bxjuvlVZpkUAdqEt+sh7CbjJTL8IdFfHlaF3W3X5IrXQbelHmH5fd0TUC4C3tze8A4IQ0W0Ypr8Xi2EN9cUM0g/aF8ryf+uDNqHK8moJQW8EhLZBnwem4r3/zbL6jN6W3t0x1Znt2LQKsZ9K6U1vtBkxC1PL2Mda2IPRaO6hvDm6yansOEvdMemD1Vj01CBENw1CgHEc6kUg+o7xiHWkD7iG/TFdjokcy8bKOiQmVLiOyVi00s5x8QjV+qK7I9ryWHYahMnvrsSs4eXrCdCsbW+5bgagW1N9ghXr+c27DVCvMwm4iaA2+nVnXkd5rqGPpQ++NgirrXzGLwDB9fQe3Nr3UbczoFtRJ2hht0zHR0unY1TvNtpxkjiX8pmgptEY9NQirJxb3j4TnZSZjH2pPmjSrAnCG4UjvH5d1PDxgY8p4Aacxr7Np9XXjfvkVefpqSynLFujLurJZxs1wfVNfHB6LwNuRERERERERERERKWptKBbHf8cPN3/MFaOi8erd+7HkI4n0bbBRfh55anzgwOyEd04DUM7JavLLfnbdjx9y2HU9stR59tyY8R5fPLI74i9dzdGdjmBDg0vqMG6Gt558HQvUNfZrN4l9G+ViuduO4gVj27Fo39JhK9Xvr6GypffrSbgWTyg5nYsC+57ispHxn7XSH9n6d4exTPgyqzhMEzpE6G+TTqwSvnv1/hom5bV1bzbWESr78xG4a8dJLx2Bps+nYUkfI5YtV+ytcp7RfouLFPHleHtz2VKkYDmiG6qbGfdTDzYrRu69eyGB2crn8tW5tWOxrCnBmnLqbpj6syx6B7qrfWD9vZ4DDE+88rn2HUG8K7XHePfmqEsaaVxHwxqmo0D/3vV5naGjCm+V8V1x/0xLbVgpHcEBv1zFsytc1SfUC1Qk3RolXZ8nBaGYW9Px91RSkuykxD/WdE+DXk8FmuPSx9wzXH3i+9hbAnBxDZ33qMFp84fwNezH1Q+3xu9jWMpMdygaIx9bpS2sFnDaHSvJ+csFuPvKdruqsPpynEJQvcxszD1Rn3ZSrb2w1fU60z62RNJa4w+8l7BIrX0YzmuodDuiGmsXOV/fI156jrn4fNf7JQFRRsMGdodEbKZvV9j5t+UbfTujW7dHsSrn+1Ssz6DbhyL6X/Tlq4suYfXYOHiNUjM1CcgF6fjV2DJ4gV4Z/ZszJ69BBsvanMubViijM/GO+8vUeavwNZTRT9OyDq6BosWrsGRavB7BSIiIiIiIiIiIqLqrlKCbnd3PImPH/5dzWBzNODl7gYMbHdaDao92PUEfDyLPlfDJw/TBx3AG0P2oV5NiaY4xsO9APd3TsKy0b+jU+M0fWrlKQj1Rn7bGvqYJffN+hNw3Reb6yEx1VcfK9KucTqGdj+ljznKG8E3Tsf0F0zD7EVYuXQ8oiWydD4ey1/QSuXFz1+LA3JIG3bC/QPVSYXCnuqLNn7Km+Nb8ZGauXUAm75bhVXfXYR2Fi7jjDquDBuKBynObJiJIf8sKmV44LMpGP8/bSyoeR/0V98p25kwFjESJJKSlNIP2tL4wqDVgZWz8MijsYiXYFFoH4x/tngQTQIwD75WVDpQ3c6qBPV9WNSgUrKOwjD23em4u5lyYM4cwC4JbAV1xxNvO5+tFBGs5RBmZ5jKEDpj4CQM66SsIy8Jq54dgvGzi/YpaesyTLlnCr4+qrTPrw3u/ucwfU5xu95+BA9On4mZ0yQQVHRe1GP5ihYw9W7eA2O1yRaSvpuinLOiEpay3WnDp2nb9Y5AzN9sBOsqQdLWtep1dkZPv8rO0K+779aqbS3XNeTtjeyt8zDm0VexUF3nQswzl5K0sAuxjzyIabNnYsrfzCU3JcD5CKatUY+uGsSudOe34/P3VmD7WYmYeaJe9CDc1qYutJ85FJeV4YGoAYPQqb7kw+Xi7O8rMG/5dlT+nZKIiIiIiIiIiIjoylShQTcJnEm22vi+CWXOLpPP/a3HMdzYRCur2LhuJj58YAf6ND+rjpdFUI0czByyFyO6nNCnVI787nbKSu66BLcTxYu3zVtlO33p3h6nUMPX3qNzW7wR0c0ov6cP3ZojyBvITt6EeU+NxzJ9SRyPxedbzyhvghA90BxQCcP9HbSSegd+mQfnw0gJ2DRX+nizlLQhSQuG+HhDL+CHIZ2aq32OJaydgWW2+mA7vgwzVmvBo4gOg6wy8hKw9T/Fe6NLOpSq9TVXuy76qFPsuG8K7m4foAYiYx99EI9M/FwNQgZ0GotZzxbLiapQ/Xu3UMt2pm9fjmlq9pa1TXh1STzkbAW06ouSwl9Jq5dj+a9hiO7XH6Oemo7pT41C/37RCNuwE0lyYKQcorZokcxd+PpFWz37FW3XO7IT7If7qk55r6GfXlvmRHZiElZ9thzxDaPR59ZRmPTCdEx6oD/6dArDpp1J6nXnXbPY0a0cuUewZskSrDsq9xdP1L1hMEYPbIliof+aLTHoofvRKUQCbllIXLcES346Aia4ERERERERERERETmuQoNuD0cdxy2tUvWxstt+vBbW/1lXLUcpfbTVr1X+3oUkIPjAjScwulnlBN7y/fxwOT0Klw51xsWE3upw6WAnZO2NhFfKrfBqPrLY8EvueKzecgOO/ByKc+uvw0VlOK68T90ehL9EaGX1HJONhF+MTCBj+Bzznn4Qve+ahIWF2Tmarz/eqmU/temLSUbc78ax6N5Mec3chZ9mOx6OKJSeigRbwY9fjSw5wzA0D5XXM0jSS13akvRpghYUqV0XRb1rKextx0HDemplJQ+s1oM1x2MxZb7Wv1tE//Gm/t2GYfrb0zEkSh+1ISFVO0c1axs5fM6JbqQFapL+LAyJFrdyK46oQbO6aGK3xGQY+j+9CKs3LEfsK9Mx9p7+6H/PWEx/JRbLN4xFO8letCX5CBbqb4sxthsQDK1AaXVSyddQw/5qv3u/fBaLGS+MVfs8vPux6Zjx9nL8MqZdUZ+JVSX3LLYufx+rjmj3zRp166uvFnzDUK+mvMnCkdXv4/OtZxlwIyIiIiIiIiIiInJShQXdhjY8jdsCz+LPbbWQnVv2zRQow5wfmiCkZjZm3Lkf3qYyk+VxOcsdezfWxqDgMxjS4LQ+teK4Z2Yi/WBnnE+8DReO9FGH88cGwuvCcPiEj4ZXiwdtDovOzkbtjdcBG0KRqww1lPd1lGHt/kB9zY7IRuqvRp9XxjALC22UgFT9Og+b/lRePZqju94H2qD7OqnlFc9s/8p+IMalLuLMd/pbW45nacE6v1rFM7TKQSsJmYSET4uCNUlLx2tlAqV/t2djMawhEPZIX/Tp1B+TX5yONvpy1pb9qa0jKKKHjf7xHJWOCw5VE/VBQFv9rZXof87Cs3c1R4BHOpK2rsLC2do1MO8zKcWYDW8PfUEr6ee0kpxXrsq4hqIx9fVntX730pMQ/91CzDT6gVsTj4Q8yberDrLg6a6d6Eupibgkb3zC0aF1KCS3DSlHkKxO9ICHe/l/1EBERERERERERER0LaqQoFuE/2Xc3+ik+r5Bbjb2liPw9s3Oekg444dpt/+Jmr6uyb2QgNu+TbXR2OeyOj4i/CSa1MhU31ek2ie/0t9pfLy8UDs4Uh+zLaXuDVgXOkAf0yzOcUemRCMrTBJmfbpJLR8Y1vF+DMIo/LVDEJB3AD/NLl4i0rUOIF3t3i4YocPVCbbdGgQ1MefiBS1byVXUqp21ULebOlZo07OztH7Makdj7LRJGH9rG7V8oZTa3KUtUtzyeL1/vO54cLizPcIBZy7KhwMQ1rykzwahlpqpZi/A1B/394xQ25r03TQMeVyCbVq248LZUzD+vg8RbydpMqB+ixL6sYuA3mVdJYhGTadiV5V4Dd16P7o3VRon/e5NH4LxL87Dcr0fuFnPjsf9CyRLsjpogrBgra+2MyeOoW7b2zDq4bvRL+Z+jH3gNrQJPoakVK3vt6AGTdRPEBEREREREREREZFzKiToNi7yONz09yI8Nxv7t9dCbn7R1J0nauKN1U3x2LI2iHnrRtz//g149n8tsHhLA+Tkactl5brj/Q2N0K/FGbW0ZElk2Q82NcSUFS1w73s3YMBbnTHuo9aYtboJ9p8q6sEoR1lujyngJmRrjzWt+DKTPpcOouaZn/UxIDiwjv6uZJ9EPIgCN+1UHcsHvskxH90KsvIjbJUSe0HR+OvbfdHGD8je9RNmlaN0o2PisSlB7aUM7fqMtRv0GXZ7OzU7KfvoVizXJrlEfJK27SbdBmkTCm3Cq5PnqQEq7zZ3o4+UL0yPR1xJpTaPx2LeBpkfgOgxs0ylKe3pjqkffIQZd2l7/fVeLdMsrMN4ZY5t0c92R3NJYDp+AKu0SVaC4e0jr0nY9YGN/tkGdkITe8Gzhm0w3k6bo59tq5WVTE6ws92ysBNgvHGQXi7SUZV4DQV6Qz28ybuUc61OsTDoxiZKK6qBkCYIVW+DeQjqPBajbmmJumrDlftScEv0f2AsOtXV+omscV0T1FPfERERERERERERWYq8cypmv7sACxaUf3h39lQMbqqvmOgq4fKgW9+Qc2gWkKGPFWmYnY1dWwORk6cFx574pDVW7qiHPckBuJzjjqQ0H2w4WEcNsj2yuB0Sz/ph4S8NkZnjgcf7llzm7mCKP0YtaodFyvKbDtfByQs+6ud2JdXEVzvqq4G9Zb+GIUvZzvaf66CJKeBmaK60+S/B5/WxihN4SjLFChDg549a/o49jj/rdx0WRTyovn8n2x2uKbBZmnjM+0XKT3qjTSfp8eoM4leWUlgyIAxtb9Tfl8PXH29CQp4Et4Zh1gv9iwVNuj/+Hh7qJMfOgTY5adVn2raDuj2BWOvstONrsWq7BHM0CatmoITe1lSFGXJSmvKV5YidUHx/RNgt4xH7vxkYFBWBPo9NwTBlWtLsOC0LLbQPpr89yrLfMUXYXTMwpb+EvrJxYMM85YzZkopstVpgGCKGWm254TDEjuteQmnFMPTRy2mahd0yHZOM7a6LtbNd58Qf045r8QBjd0x9qo/dwJkhLGKs/k5TaddQWjbUwxsagfutj9PwWDzRreyFK10qvD60grQ+qFFLom1ZOLtnFZYsXYV9qbIHPgisqUfhatdHI+0dERERERERERGRyUDcOyASgV76aDl5BUYi5v6B+hjR1cHlQbeBoan6u+Ia52TjmSVRanAsv4TyiEfO+GH04rb4fNt1+EuzswiqkaPPKW5rYiDGLmmLpPO++pTi8vLdMG99OKYua4nrfe2XkRxUQttdxSMnDUHHFiHUyVKZ3zd5AO95NsIePQuwMhQGfcTxrfhopf6+mHgkqN3ihaHPGyvx0dKPsPK9qeqcMvn1VcR+l4BseCPi1un46H+LMOuF6Zj+wiy898VqzBreBgHK3ISVr2KS3TaVUeG2AxD9+HKs/jgWM2Tbr8Qq+/8RpvYsCqJE9JtSLCBVnGTIvYLP/5QUuTBE3zcdy9fIMXpP3adZ736k7N86LH9xGKLreQPZSVj7HyOYtwwzFsbjTB4Q0GksFn33EWJfkeMwA7FLlXU83QdhykfSt87DlLn2Mu5W4aMNsj9A83sWYfnbM5TPK+uYvQgrl45HtH860u18JbKTk5BeOxrjZVv652Z9oLx/sT8ipKmH4zDP7nads+qzrVqJx9A+mLX6I+18yzFfPQuDGmcj3U6NxmX7ktR9824zCqu/UI6lMsy6T5lQWdeQck42HVZa4NEcd3+4XD8/+nF6PBre59PV9lW1lg3q6u+ArNR9WPXfeVj4/S6cPrUL38r71ftwtrArt7oIa6m/JSIiIiIiIiIiMnSLRKiLAm4Gr3qR6KK/p2tRILqMmIyXZ7+Ld//9LmJfn4pRfY0uuYIx8OnZ6vR3Z7+MySO66IkF1ZtLg261PHMRWULfaKtO1cXWVLUXpVJJH3AydG1yTp9S3KVsD7zy7fUWZStLEp9aC6tPFz18tnZ9QAZqebmm37iSBJzdhOy1o5Dx7e2ODyv74+s01wQ4HLcWB45pIQPpu8x+RtMqTHnjcxyQwIh3ECKaRiDIsdNs16ZX7scj721CknI5eddrju639kf/W7ujTWgAkJmE+KVTcP8rNsoluoBse8rSeHXbAY2j0Ue23S8aEUFaUCz+41iskuw1/ybo1L+N/qkSHF+FWQ88iGkfrEWCJFP6yTFqo+5T9/YRiJBgW146En5ZhmnDh2DKF0XnOWnpeIyZrhxb+VztCET3k+PQB9FNg+Atn/luJh58fFmJfZLFvzZJLXMpgcSwTn2Uzyvr6NYcQXkJWDv3Q+zTqgoWk520HNPkOEBpr/657lHKdpU1JW1dhinDX4XLzsCv0zBr6S41wIiACO18yzH3lnM9DT8VJRhaenuKvm/Kx0KVYxkarPZfJyrnGorHq8/Mw6ZkpQUBYfr50Y4Tjq7FW0v2VYOgWz2EBfsAWWexb/VCzPvvt9il9t9myMXZnd9i4byFWLXnLLLgg3qhLDBJREREREREREREFSkSQ59/HWP6RiE00AtePl7wD45ErxFP4/UxveCPVKxcvgNpynSvwFBE9R2D16cNVT5Vebo8EYsFC2IxoZs+wQFuXbt2LSHnzDn9Qs7hieuP6WOWUrK8MH57C1zOdzzOJ6G0bx7/DTV8bEcFXvnueqzaE6yPOcbXPR+xHQ4gxMf2o/C3DjbCmhTH+lq76t04Hcvn9kfYmU14deAkSGHM0jTv2R8RNbNxdudaxLuk/zcJZHRDpxvbIcz7Ao5sWIdVayQQVBlK2HbD/ugfsQqrbPTjVRoJfLVp3Qk9ImoB6Uewcfsu7HJgn+TYdr+xB5oEZCFp71r89NkmSAFQh0V1x5A+fdAuBE5+vjm639MXfaLClC/yDqxduxyb9uqzXK1hNPr0642+yrG5kBCHr//rYBvlc23rwvtignJOrD9ROddQ855D0Lensg1lzTs2/ITlxdpRRfw6oH/vXMT/sAtnHfhNgWdwG/S/wRM/rt6ulc4kIiIiIiIiIiIS3SYg9uF28NdHgQzsXf5vfFNy71AWIm/9Owa3KloD0ndg/oS52KKPOkeypMbhrs7hCA7QU/Cy0pC46RO8uWQL0rQpVE2FjngZL/cN1cespWLLW89g/h/+GDotFjHh+mRF8k/P4bklyfpY2fl3HI4n7+2K8Lr+8JKwVX4O0pJ3Ys2yD7Fyn9aFmgTdxrQHdrw/HnN/USeVyqVBt4caJ+OOsBR9zNLnJ+phSeJ1+phjQmpm4/Mx2/QxS1m57ug/t2wdiI0IP4m7G6j1EIv5MikEC4/aO9HXlmFvr8b4TgFIWj0eQ15wRc9dRERERERERERERHRFshF0cyYYIbQghiuCbpIl9TRiIryQcy4Re3cfRGpWDTTu2BGRdZRpiXF4Y/qnOKQvfU25dxoW9A9H4qrRmP6JPq3aCcWoGS+jVwkFt9K2vYOn3tmGqDGvY3IXU/LV6fV4bspClCfs5t9zAl5+qB0CJUi7bwcOpubAKzgKndqGKtd3GrZ98BTeUa7rsgTdXFpe0t/TTp06xekso+ib4wK87a8vOc1Hf+e8ktri72F/m9eUhpMQ0yEAyDuATfMZcCMiIiIiIiIiIiIiMy80vnUapj3v+DAowjWdwoXeOwL9lHVl7FmKZyZPx9wPl2Lpsvl4dfJT+HRfBrzC++HeQabgHlUz4Qgs5fR4eWjXyt40LeuskH+g8unyCMXgAe0QiFSsn/kUpr+1ULl2lmLhW89h/Iz1SHUPRMfbhytLlY1LM90mNktE72DpfKq4GfsjsOVsLX3MMS3qX8L8ETv1MUvbj9fChE9a6WPO6VL3Aqa0sJ3zui6lDuYcbKSPXbsGvbESU3sGIfuPeej96EJ9KhERERERERERERFdk4pluuUgOX499jpRx7F2y17o2MAUeCtTplsUxrw+GV0CD2HlU69ihVVMBu3HYfYTHeF/eAUefWWlOskoJRgZrLc+Ixk7vluK977dC72QICbMHYN22IGVW2qj11/CESjNzM9A8rYVeOM/R9H1iYcwUDKhJJUpJw2JPy/BG8u2aZ83sss2fIrzkQPRLlTbTk7aIcTNfxNx/oPx9IheCFdXKptXtvPBXMQdVkdVgV2kjfaWKWrfp98BvW5vB3UT0r6dK/HhW3E4VOz8iESMHj1df1+9DHz2XQxuaroWrBhlJK2zI3NM57Vsio5l8WsvFMOnTUOv4INYOX4mUoxMt8+U7fUsOq/Fz58/om57CMNvbguPhg0b/p8+tdza1LqE5jWtr3DN0Qxf7LlYQx9zjLdnAe7ueFIfsxTgk4dlv4bpY86RoFv7wHR9zNLOCwH4/XxNfexaNQxjH++O+u6nsGnRVPxYTbqmIiIiIiIiIiIiIqIq0qgrbutYH0Vhkiwc+fZ1vPfdTuzc6djg3jYGna4zBVqyT2Hr91twQh91TD8MvP96BJ7cjthVO5GjTy106gD2HtyJbdt2I/V8FtBtHF5/tDtCPdKwd/Nm7PzzNPLrRSKqY1e08duLdbvPKR9qiK63dkL9gPpo3iAHR35Vlku8CN+QhghtHIVet/RAh6AM7P31N+yW6fUbo2GLNmiY8h22HFc+3qYP7ogMRGB4a9Q8sw3rtx7A6by6CA0LRdQNfdCnRxN4HduGTdu16Q0bN0ZUhC+2rtsNiVRIucMXH+6KupkJiN+0HQeSLqNu8zbo3KMN8tesx4EcvX0+ddG8dW2k/b4eW/cr+1G3IcIjotDYbyvW/bwbB/Zuw5b8JugeXhPJG2Zi3me/IjWlevZudyC3Mfp0DIWvPm4h5xB+ePM7Zb/b4c57eiHUT5+ONPyxPBa/yTEvs3xc37MfmgTVRG33A1i/T86/IR07163Eyu82QcIiDbvcpl6vdZu3Q+1zRefV+vxF3jsVTw1qCf8LB1wbdIuskYl2doJZF3M9sOlMbX3MMbn57hjZxfbXzdszH1/vqI/MHA99iuMGhp5BuP9lfczS5rOB2OdkcPDqsxOrPl6IhYs+ZcCNiIiIiIiIiIiIiGwE3QDf+p3QtWcf9Ont2BAVGoiavqZn+mUJunW7GXdLO84fwPJ1u/WJZllIS0nVAm6SufTocET5JmPNG1Mx7ycJ/m3F+g1paNKjE5o3D4PHmvXYZwS13EzLbd+CNfvrosdfmiAQp7Fm1nN4z5ie1xy3tQlDDRxH3G/JhUG3jJ0L8cy/VmDbzp3YumE9clrcgtahvsjZuRhTZxrTdyC4Wz80CfNGzlfrsBtd8PdJt6Fx9g4sfm4mVmyTbWzCpuzm6NOuOcKC/sQPW3209vmlY/fCqXh9xTZtP3YHo0ffJgj1yMFXP27BOdnvFr3UtpzbtwCfr62eATfV8d9w0L0NOrWoa3FNISsZ6997A58m5sB/0Gg8cENdaFdMBg59HYvZP5iDZGWRjp0JvrihWxSaRPXCLT3aoJEfkJKSiDSrsJEWdPNF+q6FmPqGvfPXDvfc3w+hWX/gw3/OdW2fbgkZNmOSqs51LiLYu1jMuUSXc9xx6oL9vtvuaH9Kf+e4IKUNnetc0MeKK2kfiIiIiIiIiIiIiIjoCtEgBu1CgZxjm7HUVMoRGevx6R+pgFc4om7Sp4msFBw0L3c4QysfeXovVpinr0pEsvJi9DtmSE1er5erFBk4nyUxkQwcjDdPT8beZFPFwG5dcX2A8tndq7DeNDlj1T4kKx8PDm2rT1GkH8XmDaaFThxCkuRBuTTSU3kOffkqnnluIVb8uAbrN6zHmi8X4rnJz2HhNtnHYLSF7K8y/ccVWPjcM3j1y0PaB8vr8KeYPmU+1vypXAN1I9HlzlGYNnMBYl+fiuEdLQt0yvk7+pvl+Tt0ynQOpEzlc4/i0WfeUUtVuvRU7EwLQF6Bmz5myds9H3+PdD7nb/MR+9lxw7ucQFigRKsdN6bJCbUttuTku2HXBeXqJiIiIiIiIiIiIiKiEuTg6HfTMf0lx4evE5xLzCm38EC1j7OciynauEnygSRkwAuBoVH6lBLk5ZiCLmWQp7/aEl5bbWNwl8lYsGCBaRiMSMuYng3Z+uuVyB+hzaLQKTocgcpYjgQoa4ajV8+OiFT7TkvFlq+XYuGHC7F02UocDGypT3eRc1uw9LVnMP6RpzB9URx2JKTBKzgS/ca9jqmDQvWFbMsuFmIKRJcRU/H63HddG3S7nO+OvSWUZuxY+yK61nMsndHLI18tIflrgv2gm6d7AZ7okwAv5dUR3eqmqf252bNbabsE3oiIiIiIiIiIiIiIqCReCOkwHMOHOT5EB5caRSrdL8lIlVcPLzVYVVwgwltFISpCQjklcL7nqgqVtm8N1vxoY/hln77E1cAfoT2HYsLzryP2vVi8/M/JGHVnP/S7qWiIuXccpr4ciwXvzsbLTwxFLz3QlpyYia5jZmvTJ41Cv5auCsClIfHnTzH3pafw1BtrkJzjj8ibh6KLPrd0/oiZ9DLG9A0HEte7Pukw7lRd/V1xR7288fKw/Xig6wm4lxDbahKUifdG7sR90cnYfLg2Ui5663MsZWZ5wDfRDbPa/okGfvYz3tzdCnBfo1N4unmiPsW2VaeC9HdERERERERERERERGSfF0KjLQMmpQ0dG7gg6IadSJaoW73GiLEVd2k/Ak9OmowJw3sBiWlqhppXzRBtnkloZBj8kYO05L36lCpy7pLSCkX6TixdtrT4sGqHutgVz78XxsyYjZcfikG7iGD4lxad8gpEaPsYjHo5FrMnxSAyYy+WvrEUO7KU6a16YfjTsYj952BEORt76z8Bs//9Ll4f01GfUCRjn7J+qRsaUBuNtUkOGIiurZRGJK7B9FlLXR90W59aG0dt9It23NsbbTqlqRlso3scw9yhuzGw7Wm0Ck2Hr1e+Wiaye+Q5PNLzGN4buUMNvD3Q9Tjq1sjB+xsb6WspcjnLHXs3BiLC9zLC/S/jzXYHMKzRSUTXuYD6Ptnwdc9Hi5oZ6F//LF5pfRj3NTylBt/sOZjuh01nSol8ExERERERERERERFdi3JyteBQlduLr7clIscrEv3G9LLKdvNHTP+WCFRamrhjDXAiTg2ieDXqiuFN9UWEfy8MbR+s7FMi9v6oT6sqq/YhUTmwge0HYnAdfZrKH72GDUc/i2lXKn8MnDgcXeqVLega2GooHhoRCrUvvm1qnqPKv9lATJg40OoaKMXuZKS5eyG4dS/0sv6gfwzClcsCWZfgWM1GE71/P5cH3cScg+EWfbslenoj6oY0tRykoV3Di3i6/2H8Z9guxD3xKz56+HfMuHM/RnQ5AS8PbTl5Hd83AXG7Q/D7sVrqNCEBt90b66CJ72V9irKssu6hDU/juZYJmNdxHz7usguvtzmIvzc9jqial/SlbJOSkm8qbSYiIiIiIiIiIiIiIhvijyK1ekTdkPzJEqxJzIF/21GYPXMqxqjlK8dg6szZGNrSHzkJa/DJ15Ljloyl32xDmlco+k1+HZMf0pd7cTjaBeYg8adPsKJcnbW5wkp88pMWRBz44suYoLZxFCa8+DpG3dQL/W51oM85s9OX1Oy+0LbjlPUM1qZVuX5o16h8WY6hkb3UV60vviJejdopa3fCiU+xRI53QDuMUq6XaU+MUkufDh8zGS/PGIoof+W6WLcCcfripVuPg5Id16AfXn9xQsUE3RIu+WLekQbq+xMScOt4AZ56IM1Zf2l2Fh3D0/DC182Rmu6N7Gwt4NbUN1NfovxiDzXC8UwffYyIiIiIiIiIiIiIiCytxJvz1+BQagZysnLKNrgsaHcIn05/BvN/OoQ0n0h0UctXdkG4VxoO/TQfz7z0qbKE7pd38Nw7Srsv+iOqp7ZcpE8qdiyfizc+KVyqSh36ZDre+GwbknOC0U5tYy9EBaRhm9LGV5c5Wf7ypxVY82cavEI7quupHvzh5YrKorYoK3a2wqQc72fmx2FHqgQne6mlT/t1iUJwXrJ6zJ27LpKx9NV3sCYhDf4N2sGta9euZYuGOWB01Anc2/8EfDzz9Sllk3TeFw8sbI/m9dMxst4ptPRzXej5+1NBePewFiAkIiIiIiIiIiIiIqKKEomh055GTLgegUnfgfkT5mKLNkZXraGYtiAG5ao3mBiH0dM/BbpNQOzD7UyBtkTEjZ4OZU61UCGZboYP9jbAt7uKd1DorLDalxHTOgW7k2ri3wcaIiXLW59TdhJpXJJ4HQNuRERERERERERERESVQjLU3kCcdGJG1xAbWY9lGLRVZSLDep42p1qo0Ew3w5COJzGmZyJ8vZzPeLuQ6YmFmxviqz/qIydP6yeuhmcexjU9ju5BTndlpzqX7YU5BxthR1qAPoWIiIiIiIiIiIiIiCqHnvFWdy8z3eiqUilBN1G3Rg4e6XkMN7VMdajcZHqWJxZvboAv/6iPyzm2E/JuqH0R4yKPI9jbsThmXoEbvkoOxsfH6iMrv0KT/IiIiIiIiIiIiIiIyK5IDH3iJhx9az6DbnTVqLSgm8HbMx83RqShTdhFBAVkI7hGNprVy8DZDC/8eaoGdicHYN/JAPx5ukZhZltJPNwK0DwgA53qXERUzUuo652DQK88+Ljn43yOJ9KU4XimD347Vwt/nA/AhVxP/ZNERERERERERERERERErlHpQTciIiIiIiIiIiIiIiKiqw1rLFYj/v0nYPa/YzH1nlBtQrcJiF2wALFPdNHGrxhDMU1p94JpQ7XR9sPx8tx38fpj1W0/2mH4i7F49/VxuNKOMFUVf8Q8ORvvzp2KoQ30SWTfFXsPs+Nq2x8HeLYegnGTJmB4F/aBSkREREREREREVBpmulUKCULFIFwfKyZ9h9pZ5M5BUzH7zkik/vgcnluWrD3gfbgd8Md8jH+rcqvadnkiFmPa++tjxWWU2CZ9fxPjMHr6p0D7MXj9iS7w37kU499coy9TAZqOwuvP9kLw6fV4bspCKEewGP87lWM8KBI5e5S2zErFmNcnoIvvDixVjn8FtsxFumDC3DFoB+16uWbqHOvfg2JXY04GUhM244t5S7HlnD6twvlj4LOzMTgiFWv+7zksPaFPruaGTluAGLs3IEMGdrw/HnN/0UddoQrvYdo+JyJu9HQod6FitHscnNvnKtwfM88GPTBkUDQi6gTAU346k5+L88m7sPGbOGxPydUWchHPTsMxaUAEUtfNxYIN6fpUIiIiIiIiIiIisoWZbpXp3F6s+XFN8eHnbUhUZmd8/SoeHT1aC7hVCzlIjrfRXhm2SYsd9Md8PKPsl0XA7d5pWLBgAabdq4+7wuE47JBDVy8Kg1ppkyz5I6Z1OLyQgYObpC07MP+Z0Rh9RQTcqj8JcixYMA16fqPL5ZzYZroG12PHaSC4WT+MeX4CetmPD5eDBDmVfZo7wZQJmYGVrzyK0Y9cOQE3se8X03dXGfaqQco07DVNk8GZrzVVDc9md2LcqD64vkYuju/ego0bNmLL7lPwDO2A2x8ei9ub6Au6SO7WpXj9lVcYcCMiIiIiIiIiInIAg26V6WIili5bWnxYvt5mVlbVy0HKdhvtVYYVG6pji5OxYqdEDYIR2TNKm2TmH4OoRl7AuX34yZXZPFQpclLjTdfgQsx9YTzmxqcBge3Qb1CFRN2uGjtWWX5/Ey/K1DQkmqYtXbYC66+gQOK1KQA9e7dW/puKLR+8g6Vf/YC169bih6+U78O7W5DqXhsdbuqjzCciIiIiIiIiIqKqwPKSlcKq3KI9kv3VPxyJq0Zj+ifKuJ1SZoFdhuPJe3shPNBLHc9I3oGVH8xF3GF11CUcL73mj47DnsaIvuEIlBBuThoSfz4Er5s6ItTYX/N+/NbVRqlA+yXgnOY/GFNnD0Rk2hbMfGY+9uqThb9yfGOV45sWPxdP/WeHMsV2uUb/lgPxyIgYtAvVWpmTloj1S97A0m0ZQPtxmP1ER2DbO3jqnW3qfCAUo2a8jF6Be/Hp32ciTp+KQVPx7p2RSF41XjmfymfLrXh7C8/TZyuBngML21zsmvCPwsCHhyOmbSj81XJ0GUg9tBmfvLUUsluGkq+tou2v2R2Crp2VdWUo7w9dj37WpUhLu9adUVJJP4t5sFN+0+r7Z3zPfnwHByNHoFd4ILzkmCjneY1+nm2VYzRKqlqXLSw8B99uRu0e5mO3DStmvYOjXSbgodvbQT01+TnKZtZjySzzcQ9ElxFP4t6eyndIPqqcm+SdK/HhW3E4pC3gciWXXoxEzGMPIaZ9qN4erc2fvG1dxtOB5WydOwevxfIqU3lJ67ap97MleGPZNqhNK7Y/2rUVengNVlxUPmt8LiMZO775EHO/d/UZjMCdE4ajNXZj6dwvkaBP1QSgxwNj0TXoONbN+QTxyhTPkA6Iub0H2oTW1spQZp9Hwi9f4pMNJ5CrLN/n4QnoEZSAOOV6jDdVpYwe9gximpzHlth5+KHNKDzbtwFO/PQKFm5SZnbXx9ctxJ8Rd6JnI23duRcSsOGLT7DxRNGKare/E0Nubo3rfJWR3Ms4ufdHHK17O7oE2mo/ERERERERERHRlU8ew9EVxL/nBEwb0w+h+YnYIiXhNuxFRnA7DP3HVAy0intUhsh7n8aYm8IRmKG3Z1sqAv/SEaH6/GL++BRvzpqJmXqmXPIG5f2sD4sCVeWVEYe9x3KA4Ej0sigx6Y+BLSWKkoodX0nAzY6mQ/H0k4PRLjANOzZIyb0tSPYKR79x09QH9PhjB46mA4EN2xXto38vNK6nvPo0Rstu2iTRKzIUXsr2jm5wYSTBJi9E3TkU12ftVEsEbvkzDV6h7TB45FC9jcq+T5yAwe2DkbFvvbrM+n0ZCGzWD+OmSZBK4/C1FdAO/ToHIiM5EYlHkrH7szeVczgT69VTmoz1cn4XueyMlsi/fg1l75XTfvmCNsEJoX8Zg17+Sdj8k3I8/khGRqBynh98RC0lGbdIrssV2CsV9dL3YoWyT29+tlP9nG3+aDegF/xPbFaO73rsOJEB/9COGPpiLJ6+53rgTznuyvTkHARG9MNDDxsFK/3R6wnl2uqrnKmELYXnJri9ch0+O9AqOF0ZQjH0+acxNFq5dk/o7dmZCi+lzZZlPB1dzppj12LViMTQp6VtgUjbqbVtywkvhN80TvlelNwyr6b9MDQyBzuVa2nNlkNI8wpFu3uexOT+rj6DqTh/SXkJiESPTrW1SYXSsfG/szBLD7ihTg+MGHU7OgTl4uBvG7FxwxbsuxiAiN4jMKKL5MKlY8OeE4BnQ7SQe1uh1mgc6gmkHMLmEr5W9bvdh67+J7F100Zs2XkSubUi0OfugYjQ50sZzAcHtsZ1Spv3bVG2v/WQcohvR5cG+gJERERERERERERXIQbdrihd8Mg97RCYvgNLX3gV86Uk3IczMf2LvcjwikSvETZKKlaogbi3bzi8Mvbi0ynTtfbMfxVP/Ws9UvUlislIxqE9e7E3I0cdzVE+u3dPItLUMVfIwIrfDiLHusSk/0BEScwteQfi7JbQC8XQkf0QjmSsmfMc5n4oJffmY/oc2Z9gdBw4UFlmPQ6dVtperzF6aR+Cf//rlU/mICfHH9d3NoIpUYiS1KbUQ9hS4SX7vJCxZyGeeWm+WiZw/mtvYPNpZWp4lN7GgejU1As4sR7TZy1Ul1k4azpW7JPgZEv0ipZlnLm20rBj0TN45oXpmP7mp9iefEg5h8py6inNUdqinNME151R2wIR/pdRmDogEl45ydjxgzmn0UHJa/DGlJlYKMfjreewUo5HQGNEK8cjLUGuyxRlb0QOUpR9OpRcUvA0B8k/vYFn1OMrpS/fxHo5B/5eSP3xTTz3ljF9JfZmKddMRDQ6yse6PYKh7QORsXMpnntNO3/aucmAV9NeGGGzb8IK1Hc4ekUo19POoutJjs2bqxKRE9gOgx/Ug0+OLleMI9di1Qi9dwT6KfeI5MLzpXyXXtLOY3DHgUrLS6B8bxaa74H/2aLcM/wR9ZfBeuDbVdKxdvlanMj2RcSAcZj06L2I6dQStSWTzEqDzi0RlJ+K7V/Mw/If1mLtuh+w/P0fkZDriQbtu6olKHN//RMn4ImGLUwHPqolIpT1nfxzs7K1EqRsxoL5y/GDWt5yAb7ff1n9/rRuLDPNZTD17f/wJRbEfgnl0iYiIiIiIiIiIrpqMehWmcJjsGDBAqthGobqs0vVrSuuDwBSd6/CetODy4xV+5Asz6xD2+pTXMUf7R62bq8yTNNb3DMSoV7K9v9cjzjzg9TDGVoptqqyahsOKg0Ibt6vKItrUBTUmNu+Nfb7z/PvhahwL+Qc24yl5lKdh7fgUCrgVS9SzYJac1DWEIrw/upc9GsdDq/Tm7HmWA78G7SHGp7yb4vQYOXYnPjDosRlxcjA0d/Wm455Mg6dMp+BVFyS0cBQ9GtpZN5kIO6NRzF69FN4R9JinLm20o9ic4Vn7xXn336M6TqcjWkP9kJoTjK2LHnV8nw5KHnfpxblG9efkFCxFzwldc5pOUg5Yl7bIWRcltdU7P3SPD0OiaeUFw9PNUOvS+frlW9ZKnauMp8/5dzsS1bWGAyXf6VLERNtqz3K3nyyGQezlEsooqt6fTu6XHEOXIsuFY4Y873LNIyxKInqj14tle9xTiI2L7M8j1uOyJc/FJGmLNZiziZbfG/wxxLskGB76PWFwXmXObcRC2OXYqPclOpcj+gBQzBu0rNqAK5HA099IeDEqgWYNWsevjmiTxC5yvGX69IvQLm6ZHwLdh3NhWdoY7SWcUVEs4bwxUkc2lpiyA2nDmzEef292H9SG1NLtaI9IuorL8m7sNZckjR3N05alCglIiIiIiIiIiK6ujDoVpnO7VVLllkOm7FPn12q8NqQx8TBXSZbPUAejMgyBQpKk4PkeOv2KsMveosbaO1JPWXVz1aVW4NtCRlAnUj0UsumhWJw23Bldw5h6xd2Q25A+1D1QbRX08FWx3cyuqhPqDUZG44iFV4Iaya5SjFo2cALqUe2YKUE44IjtfJpPcPV7Lej+6rm2GTn629Ua7Dim71I84/C4KdjsSD2dbw8aRRi2gbq8xWVfm05L+fEtsJrcP1hiXDkIHHDO5jvogBgRp6W1+ZaOcgpoXmN66hHHV0mmY+5MtwZqQblKlugv2w1A+f3aONF9GBhYDAi5cXB5Ypz4Fp0qTTsNd+7TMO2E+bz3RahdZUXr0gMNp8HZZhs/vI7LAMHU+XE+6N2RWQrXk7A2o/nYdaMWXjn8x+w++h5IOh69Bk1Afd2khw2jW/jPrj30Ql4ZsqzePZZGYajddFsRS627z+OXN8ItFSjbtehdbiywKlDiHeyYmtufp7+TtEkBHJG01Ol7zgiIiIiIiIiIqJrB4NuleliolqyzHKIQwk9jNmUts/2Q+TCYJjL5CBlu3V7lWGVsy2ufGt+2Ic0BCKyezugQT9EhSp7c2yvZUaeHebgjsXw8zYkygIntMw3tV+3vm3R2CcNiVv2IuPrvcr8YETdHIqOzcLUrJl9q9RVVrlD38/EU/+YjoVfbsHec0rbW/bC0CdnI/bpgRbl7yrv2nJeTmp84TW4cM4aHMrxQnj3oWr24ZXNfmBoc7GgVlXxh5eH/rZEpS/n6LXoGsp303zvMg3xqTaCrFnJ2GbjPMiwTf3yVzeXcX7/Fny55B3Mnb8RJ3N9cX3Pm9V+1TxbD8HYET2U98exZeVSLHh/gTJ8g31WCWy5v+/HceVzES1aAvXbIyIQOHkovuTSkkRERERERERERGQTg25XknOXoD4mTt9p8yFypQfDTpxXS8sFBqu9U1Uvf6zHIXmgH9kLvfpGqVlniTtWqO21KzFNm5+VhBW2ju/y9Xppyr3444SyZL3GuKttY/inH0X8H8rkjPVQk90iYtCuYSCQfBBr1OWrWJ1wRLWS8pqJWP/1fMx84RmMnzATa07kwL9lP9wl3TlVt2urNBkrsPKPNCAgCgPudX2oprKk6X0bZu62ccyVIW6nOrvSaO2xlZ3VSy2XirRUtSSno8sV48i1WCUSlX1SXtwzkPSlrXOxAuud6pvRH9cHSxajrWzAcmg7BBMmTcLYARJWs5Sbshb7JMswoDYk2bZTp5YIwAlseH851u5MwMlTJ5XhPEz5aJrc7dh/Ihe+jVqidZsI1HagtGSpjiRDenUMqNsARQUviYiIiIiIiIiIrn4Mul1JVu1DYg4Q2H4gBtfRp6n80WvYcPSzmFYJNuzE0QylPc17oZc8Xza010qLVa0dWHNA+jxqicEdQ4GMg9j8tT7LHj2DzatpVzwUbd4hIPLO4Rhc2AcVsGXfUeQgFG1b+SPn+D5oRSSTseZPZQWhndBJORepCZb9XVWZniMwYdJkPHmf0cOdImMv1hySx+J6H2bV7dpywI5F67Vst55K+9QpO5GqPumvjcbV7nq0LW53onIdBaLtwMGWbfTvheEj+lV6u+PiDyrXbDDa9u+lnPkikfd2xfU+QFrCZrWPQkeXK8aRa7FKJGOL+uWPRNcHO1rsE5oOxvAhUZbTrNUNtbwHNh2KdhL5Sj6I9doU1zh6Emmevghu0QHXW0ezPFvjOvmeXr6o9rXmqf7pbpV2WKcBgnz194VyEb/3OHIDIjGgXbByH9yHDU6WlixuNxIkANigDfqY7x1GG4mIiIiIiIiIiK5SDLpdUVbik58SkeMViYEvvowJDw3H8GGjMOHF1zHqpl7od2uUvpyreCGkg2zDxtBfHpqvwYoNSnsC2mHUjGkYI9PHTMXsxzqWHiw4fUkNSIW2HaesbzB6yQNqF9v7zQ4kwx+BSmMyErY5kHW2F0u+3oE0BKPjwy9j6hhtX8f8czaeHtQPvQZ0Vebo1CCVF7y8cnDwjzh9IpD82yGkevnD3ysVh34rof+4yvT1j9iZBgRG/x2vTxqlnb8x0zC1p7I3GUex8xdZqPzXVmq6ekbRbpzy2SG9KqBUoBUj280/Cv1GyNYysOaAHPNw9Js2GaOU/Rz1xMuIfdyB69GmRKReVF4CGuMmOR7qNe9i336CNYk58Go6EC+/OEFt8/CHJuDl10ehX89+GNhSX66y/LQU6xNy4N92FF5/fox6rcgxfLJ/OLzSdmDFIj3j0dHlrDl0LVaNvctWYofStuDoMXj5n9o+qfezfwxEvx790bWevqAtyj1w+ItTtXvgQ5Px+uReyr0iDTu+X6Fnx7rIhY34cv0JXA5ojXsnKPfOv96MPr37oM+AIRg97k609M/FiV9+xG5l0T+OnlT+ex36jBuFO2/ug5i7RmPCo31wna3Us61aiUlff+DEgS0u6IctHRvW7Vb+G4wufxuLIcr2+9x8J0aPlzbqi+g63D0Jz04Zi5uNG0b9mzH6mWcx6b7ooiy59kMwacqzGHvzdfoEIiIiIiIiIiKi6olBtyvMoU+m443PtiE5JxjtevZDv5t6ISogDduWz8Wry2zmlpSDF0KjZRs2hm5aNODQJ29g/o+JSPMPRxeZ3jEYaT+vxI7SqpP9tAJr/kyDV2hHZX290K4iIjQn1mCv+sQ7Awc3OVboMWPDXDz3zhocSvNCZBdtX7s0yEHiT/Mx/c01SNWXk4CjlJKEdb9te9ar2XJIT8If1aY/ri1457l31OPt37KXdv46hyIneRs+nTOzMBhZ3mtrzQrtuIV2lOujXcUH3RRathsQ2mU4YvyB5CUf4tM/kpFTNwq9lP3s1cofqT85cD3alIwV329BckYgIuV4dInUp7vSIXw6/Q18Gq+0uV47tc39ukfB/9w2rHjzVSyt9K70kvHpS3p7GnRRr5VebYORk7AG81+ai/WFqZuOLmfNsWuxSmSsx1y9bV6R2j6pbdP3ac1pfTlbTmzBykR/tO2rfKZnFILzkrHjs3cwd4Prc13Pb1qId5b8gN1ngIZRXdCjZw/06HS9ss0T2P7tAizZJHluyi3op0VYuC4B6b4N0LpLD0RH+iJ1/VJslPtWQBAaWATf4rH/mITaTuDPX8sfchO5f36JRSt34ySC0VLZfo9Oyvfn0DfYYl2mU/4W4u4LH1MGnmTpeXp7oGiS0lhlmq9vsTQ9IiIiIiIiIiKiasWta9euBfp7IiIicthQTFsQg/DEOIye/qk+jeyLwO3jh6OD+24snfslEvSpREREREREREREVwsG3YiIiMqkcoNuzz77rP6uenvllVfg2exOjIjahSVfHSwqVxl6O8b9rQMCjsTh9WXx6iRn9+nYsWP473//q48RERERERERERFVLwy6ERERlQkz3ey5ru9oPNj9OuQm78Yfh84j1ysILdq3RLBvOrYvm4tvjugLEhERERERERERXUXYpxsRERG51MmfFmHBt9txxr8Fuki/c12uR8Clg1i78B0G3IiIiIiIiIiI6KrFTDciIiIiIiIiIiIiIiKicmKmGxEREREREREREREREVE5MehGREREREREREREREREVE4MuhERERERERERERERERGVE4NuREREREREREREREREROXEoBsRERERERHR/7N3N3BRVOsfwH+G+LJpKOLLKoIKmmjiWwmW9IIp5dXMbuIt/Jf2YpaZXdNr10yzzPL6UmZ2TSvtBW9iXXqxDG/iVSwllRKuYiallKFGKoVruqX/85ydWRZYYJc3QX/fz2eVnZ2dnTlz5szMeeacQ0REREREVEEMuhERERERERERERERERFVEINuRERERERERERERERERBXEoBsRERERERERERERERFRBdUZPXr0WeNvIiIiIiIiIiIiIiIiIiqHOpGRkQy6ERFRjRQWFobMzEzjHREREREREREREVHNxe4liYiIiIiIiIiIiIiIiCqIQTciIiIiIiIiIiIiIiKiCmLQjYiIiIiIiIiIiIiIiKiCOKYbERHVWBzTjYiIiIiIiIiILlT169dHq1atYLFYjCmVz2az4dChQzh16pQxhSqCQTciIqqxGHQjIiIiIiIiIqILVXBwMH755RccO3bMmFL5mjZtiksuuQQHDhwwplBFsHtJIiIiIiIiIiIiIiIiw4ABA7BmzRqsX7/e+ZL3Tz/9tA6EuerTpw/eeecdvPzyy2jYsKEx1WHevHn49NNP8dhjjxlTCnvuuef0sidNmmRMKUxauFVlwE3I8quyJd2FhkE3IiIiIiIiIiIiIiKiItauXYv+/fvjgQcewIYNG9CzZ0/ce++9xqcOERERaNSoEaxWKwYOHGhMLVCnTh107doVXbp0MaY4SLCubdu2xjuqDtKrVlVj0I2IiIiIiIiIiIiIiKgEX3/9NebPn4/s7GwEBQU5g2XSsu2yyy7Dvn37kJ+fj27duunprmS6dN941VVXGVMcrrzySjRo0ECPqUbnDwbdiIiIiIiIiIiIiIiIynD69Gn4+Pg4u2OUlm0tWrTA9u3bsWvXLt2SqmiLtuPHj+Pnn38uFJCToJ20mpMgHoNu5xcG3YiIiIiIiIiIiIiIiEogLdomTJiA0NBQfPfdd7rlm5BWbhI0++KLL7Blyxbdcq1oi7a6devqgJwE2qKjo/W0fv36oUmTJvjqq6/0ezp/MOhGRERERERERERERERUxI033oj169djzZo1GDx4sA6eLVu2TH8mLdrktXv3bv2SoFtubm6xlm4SdMvIyMDvv/+Ovn376mm9e/fGiRMndLeUdH5h0I2IiIiIiIiIiIiIiKiItWvXon///njllVdw6tQp3R3kgQMH9Gd9+vRBs2bNdOs1MzAnLeE6dOjgbNFmOnToEPbu3YuuXbtiwIABCA4O1gE8Ia3o6PzBoBsREREREREREREREVEJ3nvvPWRlZeluIWUsNtG9e3ccPHhQt4CTwJy8pk2bpsd9Cw8P1/O42rZtGxo1aoQhQ4bo1m/SMk7Gh7voIoZpzifcm0RERLXQ8PnvY/369zHvVmMCEREREREREdGFpKEPTkZXT4jj5MmTWLdunW6VJkG2a665Bu3bt8eePXv0ZyYJpOXk5OjAnIzh5mrHjh04duyYbu22f/9+JCcnG5/Q+YRBNyIiokrVCv3vn43l/16ruxbQr7XvI37+WPRvY8xCpXIEFI20K+W1fLLxBSIiIiIiIiK6sDT0wdG/tcDOIc2Qc2P1hDk++ugjpKen44orrsDNN9+sW6hJl5FFyfhu/v7+uvtJV99//z2+/PJL/Pbbb/jiiy+MqXS+qRMZGXnW+JuIiKhGCQsLQ2ZmpvGuKg3F7Pix6IkvsSRuKt43pnqvFYb/YxHG9vYH8g+pi6xdyMmrB/9Le6JnUCMgTy1//CSsPmjMXgESmBrbA/jyn0Mx6R1jYo1Q8bTsOeIh3NhepZeh0aVRiAgCsr9IwTd5xkTl0Fez8donxpsKmrR8PW4Mysba/qMxz5hGRERERERERDWQEXDb26SOfts49yg6Pf0bfPW780t568bO+NbB6Ut8YPfzwVmVTHVPnoFv/h/wsZ3FRb8XDwlVXx3cuVUd28mgGxER1VjVd8IfjnnvG4GioZOw2pjqtVvn4f37e6LRwfWY/ffZWO8SXIuYHo/Z17TC0S3zMHzaWmNq+dXcoFslpaWL6thWBt2IiIiIiIiIaoGiAbejxxA67yTqF/TweF6RurEPe+fg94YX6UDaWfX6vYHa9jrqb2ngp/50/K/eG3+fqef4vO4JCbSdQZ0/zuKP+upznzrwOXUGtta+8P3lD9T/+Q/UPen47JaNLRh0qyQMuhERUY1V24JuY19ej+GhR5E6dzimFm2B1eYhvLx8KELzUjF7+FSs1xMjMPaZsbixRxAa1VNv/ziN/OwUvDZ3Nt7/Ws/g0Hcs5j04FD1byUzSiO5LfJnXEVGXFglEtemPsRPvwo3dWqGRj3p/Oh/ZG1/D3599H4ccc1SD6g66hWLoo4/hrmvMNMzHoYy1eOGRJUhVb1uNWoTl/9cF2Lcao+9bYqTDjZi9ehIi/I8i+4cGCAq06KlO2WvRfzRDb0REREREREQ1ygUWcBPBwcH4vnE+fj5zQuJrqPMHUC9P/XP2LOqcURPUq45EeOS9/K/e+9jP4qLTEmxT792R4JzUGykSqGvStCmaNrwEBw4ccEw8jzHoRkREF7TaFXQraxmt0POarvDHUeza+CUOqTknvTIbN7avh/zvUpG6Lx/1mndFzx6t0Mi1G8o2armL1HL9TuPQ/1KxKwfw79ITPdtI94v5LoGoCExa/gRuDFLzffUldv10Go1CIxDRvlGlta7zTHUG3Vqpz15Wn9XD0a+/xJfZKg2tPRFxmb9LkK0Vxr68HMNDT+PLpfdh0iqV8pOXY94NQcjfsQT3rTyErs3rIer/piKqzSGkPPsaUvIPYP2WfcZvEBEREREREdE5dwEG3ET9+vXRqlUrWCxFHhiuRDabDYcOHcKpU6eMKZWvY8eOuOuuuxAQEGBMKd3Zs2eRkZGBRYsWGVMqB4NuRETnATmhDB06FI0aFYxRVRnk5HPw4EEsXboUn332mTH1/FK7gm6TsHz9jQjK93AZ/7cIa0d1wemvluC+R1Y7W6JFTF6OJyQg9MU8DP/7WvSfuRpT+/nj0MapiHtS2m6JVhj70nIMv/S0MxBlBpIO/UfN96w5XwSeiJ+NqOb7sHrgfVhiTK1a1Rh0M7rzRKE0bIW7Fi1HXJd8pD47HFP/oyb1VvtmluybVMx7eB8GvRyHLn+o9XvACGwq7F6SiIiIiIiIqHr9HnoR6u6T5lpluEADbuebG264Affeey+aNGliTHFP6jy//vpr/OMf/6j01nfVUdcovX0SEVEViY6Oxk033VTpATdRp04dBAYGIi4uDg0bNjSmVo0hQ4bg6aef1k3avVHe71WtoZgdvxZr17i+7kJP2UWNeuKuQtPVK362+kblu6tPKOpJq7dPCgJuInVuCvapi0b/0Cj0RytEtPdXU7Px5atmIE0cws8nTxt/i1bo3yUI+GMfUpwBN5GKlO+OAj6tEHqrMalSndu0HN63IxoVS8NDeG13tvrfH9YejinYMQ9LNqo5/CNw1/ND0aXhaexOnOcMuBERERERERFR9Tp1VzNkjGuBgzeXEaJgwO288cknn2DZsmU4fvy4MaW4qgy4VRWpl7366qvx8MMP41//+heDbkREVSkoKAgNGjTQfx85cgTffvutR6+8vDz9HU80a9YMnTt3Nt5VPnkKZdSoUYiIiMDf/vY3jwNo5f3ehcJfD0CWj6PSEquQ13DgJ/WfXzN0RBT8/dTf+T/jQKkBoii0kticTyiGr1+P9S6vqX3lg/NTsL9E9/wR8WjhbV5/a6hjBhepz76AFIm7qe+c3vc+nl7hGuokIiIiIiIiomrT1YKD3erjFC7C99eUEnhjwO28U1rgrbYG3K644grdDaiJQTciomqyY8cO3YTak5cE3mqKevUkOORoWXfppZd6FEAr2lxcvnvxxRfrv8+99zE17kbcONj19Rq+zFcf5X+J1wpNV6+4qeobnjiAn2UZJZIx3fqj/zU91V+laYV6xmC2XjuZjdT/rMd6N6/U74x5KlVVpaU3jmK3m+2VV0qGMYsWhEZmg9B6jcAQMBEREREREdE5ssuGdh/+CsfoXiUE3hhwO2+5C7zVxoCbOHnyJDZt2oT//Oc/eP7553Hbbbcx6EZERKX74IMPnCdCTwJvrgE384Q5Z84c7N6925jjfLUa+6TxVKNg9LzBMaWQNrEY+9hUTH1wOLqqt0fzpXvIRvAfoD91MQhWaZyW9zO+QQqOSqPHRs3KCBLtQ74EuuqdxqE3Z2P2s0VfL2D1Dsec5xNHGgK/fuVum2fjtU/0x9qNs2LR00+lz8GjqBfUH2Mn9jQ+ISIiIiIiIqLqdlHyr+hQUuCNATcnaUEldXAyFllVvWT5ri21qoNr4K22BtxKUu6gmzSbmz59uk4cieItWLCAXYcREZ2nXE+EpQXe3AXczpcTpieW/OdL5Et3h7dPRYQxzRRxdwRCfYCjX6dgvXr/2hf7cFrN2/WG4YVavkVMjkJoQzXfPpnvENZ+LZG8IPR81HWJrWAtNE7gl0jZJ2O3hSLqwaGFW9L1fQhTJ8jocOef1zKydRr2HPYQCnUo2WY4pj4aVzCt7xMYKd1sHkrFC3ck4Mv8eggaMBZj2xifExEREREREVG1cxt4u8W3VgbcpI7sgQcewDXXXGNMKdlrr72GefPmGe9K16pVK/zyyy/IzMysspcsX36nukl944oVK5Camnpe1R+WO+g2cuRIXHXVVfD19cVFF12E8PBwPU1ER0cjISEBa9as8fqVmJiI22+/XS+HiIhqjrICbxd6wE17Zx7e+iofaNMfs99fjnnTp2Lqo09g3vL3MfsadfFy9Esk/HOtY943X8P6706jUY+xePmV2Wq+qXhifjym3hCEenlqvhcd83254j18macusgY8gfiFTziW98bLGFpk2LL1SxP0fP59xmLRS47lTX3mZayePhT9r7kR/bsYM55Plqo0zD6NeqFDMf+NeXhCtnn6PMS/NFZt8yDERstMEZh6fxRa4ShS33wCqViNeYm7cbpeKIY+epczGJnzi7Saa4We/1DLmDDcMZGIiIiIiIiIqlSxwFtU8xoXcOvZsydWrVrlHEv+008/xerVq3HfffcZcwAhISGIiYnRsZHKZLFYcOzYMeNd1ZDly++cCx9++CEee+yx86r+sNxBtxYtWqBu3brGO8d4Pc2bN9d/+/j46J0kreHK8zLHDyIiulAdPHhQj+tW2stmsxlzV5+SAm8333xzLQ+4ncbpfONlTCmfQ1j9yH2Y/U4qsv8wxnAbEIWerYDsL1Zj9sOTsPqgMSu+xLx7nsDqL7KBNhFqvv6I6uYPfLceL/zdZb6DqzFp7mp8eQhodVmUXl5Hn2+werP6niuZb/wLWP91PuqFOpbXv7f6YWN58dXWu2dlpaUnUjFvtJGGzXsiSra5X1c0OpqK1XMfwexkaTk4FlFt1FrtXosXjO4mD62QYB1Qr8twPDbKEXaLf3st9uXVQ6vesgx2PUlERERERERUXQoH3hxqYgu3L7/8Ev3798eTTz6pW4gNHToUjz76qP4sOTlZv58xY4Z+TxeuOpGRkWeNv70ilau33nqrM/AmlawbNmzA008/raO5Y8eOLVd01G636yjxypUrjSmVq1GjRrjuuutwySWXGFOKk+aUsi1NmzbFsGHDkJubi3fffRenTp3SLfq6devmnCdfD6JDROTeqFGj8Je//EW3Cl67dq3HTcc9IU3RpZWZlFHPPvusPvFXl6Kt2s6cOaMfuKjsgJv0Ky0XMUREREREREREdH47E90Y3w5pjFM1LOAmLd0kuPb9999j0qRJxlRg1qxZ6Nq1KxYtWqTrxSZMmID//ve/uv6vT58+uP/++xEYGKjnlQfs5UH2zz77TNfpHT16VC9L5ps4caKOM8gQXrt3F35qurrqxi6UOrjq2M5yt3R76623dAaRIJlUtqanp+tpQqK6sbGxGDx4sNcvCXJVVcBN+Pn5ISoqSgcGS3rJ5zKfdJfZvXt3HaS78cYb9fc7d+5caB4iogtR0RZvVRFwIyIiIiIiIiKiC4ejxdtPtWIMN7F9+3ZdJ9apUydjSgF5EF969XvmmWf0q0GDBrjjjjv0NJM8TC8PtYulS5cWC7hR7VTuoNvJkyd1M0pp7TBgwAAdja1tlaynT5/W3bMVfcm2/fHHH/j55591JbIEFiXyTEREREREREREREREVeOiZHutCLiJEydO4KKLLtK96xUlQbaffvoJW7Zs0Y2UEhMTsXPnTgQEFHSi+eCDD+phvOLj4/HFF18YU6m2K3fQ7Xwg3UOOHz++2Ev6XT106BBeeeUVzJkzR3eZuWnTJuNbRERUtHtJeVDBdYw3eVKHiIiIiIiIiIjoQiTDwISGhuqAmsQYpPvIl156SXdRKaTbSRnGaseOHfjwww/1NDo/VCjoJl0v/vWvf8Xf//539OvXz5h6/rj44ov1mHUyNp1ErMvSuHFjDBkyRLf6GzNmjG4BWL9+fePTwnr06IHRo0frfltlvKeQkBDjEyKimq1owE26lJSLBrOrSQbeiIiIiIiIiIjofCfxAxl6SwJqRck4bzIO3Oeff46WLVvqxj4yBpyrjRs36vHiJKZQmuNdGsDe6IJuP1Wr+AQGBj5h/O0VGeBPKlUlU3To0EG/l8y1d+9eNG/eHJGRkTqSK8Ekb17t2rXTGTUvL8/4pcp1ySWX6HWTQFpWVhZ27dplfFLcNddcg7vuuksPhijz/frrr/pv2S7pgjI1NVVPE0OHDsXYsWNx2WWX6SahEqmWv6+88kocPnxYv4QE5iZPnoyYmBhdIS1pJdt91VVXoXXr1joCLpXYRHR+kAC7lAXSv/O+ffv0ibaySLkjgS/pFnfz5s26hW5VcxdwkzHcpDz85ZdfdBkpfVM3a9ZMj4EpZWdFynMpI3Nzc413RERERERERERE1ctqtepGR1L3tW7dOmMqMHLkSN1d5Nq1a3WjHYk77N+/Xz+YLp9JDOHNN9/Ee++9h7CwMHTs2FHHJCIiInS8YNmyZbj88st1HVp6errbOjSpG9sUexa/tagLn1Nn0eDnP4xPKteFUgdXHdtZ7qDbbbfdplu6merVq6dbdUmmkwCStIC77rrrdGb05tW3b1/dF+pXX31lLLlyeRN0k2BYly5dcOrUKWeAzV3QbeDAgToa7evrix9++EEHzrKzs+Hn54emTZvqoOQ333yjD5oRI0boSnjpii0tLU03H5Ugo1RQS9Dt999/1/MS0fnhfAq6lRRwM8fzlO2r7MAbg25ERERERERERHQuFQ26XX311brlmsRHPvvsMx1Yk1iCGXST+n2JA0gdmcQLpH5LesWT+rT169frZUl84Z133tG9RkVFRcHf3x8pKSnGLxaQ79ZZm41T/nWRe0VDHLq6kfrfgp/6qFekekW4/C3/9y087Yj5vsh8h/tdjONd6uPXkHo42qMhOh1qzKBbJSl3m0SpQC5KMkhtIq3NXn311UKvl19+WR8AnpKdJC3iJOiYkZGBJ598Uh9kr7/+Ol544QUcPXpUR7vlQBRSWS3pJJXU//znP3WUe968eXj77bd1364ff/yxno+IqCYpK+Bm+uSTT/RTOuxqkoiIiIiIiIiIzifS658EzaZPn67ruqRu/9lnnzU+LbB7926sWLFC//3MM89g/vz5usGOjO8mdWquPvjgA2zfvl33mHfLLbcYUwure+IM2vznV3T413G0S8xD0JpfEPSResn/rn+r/wPX/oq26qWnyfukfLQ1Pm+z/lc032ZTnzs+a7XJhoAdv6HFZyeMX6LKUCcyMrJcfRlKd5IydpkEnYS0TpOKVhn0T6bJIIDuAnNlkRZg0gKtaEVuZWnTpg0mTJigW2C4Iy3NJML8n//8Rwffbr31Vt1CY+HChTh48CBiY2N1sO7nn3/W09q3b4+4uDjdWi0xMRE5OTnGkhwk2CZNRCXC/dRTT+H//u//dJBO5s/MzNS/IwehvCei88+oUaP0uI1yYpWm5hJkryyvvfaaPsHL0xlygpdWtlXB04Cbq/J8xx1pei9lJRERERERERER0YWmuurGLpQ6uOrYznIH3YQ0n4yOjkaDBg1000fp3qymcw26JSUlISEhwfikOE+CbtIdplQul9XK76effsLzzz+vg5My9lunTp10P69CAo3ff/+9jmrv3LlTTyOi84Nr0O3IkSNuB1Ytr1atWumucqs66HbTTTfhzjvv1F3mehM8MwNv8j0Z7/PFF1/UDxl4g0E3IiIiIiIiIiK6UDHoVvuUe0w3IYP9bd26VQfbZAyz2qCyx3ST/lxlAEQJpklayDK/++67Yi+paJaA2unTp/WYThJkk0p4CVjKS8Z+k+apslyZn4jOD9Ifc+/evfWYlxdffLE+1ivrJWWIkPJk5cqVuqVuVZBAm5RN8nCBdJvraWs1GePN9Xvy3lvV0c8yERERERERERFRTST1idJ457fffjOmVD6pZ5TfkMZHVHEVaulWG1V2Szeze0nxr3/9C5s2bdJ/mxo3bqwDbRK4M7Vo0UIv05wmwT1pDSKVy1IpLf28EtH546677sLQoUPRqFEjY0rlkG4bpVxaunSpHrT1fMSnbIiIiIiIiIiI6EIlD/KbvV1VFZvNhkOHDhWKYVD5lTvo1rBhQ0yePFkP8Cdjt2VkZOggVFWNxVZZKjvoJp9JOgQGBuouJGVcO2ntJsxgmkSj5bdkQESpfJdAnbR6e+mll/RYbhJFfuSRR9C5c2fn2G9ERMSgGxEREREREREREdUe5Q66STBJAlJ169bV76XFxYYNG/D000/rcd5k3LLyRF/tdjtWr16tu0qrCpUddJNpvXr10uMdSSsW6d5Nut0ULVu21OkjYzi9/vrrSEtLw7hx43Q3kuKXX37BsWPHdGs4acIpPv74YyQmJuq/iYgudAy6ERERERERERERUW1xkfG/16SLRDPgJmTMHukeUUjLNwm4SWu48rzq1aunl1NbSDDtjTfewNGjR/W2S2BPXvJ3Tk6O7vpN5hGvvPIKtm3bhj/++AN+fn5o166dDgBKsG7jxo14//339XxERERERERERERERERUe1xwLd2qmgTROnXqpAc2lG4mpSWcO9K6LTQ0VHdLKV1yfvfdd/j111+NT4mISLClGxEREREREREREdUWF9yYbkREVHtI0I2IiIiIiIiIiIioNih30I2IiKiqSdDtq6++Mt4RERERERERERER1VwMuhERUY0lQbedO3fqcUOJiIiIiIiIiIiIajIG3YiIqMaSoFt6ejqDbkRERERERERERFTjMehGREQ1lgTdZMxQBt2IiIiIiIiIiIiopmPQjYiIaiwJuv3vf/9j0I2IiIiIiIiIiIhqPAbdiIioxpKg265duxh0IyIiIiIiIiIiohqPQTciIqqxJOi2e/du4506aTH4RkRERERERERERDXURcb/RERENRoDbkRERERERERERFSTMehGREREREREREREREREVEEMuhERUY3HVm5ERERERERERERU0zHoRkRENRoDbkRERERERERERFQbMOhGREREREREREREREREVEF1IiMjzxp/ExER1ShhYWHIzMw03lFtM2DAANx6662oW7cufv75ZyxcuBAHDx40Pq0cXbt2xdixY2GxWGCz2bBkyRLs2rXL+JSIiIiIiIiIiKj6MOhGREQ1FoNu3rNarRg4cCC6deuGSy65BD4+Pnq63W7HsWPH8OWXX2Lt2rX49ddf9fSqdL4F3WJjYxETE2O8805SUhISEhKMd0REREREREREdD5i95JERETngfr16+OOO+7A9OnTcfXVV6Np06bOgJvw9fVFixYtdNDo6aef1gExIiIiIiIiIiIiqjwMuhEREdVyjRs3xoQJE3SwrV69enraH3/8gUOHDmH//v36Ja3czpw5oz+7+OKLdQu04cOH6/fkvVOnTuHAgQPO9C3rlZuba3yzZpHg68svv4xXX30V//jHP9CmTRvjEyIiIiIiIiIi8ha7lyQiohqL3Ut6Zty4cejZsyfq1KmjA2sZGRn417/+hZ9++smYw6Ft27a4++679f9CumNcsWIFduzYod9XtvO5e8mq2p7qVh37iIiIiIiIiIjoQsGWbkRERLWYtG6TwJMZcEtJScGLL75YLOAmvv/+eyxfvtz5mQSqJOhy0UW8HCAiIiIiIiIiIqoo1rIRERHVYn379tXjuYmcnBwkJiY6u5F0R7pE/Pzzz3X3kyIwMBCXXXaZ/puIiIiIiIiIiIjKj91LEhFRjcXuJUvXqVMnPPDAA3pMNwmivf/++/joo4+MT0vWvn17PPjgg2jSpIkO0Ml33nvvPePTwqQV3Q033KC/06BBA92iTn5LuiJMS0vDBx98oMc3c8fTrgulpZ3Me+WVV6JFixbOcensdrv+3qZNm/Cf//zHbTDRXfeSv/32G2655RYEBwc719kcg23NmjXl7n6yKrqXlPUfPHiw7vLTXNfTp0/rAOqnn36qA6SlKU/auW5HSYp21Tl+/Hj06NFD//3VV19h0aJF+m93ZsyYgaCgIP13UlISEhIS9N/C/Oz333/HO++8gyNHjuCmm27S2+/j44Nvv/0WTz/9tDF3gYqmU/PmzfX3u3fvrsc0lHSTNDl58iT27t2LtWvXIisry5ibiIiIiIiIiKh82NKNiIiolurYsaMONolff/0Vu3fv1n+XRYJPubm5OrAiAapLLrnE+KSAtJ67//77MWHCBHTp0gUNGzbUgQ4hwREJ8EgwTgIkvXv31tPLQ4Ips2fP1oEgaXVnBo2Er68vWrVqheHDh2PatGmwWq3GJyW74oor8Mgjj6Bz586F1lm2R4KUMv7d0KFD9bRzSYI+o0eP1ukr6+W6rpIGEjA0P5egqjuVnXbVTQK59913H9q1a6fzlJAAravKSKfo6Gg8/vjj6Nevn55HlinkfwnAyXiIf/vb3zBixAjnZ0RERERERERE5eETGBj4hPE3ERFRjSKtUyQ4dC5Jpf5DDz2Eli1behTUkiDHn//8Zx3YysvLM6ZWDWndJIELIeO0Sauzs2fLbsAu82zevFm37pHXzp07jU8cJPAgrcd69eql/5b5f/nlF93q8JtvvtFBD7O1kARBpEWitFiSVkeuQkJCdMBO5pMWRampqTo4aJLA2L333gt/f3/9Xloufffdd0hPT0d2drYOwDRq1Eh/X1rlSSsnadHkuo0S/Lv88st1kEnml3nkb/k9WZ9jx47pwKIEJ2W9ZR5JM/lcfssbEuQKDQ3Vf7vbHk/J9kgLxT59+ui/pcWV5HPZDz/++KNOU2nNJZ/J9knwbPv27YW2uyJpd+jQIWRkZGDLli06fSQ9ZD75+4033tCt42TbpNWZ2Q1pRESEXg8h3//iiy/03+5ce+218PPz039L6zHXloWun7Vu3VrvKyFpIK3z8vPzsXHjRj2tMtJJ8rAE0yQtxIkTJ7B//369/ZIvJAgnaSXLkHSQZZa3JSQREREREREREYNuXpBKvTvvvBMjR47UT8lLd0glvW688UZdUbVv3z7j20RE5K1zHXSTSvwxY8bo7vCkNY5UyJcWeJOA2/XXX68DIRJw2rNnjw4iVJWrr77aGQiRoFtKSor+u6JuvvlmREVF6UCEnMv++9//YsGCBToQIwEPCYpIgOfSSy/VaSItjiSNJJAhredMZQXd7rjjDh0MErL+L774og4cSuBIfmfDhg26G0IJdElLKAmQHD9+XAeVTK5BNwmqScBFgknz5s3D+vXrdQApOTlZf0daBsr6yrKaNWumAzQSrPJUZQXd/vSnP+n0lfWQ9Fq1ahVeeeUVfPnll9ixY4fuDtLcbgkIyXEgASIJgpkqknay7vIdeUkLOXMfybrIb0ugTI47M+AmKjvoJvtKflOW9eabb+Lll1/W3ZyaATdRGek0atQo53pLsE3y8bp163Q6SRBStkO+L4FJWSc5dr/++usqD5gTERERERER0fmJfeh4aMiQIZg+fbquTJVKuw4dOpT6kopIeTpbvkdU1WQ8H6nIJKLKJQGB//3vf7piXyr15RwggTV3zICbzCfzy/fk+9WlsoJ7ErgwWxZJAEsCU/Hx8YXGBBMSSPnXv/7l/F0JfkkQ0FNt2rRxBkMkvSRA5m5MLRkTzGxBJ8E9CeSVRNZXAk7Lly8vNs6cTP/www+d06XlYmRkpP67Okn69u3b15lPZPskqFmUtECU4JJsk8wrY5GZqiLtzgUZD+/ZZ5/Veayoykqnpk2b6r9lGVu3btWBRlfyXsaWM4On0iKupqUTEREREREREdUeDLp5SCogpSstb8j80vUTA29UlSR/jR8/HhMnTmReI6oCq1evxqeffqor7aVS313grWjATeaX79VG0mrM7LJQupSUFlMlSUtLc7b8kyCdtAST/z0hARcZR+vuu+/W43pJqyV3JNgn3R6a3I0/Z5JWTtLar2iA0CRdav7www/6b9lX0nqxvKSl3JNPPolXX3211NeMGTOMbzhIV5xm+h49elS3liuJBJNcg4TSKk1URdqdCxKYLqmlYGWkk6e+//57HbiUFpES2JOuYYmIiIiIiIiIyoNBNw9Jd1RCumSSp7L79+9f4kueujbV1sCbbO9f/vIX/POf/9TdVUkFslRIyf/y/oUXXtDdPpmkpdWaNWv0PNKlV00SFxenu6SSdSvptXLlSv1UfW0j6ywt3GSsopLyWr9+/TBz5ky8/fbb+Pjjjwttt7yX6XPmzCm0P4mosNICb+dTwE1Ia23ZFiGtgGQMt9JI4E2CXUKCJGb3i+eCtHaSfVASCUK5juMmY4pVN2kJL63OhIxLVrTllStppWZ21yljl5ldNl4IKiOdZLp0qSkkT8v50rUlnElaa0orSGnRKedEd60GiYiIiIiIiIg8waBbNahtgTcZj27p0qW455570KlTJ73+Ms6JkP/lvbRm+Otf/4rXX38dV111lf6sJpIWinfddRcCAgKMKe7Jk/HPP/98mfPVNFIJOW3aNGfXWkXzmgTlZGwm2Ufyd/369fV0k7yX6dKyRfanBApkv5tBZiIq4C7wNnXq1PMq4CbM1kVCgh1lkbG/zKCblCnSzaS3ZLyx2NhYPPXUU3jppZf0uF2urcV69OhhzFlxsr5mYE7KOrObRm9JyyppESXjhJX2MlvWmVzPM7JdrttZ9CUPTJj7QwJQ7oKE1Zl21aky0kmCrNKlpNkKTvb1gw8+iPnz5+v/pTtUST8iIiIiIiIiosrCoFs1qS2Bt9GjR+uuCqXCSgJsEsiRp8S//fZb50vey3T5XLpw+vvf/47w8HBjCTWLjL/nKamMW7hwIe68806PXoMGDaoRlXXS+vIf//gHvvrqq2KBNwnKPf74486ut6QC3XVfSpdaZmW57E+ptJQWjkuWLKnRwVSic6Vo4E3GfqopAbeiQfXycu0eUsqXspw+fRp//PGH/lu+623QXsqqp59+GjExMfrcI9thPuhR1WR9fXx8jHfekdZREvCRYFdpL5nHldl6qzKcy7SrapWVTtJl5FtvveVs8Sb7vEmTJujZs6c+ly9YsEB3ASqtwj3tGpWIiIiIiIiIqCQ+gYGBTxh/UykGDhwIq9WqK1ZlXBEJWJTkyiuvdBvskQqkbt266Yq6vXv3GlNrDhkbRrpJk0o7Cd7INkoQSrqLlG6XzFdCQoLuskkq+KTiytfXV4+LI/9LZd+hQ4ewbt06Y6nnVq9evdx2JVWSRo0a6fk9ecl+lopOGUvHDFydK9Kt1tdff61bJkrLNde8tmvXLr2O0m3WJ598olt5yLzSJZy0aJTWitISQ74nQTepdJRxf6644gqdD+T7ROeK5EvJszWJjGEmgSUp9+R4OZcBNxn3Kjg4WP8t5dCmTZv0cVsR0gWf2T2fdLNXVhkg5UVkZKTu5lZaFkn6mOdICUp26dJFp5ME8OT86TqGl5xbb7rpJp2est4///yzbpkk55rPPvsMW7Zs0S/5DbMFnZxjvvjiC/23kOnSWlfOQXa7Hdu3by+1K8Ky1qk00srb7D7T2++aXNN3z549SE9P111elvWSNJV9YY7RVhlpJzxNj4iICGerQHfLcVVaHvI0f1VWOgl5wESOUUkjWabkVQmWC7lukWnSmk7O7XJ9JudOIiIiIiIiIqLy4CO91aymtniTJ7yl5ZYEa6TSNCUlBRMmTMDmzZuNOQqTIM5DDz2k55P5pbJTKuzOF1Ixt3PnTudLKuzcadq0qe6eqia45ppr0L59e+Nd8bwmwYsnnngC06dPx6OPPqqf7H/nnXfw2GOPISMjQ3e1JV10SQBOKnAlACmtAKT1IxEVZrZ4kyDFuWzhJgFJs5WZtLw1A3CemDJlChYtWqRf8tCFScp0kyetwOS8Yc4nZYe5PmWRMum6665znnckQCQtp+UBASl3JXBiviSYdj46cuSI3l5PXq5jjV1oaVfedHIl6STXNNIy8IEHHtDnQhnXVJYtn0nwTY4f6WKZXU4SERERERERUXkx6HYOSDBEAiQ1iYz7Ja3WpMJUuimU7gqlMrk08rlrt4bnk+XLl2PixInOlwQgS0oPSbdzTQJrt956q27xIJWHZhegRbualKCbOf6baNCgga64lelS2SitIyZNmoRt27bp5Uirx2HDhtW4IDFRTSCBNglen8suJaVVj7R0FRIo79y5s/67LBKgl9ZP0uJHygF50MB09OhR4y+gTZs2xl8lk3lkOUJa2xUdw6wk0hpXHlwQUmYlJSXpcqeqSStts5XTiRMncPDgQf13dXFtuSnrUh7nKu2qU2WkU2lkv7/77rs6WPnvf/9bd5MqpNtsablJRERERERERFQeDLpVAena6dlnny32WrFiRZmBrHOhb9++zhZSUvG6cuXKEtdTxntbs2aN8yWVzdIt1flEWn1J6zXXlnt5eXl44403jHc1iwTLJOAmATYzaCr7yd0Yb7JfJ0+ejOuvv14HC8zWANItpYzlJiQ49+STTxb6vizfmxY0RBcK12DVuSBdxUpLHSGBJOlmUYJvZZHgnDmfjPdodgcp5G/pMlNId4JlHfvS5aK0uBJSVsrYkZ6Qbg/NFnIS/PL0e6WR1kpmQM0dKdddt6cyftNbEuwxA2QtW7bUXYR6qyrSriyuQb3KGj+wNJWRTnLuknFN5SV/l0SClocPH9Z/S/4xA5pERERERERERN5i0K0KSCWodL9Y9CVjoNREMoaJ2ZWSBJykJVRJpKJNWlO5vqSVhFR01kRmiy5PyfwLFixAcnKyHi/HlTwJXxP3oQTLzFYAMp7Niy++qCtg58yZ4zbwZjK72Tpw4ICuiJbx73r27Kk/k+CcLEeWJ2T5ZlCOiGoOCUrIsSyBMxEUFKTH+SqNlPfysIUZnJKWaf/73//030LGzpLgmZCWvDJ2ZUkkeGcGQ2Rd5LuejoclwSIzqCJBJBlbzJ1LL71Uj5/nCTknSUvykro7lq6UzXHJpGWTnK+rm5xjzfSVfTFgwIBSu2eOjo7GXXfdVSjQVRVpVxYJSpnn1GbNmukuLt3p06ePcwy5iqiMdJLApARZJQ169+5d4joTEREREREREVWWSg+6SYWGVHxI5Yi8pMLnQlIbtzcgIEBXTMm4LxKAKY1U7EpAprSXdC9WU3gbDJRWitnZ2TpIGhUVpQOKJmn58corrxjvagap3Lziiit0ReSvv/6Kf/3rX859KC3WZKwpc3+4C7zJvNKVpIzBJJ+7tgCRz6TrLalAl+XL78jvEVHNIkG33bt364CIHKvXXnutHqPNXWuktm3b6i5zzUC9HN/r1q1zBnCEtDDasWOHniZlqAQrRowYUSzgIYGeuLg450Mb0uJu06ZN+m9PSBDHHG9MAkdSNhUNikiQ7L777vOqG1/pelG+U3T7ZTuGDh3qnC7rm5aWpv+uTlK2ygMRZpqXtL6S3tK9r7TQuvLKK/V+M+epzLST87a5LtJNqNVq1X8XtX//fuf5RK4b5BqvKDOvuJ47y6sy0sk1CCzpc9tttxX7vpDAsrSmExKMPRctIImIiIiIiIjo/FAnMjKyUgbjuvHGG3WFhzxl71oxJ5WAUuEhY0VJ94oSCKiN5s2bp1sBSeXUwoULdVCmKOnSTyqh5LNFixYZUwvIZzI2mDyJL09wy9hZNYEn21Zb3XnnnbjjjjuMd6WTfCoVyGYFnVQoS6Xl66+/rt+blixZgo4dOxrvoLudLDpPdZGK9eHDh8PX11e32HjkkUf0fjSNGjVKt1CTz03SQmLZsmU6wCjMecTbb7+tj1OT5NX58+frYLJU8Ep3oq+++qrxKVHVk1ZUmZmZxjsqiQS+HnroId1VsPmwgQQP5JxrBmf8/Pz0yzxHy+eJiYk66FaUzPPAAw+gR48eenlyLv/ll19015MS4JeWQxK4M1vLSbkp5WDRIJac9+TaQOaTrjjlHOM6htq4ceP0+cdcZ3mwQwJKEmiRwI48DCCfyXtzvfft24dnnnlG/y2ke8uxY8fqgJGspxl8lLJQtl++K0EgaX1lLkOCR7K+X3zxhX7vqdjYWGfLP3fb4ynZX/fff7/u2tfcdimb5aGPnJwc3b1hhw4ddEBNPpeHPmQ/yYMQpspIOyFj8sm1ibReEzJGoAQk5WGM//73v/j888/1dFnG3/72N+f5T5Z77NgxnR+EBPdkfc3fMknXjQkJCcY76K6N5VpRFP2sqMpIp9tvv12PXWqul+v3JY1CQ0P1cszPd+3aheeff15vHxERERERERGRtwrXjJSDVMpPnz4df/3rX3UlXNHKFqkEkUqTG264QVfeX3XVVcYn5xcJuA0aNEhX4Mj/8p5ql+XLlzsDbkLGO5Ngk1kRaXrhhReMv849ackmlaxCKtulQtiVdIdpjs1kkjzq2uJt1apVultRqYCXikhXN998s7NrstzcXGzZskX/TUQ1iwQ+pGySlkESLBEyzpoEVOQYlpdrYEHml2PfXcBNSMBBgvPS4k2WJ+dyCdhJkEfGvJSgiRlwk8CLPHxQnlZj8r29e/fqQJmQVkiybFlfGXNOflcCZ67BMQmulTRunZThUk5JuSfXJ+aypEtJc9slOPXee+95HXCrTJL+//znPwu15JKyWYLM0luApLOkt2y/rO/HH39cKJAkKivtJGjouh4yjyxDWj7LOpnkc2lNbT48Jekp50eZV14SdJNpsrzK6oq5MtJJHiaRfC7nOOH6/YiICL0Nst6y/D179uh8b/4WEREREREREZG3fAIDA58w/vaaVGhNmzZNd+cj3RNKxY88HZ2SkqIrtKRrIKm48Pf315/Lk8iXXXaZrtgvz5Ph55KM7yVdLklFXmpqqn7a32QG3KSCU8i2ypPXst2ulV3ScioyMlK3OpIKqZIqO6ubdBkoARshY3hJd0znC2mlIWPWlUXy5Ny5c52Vl0IqHKWlh+Rb80l/IRWOZiWj2Llzp36dCzLejVQmS3BQ8pW0PHE9vqQSUsZukm1wJXlVuuqSCmp5ql+6p5N8u337dt2aRUi+GD16tP6u2Xpg7dq1+jOi6iJdwknAl8omQQU550hXkxJYkOCKlAsSkJCyTT6Xc4+0Zl66dKl+sKA0EmyTMkHOdxLYkOVJoE2WJ5/JfpHzvQRFvv/+e+Nbhcl5r0uXLjqoIS3P5PxptowSsk4SJJOWZxL8kOsKMwAiwbyNGzfi5Zdf1r8tgRIpp2QdZBw6swtAacF2+eWX622VMi0+Pl6XybI8CSCZ6yzlobT0ktbKpY1dWhppVScto4S77fGGub/cpa9s//Hjx3X3v/JAiOyHoioj7UxyHpD5JC3NltHS4k2CXa77Vs45krbyMJWss5m/XPODdMMs5x35XEg+k+WbpPvTkj5zp6LpJHlfjgm5tpHzmXzf9biQ9JNtlFafEoiW3yMiIiIiIiIiKq8KdS8pXdtJt1FSgS+VWVJhIU8IFyWVYQ8++KAeS0a46wavpiupC8aiATdXUnEjT12bXU3W1O4lpVuuW265RVfIbdiwAbNmzTI+8dzkyZN190/SjdlHH32kXzWBp91LPvzww7q1l6sFCxbogJ1U6knLMBnPxiSBLumaTCr+pLXBuepeUkh+evbZZ3VAW0jFpOxDCXoL1+O0qKJdTZqkklzGxTGDsf/73//w6KOP1qpjls4PEixg95JERERERERERERUG5S7e0kJoEkXU1KRL8El6c7HXcBNyJPHL730krNLIqnIl27rajsZ0N8MuEmwSZ6WFvK/vJfp8rnMV5PJU+vmk/rS+kmCi96Qcc+kBZ+07pOn5M39XFts2rSpWMDNfEpf0kY+k7GSJAhnvmRcGzOoda5JIExadpjpLvvhqaeecnblKmOwybg8ZpdzrqQ1jGtXk0JauE2ZMsUZcJPlyvIZcCMiIiIiIiIiIiIiKlm5g27SpaR0+yWkO7uVK1fqv0siXQN98sknzmBU7969jU9qr61bt+quumSbpOWbObaW/C/vZbp0t1nebqyqi3RPJd1KCumi6vbbb9etpzwh8w0dOlQHqKSbJhkPxbVLzdqg6DhE0nptxIgRunWmtPYq6SWtFl27ozyXJM2lRaUZeJNxnCRwJtsg+2jOnDk6KC6t9czgm/wv61808CZBRsnX8pksT5Zb2/YpEREREREREREREVF1K3fQTcaOkuCZVNxLUMmTVjDSakjGAxHSIsrsbrK2ku2RsWyke8H58+cbUx3kvUxfvHhxrQhYyBh8Mi6KjHEi46BJS66yAm/yucwn88v3jh49ig8++MD4tPaQIKOMg2OSIKIEiMvK07GxsXq7a4rPPvsMzzzzjA6smcG0YcOG6VZqf//733XLPOlqUsYn7N+/v95OOXaLBt5ku5944gm88847enmyXCIiIiIiIiIiIiIiKl25g24ScDMHsTe7VSyLVPDLGFKifv36CAgI0H/XZhJQK6mVn0yvLS2ENm/erMefk65CJQAVFRWlx66TriPdkfHpXnjhBT2fzC9j+q1du7ZWtoiSALB0AyoaN26sW3FK0K00EnS+7bbbjHc1hwSCZew1GZtP9qWQVojXX3+9DqDJdq1Zs0a/Vq9e7QyYiqKBtyVLlujlERERERERERERERFR2coddHM3PlRZpGWUa4siqllk7K+EhAQdQJNATEhIiG7xZI7XZ77kvXRdKGOHyXwSoHn77bexfPlyY0k1h3Tx6Yk77rgD3bt3x9ixY3VwWP4u7fXXv/4Vvr6++rue/kZ1kS4hn376aTz++OO660zXoLissxyH5qvo8ehujDciIiIiIiIiIiIiIiqbT2Bg4BPG316RMdk6deoEHx8f5OTk4PPPPzc+KdkVV1yB6667Dg0aNNDjni1dutT4pOaTLvmsVit+//13pKam4ttvvzU+KRATE6ODFj///DM++ugjY2oBCWJFRkbqwIeMmbVu3Trjk5rjq6++0t1EtmvXDo0aNdJBNdlfTZs2db7kvUyXbgkPHjyoW8RJy6maSFquRUdHG+9KZrFY9P4LDQ1Fz5499d+lvSQvmBITE/H9998b72qOH3/8UY8tKC/Jb5J3JVhu7jubzaan7969W+8/2a/S6k9asXbr1g35+fnYu3evsTSic0PGDs3NzTXeEREREREREREREdVc5Q66SfClV69euoJeKuuldZA5XltJbr31Vl2ZL2T+lJQU/Xdt4EnQTQJt0qWku4CbqA1BN7Fv3z7dDaEEZSRoJftX1tk1WPPNN9/grbfewj/+8Y8aGXAySVBQujGV/CqBtcokgYD//ve/euwzSZeaSvbXnj17dJeTMubeqlWrdD6V/+W9TJfA244dO3TQsVWrVgy8UY3BoBsRERERERERERHVFnUiIyPLFS2Qrunmz5+PSy+9VI/rJhX3zz33nO5q0B3prk66rZOWYL/++qseDyw5Odn4tOZ76qmn9FhflUVaBkr3f0Q1iQQ4pOtQc6w3GYNRuhT98MMPjTmIqldYWBgyMzONd0REREREREREREQ1V7lbukmLLxkPSlrD1K9fX3dH2KVLF/zwww96TClXI0eOxP/93//p7grF9u3b8dprr+m/awtZd9lWaQFUURLIkCAGWxBRTSOt4qQVqmuLt44dO+qWndKNLFF1Y0s3IiIiIiIiIiIiqi3K3dLNdPfdd+tuI81g1OnTp/V4bXa7Xb9v1qwZLrnkEt1qxiSt4RISEvDGG28YU2qHyy+/HAMGDEBwcLAey85bMp7WgQMH9BhbEngkqqmkJeuTTz6px2185ZVX2NKNzhm2dCMiIiIiIiIiIqLaosJBNzFixAjcfvvtzpZs7kgw7siRI2jdurVuIVdbA29EFwoJvMkxXbTlKlF1YtCNiIiIiIiIiIiIaotydy/pateuXdiyZYtu7ebv76+7m5TA2tmzZ5Gfn4+MjAy8+OKLWL58OUJCQnTgTeaV8eDq1q2LnTt3GksioppCupCV7iaJziV2L0lERERERERERES1RaW0dPOGtJ6ZNm0a+vTpwxZvRERUKrZ0IyIiIiIiIiIiotqiUlq6eUNaz0irOLZ4IyKisrClGxEREREREREREdUW1R50Ewy8ERGRJxh0IyIiIiIiIiIiotrinATdBANvRERUFgbdiIiIiIiIiIiIqLY4Z0E34S7wFhQUhCNHjuDAgQPGXEREdKFi0I2IiIiIiIiIiIhqi4uM/8+ZkydPYtasWfjiiy9w4sQJfPjhh9i4caPxKREREREREREREREREVHNVycyMvKs8fc51bBhQ1itVnz77bfGFCIiutCFhYUhMzPTeEdERERERERERERUc53zlm4mafHGgBsRERERERERERERERHVRjUm6EZERERERERERERERERUWzHoRkRERERERERERERERFRBNWZMt+oi4wMREVHlqqpx1zimGxEREREREREREdUWF1zQjYiIag8G3YiIiIiIiIiIiKi2YPeSRERERERERERERERERBXEoBsRERERERERERERERFRBTHoRkRERERERERERERERFRBDLoRERERERERERERERERVRCDbkREREREREREREREREQVxKAbERERERERERERERERUQUx6EZERERERERERERERERUQQy6EREREREREREREREREVUQg25EREREREREREREREREFVQnMjLyrPE3VbKbbroJI0eOhL+/P+rUqWNMLezs2bP48ssvMX36dJw8edKYSkREIiwsDJmZmcY7IiIiIiIiIiIiopqLLd2qSJcuXRAbG4tmzZqVGHAT8lnPnj3x5JNPomHDhsZUIiIiIiIiIiIiIiIiqk3Y0q2KDBgwABMmTPA4kCYt3o4cOYITJ04YU0p2/PhxpKen45133mHrOCI6r7GlGxEREREREREREdUWDLpVEW+Dbt5it5REdCFg0I2IiIiIiIiIiIhqC3YvWUtJt5QdO3ZEnz59jClERERERERERERERER0rrClWxVxbekmLdImTZpkfEJERJ5iSzciIiIiIiIiIiKqLdjSjYiIiIiIiIiIiIiIiKiC2NKtipTU0m3y5Mno1KmT/ruyHD9+HK+88gq+/vprYwoR0fmBLd2IiIiIiIiIiIiotmBLt2rUpUsX9OzZEx06dKjUV/369RlwIyIiIiIiIiIiIiIiOocYdKtG3bp1Q5MmTYx3lePMmTP45ptvjHdERERERERERERERER0LjDoVo06duyoW6VVJpvNhl27dhnviIiIiIiIiIiIiIiI6Fxg0K2atG3bVgfdKltubi62bNlivCMiIiIiIiIiIiIiIqJzgUG3aiLjufn7+xvvKs93332HkydPGu+IiIiIiIiIiIiIiIjoXGDQrZqEhYWhQYMGxrvKIcG2//3vf8Y7IiIiIiIiIiIiIiIiOlcYdKsmnTt3xkUXVW5y5+XlITMz03hHRERERERERERERERE5wqDbtVAWrg1b97ceFd59u/fj6+//tp4596VV16JRYsWYcqUKc6g36RJk/Diiy+iX79++j0REV1oYjHj1VfxqrwWTkCEMbWmi3hokWOd1WvGCGOiF2JnGNv86iJM6GtMrCp9J2CR/NaMWGNCwfqXZ92JqAYzjvcljw2DxZh0TriUO+d0PaqIowyvhvLbCzWlXOf55Xzih+jRs7BgiXHNsmwGhhmf1FY18dil0lgR+/gStc+WYOogYxLVaJbOwzBpTsF90oL7exmfVD9vjveIcQv0+s65J8yYcn670La3VnNzL1/9jDqbc11fUyPSonZi0K0ayFhujRo1Mt5VDrvdjm+++cZ4V7o6deqgbt26sFgct9/y3sfHB/Xq1dPviYio/CydozHq0TlYZFaOyOulRZjzaBwimhozXWD8IuIwVd34LVlWkCZLFszChOER8DPmIXKvhtxcnGNmBfqcO63GlHNv8GNSAbcIE6rtmS3z4YBFmHSdMamYGEx6Sc2zZCoGG1O81mUM5sjvPBlX7kBVWLfW+rt5P2yFzTHpnDDXI3d/yjldj4piAKkaDZmKJSqtlzzm7ggajKlybeP2+LIg7knH8Vl9ZcKFwTpyMuL6WeHnY0PO/mxk78rEHuOzmo7Hbu3jPkCSB5td/rch75ieQNXK22vhaDwwbjDCAiywH8tBtio39uxJMz6rOpVxvJ88JRnNDlvecceE89yFtr0OFvT68wTMWiD3EVLeqNeyJVg0ZyriIi7EmgELwgaNK5YeC56cgGG9zsdH5i5sNSLo1qVLF4SEhFR694s1hbRyk6BXZTpx4kSZrdzE559/jgcffBBPP/008vPz9bS5c+fi/vvvR3Jysn5PRETlE3LDJMyaHIeojgGw+BoTRX0LAjpGY8w/FmBcvwvp4smCqDFzMGdMNELUjZ+vy2nd18+K8BvGYM6sUeD1JFFpwtC9jQ6dIGtbjmPSOReFkBaqkLPnIGuzMamqDQyCI+RoQeiVJbQg69sZwfXV/8d+xA7HFK9ZegQhQP2f+0NaOQNVFnSz6iWc4/1lrkcesnfVlHxDNV7ajyrHqHN0s2AUaxcxsDOC5NrGNwidBzomFYiCzm7VWSZcIKJCpOSzIXPleEx7aiZmPp8ADihB1cuGNc+Oxd13T8TiLcYkqrn6dkOwXCTlJGPmpGmYqcqNpRscH9V06a9MUflsLGauvjCuWy607QVCEPv4AowbFA5rYztyD2broHD2YRssASGIHjMHM0aEGPNeCEIQM3kWJv25V6H0yDlqh1+bcAweNwdTb76Q0uP8V6EoV2RkpA7mvPvuu1i5cqUx1XtxcXFYsmQJ3n//fdx7773G1Nrt4MGDOH7c8fRCVQQTs7OzsWULr4CIiM6ZDnEYfXOYs+WW/VgWUtcnI3l9KrKO6cdD1QnAD72G33vBtNixDHkYcREBcMQf7cj7JlWlRzJSdmYj75SeCF9rFEbfcyG3YSIqg6WbozL71E84sNsx6ZzrEobW0mnDkQOorke2enVsbZQlqtzo0BvD2hhvXFg7GS27vktFeasvottLYtvw4+7yVmtHI1TqyM/5/jLX40fs2+6YQlSmg+qaJVf97xeE8CLHWETnYOMY9EVw5yLn7ctD0VoC3tVYJlwYImD1l/9zkV1LKs2J6BwLaqKvhWxH9pX7WoioKoTcOQYx7dSVRF464v82HlOmz9RB4ZnTJmL84hTk2n0RNHAMRnUwvnCeC7l9NIZ19iuWHtOmjMfEt9KRp47kkBtGYLDbJw2pNqoTGRl51vjbKz169MD8+fP132+++SZWrVqFkydP6vfl0a5dOyxbtkwHqJ577jmsWbPG+KT2uummmzBy5EjdvaR06VgZzp49ix9++AEvvfQSvvjiC2MqEdH5KSwsDJmZNfP53uhHFiGui+OKyJ6dhLkzE5Cl34kQjHpmKqJayN92ZL03FrM/1B8o0qXAaMRd3w1WP6NK2Z6HnJ3JiH99DTKLNrVoGoG4+25BZEgALMYzHLbcLGz992LEp8rz6S5k3gdHICrIz9HKTC03e1M67FdHIUR+Sq3n3Wo9Hd2WxCBIvpOfjqUTFiJV/hbe/F4h4Rg3bwJ66S417chZPxfTVhakCDqMwpzHonSLEtizsGbibCQa22rpPBijb49GN6ux3mfsyMvJQPLK5VizpyBBpBuTMd0daZ697m7MXKX/LFjndgUtDu35uchOXYXnVxa0XpEudGL0RtuQ/vFWNLkqGiqptLyDaUhasRhJ3zrelywE0aNHIKZXCAKMC2J7fg4yk+Kx7ONM52/pvs/vCYfFmeYF619o3YUlDIPvjEN0dyvMLKHTfNXziE8zlyjdfA1DyKl0rFD7K8WYKhXtkxbFIcwnEwkPzEOSMVVaIUxYOArh9bOQOHY29FWV/M49cYjpYnWmU/HfcSdCLWsMwhtlI+numXBsjWHEDLw6MAi2nUsx/gUzF0kevxdxMWGwNnL+ELK2FN4fhZm/Ybw1Fcqfbo6dMpdrKtiG5LdyEXZLL1jV/sv+RO2LH4rvK5Mjz6j88sp4LJRnnVz26+xUK0b/KVwvR9hy0pA4fzGSK9oVk3T3Jk85fpuIsU87roejHl6EUd18i5QlikUdy4vUsXwsDQsnLUa6muTIZ0D6u4nI6z0YkS7lQdYnizH7PcdxaebHwvtOmOWX2u4vDyOsZ3tn8MuUmzoPU5aaZbMfIkaOwy0RBceELScda15b6HI8WVRaLlJpmYu01ekIGBiljj3fIstxZVXrMEuvQ26uLwICfJG3fSEm/lO20GQu047MVWMxb50xWagyIfb/hiBS5XVnVim0TmEYM2cSInSB5EKVTc7jRSlWNuky9S3Mdc1vRp7w/XYNlh8Ix4grg+AnwQgpx7KSsPjZRJdzg4NfRCxG/SkSYc4yz4acDPX9F5KKzVv2thjMvLlf5eOnzHwsT9SOQ6y6wbfvT8bC+fGOc4wqC6JHDCtcjuVlI0XKghLLeQ+Pv4ocI0Z5UpRZZjqPx+XLkXvdyIJznVqPzP+uwEvvupTBmtr++0cjxixbjXOLZ2W90iEG40bFuJybVH7M2opVL8TDLDIrVq4rbstQUVK5a0Gv2ydj5NUqn+ltcqzT1t8iMbibm/XwQMzkJSqPoEj5YpzTfXOQo45H62+pmDdlqbPFlfXOOZh1dUCxYzjkhnEYPbAgj9jzcpCxbjkWf1IsZxdn6YW4h0YUXH+UtL/UfMPuuQVRLseE2/zrTNsVWJ4b7ZJmjmNz2QuJxa+5XBnfz9mwEFv9YxHTTZ07yzheLb3i8PCISN3aX3NzjDjz8bvJuPj6wQiR+re0xZiYO6TU/K95m68yEpHcIBqDO+ofweKJixGqfz8PaavUFUM/l/xty0H6R8ux8JNcVaY/jBH9XNIrOwVvqfKjxEuFGnXsen4NYuk1DPfeHOVSFju2ddWL8Uh1llMux+LifQh12b863701F/F7gh3XVx7kkYocI56tr6GM8sv1mrpAwfVOsesfU9H7hBL2TYn7XK5F/rMMzxfZ59I1/cMjHNcGmr43SsLyf7o5L7pRVrpa+k3ArNHh8LOp6+Up6nrZ/HHz/sSeg+R/TEO8uQ0elP+msvepkYfUVVr8ylxEuWynMw/phXpyLezKk/k9vXYuyOfFrpNXG7OYKvF4L+kcWu78UGbZ5yZPu7ln8yb/ejOvu+319lgx82avNsZNrC671Z3hjbE6j7nPKy48PY9U+J7HuEe1qPPNCxOxeKcx2UX4/Qsw4XK/4vcDnq6jQfLLuFtczr2l5RdP089NvnAo7/mprPSwqOuxBYjt7KuuO6Zh2lsSQjfqbNyUAZ5ts8v5y6N7eLUW6jpm8siCY0+n+xcnEDnIXVpQWeRQLpf77rtP/79//36sWLGiQgE3IcvJyMjQf0uw6nzwwQcfIDY2Ftdffz369+9fKS9Z1qhRoxhwIyI6p6LQLci8UbUhc51rwE1kISkjG/ZTdvVSFy8tw43pFkQ9ZHQpYF5BCl8/WC8fhklPjkOUuVjRQV1oPTMG0dJ9pcsZ2213DJYoTHhczdvOuFAXarlB/Y2Amyc6DMPUJ0v6vVmYOqSU8aW6RCLIHMPu1D6kuAbcxLcJSD9o/O1rRZDRj5W+CZ48TF/4Otf7Il/4temFYY/MKrt7Ttc0ck3SRgEI6T8Os8a5a1VnQfiggoCbkN+LfXBC4fQvJkTdGMlYKyHwO5WN9M2OVnw2tT3hf56AycNLSZ8SRWDMjAkYdrm6cFcX/Zmpqcg8mAdfSfNxszDBuf3J2CfX3o1aI6yLY4pmdilTPxidXcfjMFsm5ewzWiGodZ+sfkfdIPhKkLDI74zzYLBzT4WMmIwJf1Y3Zr425OxOReruHOT5lLY/RDbSNklL0Uzd1RlO5SBNWo5uSlOfOETcM0MtV7rjcLPch6LUXvWEFVEj1DIayLGpXmeMyd6yRqv9rW4+8oxuQfJVrrL2QtwjcUaXiOUX0V7tI/V/3g9mh4lhCNN3ubk4sN4xxal/qP49++F9OuAm2+eY1xdhN8WhdyOVVtlq/aT1rSoPQoaMUTf7ekakHpbmLWpy/Sb6f5NlyAhEtlDL/DYJH361CylqP2Tqm2o7crbLPkpC0qfGjXHTaEyYtwBjrguC77EspKemI1v9lsUajtgJrmORGK2wzvih23B17DVQSzuVi+wMdwE3EYVgeWjh1AEkf7JPVzb4dRmoluJK3RC2VP/Zs7HHJeBm6TUKs54eo2+GoW4U03dm6u3X6/TXSYjRGcUXB3aqbdmeo7ZKOZapW+Umf/CJcbxYEHb7DCyQsslPpeEeR36z+UiZOgaTRxTsZXMcNd8OgzEmwqLu3VWeUMeWXcqxjmraGLP8Fxb0unMW5oyJQbhevXSkSz62W2DtHouHJ8cUyseebYuDczy37BTHBEsY4h6frG7e/ZC3Mx5TnjIDblEY9+QkXY5Z8hz7LOuITWWPIESPfhixbloUCq+Pv/IcI7u36v2QdtDRWjxvj+S3ZGwt1IJQ5e2R4xDdwq621UhrSwDCBj2AewuVY47yOlaVrb6SdrKdh6X7HlXW/21GidvpJOeWv8Xqc5P9sJG383x119HjZpV1rvC0XPdeuNoP4/oH6fG+dLdE2Wq5QdE64FZeSfvl5OILa0iUY4Iwzun2H1KQ8oPaH2rdI1zSrHegnEDt+Gm/S8BtxAy1z1Ue8clF1s5UpH+jjq/GVvQaPhkzyjo/yjXMLLVf1bncN89IM9f9ZT4Fb8w3WM5luZm6hwHJi/bGKv+OUWnj5lzm2yUO464LgP2I5EU53hzH5gP3Fy5RSmK9Tu1Llb55kt/U920qt8vxOvnRwYWPV7meGReNkMaqrCzz3Cdl9GA9rz4XSZbX+T8NObpngDxkSplUKP97n698Ow/Wlc6O61HHceXgh14jYtHN4jhHZOeowsGirmWGj8OMx2eoMl3tLyO9cn9T6dUuGmMeia0Vx66n1yCO/TVYlcW+yFVlvPRUofOcbOvj41zOX6YgxKj9a7Wrc5eUaaos1uXmmKmYMVXyiCprjTwirRUkj4wrst8rcox4tb4elF/ZaY59VPj8rvahedHlTpvBzvsEHFXXwUX3TbHWKm72uVyLqH3+gMtYrbJtM8aoawM5dr5JR+rOLHUcyL2ROs4eLyXfGTxJV9vmZUjMkHwehuiRBfdlg2+LdHQxvWW5S8DN8/Lfq33aKBxxajsDiuah+9Uxp6/Nyr4WLsyYf4/jYQP7wTS9Dyt27ezBdXKlHu/FVTQ/iJLLPm94ln8dvJnXHQ+/b4nBpAmOvAl1rpR8lJ3np8ru2OLBV7fKcX1S3nuey9W9qCwudw+S3QTcRHrSGiSpvJO+37Wywrt1tA6ZilkytIW/+qn9RfLLjFh1RnFR4fSrwPmpzPSwIelbR/2RxS/UmOaeV9vsje5jMENdG0nAzZbrSJ88H1VGScDNmIW8U+6gW5s2jtyUlVXqcwZeyclxNIaWMdCIiIhqLiuaOC/McpHjprffnJUzMfaBsfo17RWjdcZ1DyC2uxHpUTdcmRsSsGJVMrLMp8Saqgs2Z9eLVsTdFeMYT0Wx7U9F4usrkJimbub0FF8EXTfSeXEXPlLdiJtBJL3sRCR+kors4g+DlUBuPGMQYlxROX8vNdt4us6CkIFxRSq9XYQEOLvaxOFslxZXJhvip9+Nu++W13gs1GPAROOBEeHG99RNxu5kJLyegORvjCfVPeieM2JwlDONcrevwOxp0zDz9VTkGvdXft36Y7Djz8JOqTTanIQk1zTyC8fg28OMN25074/wlmpNs5Mxd9JMLFwejxUvzMTEeSkqF6j9cfkQlPJtt8LH3IKIAHVh++0azJ44DfOWLsW86RMxcbl0MaFuAkY8YKS5DSn7JUgSgKAeBZe94T2CjYtgC0KvKEgpSzeroxJhf4pj/11+AyIloY6kqHUv+J256yU/+aFbtNtUKodeuCEiSKVGLlLmTcS0+UuxdP40lUbJyFH7pMT9gRykvBuP+JXq4l7e2n/C9pXq/bspjq5y1E3ALX0D4GvLwppnXJY7aQXS1Rf8usd6fFNr2xOPifc6js3Z7xqTveVrQ+Zbaj9NM7oF+XuCI6BhDUdMGRWCpXMznpulF4L0zswu9nS1I0BnR/Ye44izGMEqtdczV03E+CmOsT2mTZqLlCMyPQAhEUYuPXZClyW+FueRq0Tg3utD4GvPRvKKNfh2c6LeJ3Y5xtS0rf+UfaSOUV0xFYFxj8c5noqeq9Ji+mwsXLoQM83fahSMyy+X+ZS+IbDKMv7IQ4ZKt7t12Til5LFiBhrjuamyJGXDOuyRMtISisibXW753I3n1kHdbI6JgvUilZ8Wj1f7R63TC/MKtt8Shsghsox0JKn8lajyjqxW7t6P1HapbfvY8dS3dfhkTOgvT0qrvDJBpaGR36a8m6nSTB3rnczghDmOmlQ6JWD2+CmOMZjkGP4wS6dvQEiks1yQyuAxV6sty0nB4gkqHz+7EAv18SFliFpa58iCLmU83hZRZDw3lQ+kwiK6nfqpTYsx7YVkx3GlRN8fi15N7chZPxvjZZlqn83++/OOZfoGwFr84fXyHX/lOUYykvR+2G4U4HnZkt/ikeR4LtOg9lhOMuZNKUjruZt06iE0oiBopLs0UtuSs2EeppjbOW08ZkuZ5xuEqL+UFnCxIvb/otW5RR1b6wrSaeakiVghlbbqXBFzS8lVTZ6X615qE4dYtR9kHLXkZ8xuiQr2Q7l9fsCR/6xhzrxqvSJElRaOsiVpjyoD1LtgZ0VXhDHGo0vAu8MojJGWDwfVvvn7NMx+YSkWPjsN45+Rsl8dM1eXcv2gRNwTq69h8nauUNtjpJnr/hpmfLt/BEIb2JGXkaD26zwsVfmj4Nh0fy7zVWeR5PlTCtLLPN5CeiHGMUvpdDdQKt9LflPfH/9MErJVFvXtGI3RxkMMUpGnr2fyMxH/WJFjJF9lmV5DEFco3xv5eILjXDRlaZqR/7fjJ5391bEsZZJL/i9PvtLbPne843r070uhfsXJluFIa0dXX+q6bLtkIj8EtfNF+nIp0x3bO2WK49j1bde7Fhy7nl+DRPcNheVUHtJXq/VR88WvlDw3BQl79IzoP8SY0cksNyVd5Lw6EWu+lYxgVefoXH1Mmnlk4jOOPObXNaogj1XwGPF8fT0rv3L0+T0e2b/Kd+z46SvZZ4lIMR+QK0bdJ4warO8TclMXq3yhroPNfbNOrhOCEHNX0Ur4Uvb55QVH3+Dr5F7Ajsx31XzqvLj0hdnqnOE4diTfDXF92Kwoj9NVXUcvdfQoEhARp7uzswx8ADEd1DrmpiL+dbNe04vy3+t9qpa5XuVr57WZWuZOddxdFIBeg2Xs2jKuhYsx5s92nADsudv1Pq3YtbMH18mVeLy7U6H8YCit7POcZ/nXwZt53fHs++F3xiCskcrNu9U+UucBs/zWx6AxT2nKdX1S3nue9kbdgO14yeOSfqvu/SXPrivoycKrdbQMxug/hahUykXqP6dgylNGfpkwG0nqRO0bFIPRIwtKpYqmX4XOT0Zdif2XH0tOj3dn6zw7cXGKMcENL7fZc1bEDY9AwEXGua5oOUXlUu6gW/36cpfr6O6wKF9fX1x99dV47LHH8MYbb+gWX0OHDjU+VffIfftiqTpwZAy3Ll0KSsw//vhD/28um4iIqMbLP44Dxp9lGXylumHWf9mR9clMzHsrCSnr4jH7OXVzpqer66jOxg16lyG6JYR2LA3LnlqKNZtSsGbxNCTslitdRV3c9b5eZgrT3bw4qAvjf8uy12DN6qWYuSrdEXQpi7qA6y03nuJICp43f2/pTCTITaawtEaYWYlelMVXbhe8MyQSoUYdnrSqmTlf3bBtUjdyz85FspkgjcIQNdD4243UF8Ybgby7MeWfKcjKyUH2pqXYYX7f14qQYk9Uqhu596Zg3vIEJEga/bug246AkIgiFQYudi7FNLl5mxlfuGXjt5n4Ud0IokFDXOKY4qEIXNdV9lsOtq4o3AWdPJGbIpU5EmgwKlJytmXpSpyA9uYFvdrv7dTl+5F0pKsPLG26OytMo4JkK1wCN751HfvnN5szr4ms9xZj7vx5WBhfysW9V3xR10f+t8F2SE9w+DYRi9XvzHvhLZeuMT0XcU03HUTMSV2ORNeuO2wpWLZJghvqpvRKTwKHOdixtCAAUW4Hd2DZBpel2JKQLTtHrYefuhkrN3fjufUP1ttuy8kscpNmBujy8KNZm9DPEayy70nCQtf1k9a3e/QKwtLAyKW/2h03mD6+RrkkN5O36Cc9c7e8hQSz4q2E8dzkpriXn5Rl0rWWaymTBdtv8r/KC0ah4GyFteV5LC60Xu6Z47k5gsbp+PdXkmt9EXL5MOfxWXw8N3lwQCrKpAycjRWFIpRZqhxzzBXQspv+X7gdz01uZvtLy700rHi+cF6x5Rlp5ryDMsdRy0TS3MJd2NjWOQIZznJBLXeEtAi0ZSJx9orCAVRnS+AAWHUlvrfb4jKe29EYTJo1ChEB6rur52La667dR/VCmBHUzTS6GXXIQuLL6vic/zwS3Dx9W67jr6qOEbU1meuNVnuGrL0/6m20+Jm5Iwz9u6g1llbXbxXulilrZbrOL5YWoc7yshhLFMLkIYVjGUhcVWivqnP2DuScssPP2tuYVpR35bo3LP2Mlq1ZKQUtMoTaD1v3u26llw5KKw71f4AVjgZzFkS1c2zDPmldu94xTpA11Dj3tDHKBJeAd9j1YSqP2LFvc+F9g2/jka4TvDlCS6wojVDXMOqH7VlIecV4UMSQtXIr9uXb4ds0FLptyofzMF4qpJ5PKjSf7ZNsvY6+dfUGFGLbk1y4jDLP2fUvdlQIlsG2f2vhLrTU8ZqoK6D8EGQ+xNC/t76eyU2LLzyv7Jss+e0ABBst/B2K5+PSlS9fFdt2Jxv2pRZO6/SvDjjeH9mBhM0un9SmY9eLa5A1ukJ+Ihauc/0VG5KydU6Cb7GslIP0Qr042JCouyBwc0y6yWMVO0a8WN8KlV+lMO8T1DksaWnhbjqzViUiQ/K9NbxIQKTkfV7ogR99TlXn1zyXGdWxs+I5OS8txYf7jWlueJWuKi+/tE7OWQGIvG2UOteHqVydh7T3lhq9BShepJ/3+zQHmStd87VapirzstTh69s2rHiwo4LKd+1cSdfJpez7guO9BBXID6aSyz5veJh/NW/mdceT7/dClHSXqa7hdrxdeB9lrcrU5WPpynl9Ut7rOeNa2ZZXeM2ki81XX3218GtGrPmpV+toGdJb9+hj252EpUWvld/L0Glk7WY+FFvR9Kvo+cnB/utPxl/l4902e0GVfY57iaI9FqlyaptxfUBeK3fQrTSXXXYZpk+fjrZt26J169a4+OKLERcXpz+TYNxTTz2FkJAQNGrUCL17l+OET0REVCPFYkbRi0j1WvSQtEDqheBm6gpJy8UB15vmg8nYp1uhKPWbI1hu0Lo6WioJ2w/pBTeDSnLGAXUr4uAXKOfREASY1+P2HOxxXbbjeZayGZX1WosoTHVZ/1HObqv8pIepStMrKEBXrIvc71wr0HKQ/I0jQKBuNdC8XemXjTLu0rgnF2DJkoJ1dozdVhJ1I6ef7DVsyHZUjgt1Y1PqV6VbmtFTMWfhEudvvfqqm/EUPBLsaDGpbkYyiz1ZbFbm+CLA7Itz905diePbprMjMNsmQh6aQ+6eBGzYry6xnd1/RaBzoErZ/HoEY+MAANZOSURBVB+x0wzcbNkK3ftMUAwWLZiFCaMHqxsPKyy2HGTtzkSmfL9SpGLrXv1DiFm4ALMeGoXBV4fAKl1YfaN+Z7fx9K6XgptKHsxDzp7it0S29xwVwr7NgtVRVha17yvjruEPe9XcfJjdRR7c42wtGhXiaM2Wk5ViTDGYAbrcLKQa+Seic7A+pnL2F29r2sR4ps2WZ3Q6tCXHke/9AqBDNxIUklY0eWn4t/OJbzW5R5Aui3J/cK1ki8bAbjLVFyFDit88O46/XOToAI7ZCsslCFwqK8J113U2/LjXMX/Ov3foSilYe+MWIyjlCAq4dG/XZhgipULw2B6sK1QpWZjtt1+Mv6KM1jrqGNAtbx2sMj6CJGLTXphQZLtelbEd1Ee2Y8ajFkYLPtf95dTuYr0vVILrbp7M5ebtXlcwlkwxNpyUA8TbbTFbEqrvdnswFmF+eUhbOg3zio0RlIOf8nRCInrOHEwdY5QDakqeSsfM3VmQXuaKKtfxV1XHiCjzvGYcG/XDEFt0H5rjmZb2kER3x/nXrvaz67lX271CP3wxfm5J4497Wa57oVtLWSu1F7OLH98Vk4Z90gxI5YugfvLeCOJmZ2KN7ERbCg6oaxTnuedKx4MAeeraxMwRjmPcF2Ejiqa3WR5Y0NC8TinGTLNcFK8jXeNoDTbNpVJcxjl8aBYWvOT6O8Z+defMaeOPypOursNkVc3At9ktcMDVs1zWyfFyjJvlJojj6fWZVs58VZ5tL/JwTqWq6mPXy2sQGV9zglw/LnP5HWm55CX7qePGXyWr2DHi4NH6Vqj8KoWxXOl21PUBHId0bNfdRgTA2tUxxcmDfJ6i9osEgMLvWoQ5j45B7MBeunvb0s5LJm/T1fbhciTvt8O3QxR6qa/m7UzEctdW916kX2XsUwlgSPkqLc2DS3qwsZzKd+1cSdfJwqsyrkBF8oNTZZX73mxDObfXqczvhzru99X9XfHzgCfKeR6p5Ou5X3L2Obp1lJd0o2lMd/BuHc3rotzs4qUSdm7HAXn4QR4o0hMqmn4VPT9VDu+22QtmGe+2xyIqryoJuu3ZswfDhg3D2LFjsWnTJj2tWbNmOuA2ZcoUrF69GvHx8UhOTsbHH3+sPyciIqqVGjVRl4eeMJ++FUVvaHKMliHCuEFzPUMXvXEwW6gojqe6LfDVtbvKqRMo1/NTTY0K4vKyFayTp3x9Cn7R/kfhy/mc3wreO1vmuNN3XMGYcGpxMni5XMTnenV3cADH5QJVlLo/HeOiOcZCykTK+kSskCen5yci0/y+N/oaF7d5P5Xa7UlBOqVij4ytYwRmrdepmwcjkOF4Qj0AYdLy0WiFYP9hj8uAy6lYPG0eErfnIK+xFeH9hmHUo7OwaNEcTL29l8pBlSd18TTMezcNOb/6wdo9CsPunIpZC+XGOQ69yvVDEbD6y/95+Gm7nuCej9GarxYr13huuQeMFnDmeG5q3s/1hEJCmkvBYsOPWWbli80xjpBST70i7olBiLSs+mS5S74poTXYwF66VYf9SLpj/BB3r4+TkaKPQ7MVlkvrvVIVjOe2x6wIsyUi/XtZWT90vl6eBS8+npv1+nCdHrl7k4tXlClRbWQ7XIJ0blvwWRHTVZZiQ9ZmN9tkvNZscKSQ2YKvYH+5MLqRsR3OUiW8udxc7Nnodu0KtXD0dlvM9UCLMASrfSjpZNVP8xaVg4S5S/VDDbYG0tWoWQ7MwoQbSnqiohYff3lZbveffpU4Rk6Bcj2N7HW5XjOkGK1l9EMuAztDGno4uydW+Sb1u1x17nGMHWrmvx+/KbqFecja4CatjVepY0WJ0rqgMlkc49fGdFfrkJ2K5E8SHC2Y5pfU/VoVMStHC9Wm2JFjjJPl7lV4vCMv1dJ8VW4VOHY9vQZxjBsVg3DJStuSkbRqscpHKi9trsqcVP5jxNv1rWhrimKCmujzjC2vjP49ylHDmLN6JqYsTUbWUSCgYwRiRozDjHmvYsGT4xBTbJw4d7xJV3Ue/MjRGkT+3vFm4RafJs/Tr4LlnlyL6fKkoHeAylF7z90Vzw/kVnWfR4y6gaItGzNXL3R06yivtQUPEmterqMjsGzD8R/02+pRwWvLomNpe+ucbDOVW7mDbma3ku66lzx58iR+/dXxCPm2bdv0/+Lvf/87duzYgZdffhmvvfYann76afz888/Gp6Uvk4iIqOZwCdKoS8MgZ3/4SViuK3/c3QTb8bvzCbaiTzxbYWlg/KkuonRLB9eBqy+SKnEXjQu6crT/LreKBZXnEnkq16Wca9DsYDLGG102Fn3NXGXMU1RWrnEDq7QMcjNOihWjnjGfBluECf3Uuv9RcJnt61MoQWBtUPC+oGVKURb99KOjatmmLuInYqzRP/sOZ9M1TxhP1YnSugsdMgLRQTLWQQKmTF+IFSvXIEVaie3+qfANg6ecLY2au22hZXFz02OOrRNyRYhuAeVszbZFuuBSubFdFCy6FYJjLJ5CbJlY889pmHjv3Zj41GIkbMhErjGY+owx5qDylUHti48XY9pElWcmzcTiVcnIzPV1DEA/Y4yjizCvpCJH3XhLIKG5u6eAy9O16Tnjh6AuYQjrEmTkW1eVNJ5bXrbRVaELyzCEt1WpJIEsZ6uun3DilPqvURNYO4zCLd0tupvXlwq1rHLfGiysXXOd5vacrY7xQ9y9zDFFSmsN5s5Al/Hc9ASHNZ/vUzlLbUrHSAzrG4rWRcZzC28hKeoSVCskGt0kiuASpHPfgq83WjeV/3Oxb7mbbTJejnFLSmvBZ8GwcBlXyI4Du2Urwh1P15YUeLyumx6fzkwj77bFXA87clNXYMqzW3W6WyNKGB/Ilob4Z6dg/L0TMfOfCUj5Jg92ixXhw8dgTKFusEy1+PjzOYF9bvaffpU4Rk4B38blGGe8HOV6TWDb7OgONSCwF2K6h6p9WjhfZ26W7o0taN0t2gju5yDbHM/NyRcnstyktX6VNlaUwdKkzO6Qwozxa3M3zcXEZ5cifnUS0vR5WF0HGfNUC/M6zPVaTY74XHfb7ngVHu/IS7U0X5VbhY5dT65BwjByiIwb5Rj7bfbSeCSsS1P5SOUldT1cdcp7jHi/vuUqv0qTfdxxDvZz/2havQo+zp+XGo/ZU8bj7vHTMPv1RKTut8GvTS/E/m1qwVinJfImXUMwarh572BF1AODVclWnOfpV8Fyz3kPqO4TKzXr1e5r54rlB3Krus8jZt2AvxWljc9eiJfreOCYLpXQJNDxvrAi9SeVpbznJyM9fFV6FA5DuvjzVCx5aQkWjCt53MNzss1UbuU6NdapUwc+Po7H9fPzS3+0e/fugjvLiy66CC+88ILxrrhTp+TOX2VC5+P6RERENVEqMnQ3KsKC0Ovi1C2cyEO2rvxxdxOchgM/m9MCEDzQ5Y6hTTRCpbJcmJWyu4yLTsUSGF4oUBHdzdGFnHC0sMhCrhnxqh+Mbq7L9lTajwVBszbhiC30JKEFUWMmFJlWxO6tyDbHMakfit5DiqxDhxiEmduotiwnTf1kdq6zkiygfYzLTa8V0R31c25KSRXPopvxFKfIRfYn5hZY4OtsVeiOutFsbPwpzKfqhNEVnDtmd5i52YXHkgGaFLQ09IoRvPWzIqzYQNQWxOgWRnbkfOfS7sgYW8cvcJhuPWTL2mq0SjJawVlDcW87uZQ3xuIxhPWPRdztsYg29mHe/jQkvTUPU+Y5BvsP6Bzl9ubGa52jEXt7HGKvM1rNHMtG2rp4zPv7XKRI9zkBnRFVju5zHDcYfrB2Ln6bYhno6OrMfiTLSIsarM0wjHtkEibdNwydjUlO3aPRWTbEtVtQYzy3gtZsplLGc8vZV+zp0JDhRteGGetcAl8ZRrnhi9DbIhFgz0HKv9YUztsljOd2iUtQvCyltgZzo/B4bi42rMMeKWN8QxB5c4iuMCsYz03lDkvJB2GIDJyuVsK2ez3MTrXctuCTssPjY7mUFnwdYo3uITOwTgcm/HBxiUNWh2DUQBlXxobMZMfaebct5nrsQ/JSlWYHE7HDGPMiaoTL8dItRpUBcRjWz5ymyrrtSVjx7DSjUrDkbrBq3/GXZwSUg3G57o7USzsd51/fpsHFHxJoMxjjHp+BGfeUNPpOOcp1D2UcdlwVBARW9sg/ykFjDCq/YPQOUPkvNwsprvna6N44IFCVFZJPVJmQ4vhEy9PXPBYE9yjPAxxmmgWgc7GiJQJxj6r0fjhWB+Qc3SpJ17NFuk5V5aHnpVLFhYcY5dRhRyQt2xh7yBo6rIrWo+ryVc1SwWPX42sQo5sw6WbMdawrxfWhr8pUsWPEi/WtUPlVCmO5aBHk5oEOdZ8SKOuhru+9DS63iMBgtc/iBhm9Lki355vWYOlTU5CwR6WZOuf3/pOe0y1v0zXk9tGIVPcjtj1rkHxQupmMwQOu901epF/F9qnBEul42MeeiwOltUgrh1p57VzB/HB+2+e4bm/U2s15wBPVfB4x6wYaqetRj+smvFtH53VRkJsyrXs4guUeJjdH3fGIiqZfBc9P29V1lhySLcKNrvKLi+kQBN/6vrDl7TOmFOfdNnvBLOMD3JXxVF7lCrq1adNGB9DErl279P8l+f7773XLNyEBuNxcRwZx5+uvv9b/S0CvVatW+m8iIqKaKPntFGTLvZbi2yYaUxfKOFnqJkFuFMZMwqwri4yxoJgtNdQ3EHLDDEwaGaMuQuMw9a/RzieebHtSHJXiuz90DMItmvbCvY+PweCrozB43CzEdjEuXO3Z2PGpzJSJDzPMmS0Iu0Ute3gUooaMwYy/OMYgKtPBJOzYb2yQug2LmjTHWL9YjHl8DkZFhCPmwXGlPKmWjn+nSissobbv5gVY8OgYnR6jHpqBBZOi9M2dsO3Z6hgn5sOt2OdIEH3TO+OROMRcHYO4Rycj2kyQ/EykFHua3pStbniNP1UK9r4nCmFdemGw+r2oUi+mfRF28yyMGx6DGEmj2wvSKC87rcQn1PYYkU1rp2G6wt/BD9EPxyCsxAr10qRiwy65LrIi8vYYl2WqvdjvXkTpAev3YeuHxkRhM8bW6RCGEF87DuwpuDFK2rkPdt8ghEl0RSpEnWmjhPRGdP8YDLspqnB+aGx0K2q3w3G15k4qcvTlmxWhN7t+OwSxRW/kLwpF7/7RiLl5MKIK/dDFuNjxQx6PFeH6rF7qxgx9IyCtd2J0SySDJQr3Xh2itsGGfZ+XY4wSYT5VaQ3FMNd17hCLsOL1FBXjZ2xV/YvR2vW3mkZjwp3y5LUd2ZsTCipA3D6JbEGvO+P0WCTuxnNDvcKVz37XTcC4q9XM9iwkv+7aWaHZQtaKEJXXctMSEF+kMg/dHAFpW65ZdjlkH3UcC5aQyML72RKGwZPnYMYIs6vCio/nVkCVMV85pgXoWv/CAfl9+vj0RXB31wC+y/bnpSPhFTNlIxwt+NR65bi04JP3J/SGqvW4vXB3i34RYzDrmXEF22uOo1a/OayuDyTIvnxQyjsbMtctN7qHNG70iz0UIeWHWmYLtXo7E7DM6E7Tq20x1yPHHIPBhkR9rvFF0BW3FFQado5UZYA6Nq+JLLRMdBjmeCDCdgAZruPauKjS468URVtAey4JKXpwMD90+3OcDlI6qTwap85pk0rsTlNR5WymnOCbdsMwZ14WFkT9ORq92gXB97eSHgbxslw3nny2BF1eqILX0i/SUXHiwvZhuh7b0NIxGnGueU7th8h27tLKD0HGmH1lMx7caBSixwq1HdxZJNBvfN4iSHc9acvJLHSuTNqcqXKB+sXusYgrFDlT1yQjZ2DOIzHGw0nupGJrlvq2bwii1Hnc9dshI25AVMcgBPjk6vU5oE/6FgT3cukWWfbpPZHOa4zKZmlXpJxT54Zh3WXP5iE71ZFKOZ/u0NeEvh2i8cB1rnvdcdzOeXJUObtXNpXjeuEcOmfHrsfXIEbFrlSeXl4wo6VzHMbI2KZVoGLHiBfrW97yq9SH1RTbGuOBjjDEjJYHRQqEjBiGbnJuyEnHh0UfQinLkeYIvzoa0TfdgmFFHu6z6Esmtc+cXfAX51W6tonFyKut8FX3TykrExH/bpo6t6n5/qSOIfOrXqSf9/vUirCiy1Rlnly227/PdDNWXsXarVTXubv8x7sbFcwPpXFcWxUNkqp9cEWw+rc2SIP0TiD36b3Vfb7rOoeMCFO5qyzVfR5Jx/KNWWqPqePhlslFjhGh0r6H4wGWglbj3q2j7UPHmM+WLjEYVWj56h715m76+zkZHxrXMxVNvwqen9QRnrhdts1P3cdNQLTrMalIF8IxnaUwyMLWf5d8z+TdNntxD6/K+HTjob3oQvdAJR0jFljV9ZnrPqLifAIDA58w/i6Tv78/IiIi8OCDD+q///vf/+KNN94wPi1ZTEwMLrnkEv16++23S+w+8sCBA+jUqRPUOuGyyy7Trejy8vLw22/lLFWJiKhWa968eakPa5xTv+7CtuNtcVV3KxrUUe/rNUbLoPZo30G9ApujsXmXdCYPGZ+8jW1yA7f/K+S3uwo9WjVQZ2ALmrfvih6XtYd/Q2PeY2mIn59oBPPykbG/AXr2DYWfuhH2bRKIsB49EGZtbNwX25G9fgle2uJoXpa/z472V/VAS+miRJYd2gM9Ogc66/i1vCx8sFEelumKa4eq5cq004ex45NUHFS/t+sHOzp174rmsoy65vqFIrCJvhyG7futWLN5r5rTvfzd25DXVm2fVa8EGjQL1OkR3MoPDeo65rHnpuLtuQn6YhH4Dl/92h5X9WyJBmp+S/P26NqjK9o30/2s6LRLWzkPiY4EQWDEIPRu5ViXvKwPsHFXPg7790RUqJ/6tvp+2x648so+CGtlMdJI2HF451qkZqutvnYo1KwOdRvDGtoVXSWNHIvUFdlvP/eBM5halP27xrhsQBgCmnVCzLV90LNPNAYNvxWRgcb61juF3A82Qj+O1DYSg3q1hK8zzQvW37HuehIO7/gVra4KR/ugcERf3Qed1c38FYPuwMjr5OI2D+lvzcHbhVYoH6dCrsKV8kSxfT82L0zBXuMTZPkjfFBX6EYK/1uNRJc+NnMzT+n8ERjUAwOu7omQNoHo3n8ERg3qhMZ1VF7atBTv7C5pz6o95XcZBnQOQEDHa9GnRx9EXTNAbfsghAcYufHwDqyV6M9PmTgleTwoGD36X4ueIVYEdr8eI+4YjE4q7e37U7D03V0l5iG567r0qitVnmuJTn16ok94SxzZugu5avm/trgK4R2CEX6NWofOwQi6YjDuuP0aBF+sdt3OeMxZZQZ93QlE5I290bJeHrLMfeT0HRp3G4CwgAB0Uvug5xVRuPb6Qbj1xnAE6Hyr8lCaykPSd76b/Wpy5C+Xed35yY4OV0UisLE/Oqn06dMrUqfl0FuvRLAqB/LS3sSsFbsKtqPFFRgQ3hwNAjrh2st7I7KfpHssrg11lAP27M+x4nNp8WHFgJtjdFr4NFXz9u2Eti0vw3Uj4jDyqmA0sOciVeWlfzkOPKdGPQY4jqn8dLz19AeqHCjMevkgRAdb4HtJMHpervKP7XNk/CjljUUfC/4NW6KHSrNOQVZcdu0IxP0lBj1a2PHjzp346htpyRqDobep+X4/gM9XfI4ibVPcGISht6uy6dQ+bHy5+Pz5+/zU73aCv974wvk/5+cA9OmrytOWqnzro7Y/+ArE3DoSt10ViAbHMpGw+DkkS0sH7TJE3aTKOinnJF07N8au7XthU3khX5VhkYGN0bhDJK7tHgJriNrnspxr26PB8X3Yse0rHFS3JmGDbsE1chyesSA4aoDzuHDsS+nq8W3MS5DKBpGDo836ILKDP1p2Ufu9U1uVf2Nw6+234cq2DZC3OwGLn0+GuXrebIu5HrnpK/DpTuPI2p+PDldHwto0AM3PJiNlr1qLvJbo2S8U/pKX+lyGTsEhiLzhVoy8KRz+F6myNn4OEkoq/Lw5/ip6jCgHW/TEoM7+8GtzlT5GQn02Ysf+Ur7v5jcPZuSjbV+VZ1u0x5Uqj17WKQhh/W7VeTRMFZInD23HtoyC1taFqfPh9xZ1/u2EoE6qPFD7IFjtg8G3jcA1HRrrc/W7LyXrc0WFy/UfTyFYyoRmVvRW8/aOUL83cChui1LHrZ7Bpcyy78GPF/dEZKdAhKqywJnn/hKluyeFuhYpWA8LYmcsxN1/ikbPS7YhOb3kUteU07Y3BoXISdKGfZ8uw+cqzV1lNQvHoK7S4tuOfRtfhi56TD9k6GOnR2AA2vdVeaSrSrsuUbj1ttsQE+YP35OHsX1bBnJLyGKyv+QcFRzcA9de1ROd2l6KqFvjcEuPlvA5lY3k11Zgl7rcOfibuu6KCIS/tY+ar486TqLV9qt9eokqFORazMeGw/qaRrnsWgxV2+M8PzmVdj5wYXwfDVQ5Z5zP2kcMxR03yXcl37+NBR8Y+V5dE/4g+yYkAC3Do1V53RnB7QqOW8vZPHzzWSq+U2VH6cdByevmVb4qcdu9O45MtebY9fga5CBOBklZ7w9r72tx1RV9cFV/ddzFhMFP8pF6+eYfNtKulPziTR6r0DHizfp6Xn6JM5fKNaUfWnaU659uaKmu03f95G6f2bH3W7XJEWEIDLnSOI+EqeN0lDpOA+Bjz0bSi4uQavR64fk+31u4XFPnR2vnfrhl5Ehc0Vpdn+TtxDuLthW7PnHyOF2tiH14NHo380HuZ4uxMEWtqNpvv7ZT10FBgarMOYaNW+V49iL9PP5tMz/4wC8kCgPkvN7KcY02QF3PyUOUn768BF8ZaVfitbDxaTEl5UPZPo+vnT0sF11UxvFe/BxawfxQStmXczrYcf5o3du4pr5WXTvfhqhg4z7OZb282YaKba933z+82+ZyP+e4Zhjwp1sxqJs6BmUG5329e16dR9z8vqnEdS7CvncH8lr1QVd1nxB61SB1PKl9e9W1uFbfR8biSnWPIef4pJdf0ud44dU62vdiX53L1HW8yi+ux+Adt6BHcx91aCVh8aJUmIeWV+nnZvsrdm2pio+d38GnW290sgYi/HrzOk7lQ7UOsXKNL9v3xmy86bxfM+psXNfLy232+B5erfWeg46yLzBUyilV9qh9pY8Rda+ir7Fc0iLioQWYfOsARHXMx9ot3+lpVJzXLd1cA2bSzWRZ46+NVIWjBNFEw4YN0aFDkccVivjjD8eANy1atNCVrexqkoiIairb5sWY+LelSN6dgzxHD8kOZ+yw5+Ugc3MCFv5tIhZv1o/VKjakvGAM8J7ncjlmz0PO9kTMm764cOukbxMw8+9q+d/kwuYybogtNwvJS6dg5iqXGi9bChZOW4zk/Xmwm/PacpC2wfEUpke+TcK8afOQuL3w9si2pH+8GFOeXVNiKzAHtX0ygP3KFGTl2grWQ9HL+GQppkxZWmgbbZsXYtrcRKQddFlvlX55B9OQOH+aS9q5l7N6Lha+m44cczb57v5kJOgnyYQFrbsUHSUmGymrXb6jyO8lvLiwcPoXZVuD2f9IQLp80c+KoHZW+EmXfG8tRqr+uQBY++o5vZCKpTMX6jS3NbIiTF38h7dTN4s5mVij0nKhm+3PzPhR71P79+nOrvIc1iD9e8lXNvyYUeQpZskfTznykr1REML7RSOiixW+v6o8otJw5uoy9uyHz2Pp+mzk/WGBVd38BElXm8dUmql0LLyGksdnYumGLOTaLQjqHoXoiDBYfSWPJ2DuUwll5KFMvPVhqt43Fqv6ncDmMGPSqa/MVPtaHTu/qXXoEoGo7kHw+0MdZzJ2ywvuB8L3jA1rnlNpI8eORfar+t0W6oY4LQEJO8u/VPfSsfTlBEd+9/UrSMujckxPxMTFRbtUTMSanSpvnPGFXxs1bxs/dceXjMQ0yXBuxnPLT0fix+qYbxSGiP4RCGupbk8lb/9jCpa6yUt23dTNhsyPlqmcWFxOyg7onnQtAVD3y8gzuz5Sx8Lzzyc6jgWdb1V+6qjybXYK4tVxO0/WQearpPHcnGyJ2PqNsR0u47lp38Zj9tJkZKuy1WJV298vHCF+NmRtjldl6zwkFWrFl4LUXY7WZJKult9kvCqH9KWzVf5Ved2uPmsXjii1nCCLugmW8mv6CqNC0WzBl42k+apMOAzHvlRlgsU4pqZIV48yqyFrpVqueQzp/BsCP/W7KSvnYdr8pMIBRo+3xVyPPGTvcj2yzFaBvgi5MtbxpP1BdfypZUrZbLGGqDLAUdbYshz7rKyytuqOPzc+XIUkeRq5vuMYKehG2AuqzFus0kqfz+pbEaLKIinzLL9lO86fK8s4N8r5V5X3cqxaWjr2QZCf3f25uhhvynVHmSDHkm9To/xRv5O1Xp3P3fR1nLVqrspHKr/KftDlh1puVjIWqzxblO2UHN/qesT1+qQUtgyj1e+pA8jYoCcVZnRvrEoGZBdqISqM87/kkV99Ye2ojh0p+y02ZG9Qx87MeGSWlmbmNYw6R8FfzlFSfvki95tkLH1sJhLMPL9zKWYuNo6NAMd52PeoStf5axwP8zRqguDij2NXiC0jEYl7bAjoFuXI97425OxMwOIi+T5r1Ux13MsxZlflinHcqsMzZ6fKM9MWItlZoV5e3l8vVLtzfux6fg2SvnQmFhtlcoCcXyW/7V6DeR85HpawNJUK3spUsWPEq/X1ovzKfGsNUo1zeVC7YDQvbaMPquvg6Y5rSbSU84jjOM3br84j/3A5Tr0k5Zo+v0i6qPNLtKxvI7s+/hercsHd9UkBz9LV7+bRiG6nLkhyUxH/esEZN/WVNfpzS7dhuLefsfEep5+3+1TycDJyLaGOazSrRd0fybS5RdKu5Gthb1Xpubsyjnc3KpYfSqHOH0v1/Z9xTa3W2U96gZBzijFLjSfnyhcdedO8ZrDKNerqFA+3obrPI+oYUeX2lKVJSNfHkyPd9T30mVxk70wqfI7XvFvHnA9nY5qce4+qa3HzGKyvrovVNfPcmQmFr68rmn4VvbZUa5P49JSCMkOnhRw7qhyVuo+5nu0Db7bZ83t4RZV9BfcKLsfIP4sfIydtjm/bbSf0/+RencjIyNKjZm4EBwfjtdde039Pnz4dn332mf67qO7du2P+/Pn44osvdAs5sWjRIrz33ntqRwfhxIkT+Pnnn/V0MXDgQEyZMkX/fdddd+mWb0REdOEKCwtDZqabLlDIvQ5hCDsk48kZ7xXLiBlYNNDR1aV9TwLGzvWo6puIapOBk7BkRBjgzTHeJhYzHo+B9WASZpYZDCUiusCo66dX1fWTbedSjH+h3NW8RHTBi8CEhWMQ3igbSXfPRIIxlajSWOIwa1E0rHlpWDxxcbGxnakMTD+qIuUa0y07OxtnzjgeR5cKUZOM8yYt2aQFXMuWLXVAbseOHXjqqaecLdjCw8N1i7cZM2Zg1KhRepqpY8eOxl/ADz+U0kaViIiIigjBqHsnYdKcWZgwXMY2C0PU8EmYcZ05tpwN+7Yz4EZ0PjLHc8vJdts+zI0QxN4TjSDkICWeATciIiIiohqtQyxmPFN0PDAZ6zlc9xRhO5jJgFFpmH5UzcoVdJMuJU+fPq3/btSoYITnESNGYNmyZVixYgVmzZqF33//HbNnz8bJkyexa5ej38/IyEi8+OKLCAgIwKuvvqqnmerVKxh4xgzqERERkQcuvwHh0r2cxYrwG0Zh0iOTMOqGMD2+l8jbmYCX3HUXRUS1nFV3UQTk4kBZXZJcNwYzHp+FOYumIiYIyN6wHPHl7A6KiIiIiIiqh6W1FX4twhH3j0WY9egEjBo9ATPmzMG4ywOAU9lIeTvZmJPcYfpRdStX0E1IqzYhrdpMfn4y8DL0GG5t27bVgbe8PBkvAUhJcTx5W79+fd09pXx2/PhxPc3kuizXv4mIiKgM2xdj2tx4pBQZ/03GUkt7d17lj7lDRDWDOZ5bXjbSSxo53RDVvZseRyHAbozl5zouJBERERER1UjOsdBz7AgICXeMOyzjge03xj8t4z7gQsf0o+pWrjHdxNq1a3XLtDVr1uC5557T0y699FLceeedyMnJ0eO2ff/993q6qFu3ru5OsnXr1nj33XedLd9cTZw4EX/605/03wMGDGBrNyKiCxzHdCMiIiIiIiIiIqLaotwt3dz5+uuvMXXqVCxatKhQwE1IV5OvvPIKnnzySbcBNyIiIiIiIiIiIiIiIqLaqtxBt1OnTun/zW4mK4O5LAnQsZUbERERERERERERERER1Rbljpj9/PPP+v+WLVvq/yuDdD0pjhw5ov8nIiIiIiIiIiIiIiIiqg3KHXT78MMP9f+9evXS469VRJ06dTB48GB0795dv4+Pj9f/ExEREREREREREREREdUGPoGBgU8Yf3tlz549qF+/PkJCQnDdddfpgNm6deuMT72zYMECXH/99UhLS9PjviUnJxufEBHRhax58+bIzc013hERERERERERERHVXHUiIyPPGn+Xi4zD1r59ex2A2717tzGVxE033YSRI0fC399ft+Zz5+zZs/jyyy8xffp0nDx50phKREQiLCwMmZmZxjsiIiIiIiIiIiKimqvc3Uuazpw5g6ysLAbciujSpQtiY2PRrFmzEgNuQj7r2bMnnnzySTRs2NCYSkRERERERERERERERLVJhVu6kXsyzt2ECRM8DqRJi7cjR47gxIkTxpSSHT9+HOnp6XjnnXfYOo6Izmts6UZERERERERERES1RbnHdKvt2rZti19++cV4V/lkrLvIyEj4+voaU0onLd4aNWqEpk2blvmyWq16DD2pjN68eTN+//13Yym1n7QOnDhxIho0aIBdu3YZU6tGdf4WEZUPx3QjIiIiIiIiIiKi2qLC3UvWVvfddx8eeeQR413tI0G6jh07ok+fPsYUIiIiIiIiIiIiIiIiOlcu2KCbtG6SLiBrc+Ctbt26qFevnvGOqovkm5dffhnjx483phARERERERERERER0YXugg26Cen6sbYH3oiIiIiIiIiIiIiIiOjcqxMZGXnW+PuCMm/ePPTs2VP/bbfb8Z///Afz58/X7yuDBPMmTJiAhg0bGlMq38mTJ7Fw4UK97qWR8d/+/Oc/67HgpFvKEydOIDU1FW+//TbOnDmj55Ex7v7yl7+gQ4cOuvXc6dOn8b///Q9vvPEGfv31V7Rp00Zvj3x/z549Ou1k22S+r776Cu+8847+/mWXXaa/L+u2detWrFy5Uv+GjJ8mafLZZ5/p35B1ETk5OVi1apVzTDWZLyYmBklJSUhISNDT6tevjxEjRuiuNM3fdF03T8jv3XnnnXqsPXH8+HFkZ2ejR48ehX6rtHQICgrC2LFjYbFY9LxCxtOTbZd9IOt566236vW8+OKLcfbs2WLbR0TekbErMzMzjXdERERERERERERENZdPYGDgE8bfF5SBAwc6Az8+Pj5o164dWrZsiS1btuhpFSXBncjISN2arqpIwEeCZ99++60xpbjOnTvj3nvv1YGiHTt2ICsrC35+fjo4Jtsr04KDg/HAAw/o9JAAk1RwS9eVl156qZ5n27ZtuOSSS/T2NG3aFM2aNcPOnTvx/fff678l7aKiovRnEoCT6c2bN9dp8Ntvv+n169q1qx6DToJax44dw5dffqmDUvK+S5cuer1kuswXGhqq30ug6qKLLtKBriuuuEIvV5YvQVJZf5nv888/18spTePGjfX2tW/fXgfa5LclQCZpI0FE87fKSodPP/0U33zzDfLy8vSy5PO33noLu3fv1vtC1lPSSAJt8hsS2JM06NSpk57X0wAhERWQsiQ3N9d4R0RERERERERERFRzXdDdS7o6X7ualOBUo0aNdHDqlVdewZtvvonly5fjl19+0a25WrVqpVvCyTzr16/H4sWLER8fjyVLluiKbplHAkwmCaK9/vrrelmvvvoq/vWvf+kgmAS+ZNkyTV7S8ksCWhJwcpWRkYGnn35a/8bs2bOdAb0rr7zSmKOw/v37o1u3bjoI9uyzz+rvLViwQAexJEhW0vdcXXvttbqVmnzH9bclTVyVlQ6tW7fWrfwk7YRstxlMkwCg/IYEGM3fkGWkpaXB399ft6gjIiIiIiIiIiIiIqLzF4NuRUjLqqrsErK6SVeSf/zxhw4YSYsRIa21Jk6ciEcffRSHDh3CBx98gAcffFB3k2j66aefdIBNulh07U5Ruo2U75jy8/P18n/++Wfdusu0f/9+nDp1SqenK/mu2aWlkJZ6Mp+0lnNHWqPJ/BK8Mr8n/0twS1qhyXaVRYKG8h0J+Ln+tqSNK2/Soai9e/fib3/7G5555plCvyGt96QlpXQ3SURERERERERERERE5y8G3QzmuG5z587VgaXzxebNm3X3hxK8ktZd0lpMxjYzu9Y0SSuvxx9/XLfsMlurScstT0lLN9dgk6ekFZnNZtOBTumqsihpJSYBr9GjRzvXS15DhgwpFtAriXR7KWOz/fjjj8aUklUkHSSoKV1Mvvjii86WgDI+HRERERERERERERERnf8YdFPMgNv8+fONKecP6fpw4cKFukvGrVu36mn9+vXD9OnTMWzYMP1exku75557dHBK0kHmldfBgwf15+eaBMxkrL3k5ORiL+nusbJUJB1k3DhpJdezZ0/dou6ll17S35WgJxERERERERERERERnf8u+KDb+RxwE9Jto7Ryk+4YpeWVdCkprbB+//13RERE6DHd+vTpo1uTrV27Fu+++y527dqlX9JtZFULCAjQ3TZK60LporIoswtI6b5Rxkkr+kpPT9efl0a6eJQx+1q2bGlMca8i6SABO1m+jD338ssv6+4w5btFu7AkIiIiIiIiIiIiIqLz0wUddDvfA27itttuw4QJE3SAzSTBoOPHj+vuGWW8MXfdNAYHB6NRo0bGu8ojQT7X3+vRowfq16+vx4Bz5+uvv9Zjt0nrPJnPJOv35z//udC0ksgYdnXq1MFll11W6LelRZuriqSDpKP8hrxMsjzZXiIiIiIiIiIiIiIiOv/5BAYGPmH8fUG5+uqrdfCpqgJuISEhiIyM1C2sqoq0VktNTdWt2EoiLbe6du2qW7u1adMGYWFhGDRokP5bAl3r1q3TY6nJ56Ghobpl3FVXXYXBgwfjkksu0YHJ7du347ffftPbI+Q3pdtK0aJFC1x++eV6XLaNGzfqacKcLq3XvvjiC70OsnyZLsEvGSdNxjuT7hiPHj2qW5bl5eU558vKytL7JycnR69z+/btdYCubdu2ulXZ0KFD9bQjR46U2f3j4cOH0aVLF3Tq1EmP2SbLkDHhZJoEyczf8iQdfvrpJz3OXHh4uA7Gma3nZLw4c/1k+y699FKMGDFCr6PrbxCRd2SsRBn7kYiIiIiIiIiIiKimu2BbukkXgOdzCzeTjHv25ptvIj8/X7d2i46O1oEiCSAtW7ZMzyPdKa5Zs0Z3oyiBMgk8yVhpEiSSoF3r1q31fJVBfrdBgwa49tprdWDq0KFDev0OHDhgzFGYBPeef/55bNu2TQfF5HuyHRLMk+4yJaBXFlmGdKkpgS8J9skypJXbZ599VqjrSE/TQbqOlHHbZBw3Cd527NhRr//y5cv19nTo0EEHKE+dOoVPP/1UB0fZ4o2IiIiIiIiIiIiI6PxWJzIy8qzxN1WiAQMG6G4dGzZsaEypfDIO2sKFC3UXmTVdbGysbtmWlJSEhIQEY2rFSTrfeuutugtKd6QF3pIlS9jKjKiWkpaumZmZxjvyTAQmLByD8EbZSLp7JiqvxC1F33FYcE8v+OWmYt6UpajqPRY741XEBNmQ/sp4LNxiTCSqRMxjdG7FYsarMQjKT8fSCQuRakytsUbMwKsDg2DbuRTjX6ietY0YtwBjevkhd8s8THmlis86fSdg0T3hsGQn4e6Z1XJW9YrfdaMweUgkrH6OHlayP74bM9/Vf1JFnYO8TecJN+VGtZZbNVhNuMaKeGgRxnS3IHudKi9XGRNrDD9Ej56MwRFW6GL9TDbW3DsTiY4Pic69Gn5dRFRTXLAt3aqadHko46ZVJVl+WV0rnu+ka80NGzboFn3uXtLlpXRBSURUmeRGTVrbevJa9FDBmJo1k1TuqnVdOAHlXlObHfYzgD3/OKr2zFc55Gb/1VcXYUJfYwJdsMxjecYIYwIpErg3y7AZqoSgmqw2lmeVcdydPGVX/9phy6sVZ52Kn2dL0iYOk0dG6YCbLScb2fvTwWeVqOYw8n7R15JFmPPoKER3thjzXRhqV7lVcef1NZYEHSQvz6j8qyTryMmI62eFn48NOftVub4rE3uMz2orXm8T0YWIQbcqsnv3bt2iS7pBPHu2chsTyvJkubJ8+Z0LmXQZ+fbbbyM+Pt7t65133tHjsBERVaZfcvYhW26CnK9c2OQDe57j5sjltS/nF/2d89rOpZhy790Y+1QCcoxJREREVSX9lSm4++6xmLn6Aj/r9AuFVf1n2x2P8dNmYuZTC5FwYd8eUk1U5Po4x+aLgI5RiJs8B1NvDjFmOv+x3CJPRIXoUh2ZK8dj2lOqXH8+ocp7ESEiosrHoFsV+uCDD3S3itdffz369+9faS9ZnixXlk9ERNUvc/VCzJSbIOdrB3Llg1MH8GGh6TOxcDVvk4iIiKjyRbQM0P/n/pCs/yeqkYpcH0+bOBYT30pDrt2CkCHjMI49DxAZImD1l/9zkb1BTyAiolqKY7oREVGNVXvGdPNg/B1LGAbfGYfo7kb//IotNwtbVz2P+DTdTq4MFoQNGo2467s5x21RC0DWllV4fmWao6WdVjCmW/LifQgdGYUgY357XjZS3ppr/J45n/6oQKFtCEH06BGI6RWCAKMHIHt+DjKT4rHs48yC33TXr7tzHJQVWJ4bjZFXBxnjEtiRl5WEZS8kIrPMzQ5BzEOjMbibFRZ5TOhMHnLSkrCvRSyiio0FUfa6StcmMn5DYYWXY+k1DPfeHIUwqx989W+q9c1OwaoX45F6zDGPJwY/tgTDOtiRvlwte7MxUYl+ZBHiuvgic9VYzFtnTFSiHl6EUd18kfXeWMz+0Jho6YW4h0YgMiTA2H4bcrO2YtUL8Sg7y1jQ6/aHMaKvS3rk5SBj3XIs/iTLMcEQct0ojLihN0KcM9qQszsJ8a+sKdhHLvt4dqoVo/8UDqsxuy0nDYnzFyO5tPQppe9/t2N7yPFyTxxiuqh9X+bxovLJ/aMRYx5bss9yMpC0YjGSvnXMUYyRP4syx/ZwrtPy5ci9bqTKb0Z+UMdc5n9X4KV3XfK/Vo516DIGcx6JgFSZ2/ckYOzcJD3ZotZtkaybPQuJY2djjZ5qlDHyp+vYiU0jEPfgiIL1s+che1M67FdHIUTWo0h6WzoPxujbo9HNNX+r9UxeuRxr9thKOEaUMscW8zy/6XW+7xaXfO0+rRz7IA9pq1S69IspWGdbDtI/Wo6Fn+QiYqT6zX4uZYs6Vt+a73J8mPlufxIWZ4UWrJ/LvHuCBuPekTEIL8jQxvILr7enZUOJeUftm6z/LMPzRfNOhxhMuGtwwe+rdEtbtw8Bw1XZXUq6e1Ke+UXEYdwtkS7HtipDdyZh+T+TUGSvuOfpectZ3ieo/BrlUmarsiRjDZa/YPxeGced8DSdze0v+K7LeKZPb4XVNU3VPk3791ws3pDneF8KSy9Hd43meVNv7xcnEDmoePlV9rpW4nm2GJcywZW5juY+yUhEcoNoDO7op/JWGhZPXIw0mc/LfZuXloCkM1EuZVzBvs1V+ezhESVda5TOo/NPMYMxdckwhJxKxwqVjinGVHWGxaRFcQjzyUTCA/PgKFFFlNoPoxBe37VMdezrh0e4HB/urqk8zdul8eZ85sl5v6R9u7ouRhvn2fEqD7gu2Tyv5G1fiIn/TDcmevBbznN3MuKPhGFYL9l+b8YMLv362HLzVCwYEqLz7Uy1zq7tv0JuGIfRAwuued2dUxzlbQ6Sn9+KgBFll+Oenau9L0s8LTcqpdxS54xxo2LQq43a70JvqzoKboxFOMo6VyueHvsVue4z8mhR5nZXyzWWk1yfTHa5D3Hk862/RarjufiYbmWXSWWUvUIdW8PuuQVR6pg301iXi5LGqaWch8pIN83r/efm2DV+pzLK9TLTy5NtKkXYmDmYFBGAnPXjMW1lwW9bR87CrOusyN00DVNeLyg5LLfPwqL+anrqPExZatYhVCT/qG8XKYsknxa//5bdXkXXiW549ltG+aLKhfiVuYgqY396VZ4Wuq9bg2GPLcDgDr7I2TAN095yLcmN87IlFynTp2CFu9GRvClrCv1u4bOQM13N62Bz3kq4B/AsDxWU58lv5SLsll56O7I/UXl9tXzufV1OsXOtcTwVHmdWlnsv4mLCYG1Ueh6l6ucTGBj4hPE3ERFRjdK8eXPk5uo2ZDVcV1w7NBR+pw9jxyepKH49GYExs8bi+lA/NJDKtJ27kVunMZq3siK0z1VofzQFqdkyzkPJIu6ZhbEDQ+BXLx85mTux+ycfNG7WEtaOfXBVu2NISc2GYwmBiLyxN1rW80P7Pu1hOXkEBw8fg+13X/j5B6D95T3ReFcyMo6dQb2LgaPZv8G/Q3M0OKVu7jduQ+a3e/BVZjby1cVl7IzJGNYtAL752di1Ywf2HvOBf8tABHe7ApfV34GNu/P1L6JtJAb1agnfvCx8sHGXY9pl12JoiB/QrCsiOzRA/uEc5B5Vl30WP/i16IQe7fKxdst3jnndsmDwo0/i1i7qZuJsHnIOHMGxvDPw7xyJ0CbyuR2H09Yi9Qf527N1PePbQG3wD/itaXs0b2hHzvaN2Ja5F3vS9yD7V/WL/SZg1pgoBDc6gyN70rAt/SB+swQgsG0n9I5oi8NJ29zsW/d+aN0bg0IC4HP6G3y6w8zDEbjpL5Fq3/jg4j8OY22qubQw3DDsGgRaDmLb4o3YJTvSEoUJs8YgsrUvbD/uxc7MXPg0ao6WbULR56qy1sWCqIdmYUxfdYMtgcq9jvwS0MaKoMsi0bNhJjbucty9hKiL98nDwhHgY0P2rm3YsS8PPk1aIrBdV1zRpQF2bNql8oJi7mNLMCK7tQZys3Hk5zzY6vrBv5kV4d0aY1tyhmNed9zlEUPXa4ci1K/I/pw6EYMvVfnnlxzsTS98vLT9KQnb9HzCse+HhvnhzJEsZO7+Afl1m8DaOghd+/ZEgy9Veqp9W8xFDdD4xGEcqx8I6yU+yNuTjM93foe9uzKQdcRcJ8BfpVdow3wc+TEXx06olG3mj5YdeyDwJ3NdRTnX4acA9LihK5rXVRfkKuW++dTRYjbm5tsQ1tRHTWwM/LYGn8t93+XqeLrCCpWDYfvmY7wheUfyyMy7EdmqAXzqyAIVnwbw6xAMf/V1zSW9Lf3GYMaY6xHSxGX+Oj5ocIkVYX36oNXPn+Jwm0Ho3cq4YXNVYtkmPM9vaDMYUx8fqX7DAvvP2cjMOFA4rXartDJmdeyDBrBe1hUBfxxDzpFjyDsp5ZjaB13D0bP7tYju6Y9Thw7iiCpb7PVVXmzeHj3d5dsm6rhp1wB5P+bg2HGjHApQ8/bsid7Rah/75CL7R1k+dDkpy3fNZ96UDSXmnSZ+CFB5p/2va/H5fmNmi0qPJ25FWBOV5nk5yD6k1uGsPzpHqPOJfF5KupdVnlmHTMWMOHUuaGBH7oFMZBzIh4/a11Z1bEf2bIBMlS+c9TJueXHeMsp731Zd0bWFjyoejHT280eAtSt6dzyFjVuyYC/juPMmnQMjHHk1L+sDlb/0FOPcZ0Fw33C0llYCkp5GnrGGh6PxDnXuc3csmrqPwaxxUbA29IEtN0fnOXvDQISHt4Y+KgodT56sayWeZ4tRx24jG04VScvv9u5GRtbhgnOwfyjCmqvj7ZQdZ04cxI71O5BTjn3bQO3Hrs3O4NiP6lys9q2v2rf+alp49564tn8P+Be91uh5Wclln8Hj808xP8DaexBCm/vg1L5PscMcSaDvTbgtQh3vdS/GH65ldJcbcMu1gbAc3IaX1P7Tp1i9/yJhlTGTjDLLeU3V9jCSthk5zdO87ZjbDS/OZ56e90vatys2o+HVapta1YPPp8a1hGbBsFtvU+VSHna/8wa2qezh8W85z/2BCGur8sFpO+yqPN77UYqHY0yVfn1s32NBZ3UebNmsHuwu66zzxk2d4ff7EWRl7sYPv/qgiUozfU5xOS4c5W1jtI8MQ8szhY/5ll0jcdnZZKTsNRPC03O1l2WJF+VGhcstSwwmPRaL8ABV/pvnjN/90Smih1qG+rzUc7Xw4tivyHVfTbjGMoSr+6fxV6vrpzo25KprgNxjdlgCwxGu8r4o2BeelkmOsvfw0QYIbN0YPscykfx5RkHZaxxbUcGN1fpmIu2LDBz8rYG6JgpEp8sji1zDFqHT7RQaqOunxnXzkLn+c2R8V5Bu5dt/bo7dSirXPUqvMvJCWXLrdcUAtR2NcQprUvYaUy0YNCxW5yFLHTs+Ncp1EXNTrLqGPoV9n7xRcE9RgfzjLIvqnULOvkzs/uEUGrdQ11JF7r+r7DrRDc9/yyhfGrVEeO/26jrjiC6fbGct8Gvij/aXq2v/bHUOlXOC4lV5Wui+7ivsadgZgy5rDnXZXrhcMM/LOVux7P0SygtvyppCv2scuAbH+rvcT5rzVvAewPM8VFCeB4YFqjyjjrnT6vj6dg1SMstTl5OHrA/UsvU0g3Hs2g/vcNYjhIyYiolDOsHvrFpuadczdE4w6EZERDXW+RJ0Cx/zEP7cqTFs6qJr7rSX8NGOHfh8QxKSj7bHVT2DEXxpe+Sv/RwlhqDUDf1Dt3ZCY1sW1sydhpc+3oEdW5KRtOEY2l/VA8HBnVwu0M0LNXUjuXMFpjy1Ap9u2ojkTzfim2Z9cGWwuhkK9EFyyjZkZWYgI0PNL+v+23f4cO4yrNUVgfKbw3HbNeom9ceNmPvYIqz9KgNfpW5EUqY/rrq6PaxNLnYGCdxeABsXhT5nDiL5uZlYsPpTbNyk1ll/Pxh+l/ji1Eefl/yE+HUTMP46tcz8dKyY9CRWrN+ov792VwP07KvW18flotrDdf0ue4/a3gwE9pWL8lP47uM5WLbWUUEtYkaMRNfGNuz691Q889ZWNa/aT8kbcerSAega2BJNzqqLZvN+rwz242rfXheMgDq/4dMNGY6L6O43Y0SUI3Di28gXh828YonG4FvVNh1R2/rJVyr9LYh5+GFEB9qR+dZUzFi+ATt2fI7kdck41uFa9AgKQutLtiE53e2ti7rBeQCTBwWr/aGW96hKu02O/LJ2V2P0UWkXGBhg5LdwDL8tGtZ6B7Fx3lQsUr+d8VUqNq7LhH/fKLRv0wQXmxWa5j72yccutU5Pvpak9ofKV5tOodO1XdHcvzF8d3yKr0q6cfXmJuny23H39YFocCQFc6YscB4vmY36ILKDuhlqcsZ54x1y56MYHd4AORuew4znE7F5RypSktdil8wbGojAliUEd9VNk+SFi7rF6AqwI2mzsOjtggoAxzr54MzBZDw3cwESJP/JOjS9ClHBfmjsewxrt2brecu9Dir3+/cY5AiwWc7gV31jFYObbgvXgTipVDeDsxa1PsM6NFbT7Mje+rLOh+Gjx6ljzHgy056LzE1J2Pz1L7i4tbrRM+NmzvQOx+hxf4YqhhQ7cndvxJqPt+FwPVUeNLfAx0fdIFobI/GZOYj/4DDa93eUIYA8ZTkRz5RWiedxfrNg8EPjcaVUXKcuxrQ5bxekVcOeiOwUhE4dC26szUoJW8YKTH7SUY5tVPPub3MtIlurG2aVD9KXT8aTrzvKlk83OvJiy+ZNCvKime/sOUieMxkL33eUI0kbfHDZgE4I8PNDg0PJKp8tRKJefhJ26X3sjwDLKazREU/vyoay8k6TegXLjVbpcY3VV2/jxJkF26jTQ8rPUipQ80srzyyD8dD4K9HSJxepL03DnFWbsSM1Bcmf7EKDnpHoFNQJoaWVIYpX5y0zCGBX+WXOFCwy03mz2if9uqK1ypOtDiRhW3rpx5036Vxy5bUP8nfHY+rMV5Gk01O+fy26Bvijsc82fLqzpG22Im78Heh6iR056+dg8nPvOso4KXfbXYUeraSSu6D88mxd85FdWefZYg4jy01a6kpf4XoOXjANz7yeiDU64FbOfSvn4iku5+Lstrg2wqqOQz+ccTlG5VpDp3fLADQpNb29OP8UY8dRtU+igwPgc/JTJGc4qqnCh4xAVGt9hlX7uuDBFkv0YNyqtiFXXROtlfWxxGDCw9EIPJWJ+Okz8GqyyzXV1XJN1bog0OFp3jaSvRiPz2denPdL3LeHcSpEykd/1PkjGSl7jMpRVR4MVdeQ/r/sRsKbqtz35reKnPunLn4XazwOuImyHkrLQuDlUoZJ8M+4BugwCo+ODkcDXYaqsnnzDqRudjmntLU686d5nsjLcD3mzTJUleMtW2H/Otlmb87V3pQl3pUbFS23wu8Zh8HtGugxHKc8UXR7Sz9nCK+O/Ypc99WIayylTRzG39EVjY1rgAX/Vr+jrwEc908t9e4x94WnZZKj7M3w7YYYSZ+f0jDrxbcLyt4bYjEyrAlsme9i6uw3sVXNK+XLRnsnDOgaWOgathidbheh20DJE0eQ9vQivK2+b6ZbRfZfoWO3Usp1D9NrV+l5oUw/NEFXCcw3tOOYyts6V5hlmjxg5uf6kEEEbry1D1qe3YeNLzvuMSuWf2Lx0J294X/GKP8/TFXXUuocbZ4rglqigXGuqKrrRHc8/y2zfFH3Duufw8znEhz70yyfrP7qmlnqBPbo+1RvytNi93VZDdB5gLp/8VcHlcuDAuZ5OWf7q/igpGtOb8qaor/rwrH+boJuFbwHKPe5Q13XvfuR2hfS4LJcdTmeBN164fa7ByCwQS5SpIwzl5sp58v2ap81wZk1KSihxKFqIA1RiYiIqMpE4LquAer/HGxdkVgoyGTbvAwp36rLXEsoIocYE92IuKab7oIuJ3U5El27wbClYNkmecLagtArBxsTTdnY+kKKS5cCNmQuT0GW+jnftmGINqaWaOdSTHtgLMbOjC8cGPs2Ez/KNXODhrjEMaVUtj3JiN9TsBbO79e/2NGSowQR3YLVVgG5aQlIcfk6vk1AZtHx5ytpXdfMHY+xD0zEwnWuP2hDUrb8oC98jfiGRw6mIktqSlsEO9M6LCJIbXMu0neqDxq1Rvcuxgf9giBDpud+l2p0rRSN3hJMObID8YW6FbIhJXWf3qcBwb0dk9yIuCJUpZ0dWZtU/iqUdvHY+o0Ndp8mCO0uE9KxdJpKtwdmIr5Q9ypZKo3lixY0LLqTDu7AMtd1siUhW9cIW+BXvPeY8vGt63g6/DebkR4OWe8txtz587AwPsWYEob+XdSRcWofUt4q3BVL1sp0/V1Li1A1V3mpY2Z9fKEuzrL2/qh/x+Ine0xUbB12/GCmZQCs/dR/fTsjuL5jirC06a6/G9VGSgCRg33r5f8w3SWYg1rPf8/EvLfWYM3qpZi5Kr3Qemh9r0M3Y3b7nkTMnB+vbqaTED9/JlLM2jlrKKKMP73hcX6zDEbvDmrP2jKRtLRwdydZqxKRIc2urOEYYh4Xmg37Ul3LMZVrvzrgeK+Oj4TNLp+Ulhdz0gvncVsi9unMZce+zYXLDXMf+1oKMr/3ZUPJeadguRHoFqRLOexYXXgbs1ZlFsr73rIM6a27F7XtTsLSQl1BZSHhvQxIrrN2G1LKsVG+85Zt9ydIcE3nY0n4KEN2ih+CIso+EiunDM7BjqXJehsd5Ps6Y6jjtpRCyhKFUDms5VheWWiLkbLNyHMuKmVdK+ncVZpi5+Dy7tusrYWP753bcUDXnxXNvx6md3nOPy5ytmXpYGRAe+cZFpHt1BeOpCNdfWCWnSIqSJ9hkbXNOKr690ao2j+5afGFu8dT11Rbs+S3AxDcyzHJVO687fH5zPvzfvF9q1L18yyV930R1NXlKq9/GILUSuTuTVapLspxjVH03F/pLGhiZJew68PUHnCUzYW6GFXnlHRJREtzhBY5TxxIdT3mpQw1zilNgxCp5y3PudqDssTLcqNknpRbvRAlXYnKMfd20e315JxRzvuRKrvuq/prLEu/UH19bc9KKXINoI71/UX3TsXKJKcP52G8KtcnPp9UaH1tn2Tr9fWt69GJzI1K2n8uKlauV1J6lSkJew6qbVP3TWHmca/LNDsyd8o9sBWh/Y3pbcLQupHa3wf3GN0LVzT/OMrOvJ2Jhct/lX/WfZUD+yk/WI1zRdVcJ7rn/W/lIHOl6/ar8umVkuoEPClP3UlGmj6mrAi7ruD41edl+f0Nsm5lqKqypkL3AJVx7lBHb7nqcjzhi7q6dxMbbIf0BIdvE7FYXWPMe+Etly646Vxg0I2IiKhKBaOJjOeSpy44iz16akOivurzRUBQkRoeF8FN5eo5Dzl7il+w2t7bpy/4fJsFq9vxsiTjgDxZ6OuH1iVeNLuwqAvx0VMxZ+ESvPrqq8ZL+hg3PvfEmdPGH95xbLMNP+4tvs1uVca6Kn4RsZjw5AIsWWYuQ73cjEVQtkzsPKguzX2D0HmgvLcior263D6SiYSN2WpvBiDkCsdNSUTnYJUD1LZmGGMP9A2BVWrpWkRhlnNbjJf0Ta8+Ku2m3cwvuXtdbw0c1syXG7VpWLrTmKCWFtZ/FKbOWVRom92O6yX+sBe64agSW7Zij9ypBMVg0YJZmDB6MKI6WmGx5SBrdyYy95u3Md1glTuY+mGIdU0j/TLG26hopfUfxv8lqtg65OySvCAsaB6k9kW31nr/4kiurlBGQAgi2lhh9dfVtkBuDjL0DghBgHk/aM/BHtcbbzfrbO1kLFfx7RyLRc51XIToNsYHEvjra/zpBY/zW3ervuHEkWxVEhWVju3Z8n21Dl0dU8pUpBK7fOywu3tK3w2vy4Yy845xbsj/0c25oWK6tdQpjdzs4intrFQLsKrcW5KKn7dMmbsdFRh+zUMcE8pQ8TJY7dPiWbFsZv48nO0yFljpKuV8UUnnrhIVOwdX3r51sMFW7vzr5fnH1e6dOjDp26YzYuR9mwjIcwi5exKwQc4RuuyUDyLQOVCVn+o427lb3qsp7a1qC9UsV89ySXPX3/YsaOpR3vb0fFae876766udydijTh6+bcNhVt8NDg9SW5SLrM0VuMaojnO/oZs+qfoibESRdVOvGH14eVKZn470H1zPKeU5V3tQlpSj3HDPk3Ir1HHeL/c5o5zHflXu+yq+xjLPhTnZnu6dCpRJrppGIPahWVjwkpv1Lbfq3H+eluuVlF5lSNbbVnDfFNNZlWmn9iHjlUxk230R1FmfBWDpF6yPx5x95rVPZeQfO3J/MMbBdJG5fJq6vh2PeeY43ErlXyeWrMLXH7Yko04gAMGXOyaVrGh56l7y546HNqydo3Ww2zwvIycTyZ7kp2o8zzh4cg9QOeeOyqvLKSoVW/fqiwzELFyAWQ+NwuCr1Tneou6RvlHXGLvN+0w6Vxh0IyIiqkp9jRvyvJ+Qpie45+tjVKoXEwGrv/yfh5+26wnu+RhPU5fKBru+wPekwiIEsZMnIK5fCCx5mUhZn4gV8sTU/ERk6qcga5LKWVfpI3/GmBiEqx2W/f/t3Q98FMXdP/AP4iGe0hMM4ElMkATkUAIEJEGIQhRjKVSwGh6FWihCFYr4UCytojyxlJaCPkZMtVELreCvxEfjI7Q1VkM1VEmFtCSFUCUKUbyCqZgHPMXzz2++c7vJ3uUu2ctdQgKft6+V3N7e/pmZnd2d2Zl5oxQlmwrUOtR6tjW9QbajfO8BddvtQO/+HvXgkY3UPgi0ZjMKvRPUQ6Jb3giUUZaPH8BeGfTZwn+wAqUvl4afXm+pcycfPjIKGJuTMv1OLLopCynd61H9WimKfyPhtgbFe9r3sSdYOQqWqX3Y4UV9DzfSxk3DrB+twNq1q3DXTem6QDBIfU34MJLp1YpAVzRtrbX7sGMf3j8e+DOhX06gYlap2/tsoKWkyj2Sx2Xi/J56NnzqwTVQbOqEwzzhj3+MsD2wWSS54lsA0pSN9JZ0jo47X/2BwOdIOuDTSbzzhrZmvrTwUcN4FFGK+bplYRQq2Xm7vzOFc3z29QRcZ+MZtzGK7fpTjr3v+YEzeiN5COCekKqOK9CaLdAaNgGeq9yNLR/e26t+YeWHtyJMfm1M221cP+2l7eiuZ7Fd94VKR3LxcCQhTbd4ycHgfiou62pQFnJMsW8rnlR+FXShrEfN1jD7ZUwVNi7sn31p/GG9pnSE+4UTpQOd+1Frp3iLyz2xjOl2zzzkDJOLQzlKXygKtDi5vyy2F4U6YPy11zOEb9sB/SKaK1Fa4GZjaJIj0JrNV6JbLDkuHKpfvjBbNR+w9oIgYko/fnys78eb1573L/HZllkm4MDpNpJM2Pw01OtbsVf3WpGKLHVxc+tWy2ofq4rj8JLcCRZTGopnWU5T5QXLsOaZCniPuuAeloVp37kLK/LXYtWPZiC95VtvamOsdCMiImpLr3sDLVZcvcO+veRs8eGoHN4P5V8Xeod7E83piOIGzQ2nDHeiHiA+9+sZkU2Zjmz1UOPbW4Sl9+Zj/VNbUCZvZe/5QP26g4nLvnowc0qa7v6xbM1irCzciKIXK9Q61Hp8rTziF/dCxjNPuDADKbqLG7M1W3mgC6s+yeqhJAvJfaTwy+wKpZHjiw+w8amN4acXm751GcyJc1pszTgZ0yckweGrRtGPlyF/3UZseVXCrRofnOhIVvu05ZFlWDx3Dhb/pABFW6tR1zUBKVcuUA+aacZChq4fY1+4MJLpmRgLOexq9T6UQPcGozj6ZsKj0oIUGNS8UR5oKam40zORoE9yP7w1ZXqeflg248jhwDnGn5H836eNBRAyfticOXPCTAuRH1Lxa5+N9Fb7kdprtaQrOfA5RLcO+1TSBnlDGztwRIc0zkkMfA6mB+trXszXLYsexjXKLLCJqDOFc5z29URcZ+MZtzGJ/fpTsrdWhZO0fkhBVoq7sTXb69uxT15s6Z8F52XS8sGP2r1NrrDw14XJr42ppMpYrDl203YU17PYrvsB1b9X61d7plt/TBiquyyu27PZeGGjUTy2FbscJPWVf+vgbWiBLxz4uCbMfumpuLFb5Gacc4aRlq3x0xHuF06UDnPut0K7xFt87ok9MycjzaVS9Kursfjnhdj4dAkqdL6u7tuMZVqlw8VfOz5DGF3265bNY1Se5jRbs/mwRV0HcEYyBo9JR6o04a2rgTGcZ6OY0o8DZ+nazua05/1LvLYVRZmAEjY/baISZTWBVleeKSnIHqir3FC9ufEZpNOKKQ3FsywnHB+q/1CAZYvVs9ySPBRsKkV1nQMJA7OxYPk8hDw1UztjpRsREVGbOoCP5I11lxuehm7cTE7k6JYtfnjfCX4H2ypQgOqCe3CgWw0r59WBrjT8h9VDRmBWM0YGWsz463CguTetlPSkBH0DWFcbPCaBuu1ubGHThsxC495SkNaC+Oyr0X2EdNsTNDaBeizp3trXxEoDfcb3PB/TZNCPY/uw3ajUCLSCcyN1XmA8t8auUJTa+sBxuFMxrRWbNtNLwqCmP86YeReW37MIuVJBMkqlnUDAoSQ44Bofrk4Az5W5mHFTLrIHBD7X769AyYY1WLqmTBc4JAzOMgoc6vGxtBI7Oxmj9Bh1J0Ls+1BmjJOBngmBt5iNguPyqsB4MI6EBBWbQp23ejw3UYM6s7+QM5Ix9OrmE0r1/sZCfGdKBnKCFk9B7u3z9FuprWE7ve0yCoz6JIWMHyHSkJYov6+D105hd7tqi7xBGNeGs3sjtcm1ITZVhwJpKiGpaUhjWBqSpYsq6ao0MCeM2K9bJk//3oH8+VBLEdtW4WyTmT4TwqXPUPHZ1xNznY1f3MYkHteflwNdMrkSp+lxtWR8osBeG63g1DV0bn99hTXGwgyorQ9s0J06TR1x69lJ27avZzFe94McLEH1YXXtuHAoZunxcetQ/ZKlSDCe24qRe3omUmUcU+++hrGl6nXBsRPJw2MpKkxDal8dO/Duls9tdL8QVb4Rq32B676MbdWqa0YHOfejElu8NVwLE23ETpzuiQNdEkr3+NaRopR+zpjymw4Xf+36DGF02X9GbwwdJ3laY0VOoBWcyi8yspCkbpZ9B3dZXjCIR/pxqPTTNC9yT1mg7m+XY94E+dSe9y9x2pbT6EXDRplA0/w0sspX9uo8MenimfCoy6//7UpsCUkfnUt8rh3xK8sJMTgbuTfNQO4Eo5vrI7WoeHEj1vx4Ncqk+9CEwchqsftQakusdCMiImpT5di6W24/3ci8KccoPA9wjpuLrAHqJta3D9stfcKHKn+lSt/AujNmIMfoZk5zZmHu5SnqccCHfa9tMWaakpB5e5blAc+J9NuykKI253+3OsyYSsHtH/YaJfruQdMs++xC9h058EgBSRsrVzftsgfuS3ODKwMG5OqbeKtW76seeNhkFoCrm+pRllAbPAPzxsitsJULSUM88Mi4LMac8Hwo269izpECj4rnoO6tXqzCvuPyJnqqir+QrlAOlmCnNJFTv8u+LdtyTErPbCz62QrMaqa/iPI3pE99B1IuV+krJOyuGZeCpD5qi9IaYM8HOozh9mCaJV25JixCzuA4PzCbb+iGFvKFiU+kjET2lTmY9k1r+lV6nKULOKWJ1yd6RgnK9gYeYoZ+awY81oWdHsy4ZxWWXGNvHClH18jh2bzY98FrDNptakgnW6twQB70THXqQaphwWpsrjILUZ3wXLccS27IQtaUeVj+H4ExeYK8WIaqwGmi9yv3Z8sxb4osPwtLVt2JnGEZmPGDXF0BHMyNtAUzMONbWWG+C7Cd3nxbsFMP9O9BzmxP0D6mTJ+GoZIGvZXYHNIF2okXTd4QDXVt0IM9qWuDirvg8PBEDO+ILPmZb/NOPUC+c0gOZg0OWjNypw7VeYq3qmnLl0atu245h1yDXKNyQes5DdPSJYzqUVvedGvB511bhbNNKn1W6vSZiuybrOesE1mXSiGfVev39cRfZ2O/J4mLeFx/fGV6TBrHAI+6t/HjwN7G4qqSXfvgdyTBIzc9hw80VOgI70s7dSt0x4BszJ8QdIXV219136wmXTJFm7Yb2L2exXjdD+ZFyW51fTjDg6yh6jeHq1FibfkRl2054R6YFPzbKKVcswR3XpWkwqEeFb/f2NBSoGRbtb4muoblYkZQ/qWudTOXY9UPclROZuVE8qWheahxTTlSa3QVGr/7hSBR5RuxqkDZW3LWJGBkq64ZJ+7cP1H3WL7NlYFr4cBszLCev+r5KbN/yD61Nk/q6giKiwO6Ul+lyXRL97Gyr7dkBl6sarUOknebWhleoWnB6VbPSOqZKsmyjnACLysmwDNYHbk1TzdeMnAN9qgwCb4OxJx+VF4kWaVr2LTg/F+ln9wJ6Ujq78DHb8qM9rx/ac223PBMD8mfbolUJmAnP22GtKqWyp5+8lKpH7W7Q18qilE0z5NxEZ9rR3RlOeXwBg4SqVODYgK5oZV2p6Vi5JXZyJk6OeTlybNwlj4NWznOMcVN18TExP8y/iYiIupQevfujbo6fdfRwV2M8demwvXZIex8oRyhvVoc2nkU541Nw4VJaci+fDQG90/CpZNuxswJ8kBej8oNq/A7uauP5NBOHO0zFmkDkpF2xXiMHpyMpEsn4+abrkDyWUD9ro1YtUm6WRKJyPz6SPTtBnQ/bzgmqu2NzMjCxG9ci+xU9aDir8VLv3oUf5c+17UvcdHYy5B4Tl8MGj0Co9P64vD23fC+0wOXTPQg4dxByBk/GiNGZ2PSDdcjM1H3RQF0O46651+BfuHtgkxMSu8LR30Nnn/FeAXukvG4NkU9/qh9/2NQPx/m/tWjxvx9OId2w9d/LIYnJWP4leqY0zORddUkXP/1NCTIK0Nd/DhU8UeUv6cOKZp9Vb68aCwuS3Sh70C17KVD0beuHLs/OIhPksaq3/SCe+R4jL10NMZeeS1uzFEPcV3Uj9TkOHbIOJZrccfPb8bXhyfgvTDxbXXMPwBjL0tU8ezH/m35KNMPZ6IGvYZPwsXymmhdFZ5+dmfgIUI7ht3vOjEiIxUJbkuamXg9Zk5XcXX2l6h/swzl+601MhbvVeGYhF2yCrvxYzFiYCIuGnc9Zkwbjr6nqwegrU9g/W6VAPzvoMfQifAk9MKgq1QYD89E9jeux/WZiegu3Yd0ceB43fPQURoujg0Xj78Wqa7G+AjP3FYCBqnjGaEe6Mab8Xm6fN/4+7rq47hw7HAkJkn6HYGUfokYduV0zJo0CD1UvNe+Woj/2SNPnOpZu+oYLhijlu1zIS5T671kUBI8cqz/kaO25cAn/9qBN6rqjHOjqYN9RmDS4F5w9Rur01hq11ewc38zxxQmHGLdB7x3Di6+5mL0NsLhzZfz8Zp+QTqQRjw9A7Up/trXsD7whXZsn1+HU19J5l2d6J06HMMHJ8JlLdVv2M+DKo33wogRyeghq+vmQuJgWT4ZvZ0yw48j1X9GcYWk5oM46+KJSOstT2td0cN9IS50n4Z9kdK63fQmx/a2yhoyPEhMuQzjR1+CQckeZF0/C9epc6mryptKHl6LciNviiYOTE1+05p02+Q30eQN0e33oT0+S1o38+rrMWmoCg9ZIMI1xSpsfvb+m9jX5RJkqvSQOkad2xcPQtKQLFx/83UY3rurSkslKFhbjobLQBhRXbeM/B5dXUgdN1HlJaORdcVEXHv9SLhVuq7f9Ts88Lx5jYp03kUXzokZkzDyPIdK4kYe1dy1JeL1yMqPvQdVvjtmEBJTVTzI9XDseEyceiOyLlAnmexDK9NEXK6zETQNB0Mzx9yauI3qWm4nvKO5/kR0DMdTJP071fr2Y1t+GRovsb2QNuli3RKj7h9Po3in5V7y6G68d9YIZKYkoG9aNsaPGozk/pci5/qZuHGsul5/VY+3/lKOdz5VyxrHYjdth7J/PYvium8jfI/9243REy5U2wC8f30Mz1cGrpkBUWwrQh6acfsDuPP6icgaeAx/fP0dY244xv1xl+44f4S6j1P3sOPVNHHqzWq9vdFdhXX1/xQg/8+W3EiuKReoa0piAi605l833ogcTy84PjmEHW9UoU4FeiC/Ne93JXwvROaUm3HtSLXPkpZ/9wCeN9Ky/Wt1NGk7mnwj9nwr1mtGVOd+a66fIU74PZZ/L96Xc32QuhZaz9//yNLdrkr8NMRFtHnSe70xYpIHvc5JxNhRI1V+0hWvVLyDg59egLEZiejlHo3xY0dj9JhstT21r19TMSTpoasPh5q9rkdOE/GKv8h5SBTpMcrwipQW0r97HxZOuwID0EJ+r/N0Fd4qGIPzdOM6kNRD3UeGXAeUmNKPea1Qvxk0Th3joMDz943Tr8CFPVTaqXgGv3xZ8v+2u09sKpptmfHZFa4UyZ8G4YLzLsGE6TMwMVUdQEiZQDT5aeR9PYZDKu1nSwCp+Hjtl6XYGzZwLaLKa+w/T0a3XkOY38Tl2qHOG/tlOeooXZdg4uAEJAyUcyuQb026YRLSEnRO33geflCN45bykhEpbiQOuwrTb56MQVLss78Mhc/sVrFCJwpbuhEREbW5chTm5euB9H1nu+FRD8lp/dWDi7caWwqWIT90wOcwyh/PQ74MkvupE+4hGcgalgTXF95AH94PlTV9i+xYJTYWlsJ7WgKS1EOZO8EJf30tSgtXoyioO4pqbNhcDq9agdOdhKTE3jhTZvu2YOUvilApX7jcah1uuPxelG0oQLl+zkmAe4z821Z8KHuoAEUqzOodLrjVMSS51S1/RRGKqkKONsp9rd6wBeWyrIqLpP5S6RCYX1mYhwL18FT/hRMJ/dT2+koLnS1Y8/safRPs7CkPtVHaswvvy52uerCpDHn7dEtl4OY6uCsUw9tFyLu7EKVvqZt46UpG0kxKgrppr0TxapVmtgZaSIQnYbdMHUsN6tSxJw3LQsYQNxwf1qj4X4q8TWbFjQ9bfqrSwy6VLhEIY7d6APFu24iCNwIPswl9M/S/sVPb+m91PPvr4XdKuKvw7WPE567Q+CxD/k+MYz87CWnjsgP7f9SLiqdXI+9pSzdZatmCe9foc6v+DDdSjGN1fippXR3rU4E35iPavAkl8ub4Gcbx64GuoxTrPqAMtYeMP1U62fui8bdSqvsnFf6mYxJJOC0rCISpOcaCT4XR1vDb81Wsx7IfB8LVOuyDr65GnSursfTxxreDSx8pQtlBSxr79JOGB8Gm7KY35aA6V+8N7AP6pqi4zYBHnWf16qFw4y/yQvKmjqNN8gYhcfhwESpUWDt6Bs4Lt6NepXOVn9l8Qo6Un3k3r8QydQ2o+RBwD0xDVoYH7jPqUavO79V5RQjp+CqM6K9btS+r86CqHq4kFUaSD6u04d1VhILQa1SE867Nwtkule+uljCr8wWuh2rfXH6Vjh8pbTJIfnT72tGus7Hfk8QuPtef6qpAS2H/u5UIbu+/BZXvSkyYY6kGq9mUh6U6rv1w9fMgY1wa5BLr3VWMNcvyURpSI207bYeK5noW03U/xMFSVOtVq/vErZZtmGLc1ie+wFH7fR/rf1tk3scZk7t7Pbx7SrH+3mVY80JobqSuKSodrpF73qOOxvzL6UPt1kIszduI6qBA96HymWJUf5qgwjeQlh3qWlj5dEFwWo75Wh1BFPlGzMJdM5z16ljVfYSxSPPa+dzvAPdYNZtWo1DuT+T5SdJfkjremlIUbA0NsWjzpC3YpNJu/ZcOlYeo9bpdgdm7CpFXoOK+3g9nQiBfd3yowvf+LbrVHc4+R49J1jodIe82RRleMacFo8t+dadZsy04T6/eJvefindf055cYk4/eVj9tORFludvdZ2ueGYNlhU05v/tef8S/bbkWEtR50xFxpXqvtsdqUxA2MxPm+F9bZ+OD2lFF9r1aOyieJ6MlzhdO6Ipy/FtflDlW4E4DuRbCXAcqUDR05Uh25JnsDwUblXngN+pn8Gy5XqpniW8O9S16SdFDa3I6cTokpmZ+ZXxNxERUYfi8XhQXd1Mtz1EJ0K/WVh1XxYSakuwMK/I1o02UZsY4IHnXzJ4uvFZcU5fjrVXJ+m//XuLcOvqkMo6IiKik0Du8ieQk+RD5eMLkW+MmXtKcs7AirXZcNdXoGBxASqM2UQdXc6djyJ3sJ/ncJvIwKL8eUg7uxYlc/JQZMyNJF75qXvmCqyYkICa527Fyvbq7pSog2JLNyIiIqIopH3DgwT4UVOxhRVudAKlYNbcJViyagUW3ZClx8TIumEJlk8IVLjJ24/7drDCjYiI6KQwIBfLf7YI2UHjXzmR/p00yEg/voPVrHCjzsM5GSNlYLG6KmxlhdvJwZmO64aq3ChMDy9EpyJWuhERERHZ5obb6YCvthSbNrPKjU6gUdcgrY/61+lG2jWzsOQHSzDrGo8ew0jU7yrCL7cG/iYiIqLOzXm+G64+aZjxi7VY8aNFmDV7EZavWoUFoxKA47Uo+12TzvWIOq4UF5z+elRu3oBKYxZ1UkNyseieFVi1agHSVXZUV7ElpMtnolMTK92IiIiIbPOi5MHFulvJlsdEImpDOwqwbPVGlMkYbeaYboq/3hhroqWxhoiIiKjT8G3LV9f9YlR4/UhISUPWuDQk9ZJxUUtReHceig4aCxJ1BlUbsWzh4nYei47ahLM3kvu7kdDdB++OjVhZyGpUIhHzmG69e/fGuHHjMHDgQHTv3h2fffYZ3nnnHZSWluKDDz4wliIiIooex3QjIiIiIiIiIiKizqLVlW5nnnkm5syZg6uvvhpnnXWWMbfRp59+itdeew2FhYWsfFNGjRqFiRMnIjk5GV27djXmhuf3+/H888/jhRdeMOYQEZ2aWOlGREREREREREREnUWrKt2kddsPf/hDjBgxAl26dDHmNvXVV1/h7bffxk9/+lMcOHDAmHvqmTJlCubOnRu2cjKSjz/+GI899hg2b+bok0R06mKlGxEREREREREREXUWXRMTE//L+Nu25cuXIz09XVe4SXeSr7/+Oh555BH87Gc/Q3l5ORwOB8477zx069YNvXr1QkpKCl555RV8/vnnxhpOLd/+9rd1GERDwm7o0KE4duwY3nzzTWMuEdGpRV7yqKurMz4RERERERERERERdVxRt3S78cYbdSXSGWecoVtjrV+/Hs8++6zxbaOxY8di4cKFusBUWrxJd5PRqq2txfz5841PndeaNWt0q0A7jh49ik8++QR9+vTRn9nijYhOZWzpRkRERERERERERJ3Faca/to0cOVJXuEmrtT/84Q+6wk3Gd7vhhhtw7733YtasWbqi7S9/+Qv+93//F8ePH9ct4mSZaKfu3bsbWz11SHj95je/wXvvvac/S5eU0jWldFFJREREREREREREREREHVNUlW4XXXQR3G63/vvf//43Xn31Vf33okWLMG/ePFxxxRWYOXOmHu9NKs2ee+45PZabtNyKZpKWcaeyQ4cOoaCggBVvREREREREREREREREnURUlW5OpxOnn366/lu6i9yzZ4/uNlGm004LrEpatUl3YOPGjdMVaLfddhsmT55se8rPz29VV5Qnm7/+9a9tWvE2adIkPPjgg7qFYns5EdskIiIiIiIiIiIiIiJqD1FVuknFmlSqWYWbJ7p27Wr8Ra3VlhVv0kWoVKJ269bNmNP2TsQ2iYiIiIiIiIiIiIiI2kNUlW7Hjh2D3+/Xf8t4a0OGDMHOnTtRUVGBL7/8Us+XriGrq6vxyiuv6C4mH3nkEWzZsiXsVFxcjJtuukn/bsWKFXqedFV5Ko7lFkm4ijfpxjMay5cvx9q1a3HxxRcbc6DDXroE3bhxozEn/HLxFG6bREREREREREREREREJ4OoKt3++c9/wuv16r/PPfdcXH755fpv6RKysLBQV7Rt2LABv/jFL3TXklOnTkVycrKufIs0ma2epKLNnBeu5dypolevXvjJT34SVDl57733IiEh4ZQf646IiIiIiIiIiIiIiKij6pKZmRlVTc6NN96Ib3/727qrwI8//hjr16/Hs88+a3zbaOzYsVi4cCF69+6tK4us47TJuHAOh0O3mvvd736n17FmzRo9Npwse/z4cf1vbW0t5s+fb/yq8zKPLV7+9re/YcmSJcan5j3xxBPGXwESpnl5ecjNzUVOTg5KSkrQt29fDB8+3FgiwFxODBs2DN/85jdxwQUX6G5DpUJ1+/bteOqpp3QLR2kZd+utt+Lf//439u3bB5WmdOWpxONrr73WsJx1m0VFRXrdkj6mT5+u1yEVsJ999hneeustPPnkk/jggw/0MuHIvsyYMQMDBgxo2Ke///3v+neyXSH7/a1vfQtut1tX5Ep6LS8v12kuPT0ds2bNwvvvv4+f//znDS01Bw0apNPc0aNHsWrVKt26k4hOHBkjVFpPExEREREREREREXV0UbV0E//v//0/VFVV6Uoxc4wxqZwZPXq0/v6iiy7C0qVL9SQVKmL37t244YYbMHnyZD394x//0PPD+fzzz/H000/r5U6GCrcT7YEHHsDBgwd1pZR06/ib3/zG+KaRVJpGWk4qp7773e/quJSuLv/85z/j//7v/3QXlxKnVlK5NWrUKF35JZVtUoGWlZWFK6+80lgiWI8ePXRlnVSO1dTUoLS0VP8rhewyX74PR1pPLliwABdeeCF27dqlf3fo0CFkZGTo9CjjDA4ePBizZ89Gz549dUWbtMKUSrfs7GzccsstukvUw4cPo0+fPkhNTTXWDAwcOFCPOyeVh6xwIyIiIiIiIiIiIiIiu6KudBPScktaW0nFm7ROGjduHH72s5/h5Zdfxi9/+UtcffXVukJOvpdKFKnQkcqcUNLaTVrNye/i2RKMGkmF5xdffKHjQiqm9u/fb3zTSCrbIi1ntj587rnn8Pjjj+uWZDJJBdYll1yCs88+Wy8npDXjb3/7W72ctLD705/+pFuYSeuxcCTdJCYmorKyUqcpqeyTf3fs2KHnS4u5cKRbU+neVCoAZbw7+d1Pf/pTvPPOO7qyTfbL3Dep/DP3e926dbrCUFrHSWWbdJcq6VTGJjRJpbFUFkp4EBF1GGMWYa3KV59YnmvMiBc3cu95VOXZj+KuScYsog4o4/a1+t5i+XRjRoeXi+VyzuYvQoYxJ6wxC/CALLdqHjzGrLbmmjALKx6Q815tV8L0W8YXITIWPKC/X3VLK/esnwqDR9U2Hr0Lk41ZncIJiJNY5S6XuFyLRWOMGc1wZczAXasC55OeHl2LVffMQ3YfYwHNZvqlk0Rb3AvEvs5o0nXUnB5M+8EqrH3MOA/WLEC68VVHYTevjrc2DXdq1FmvkXbYPb/iEAYx36tQ+1HpYvJtK/CAxLmRrz36wAosuiE47jrfPT+1nwwsype0s1zdqRJ1fK2qdJNu/2ScMamIkcqXcKQCZuvWrbj77rtx4MABYy51NnKxu+OOO3RrMpNUXEnFlHQx6nK5jLnAhx9+qFuQmd577z29nLQ8C0e6lJRuHaUC1+qll17SaUcq/0JJRZpU4km627lzpzEXej0y/t22bdv0dzJJJeL555/f0OJSuq1cvHgxfvSjH+Ff//qXruyT5cyWbv369cN5552nu8ncu3evnkdEFNnJUChZD59f/vWh/oiecXJos0rKttBx0hEL2k4AdQL6vwT8xz7CR8asuKSJ6cv1Pdza20PW0G8G7pyZBbfLAZ+3FrX7KxGpB99Pjkvm4IevvnHPotq3Iz59bGoFiNxheAcUNk5OEsPm4a552UhJcMJf71XxXwuvz4GEPl+D47CxDJ2C2uJeIPw6O0phavZt8zF5SAKc/np41XlQu7cajU+xHUAUeXVrsWC7vUS4bnbWa2SDyIXfts+vCGEQTdoMf6/SSUS6V7MKWcYMGztT0988gAXD9KzInNNwl1kpFvQcFeu9qROT/3MRpo1yw9XVh7qDKl0crIPf6cb5zpPubovigM+ldDJoVaWbkJZrDz/8MObMmaP/lXG6pAs/ad1UWFiox8uS1kfhxuWSllVvv/122ElaK0nlDXUc0iJN4lLiVS6+9913n25p1hLpKlRayUUircxkmSNHgp/upHWkjLsmlWKhpJJPKvukMi+0wleWl9/J76Xybc+ePbrl28qVK/W4bd/5znd0F5gmaekmXUzKPOmqMiUlRXdpya4liejU4cOWn9+qruWLUfC6MYuI2s+uQiydOwe3/qQIXmNWmxqXCrkT8u3ZiIXL8pD3k3wU7Ql8Fary8aUqb7gVeU+3cs98W7By/hzMWVyAcmNWp9DecdKO0scNRoL6t35HPm5dvEzFfx6WLVbXgKW/RFlgEToltcW9QEe+v8jA0CSn+teL0p8uxjJ1HuQ93viCaYcQRV5NnVRnvUa2KIrzKw5hEPO9Sifzf959+oWZxqlO5baKWcFpmfZ5/0//ppELg6/KNv4Oz33dSKQ4jA9xNRkjB6gV+2uwZdFCLL1XpYt7l2LhrQtPmbgjolNPqyvdTFKpVlxcjF/84he6MkYqNzZt2hS2ss303//933rsrXDTbbfdhueff95Ykk60b3zjG7oLUOkmUuJZugr91a9+1aSirKM5evQo8vPz9f5u375dz5PKQ2mhOW3aNP1ZWseZXUxK5Zx0LSmt46rj/RohERERUQeQ0VeqXIC69zpYATO1C0fXQEla/YchL7b5fIFCO6JTQjLOkRESjn2AfQcDczoa5tXUeXX886szq346X78w0zjtRJ18cfwANgfNz0P+003LtZwDMzFN6kTDSsN1wxtfUm8Txz/G+0E3HOr+gzcgRHSS6pKZmRm5KRLFhYxTFs8x66Q7xiVLlhifWrZ8+XIkJCTg0UcfbRirLDc3Fzk5ObqFYlFRkZ4Xbrl77rkHffv21a3czJZn0g3jokWL9N9SsXXOOefg1ltvRV1dHfLy8vR8Id1Hyvw333wTa9eubbLN22+/XVd0rV+/Hm+88YbxK+jWZjKmm7RCk64eraSrSqk4k2WkhaW0jDRJ6zsZq026tZS/u3fvrr8/fvy4/j4jIwMzZ87ULeQefPBB3cWkx+PB9773Pb2cHLtUxK1evZot3Yg6CDlHO15FuHSnMg9pjUNaBhyrROGi/IY3NZ3pM3DH9EzdjZfmq0PN65vw4FMVIYWbTqTfdAemj0mBuah0+1X14joUvFATmCHdJd6SBmdtCVaWuzH7G2lwG8vWHyzDlv9ej1LzXYhmlvV5K1B8f0Hjsop03ZCT5EPl4wuR3/A2uuzTnZh5eRJcUkb7pR/1tWXYUJOKBVcmofbFOcjbJMuZYVGLkjl5CFxNDNIdytVJ8O0qxMKHrO+vpiDnttnIGeZuXLe3CiXrC1DydmAJTfr9v2UGcoa44TTeuPTV1WD7pgexsSLS05l0fZKDJONTAxUWc/KMvZP1fmcGss3tKy2vN1hLcesctwgrZqfB5atG0dI1KDFXO2AWVt2dhQS/F6W/2IyERc2ko4Z4LMXGwx5MS1fhcFpjOKdMmIXp14xs3Ae/D949Jdj4+BZUhx7GgBwsmJWDoW4XHPK61Zc+1NVsx6aHNkIOWbqdmTfMWE+D0DTRlK19iDI9Nk17gX3d/mkmJg91WtJeOI3psXRDHTzXpett1b6gfvN0YAm756UzfRrmTs2CpyHMAufApoc3ojz0vSMVvou+OxlpDSelFxUv7kPCDVlICskXmrCEz5y8A7byFluanH82zo0QZroIhLm9fC+Ysc3QZXpmYMb3pyMryRK24fKAsFKQPXs6ctIt+eUxL6pLNuKxP1SH5K3BAnmd8SGMhrQVFCeBsAn8Vp23D25HwvScxrj2eVH5+3XIN/NqYYS9d2s+tvdS975D5dxV81Va9lZtwbqHSmBZWrN/vVD55+2z1blgrrMe3ooS7OuTq8KzmXPWPCbjoymQPhAmH48Qd0rKNQsw++qhuts70eR6ZcPkux/FtAF+VK5T+7vNmKlk/2AtZgxxoHrTrVjzojFTybpjLWYNdaDmuVuxcrMx05mOGbdPR2ZKQkP4WvO15tm47hrs5bWWa+FPt8NtzQ9UGql4djUKttYHPocVzbU0im1FiPcGlvhtci9g/BZVG7GhLgvTx4XcD9zfcjgHrTMpcByhmsvTG37/9BZgXPBxNjnvDC2lT1vXO8mjvnedJW1FyKPMuKkqRmn3bEwe6FL5fwUKFhcEutJrVRptIa+OeG8VJg1F2r/yBCxoJi4awn3dOtRNmNmYV6t8qfrP6/HLZ0LzWjv3dY37F+n6HI6MQbngOkveKK15dpVg3SPWfNRYNyqx8ak6ZE1X196G+K9F2YbVYe7vYt/nlu8TzN/L3xYN512kfNYJz6TZmHFVYzoOf02wxLmtfEfWOxczcjxwn93ceu2ybN9Ic9HfT4aEgZFmQzWXTwTfqxgzYzxWu/eAEc8VlU5r/vQYHnym+fuSyOezRYvLRL5emwJhBNS87UfKAJcKq4UqrMLs2YQlWDvTA8fhOvj6JMAVdI/Y8nYiCYST8aGBkW7CHF/4OBU2nyGbNRl3PToNKccrsV4dR2Mr/2wsWTsDnq7q2W2+enYz5qo7EJXOZyHtjBoU37oS6mqk2b9vC6PJtSHScdi8520Iw/VYV5cd/PxeU4LHHipu+mxoFTGNNT3HtWju41txHWw+H2km31PX+7LNq7E+9H4rpvtFothIkiOKyByPTVq6mWTcszPPPNP41HpS0dWtWzekpwcPq3vdddfpceRGjx5tzGkklWLvvvsuvva1rwX9TvZTuo9csGCBrsi78cYbdcWgVLSZpCLxo48+0st27dpVz5PCfBk7Tn4jFXbSJSUr3IioebWoeLUUpS9XQ9/SHVcPti+rz69WqG8CdKXLgmyk9PDDu6cc5Xu8qO+agJQrF6j51p7wnci6fQUWXKluprvWNyzr7+FG+g13Yvn0FGM5gzsbd96QBmd9oNsQr8quXP2ykHt7ru6GKEiYZZ1uddP5gxlNlw2RsUD2Sd2wd/XB+1YlKvfWwd8nW8+LTYp68LoTuaPccNTVoLK8EjWH/OoY0pH7w+XI7WcsJsvduQjT1EOVQx4uystRfbAejgT18CH7FrFv973YLnGxQ4WhfDxSreJJfX7dHKczA/OWG+MJ+Jqud9G40Bv8puzErW/bYyiuUnfxTg+yZ6bpeRLXk2/M1F271b2+DhvfbjkdaW4Vv2p/nX4//MfVpGalqIcjGetF9qF2VxlKt1Wi9pgD7mHTsOgHIWlhgHpI/mEu0vu54D8UCPPaegcSBqr4XLEIWeqQaytkP0pRrQsS1HHtCHyuCNqRYFHtg7CZHtNuWd6Q9vR4D7UqfpKydYWbfW5kTU+Hu7sRZjJeiGL3vAwsJw9xDtTtLVdhodKJpNP+2Zh3zwKViiyc6uF9SW7ggU897OkufXwudf5mNS00bZHNNNEqgXOj4qA+M1C/NxDHjedGS+K0b84sLLpnHrL7N6bH8HlAOIH8Y8a4FLiO16JyWynKdtXC53Aj7VuLVPpqPmfT6Unixzp5zaftetS1eCBuZN8xDWnO+sbfOtW2VV5915Sm6dM9QeU1Kt3W18q2vPCpPMA9LBd3/miy+qtRNNeLyT9S+afKF9VaA91I1frgSpcKN2ORSGorAud0aPw3d5KHoc/7G9S51bUONbvKUfmW5XrVQvhble6TrqScOH+IJzBDM7skcyB5sPW4PfDoAhUv9r0cmKPT0YoFyB6o0pG3GuXl1fA25Gsh52gT9q+7UedzkkZUfhuaRtJnqnTbbNpuDRvbUnnSPvkuZKoPvI8If53KswJ/RuQcOgPzrkiA/7D8VqVNv0PnhQuWz4N5dbNlz/awaXB7i10mOtU5po6zh3mcKgfS590dWHJ18HlnJ30Grnch+ZjslxkQ/VSefp/Kowaqq/WHKp8JzaMGGMtZOAZP1hVa+nqjx5dSWp1GY82rm2qyf7biwgHPTLX/ffwqb1Thru6V/M4EeCbNx9ygezC793Wm8NfncNxT7sIKGYOyl8q/91eifFcNvMddcI9S+ejyXLXlEGenYYZaPsFfp9OK94gfDlcSsm9briscGsW+z/buE1p33cxQ90GLvqW210Mq+EOuCbdnqTMilL18J2X6nWq9aXA7wqw36FrTei2eXy1pdT4RLJZjjeoeUAtzrjhcSFHnyvwJxiIdxMdv7NTdZicNnaZSTSgnpl2Wqv7vw77d76ujip+9r4dLF9tVbheNaM/bSEqhb0HOPh+eIYE52pihSJaT64xkDLbmceo+5XypOPfuU78MsH/fFkbDtSEBDnWN1s+i1uNouMZEf8/rGDIDCyaEXK8HTsb825rvUjQq0dzHt/I6aO+5NEy+55K8+o647ANRvLDS7RQgXS1Kq6+rrroKU6ZMwdlnh75uFRBuORlnT+ZJhZaM33fnnXfilltugdPZ9HYvWn/+859Rq25MRo0apVvuzZgxQ/87duxY3VpNxmWTFmvSeu7+++/XXUCKl156SbeAu/rqq3Ulm/zu7rvv1i1i9u7di4qKCpWZBt7QuP766/X+yjL/+Z//qSsMpYWbjCtokoo3h8MBv9/PriWJyAYvyp7ZiI1P1QYeHvwfYMdT6vMzZfpBBs4czJ+eBtexamy8ezGW3V+IwvuXYfGS9aiUSrL0KY0PwWPmIneYvHlcifVLGpdd+LNSeNWNctK4aQi6TVYPj9UbFmOxHt8jD8t+XKTfXHMkpSE7NFuOsCzcachp7sGk3wxMSVf7JK2xfrYQy36ej3y1T0uXFqBc91/SeinfmaffdPRuXYOly1YivzAfK5ctxMqXveoBNQlZ/2Ec7ahrkJmkHvcOl2H1kmVYU1iINfcuxmpZDi4MzZ4cWK6JSpRIXPz9g0Cl29FaFU/q84uBltpp865DRoIDvre3YOXixvUuXlep4tKFtOnzg8M7lO249aGsMNAKIiFjBmapByjn1fORI2MZ1JVj42/k/ewW0pHJiMc582/FrfNXohhpuHKoetBSD2ClaxYj76H12LguH3lLVqPssFq8/0hMaXiIdCP329lIcvhR++JKLDTCPE+ltfVSKehSaeE6N7zbinU41R6V3/jxwd9lv4pRFrFboGj2wWAnPaq0lzsmoSHt6fEefmKErw4ku1Qc792IxXMlzG7FymfUrCjOy+wxqXAer0fl00v1chufUulk2VIU7VWpyjUUV04JLCeyb8tByhkqxqvWY6ExRlaepOkXawNpMCo200SrBM6NHXVGQVatbEdNxrnRsjjt2zeykSbZy94iSx6wNJAeVR4w8hvWSpgQw65EWl/129pSlS/kIX/dRqx/KA+L15ShTsV50qgpaObXKH08kPYapw2oVvmsqHu1wNa4U/VVKl01iWcHUq6Y3bQCQuXrG3+o0preluTrJahVwe9QD/qzzQLgaK4XE1QeMlDt7zF5O7vpept1sAzFYeK/eFsUsTdgFuZdrTLwg6VY8+NlWPlQIfJ/brleXT6j+fzTwrftgO4OKyExvbEAedgoJBuPKM6UzMaCEOdQuOVthcMHUCZ5hvpFzoJclY4kT1mKxfeuQWHhGixryNfSMWVm08KoBravu63I58y8pyGNSL6hMzqkXdXMPrWKjW3tKUK+TieN0+qtHwEqz4KvGsX32xi30K+O//6lTfPjhHRMnhrF82BViU5zoWmwpEp/bJa/tgQrF5nHqa4jT8sb/k54rracdzbTZ+B6F5KPNVzvnJg8azJS1GHVlReo+x6Vz5j3KXKuqzwq57tNX1xyqFAsXb1QX29u/XEhKmJKo7Hm1U012T9bcaHyGq8Ky6XqOijhLvdgr8pZ60RqRlZgEcX2fV2DMNfncJyTMfsbKWprdSh/RKW/n+Sj8KGVWLZoJUpUhudIysHsJmGo7nVeVvuxNJBWdHjvUjF9WgLSJ09T6wqIxz7bu09oxXVz2Dxcp+6DHL4abPlZyDVBrcQ1LDdMRY6dfCcd12QkqSXrUKbys4b1rpHzQ3b5SkS6s45G8+eXDTHkE41iO9Zo7gEDmjlXRuUEFukQnDinZzF2vq2Owz0S1wVVRCv9pgXGXDuyFy82bUQck8oXw5wHT5Wo3M6+6M/bSNQz2n59B4Kk4Y3XsLThyUYeoeLt0saqGKe6D9AvTO4vU7+UGVHct4WRcYtcG1Ta3rVe/cZ4FrUexzTjOFpxz6vzeuv1Wi+rdjklHXFLibbv41t/HbT3XBoh31P7kHaFGa8x3i8SxQEr3U4BL7/8sm7hNXToUFx22WURK93CLbdx40ZdOSYVbzIvOTkZr732mq4Uk4o36ZKxtaSST7qy3LVrF1JSUpCdna3/lW4sZb58L6SVnbRMO+MMeUIEDhw4gIKCAt1SbtiwYfp30gVmWVkZHnvsMd0arrS0FE8++aRutSat3cxlduzYoZexktZt0uWkdGf5j3/8w5hLRNRKV45EqhTYVGwM7jbPV4btNXK7noBko6FuxqXyRqEfNa8+ZhQmGt7eiO1v+eDveg5SrQ9FB3fiMWuXCb4S1MrdNFxICH14irisEy710BKJ+6o0XaDke6sUG61dRPgqsOugdSej5cGVQ9Q14/g+lG0I7m6l5qlKXQDh7JMaeIBwnC6PsMCnvqCCiZrnCrD6/jXI31hmzIlGBiZcLNcsL7avLw7q3k1appXJQ6gzFZlNHqYtoohbCe9fqqdWv5qXeeMszL7So0K+HhXPFUb1kNkkHtWvC5dJwU9ecPyoI6qWt/zUVs5UD0OaMwseqbw8UoXiTUFHjLIXd8J73A+XevCOXhT7YLKRHp3jUnXa89eUhaQ9Fb77o0l7XuwsLA083JuiiLstunByMfJftG7Th5JaSY0OOMxnOZWmAi1z6rDzaeNh3FCzqToo7ZLBePLwH//IEl4qPf5mNdaoc7tw8wFjXhi7CrFMCo3zNgZ3z/h2Nd4/pv7tfia+FphjS6AAx6EL9At1RXhLfDhQHpyuajYVo0rSU88kZIZUwPj2bw9Oa28XoVgKgFV+nZRhFEpEc70YGigQqqsoCrleFKnzzvi7DXmu8qi98WPfto3B3RSp61WlzsB7I7VJJVQEB8tRI+d/n+SGijpPRpIKmTpU7lJfnH0+hpnrGpek84W6d8qNcyobI6VW5PBObAzKG1U6Kt+n01VCcuR8zf51txX5XJO8R/INndHB2dyFt1VasS2zsFD9qnLTLxu7Pm6OtxobdQG+QaXNx16Va5sDSRfbLeSMhQ/VLxYFnfP1L/weVXKolvMuLunTOTlQ6OyrRklhcBdhDee6O61JZatvr7pfsoZRjGk03prunx0q3F8ODsuaN9/X++50mYWUUdzXNQhzfQ7DOWUkUiQq9qj8Oaj/rxoUPVelf+8eGlro7EX1U9b9UOH9eBlq1O2d4wKPkdfEZ5/t3ydEJ+OKoSodqy2Wr0NxyH1Q4LxzIvWy0CojO3mBA6frjn588P1Lzwh4uxgF6tq75qENlm72OrvYjjX6uI18rjicTS4SYTmHzcMTTzwRfpKXCeJGHcdueVnIhcFXBeffad8cqa+13r8/G91zSrtozXkbmfeNGl0ZlXBhwx0IMvuruDpciUr1hbPfsIZ1ZSXpOxDUvCFbUaJ5FmwiA5lybfDX6Lwp+Di2Y98xdWXtmRp4maQV97xN8npz2TPOUjEeJ7bv49v6Ohg533MlDNX/drRrMZ2aWOl2CpBKLbOF2o9//GPd0kvGVJOWa+Z4biLcclKBtWHDBsyfP18v//3vf19XZsn4b/K3/Ea6bVy4cGHQeG7CnC/juYlw2/zggw/02Gy33Xab/k7+lc8yX0iLNhnDTbqblG2ZpIvJn//855g3b17Dfv32t79tGL9NSOXgXXfdhblz5zYs86tf/aqhMs8kY87J+u+77z59vEREsci40K0eydRN3OUrmjw4Bfonb3xgS+4pf9Sj7k3rbXfAlvvloW8ZChuzPuALv75BtCWaZS2SXIGdi//g/UZrhTM8yA0JlyfM8UvMB4jXt2Ov3Bsn5WDtAyuwaPZkZA10w+nzomZPNar3W2+c7TIGdpeuPJq8cetDse5rxIGEpIhPSlHFrfBtXofS/eoBakAW0tWx1+8qxjobrWmChI1HJzxXzsJdq9bi0cdC98FiWODtTP+RA00foPes1w9zC1eboxNEy+Y+mGykx6F9ZW/VY1Rt40gKreOXYZeCRBt3roxcLLrvgaBja1rwYaSpY++HSVMU1rZq3SpLCpjWrroL827IQboUdBypRbU6t2t0ZUYzpMvW2XdhVf6jljiUsR2M7+0aswALLlfpTVrxPBlcoB+dSlS+J/ucAPfFgTnNqaw6oM+DhL6BAoHorxc+vP+mUfDTzobqDNwBz/Tg/ZQpMFZLuEqoSKoDL3E4kjD4avnsVmGh1n+4GkWvyNvwCUi5NFCwnzE4WW1VHXeV0RvFmBS4JdD6ZGFFyH48YYxf5jjdcjKHiO66G2U+FybvaTvRbsuN3B9Mg0ftulyLHtvW+h31vRhoqeg4NxmRr5htSd0H6LzChQSjj8G4pE/jmonDKl/QM6wqsaNWthnmXP/yM+MPQ4xpNO5C98+uL4x/I4rivq6BvXRr3g/U1Ya5F921AwekIDnBrfagBb4SHDis/nUkIHmUzIjfPtu7T4iOmT959zbN533P7dOVC03POzthWo7tb+oba+TkP4AVt8/C5MtVOnVKN/LqfNpjtEI6KcR+rFHHbYvnSvNk7EndRV64qc7GCRMF33PbsU+t0jkwE9MasqFsXD1EZZD+Gux89sTcYzSvNedtM/bs0pVRjn6DAy3A+mUgRa2/bm8RtsozprqwZOjWahkYnKgyc3Wfv8vo4jTa54lg5rNoHZq+B7EFaxbdiluXFTY+s0V7z9vavD4adu/j2/w6aCPf62jXYjolsdKNiIgo7vzwGv2Rh5uCxybw4aMoxypoe2qf7I6/EK36mrBhoqeGcS7KUbBsDYp3eFHfw420cdMw60crsHbtKtx1k6U7smiMMQrT6j9AhZ4RnqOr3J03J5q49aLo94E3svUbeU8Gv9XYWnqsipuykNK9HtWvlaL4N2v024XFe8Kv3X808CJLPEW7Dx2DvbiTsRqWz8tBmkowtW+UomRTgT62NdF0xUfhHSxC3o8LUfpWHdArBRnX5GLBPQ/giQdWYME1TUboCZGix3qU8S2c9dUoe7kY6yVe7i9GtRTA2iXjO9yQDpdKD7UvF6IoqBVT9D4z39ey81RlFswFLRtNnnKi1aNma/j9lCmaIeLK9x5QR+5A7/4eoF82Uvsg0JrNKFBPGJwDt/pPj+d2/AD2hryw4D8YGKcu7NTi+Ff2rrudM58LL2W6jMGirm/1Fdj0UIzXIp9fxZ3S1WiVfgIEzrvQws0Y02fSOfr+wlffTItbYbMEJbY02onYuq+LjvmSwUfvBT63ng9+ne86cLo1sca4z21zn5ABdy/5tx4f7NAzwmvleVdesAxrnqmA96gL7mFZmPadu7Aify1W/WgG0lt1Y91xxXKsJ+Ie0L9/c6CLvHBTRaD1TvyU4sU96snEkYKR1wVebnFOzdStt3xvbUdxR768xS2vKcfe99RV7IzeSB4CuCekqmfEQGu2yr/Ly1EJ8EjXrP0C47n539urfmEV432b7yO0PKhNnO554y3K+/iOcB08Za7F1CGx0o2IiCjuHPDXSf/j4afgsQmcOKelLo/andqnROPPeOv6MfaFCRM9Wce58FVjyyPLsHjuHCz+SQGKtlajzhikevm8JqMntex1r34zH67eYd/Md7ZY2WaKJm5TMEsX7gs3suZPbl2FYZDJmD4hCQ4VPkU/Xqb7+N/yqry5W40PdCloU44evY2/4iX6fegY7MSdBzOnSPdrgbFAVhZuRNGLFfrYqn0d+uA6jyPl2PjzpVg4V8aMXI/i8lr4eriRfsOduGtKM2fIlOnITpIxHIqw9N58rH9qC8okXvYYYzja4kTWvMB4Gr69xVj9dOyFaOecYeQddjpL6OEIFJYGLRtNnnKiOfBxTfj9jGrcHvHiXv22dMKFGUjRXcuardnKA1009UlGljMLyX2kwGQvQtu/Or74IMw+GFOL41/Zue521nwujAEzMFuORfK1hwtCCg9boZ8zcC374vMozr34Cn/exZg+awPdZTldyYHPIbpFWXISWxrtROze10XhwBEdExHuRbsZ/9rhhrO7/OvH59bEGtM+t9V9Qjm8H8q/LvTWrfJCOI3rR6v5UP2HAixbPAdzluShYFMpquscSBiYjQXL5zUdl7RTa+2xnhr3gJXP79Rp3D38OhUWTuRcLNeHeux9Kd69nMRZHPOakr3Szaa0qk9BVoq7sTXb69LNo7o36Z8F52XJagk/avc2uQOJ7b7NeU5D95URxeWet41EcR/fEa6Dp8y1mDokVrq1g08++cT4Kz7ivT4iIoqf2vrAK4Lu1MZB2yMJFCq4kDCo6ZIZM+/C8nsWIbedK+Sq6gLtshLcjYNIx0c9PpYegM9OxqjQ8edCeK7MxYybcpE9IPC5fn8FSjaswVJjQOiEwVmt6NLqAD6SNwNdbniaDHCtHjilazP1GON9J3JxZDRxK1Jumo3MPlK4vwWlB6WbyRzMv9rOL5sxSj0ASqlLXW2T8XgaCiFNuwIVjY6eyU0LGPpNxoJ7lmP5La0YkyeafYhC1aHA27wJifEfJ8h+3Bld2EiXkSEtoNzdQ39ppKmzeyO1mUHTyZSAjCkz1Lk92XjTXLp6KsOWwjwsfaZanX0OpAwPHaumUXpSgi5wrKst0QXjjc6Bw2ayc065AzOGqo3XV6KoIHQ9rZGG1L56r+DdHZjTnLSU8wPHcChQIhP99cKJ3lI4dALU6wJHJ5KHx6tothS6V9+e52NaqhR47cN2ozVboBWcG6nzAuO5efdZCgJr6wPx5k61dI1ln+3rbhvlc+0vDfO+lw23w4/aFwuxPsaWncJ56fkqBNUV898Hmm053nY8SA5ETsN5F5f0aVwz0SfJGP/LKg1piZJm1DZbKlCNMY12Hvbv66LVcD+QFOZ+YFgakqV7tTovWnwnwZmJ83uqf/11OKBbj8Vjn6O5T4iOmT+5BzfN551XSwWAOpTDNdFXnA/ORu5NM5A7wWiJcqQWFS9uxJofr0aZdL+ZMBhZ4Sr6OqOYjrXt4rZDOViMnTKWdc/BuHrStMBYlt6deNY6pEGH0gZ5zcuB7lpdidMgtyC+mu3GeWW0glP599z++g4E+17WX2jRPgsGM59FEzC4yY8zMONH6rnsjlxdIRePe974i+I+viNcB0+ZazF1ZKx0awd//etf8fHHHxufYiPrkfUREVHHYX3n1vvSTv32vmNANuZPCLRxMrkmLMKq+2Y1dG1S/oYM4qtuUC+fiyzrzeCAXFwzLgVJfRyoa+euxXyvVOuHEOeQKZhhVHppznQM6xd6x1oOry4XcSN1qvW7FOQ2KTAoQZnuwN6Fod+aoceVaeD0YMY9q7DE7JYiZSSyr8zBtG9mBT/Q9DhLP4DA74et10+6Oiy/L8fW3bKzbmTelKMLDE3OcSr85YHTtw/bNxszw4gmbtEvFzMvd8Phr0XZU8XY+EwF6tTeeL4REtcWtt7d3vOBevRU3B5Mk4Ikg2w/Z3DIU5ivDNWywz2HYtp0a5cfTmR9Kxvp/ZPg+DRMByd6APpmRLMPUfBtrkSN2l3nwOyQtJeFzP4RAs0m+3FnVqSpB/tRjdt0Dp6BeWOkJMZKpSk9+KBKUzcEp9WU6R5dWRCrJmmiZxJSpLu9DiCatgYBdeidlqXO7cm4bmpIFzTdA2vzfxlctGC113ghwD1omuX8dSH7jhx4zjA+Nkflq3d+I0XlIfWofPYxlEXeVAROJF8aGs/TMFTOgSO1TboTcvbPbJKvTxsme16P2vLAeRfV9eKVvfq8c1+a22S9nngkthaUbKvWhReuYbmYEVRapPK1mcux6gc5KucPfHYP9MAzJCkon23Kh7L9Kk92pMCj8t+g7pterMK+4w4kDU5V8VWHA9bxxw6WYKcOtBRk35YdvI2e2Vj0sxWY1ZARN2X7uttG+Vx40VxLo6Hy+ttnIUNlXf7aUmzY1IrRC9Xx54bkx3Mvl/PIj9rdrW8V4egaOY6CqfR1da6RtgJcU6fpcVKt55399NkM35ZAQbS6J8mZ7VG/bNRwrnsrsbml+7IY02izaup0unQmjQp6mcY5LjNQEdUK9uMiVBT3dVHybd4ZuB8YkoNZQfGpzompQ3WYeqs2h3TR5oYn9F7nliykqNPV/261MU5fPPY5mvuEYC1dN8tfqdIVv+6MGcix5DuN550P+15rxVi8p6Vi5JXZyJk6OeQe9CycpbMz6/hIkoe3lH+3j1alzaiONVTr47Zz8aH4NbkWOpGqnrXcKkxqdhRH1VKsfUVx3qr7ZM8QT8v3yuoZScZ7dAxQyzr8OLC3sSq7ZNc++B1qPZJ5HD4QdL8Y1bNgE0ZLfnVtkLzJuljK9GuQpc67hK51Ol+L+Z43GravK1Hcx8fzOtjSc2kkbXktJrKpa2Ji4n8Zf1MbefPNN/HWW2+hS5cu+OKLL1BfX48jR45ENdXV1eFvf/sb1q1bhz//+c/GmomITm69e/fW+V/H9CUuGnsZEs/pi0GjR2B0Wl8c3r4bdUd3472zRiAzJQF907IxftRgJPe/FDnXz8SNYxPh/Koeb/2lHO98qlbxXhWO9R+L4cnJGD5+LEYMTMRF467HjGnD0fd0P2q3PoH1u48AF2RiUnpfOOpr8Pwrwc0pLh5/LVJdfhyq+CPKZeyLaJYNN+9oFT6+YDxGJibgwnETMXrQBUi6dDJunD4Rg4y71fqa52Gu+h3XJZg4OAEJA8dj9PDRyLpiIibdMAlpCYE7ZP+hnfhjeaBPp4NVx3DBmOFI7HMhLrt8NC4ZpB5o5Hj/Qz1AJDjwyb924I2qOnirj+PCsWq5pOGYePkIpPRLxLArp2PWpEHo0UWFy6uF+J898lQcwXu9MWKSB73OScTYUSNVXHTFKxXv4NDOozhvbBouTEpDttr+4P5JuHTSzZg5IVk9+NSjcsMq/E5uziOxHbdu5N4xGyPP7Yq6vxQgv0zFoQqHo/0nYmRSIgZdcASvbJduTUSEdBQpHv3voMfQiSq8emHQVRLmmcj+xvW4PjMR3aWbrS4OHK8z4+cYdr/rxIgxg5A0KAvjRw9CcvKlmHzjdFwxoAdwpALP/LJUPzyKLy8ai8sSXeg7cDRGXDoUfevKsTvccHDR7EM06dG/F+9L+A5KRKqkPSM9XfsfWUiWB8wuwWmvqURkfn0k+narR83zryBoMdtxdxCfJI1FZmIvuEeOx9hLR2PsldfixhwPXGr7sg+OY4ca0vShPT5LWh2NkRlZmKjCYtLQhMAz4meHsPOFckTs1Sxs+ERIE85cLH9wDiZnj0CPnaWoOmosHs4l43Ftiivo/BOJGZMw8jxHC+EYEH7ZCPtmfBvsYoy/NhUuSxi8eTCQHhNTVTip9HjBeYMwbqo6BzNkYPp67HpmLd6IMIaP/50euGSiBwnnDkLOeJVGR2ervOZ6FVe67zCg23HUhcZ7A3VOfj9wTvoP7sFe/4VIG5oWPLm7oKrmUNg4CaRVoPt5Zp50ITKn3IxrR6rlJO/43QN43jyRjLBH974YfuV4jEhx48KMa3HzNyVtqjS863d44Hnj/I/menFoN3xyvUhS1wu13tHpmci6ahKu/3oaEuQ1SpU3WvP2cMLHabjzpmnc6evVBWr7cm0Yo7Z/scpXhmTh+htvRI6nFxyfHMKON6pQ50/HnOULMW38AKgAjBAfAcf8AzD2MnWcKjT2b8tH2ZvGF6hBr+GTcLG0ZqqrwtPP7rSkMSNfy0hFgtuSl0+8HjOnq7R59peof7MM5fvltfgw7F53o8prm8l7IpyLoexfS6PY1ph5uGPSheiu0uj+ikPocUlImh+ainM+3ItalZdEvJfo6grkx+pewD10AqbfOBGpX1P7U/sSCn/1d6iQiijcPcfBPiMwaXAvuPqN1Wk4tesr2Lk/8F0o87zr6kpF1pVyXVLXsauvRe5It8pfQ8472+lTFg6TvjU/3nxbBWOGB4kpl6lr5iUYlOxB1vWzcN1wlaf7a1Hy8FqUmwcdMW5jTKNKxLz6/eNIHpuJxHPdGGlccyRMbsxKVvEsLOmihbQXKS7CxZsWJm+0e1/nby7dhuN/E/u6XILMwep+wBqfN1+H4b1VPl5bgoK15Ub6M9fdFa4U89pyCSZMn4GJqepeR8XbS796FH834i32fY7uPiHydTNMOlRxdbTPWKQNSEbaFeq4Byfre/Cbb7oCyWfJ9WMjVm0y7x+jyAs+qMZxy/VDrkuJw67C9Jsn63t7//4yFD6zW6VcIOP2B3Dn9RORNfAY/vj6O4H1hRVp+5HOr3DCLxtNPtHkXIniWJuKLm6jOVfCauEc1VpcpuXwDpuf7D+GAZervOQsdY3xvYk//vcraIjtsPtvbKdLd5w/Qt1/qPQ5PnQaFHjeCi/CfoY5vnD7a/u8vfYOrPr219X93nuRw1Q7huMp8tzjlESBbfllaLwF6YW0SRfr1u51/3gaxTstd7nR3LeFIcchzw3JycMxfuwI9Ux4kbrGzFDXmL7oerwWpb9ej8AtSBT3vBHTiM18N4rriv37+Nivg+GfS6PI9+KwD0SxYku3drJjxw787Gc/w6233oq5c+dGPcnv5PeyHiIi6giqsWFzObw+wOlOQlJib5xpfFOzKQ9LC0tRU+dXD4weZIxLg7o3h3dXMdYsy0dpQymVD2UPLUPByzXq4TsBScOykDFE3bR+WIPSwqXIa81b6XEgA5AXvFyL+i+ccA/JQNZQtU+HS7GlyvKqn8G3+UEUmsuqG9kk6Q7jSAWKnq5URxfCV4aCe9egeIcX9We4kWIcr/NT9ZAhx/tU4E11WS7/J4FBmv1nJyFtXHYgXI56UfH0auS1OA7TFmx6oQb1XzpU+Kt9cqunbK0chXn5evu+s93wqIeKtP7q5txbjS3qmPOtrSkisBO3rqmzkd1fntTKsfE3jXFY/vgWVEt6GToNc8eZb9ZFTkfh+bDlp6tRtEsdA1w6zN3qgd+7bSMK3gg8FCb0tXQN+nYR8n5RhIqD9XD2Dexvkiy/Q+3vvQVBb29Wb9iCctkRFTZJ/ZPRO+LLf1HuQxRqNq1W6UmdD5+a6UnFT00pCrbaHx49ErvnZWVhXkP6T5D001davmzBmt/X6IIuZ0+ppDVIWn04EL6OnhJuKiwc9SqdFqGymXrh5kVKEz745bnwuN8ocDsRok2vIVR6XP1gcSC8JD1eqc7BJCf8dSrPk3zH6F4wLN8WrFRpuVI27pKwdsPl96JsQwHKdbJLgHuMXjIMFS9SeqI4+qUj+8rsptOYwfr7yHyofKYY1Z8mqDwpkHc4fF5UPl0QNu/wVRWjeK8PCUOzkDUsCS6HT6W1IhQ8VKbW1Ci660UBiiT/dATOuyS3A/UVRSgKkzfHn9q+iqM1z1TAe9QB98A0ZGV44Hb6ULu1EEvzNur8LSp7duF9OU/8tagMaWW8pTJQsOw7uEu/9R1E8rW7jWuEdBksebkE2qFKFK9WefnWwBvi4dm97rZdPhdOVNdSu9Q6Alc/F1ImhEnzakpP0gtEVluKwlfq4ByYgWwd337U71fzVhehVXcomzeh5C0VP2cYYdrLmB+Ruj9YXYzKoy6dv+rredjzLk7p86DKZ+4NpC30TVHnegY86hpQv78MG3+RhyK73XPGlEabU4nCXwXyQfOaI9f0mpcLUBrtZTLquAjD7n1dK3g3r8QyyRs/RGN8nlGPWnUOrs4Ll/5km6Woc6aqa4uKN7e6ttTLPHUeW+MtDvsc1X1ClNfN8sfzkC/pWO6D5B5crh9feANjlIVcP+yTfC8PhVtVvud36nxPn8/qfsW7Q12Xf1LU0MrpE19gC35ffHpqapWY0qb9Yw0nurjtzCrx7N8DIVG/50WjJagN5v1HuKmfyuPaShvkNdVV7+vf+N+tVE+OVltQ+a6+AzHGmg1m/74tDHluWKbya7nG9JJn3MA1pu4tdV2923KNiemeN1pRXFeiuY+P8Tpo/7m0GW12LSayp0tmZuZXxt9EREQdisfjQXV105tdOjEybl+LecOcqH1xDvI2GTOJiE5yucufQE6SD5WPL0R+cxWDYvpyPHF1Eny7CrHwoahH3jkJ5GDJL3Ph8VeicFF+Y5eR1LmMWYS1t6TBWVuCOXlFxkyijigDi/LnIe3sWpTMyQNTK9Gpy/2dVVhxeYJ6Vl2onlWjrYYjIoovtnQjIiIiIiKimDmnjETqGUDd7q2scCMiIqJ2koYpQxIAfw12bmaFGxGdeKx0IyIiIiIiopilupzwH6nElg2VxhwiIiKiNtbPjTO7SpfCm7CFdW5E1AGw0o2IiIiIiIhiVrlhGRYuyQ8aL5KIiIioTR0sQf4S6VbyxIyJTkQUimO6ERFRh8Ux3YiIiIiIiIiIiKizYEs3IiIiIiIiIiIiIiIiohix0o2IiIiIiIiIiIiIiIgoRqx0IyIiIiIiIiIiIiIiIooRK92IiIiIiIiIiIiIiIiIYsRKNyIiIiIiIiIiIiIiIqIYsdKNiIiIiIiIiIiIiIiIKEanPTemEjIRERERERERERERERERUeuwpRsRERERERERERERERFRjFjpRkRERERERERERERERBQjVroRERERERERERERERERxYiVbkREREREREREREREREQxYqUbERERERERERERERERUYxY6UZERHSq65eL5Y8+gScevQuTjVkm14RZWPHAo3jiCfW9mpZ/y/jCrjGLsFZ+uzzXmHFyyV0u4bIWi8YYM8KF5fTlOuzW3p5hzKDoqXCVdJS/CAxFIiIiIiIiIuqoWOlGRETUGkZFSpPpsUexdtVdmDUhxViwI4lQcXHEB/+X6l9fPT4IzAnoNwN3zsyC2+WAz1uL2v2VqK42vouZE55JC4Iq9CTsHrhvEaalO41lOqFIYUlERERERERERCc9VroRERHFwF/vRe1+qZAypkM+OBNSkDXzTiy/wW0s1cH5tmDl/DmYs7gA5cYsbVwq5Ah8ezZi4bI85P0kH0V7Al/Fxoms21dgybfS4e7hR93BxrBz9UvD5AUPYPn0jlhpaUOksCQiIiIiIiIiopMeK92IiIhi4N+/GXk/kQopY1q2GAs3VcMHB5JGTYHHWK4zyuiboP+te69U/xs3E+Yjd5gLOFaNjT9ciKX3WsKuoAx1fhV2E2Yit5+xPBERERERERERUSfQ5V//6fxK/pj6epqeQURE1FF4PB5Ux68/w/iS7iWvToJvVyEWPhTapkm6ccxBEmpRMicPRcZc4UyfgTumZyIlwehC0VeHmtc34cGnKuALzNGc6dMwd2oWPG4XHPKKzJd+1NeWYdPDG1F+JLCMkDHFcpJ8qHx8IfJfN2YKGUvtljQ4a0swJ+8AFuXPQ9rZxnemY5UoXJSPcnN/Qz8bizXQ61JHE/HYM4ztWI47aD8CIeGZtwpLMhIihB2Qc+ejyB3sQO0Lc5D3tDHT6cHk78xA9jA3XI7ALF9dDbZvehAbKywhF2Z7piZhZSyLqo3YUJeF6eOSAus2wnrD/RthXXU4TcM/NCyVhvAqwhZkYfJQN5w6Tn3wVm3BuodKUCPLiYb9L8XGwx5MS5dlG8PTXrpojIfSDXXwXJcOt0putS/koy5jEdJ7+lC9YSHWbDUWF/1mYMV92XAfr0bR/DUoMWY3J+o0um4d6ibMRFaSsby/HjV/egwPPiOV1BYDcrDou5ORJjst6r2oeHEfEm7ICg7XSHpmYMb3pzduR/bLW4WS9QUoeTuwiMmVMQMLrrOcj2qfvLtKsO4RS5w0R7b1veuQmZJgxGmEbTWkgfVYV5eNmZdb0lpNCR57qBjVLaQ1IiIiIiIiIur4pHiAiIiI4qmfE7oI/9hHOKBnBDjHLcKKBdlI6eGHd085yvd4Ud81ASlXLlDzG0dZCywnlQ4O1O0tR+nL5ag+5Ierfzbm3bMgeDw2W2pR8WqpWk816uXjcS8qXlafX61Q34SzF9vV9xUH/fpT/V75rZpe36s/x6r6SKB2wZGQinCdSFa+XqK3t71hcxmYt3wRpo1yw+XzorpchcfBevX7FGQvWIFF44wKk1ZyDp2BeVckwH9YurlUceJ36LBesHwe4vlKknNYLnKHulBfa2xHpRK3mnfHD3IC6cXKnYVcdbxOvx/+42pSs6JPF25kTU+Hu7uxji8r8WxVnZrvRHJ6dmARg9PsSrSmwl6FW9T74oBn5gJk9/GjTo5fxZ/f4ULKpPmYP8FYRDgn464luYEKN7PrVp8L6VLhZizSLGcWFt0zD9n9XfAfqkFleSVqZL/6pSP3h8uDWk+6p9yFFfPU+dgLqNtfifJdNfAed8E9Khd3Ls8NmzaD9FP7ep/a1sAE4MPaptsaYCxn4RgyAwsmhKS1gZMx/7bg+CAiIiIiIiKizomVbkRERHHkGjoZi27PRAL8qH1tS2OLHGcO5k9Pg0u6VLx7MZbdX4jC+5dh8ZL1qDymfpc+BTOMCoHsMalwHq9H5dNL9XIbnyrEmmVLUbTXLxvAlVMCy9nnRdkzG9V6agOVbv4PsOMp9fmZMvVNOJUoUd/vqDMq3Wrlt2p6sVJ/jtnvS1GpdsTRLxt3rrkLs65W4WJ8JbzbivX2SqoCn9PmXYeMBAd8b2/BysXLsKZQhce9i7F4XaU6HhfSps9HTFUW/lqU3r/U6ObSiBMJqIR0TJ4aW4VeELWdkp8txDLdFanazg+LdOsm55AczB5mLGNySGu0xZgz/1bcOn8litWs6NOFCrO9G7F4rqzjVqx8RoXtS5U6zp390y1h5kROqq5yw4EKe12JtmZf4C3FmqVqeTl+FX+rXw1UAKaOygksomTfloOUM9SeVK3HQhXXgW5HF2Lli7W64rFF38hGmkpM/r1FWLpsJfIL87FS7df6KhXQjiSM/IbR4atzMmZ/I0VtvQ7lj6i4/0k+Ch9aiWWLVqKk1q8WVXEys7kxGZ2YPGsyUlTyqCsvwNKleca2jH1V28r57gxdkWnlUKEflNbWlKk9UGtLSUdjKBARERERERFRZ8VKNyIiohg4h83DE0880TA9cMc0pCX4UfvCL7F6k6WDuitHIlUK6Cs2otTS9R58ZdheIy2/EpCcHpi1ZfVC3Dp/MfJftPY350NJrVSXOOCIYz3QCaGOOf/hIlQe9sPRMwVZ0xfhARV2a1fdhXlTMoIq4KSV24SLZWw5L7avLw7q8s+37TGUve1XkZCKzKgrIi281di41xLWav8ee7UGau+QdHH8WiD59ryAImuXg0dK8Hvd8syFpIyQ0f8O7sRjW3UVaYPo04UXOwtLAxWtpoOlqNa1bslIb2hhlg3PBQ61qgOosHY52Yzo98WH6pc3BnWhWPPm+2quWtppxngGhibJD+uw8+ky/Z2pZlN1hAriEMadrf/4R5bf+1D2m9VYc/8aFG4OtD11ThmJFDnkPSUoDOpDtAZFz1XpMHMPbWZMRudkjBwgK6hGSWFw17A1m4pRJee4Ow1ThgTmmXx7S4PT2tvVeP+Y+veMs0LSPRERERERERF1Rq2qdDuz65dYlFqL/8mswnNjKiNOD6S9BZfjc+NXREREJx+/2QVew+RF/ZdOJF0zH3dOb+ygLuNCN2QIp4TLVwRV0sk0b5hUNARXVLgycrHovgfw6GOWZa+21cFe5/B2CfJ/fCsWP1iEMulmU+rOElKQMXUeHvjlCsxKNwMjGefIWHQqnKsPBuY08qF4X6CSJyHJqLGME9+LB3QLJMe5yYjvmoNV7wlUPLl6h3Rm+IU/qCLHFF268MPfZCVeFFdJp6KWLiavHowkqT/aXwF77dwCok6jXxj/RmTE9bH3w8S1TduqUStpadi8QCXuDTlI7+8CjtSqsK5GjTcQIEP7SkUuUFcb5oh37cABqQhLcGNoYE5Tw9zQazhcGybMKrGjVraTAPfFgTkNvvzM+IOIiIiIiIiITkatqnSbev4HuCLhI5ze5StjTngDzvoEyz3vsOKNiIhOWv79mwNd4DVMy7D4ZyWo9TuQdPXshi4jA/zwVhjjo4WZtu8JLCXjZS2fl4O0BKD2jVKUbCrQrXTWbLPV1qdTqa8qwXrpZvPWOYEKuP0+4Aw3subdgclS7zbGqNyo/wAV8m8Ejq5SpRlHvsA4auh6uq4sbTNGRZTjdEuNawTxShe+zZWokYqppKF67LWcYanqGH3Y95r9KrcOm0YPFiHvx4UofasO6JWCjGtyseCeB/DEAyuw4JrGis3knhLePnz0XuBz1JLOgV5DvXXUxjDYpwQRERERERHRKaVVRQGDevhwWhfg48+7ouKjHvjrh19rMr33yRl6Wal4u3/oW7jrov0tTnek1mJC7yO6JR0REVGn9XYRdr4rVTZupF4WmBXggL/OGB8tzBQYw8yDmVNkjLM6lK1ZjJWFG1H0YoVupVPt09VAnZwbWd+agRk35SDNmGPSFXA/WYot0mWkIwWZMp7a617d4gyu3mFbnDnjXdlm6ufUlSr44nN7Y4m1Vg9HoFKvxVufOKYLXwmqJX2enYrMMdkYKs3cju3D9teN71vUwdPokXJs/PlSLJy7EMt+vh7F5bXw9XAj/YY7cdeUQOXmgSPSEs2JcxL1xxDdjH+bURvovtLpSg58DtGNlW1EREREREREp6SYigQOH3fggbeSsPKf/ZtMd1YNxI4jX9PLJZzhx+he/9fiNL73R1iU+i5+enENW8cREdFJpbZeiugBd+q0QGVOREPhlqZd0sWedfwvxd29+V92Dm6kjc1G9pU5yBpmzAriw/tHAxU3zp6D1f8P4CPp6s/lhieo1aBwIudCCSw/vO+UB2bFifPS8/UYW/5/H2i2hV2sPP1760q3ukO6xrUZ8UwXPhRX1qpQcyL16iwkq5/X790K+yHYVmnUiOuzeyO1SVzbkYCMKVKhOxmB3kl98L5Vhi2FeVj6TLU6XgdShk/WS1Yd0lW5SEgKM2bfsDQkSzeXdV5EjJVdRmVwnyQ0XUMa0hJlB+rgbSlaiYiIiIiIiOik0mbv4X7yxWm4/62khoq3aCQ7P8Uwl5S6EBERdT7OwTOQeYFUpXix77XAPO9LO/VYU44B2Zg/QapzGrkmLMKq+2YZFQVmxUMyRo1qrMCQdc4bIzUdwfbV1av/O5E83NpuzImsS5Obrdyz0ZYnspo66K0mjQpqreYclxmorGhWBcr2SnWFC0NvMI/ZwpmFzP4y04f390h1Vzm27pbl3ci8KUdXhJmc4+Yia4AKZ98+bN9szDRbxrlTMc267gG58LiNv0O5PcgdYPwt1D7MvTxF2iWidnc0o5w1zznkmuDt9JyGaekSp/WoLa8OzIsounTRos07se+4+n1Skkon9ah5rdL4Qs1zp8AzxIOknsaMJuK8Lw1UXO+VlKXi+oasoPSbMt2j5rakDr3TspB95WRcNzVkjLzugRTv/zJQ+e1Tx6+72BySg1mDg7aE3KlDdTrzVm1GxFjxbcFOaZHp9CBntidkX6dhqISdtxKbjS5joyVxEDn8iYiIiIiIiKij6rpkjOO/5I/fvddXz7BDWqS5u3+Gj/ynY+sHvfDZl+Hr7j7/qgterTtHr9vO9M9jZyGzVz26nfaV7rby7Y/PNNZERESnot69e6OuLtAipcO5ZDyuTXEBZ56PkaOzMP6K8YHpqkm49uqL0et0oH7XM/jlS9KiSDm6G++dNQKZKQnom5aN8aMGI7n/pci5fiZuHJsI51f1eOsv5Xjn04P4JGksMhN7wT1yPMZeOhpjr7wWN+Z44Oqi1qMmx7FD+GP5QVkrvJ8lY2xGInqdP1KtcyQyx43HxKk3Iiu5u/4e9TV4/pXdgb/xJS4aexkSz+mLQaNHYHRaXxzevht1uBjjr02F67ND2PlCOQJrBhIzJmHkeQ61iufRsArx/nEkj81E4rlujLx8NEZmqOO/Wu1jVjICW61HzfOvQP/kgkxMSu8Lh2U/Du18B92HZWLQBRdi9DUTA8eo9lvC7vob1P6py79/fyme+M1uHNHLH8V5Y9NwYVIastX2BvdPwqWTbsbMCVKxWI/KDavwO6nR1N5Bj6ET4UlIwCC17IhL1b7Jer+ehgQVJ9Iq7lDFH1EuY3mZ+9bVhdRxEzF60AVwD52A6TdOROrX1JK1L6HwV3/X+xDJxeOvRarLss5wYWmmFXM7w0cj64qJuPb6kXDrdPI7PPC8kU7ChFdANOkiEZlfH4m+3Szx0EQNug+eiLTeDuDIHhQ9+QYOGd+kf/c+LJx2BQYgJN4bRJdGm4aRIVza2OPDhWOHIzFpOCYaaWviN67HpKEJ6CoLhKTRUG8edGLEmEFITFW/Gz0IF5w3COOmqrSS4YZKydj1zFq8IfvgfxP7ulyCzMGJSB0zHqMvHoSkIVm4/ubrMLx3VxX3JShYW95M3Pvx5tsqajM8SEy5DONHX4JByR5kXT8L1w1X++qvRcnDa1FursBIA/5DOxvCJSBMXI1ZhAeWXI+J4wbh2B9fUymaiIiIiIiIiDoLjjhBREQUA4fLjaT+SY1TvwQ4jnpR8cwaLHuoTI/7ZKrZlIelhaWoqfPD1c+DjHFpSEkAvLuKsWZZPkqNAvrKwjwUvFyL+i+cSOin1tnXgbo9W7Dm9zW6YsbZ09KKbVchCp+uhNfnUOsM7IPLX4PSglLUGos0qsaGzeVqWWlJo5ZN7I3Wvd5SicJfFaFSrcjR0zh+lx81LxegtOlGw6hB0U8WY80zFaj9UHqODOy3GXaVLxRi6U+K1FKmchTm5aN4hxe+s93wZGQhrb8Lfm81thQsQ/42ayj7sOW/C1G6vx5+p7FvfRyoryhC0S7rcha1pSh8pQ7OgRnIzvDA7fSjfr+at9q6D7GrfXkNiqvq4UqS43XDJd0f7ipCQUg6iSSqdGFD6e4D+nf1NWUqRqMT731p4CtD/sNFqDhY35C23I56VDyt0pudThDeLsLqB4sDv++rzrErVVpJcsJfJ+fEMhRYxq3zbl6JZXI+qjToHpiGLIn7M+pRu20jVufZiPuDW7DyXpXW3qoD+qYgbVwGPCoc6veXYeMv8lAU0vWmbb5P4JMx/o5/go8Dc4iIiIiIiIiok+jyr/90fiV/TH3d2kFU85YPeQcjXEfxzsfdcc+eFBz7XL97HLMR5xzD0kH70b3rlyioScSfDvcyviEiolORx+NBdXVL3e4RtdKYRVh7SxqctSWYk1dkzDx1ZP9gLWYM8aH8/qUotHSDmHPno8gd7Efl4wuRb6mkIiIiIiIiIiKi5rGlGxEREdGppuc0ZA50AnU1KLOOO+acjJEpDjW/CltZ4UZEREREREREFBVWuhERERGdKibMw/J7VuCBX0xGisOPmm0bENSWNMUFp78elZs3RN3lJBERERERERHRqY6VbkRERESnil4yTpqMJ1ePmj/k48HNIaPJVW3EsoWLQ8bJIyIiIiIiIiIiOzimGxERdVgc042IiIiIiIiIiIg6C7Z0IyIiIiIiIiIiIiIiIooRK92IiIiIiIiIiIiIiIiIYsRKNyIiIiIiIiIiIiIiIqIYsdKNiIiIiIiIiIiIiIiIKEasdCMiIiIiIiIiIiIiIiKKUZd//afzK/lj6utpeoYdy4e8gxGuo/j486745zEnPv+yi/FNbM4+/Qtc1MOHrl2+QkFNIv50uJfxDRERnYo8Hg+qq6uNT0REREREREREREQdV6sq3W684BBu6HcIp8Wnrq0Jqcxbsbc/qo+eZcwhIqJTESvdiIiIiIiIiIiIqLNoVfeSz73fG6/UnYPPv4p/rZtUuK074MZeVrgRERERERERERERERFRJ9Gqlm5ERETtgS3diIiIiIiIiIiIqLNoVUs3IiIiIiIiIiIiIiIiImrESjciIiIiIiIiIiIiIiKiGLHSjYiIiIiIiIiIiIiIiChGrHQjIiIiIiIiIiIiIiIiihEr3YiIiIiIiIiIiIiIiIhixEo3IiIiIiIiIiIiIiIiohix0o2IiIiIiIiIiIiIiIgoRqx0IyIiIiIiIiIiIiIiIooRK92IiIiIiIiIiIiIiIiIYsRKNyIiIiIiIiIiIiIiIqIYsdKNiIiIiIiIiIiIiIiIKEasdCMiIiIiIiIiIiIiIiKKESvdiIiIiIiIiIiIiIiIiGJ02tTX0yATEREREREREREREREREbUOW7oRERERERERERERERERxYiVbkREREREREREREREREQxYqUbERERERERERERERERUYxY6UZEREREREREREREREQUI1a6EREREREREREREREREcWIlW5EREREREREREREREREMWKlGxEREREREREREREREVGMWOlGREREREREREREREREFCNWuhERERERERERERERERHFqEtmZuZXxt9EREQdisfjQXV1tfGp7b3//vvGX0RERERERERERETRYUs3IiIiIiIiIiIiIiIiohix0o2IiIiIiIiIiIiIiIgoRqx0IyIiIiIiIiIiIiIiIooRK92IiIiIiIiIiIiIiIiIYsRKNyIiIiIiIiIiIiIiIqIYsdKNiIiIiIiIiIiIiIiIKEasdCMiIiIiIiIiIiIiIiKKESvdiIiIiIiIiIiIiIiIiGLESjciIiIiIiIiIiIiIiKiGLHSjYiIiIiIiIiIiIiIiChGrHQjIiIiIiIiIiIiIiIiihEr3YiIiIiIiIiIiE5y48aNg8vlMj4RERFRW2ClGxEREREREREREREREVGMWOlGRESnhKMDumHv3F74olsXYw4RERERERERERFR/LDSjYiITnpS4Vb9vXPxeY+uxhwiIiIiIiIiIiKi+GKlGxERndTMCjfnoc/hebgOXT/7yviGRGLa5bj51//Afzz8GnomDjLmUmulp6fjf/7nf3Dvvfcac04dycnJWL9+PdauXWvMCe/aa6/F//7v/+KWW24x5kTH3M4f/vCHVq8j3vEkxyz7JPt2spCwlXiS+GrOyXjsIh7prKOwe262xDx35dyRcyge7KSzeO3/qSRcmEl+Zyfu5DeS7s0plvQfS/4Qy29PNnbz40ja4tyNFzO9nYr3TURERHTyYqUbERGdtNqjwm358uX44x//2DD95je/aXUB0cMPPxy0LvncXo4f+whH3nvT+HTi2S0c7OzsFCqahWUdveB/+PDhOPvss/HSSy8Zc8IbNmwYjhw5gj/96U/GnPjrLGHWkUk81dbW6nBsK4wnao901lGvJ7I/sl9tUdlgNz8OZ+HChZg0aRJ+9atfwe/3G3Pbl4SN2+3Gtm3bcODAAWPuidGW8WRXpPMknmmb+TERERFR/LDSjYiIOrXPu4cfo01XuM3rBafX3+Yt3D7++GPcfffd+PrXv47vfOc7rS4g+v73v6/Xceutt+Lw4cPGXKLO4aqrrsKxY8fw97//3ZjTlBQMpqWl4e233271eSK/mzVrli4Ufvzxx425FE9S+JqUlIRdu3YZc049TGdNSYG8pI3rr78eFRUVxtzWYzprO3by445s8uTJ+t94pLPOLh7nSbzP3XgyK3nvu+8+Yw4RERFR58dKNyIi6rSO9u+Giv/qiyNDzjDmBDRUuP3rc3h++e8T3qWktGKSFnBmC7bnn38eU6dONb49sT7+8F/4zPd/xiei1jFbJbRUmSbLORwOFrJ3cNKqQlq4sMCb2hLTWduwmx93VHLPNGDAAHi9XqYNhecJERERUefTJTMzk4PbEBFRh+TxeFBdXW18aurLrsA/556L/xt4Bi769Yc4Z/enMXUp+f777xt/2SfdSw4dOhQrV64MWyAihV933XUX/vWvf+mWbGLu3Lm47rrr8Oyzz+Kxxx7T86ykwEne+D169GjDb9qKjOOW86P1unvJ4h9NMuYG9iEvL0/vg7yFHEremP7ud7+LzZs361Yg5vJ9+vQxlmi0ffv2hjeYzfBwOp36s8/nawi70O9CWZdtC9LVY0pKivEpoKamJuzxR2IeQ2Vlpf6s7rP0v9Z9N8NOKp/CkVaOkq6WLFnSZH+sJP1I2JvbfOGFF3D++eeH3aYpNIylIO/Xv/512K7dzP2ULq1aCgPp4kpasDUXPy2lqXDhL8w4CE1j4fY90jpMoWHWXDyJcMdl/a2ZrmW7PXr0wIsvvojp06c3xK25vdaQLr4knzCFS4uyf+a+C+syZnhJwXvv3r11uMi5KPmcrDdS3Ic7PqvQbQozzZoF/KFpPHRbduNJhMtbrHmKyW7abikd2UlnptBthqYf83s756awE+ctbdNkJz9rKcxCvzeFxrcpdJvh4slkrjtSOrOz/82ls0j7bgoNN7vpLHSbrYnLcOeQVeh27W7TFCk/Nuf/9re/xc0339wQNpHiydzuZuM6H05LcS7fR5s3SthNmTIlKC3Kvnz729/W59I111yj1yPfS4s+2X5omgwNf7vniXX/o42nls5fa5o382FTpPAId55Ek7ZD0064czfcuWYVbX4s4SaVpvKy2YIFCyKms9DtNpcmQo+5pXOgOXby+NDthS5jxnW4fZbjkkrv1u5fexg3bhyqqqpQX19vzCEiIqJ4Y0s3IiLqtE77Ahj82Ic4p/pT/HNOLxzM6aFbuJ31ftt3KWmXFHZI95OrV6825kAXPknBhzz0ysN/RyQFMlI5IoVlkfZRCiE++OCDhgIMcdttt+lugqRwRUiBhFnIIoU/UtgjhUeyjEzyJrsUbEgBhxROSNdH5u+lUGXZsmUNy7ZVt0iy/zKumhyruf/yr8RRa0lBnRQ6yXpkkm6+Zs+erb+TQhsJC9mOFMrJdsztyiRd2kn4S2GdfDbH1ZGwNJeRKbSgRwqAQrd5++23N8SfWYgkYW6uQ+JNCi3DxbG8XS8FdVJ4JL+NRH5rp1WCjDHUs2fPsK3czEIqM77lWIWkA7PQUsLE7O7P/D5UtGHWXDxFS8ZPkjiQgjnZluy7FBxLXEdLwsMs0DP3XcJNCvqEmWalAN0MM/lXwjB0jMDBgwfr81T2R5bPzs7Go48+qsNH4jiUxLXEe6R4sm5TJknDVvJ7SVOS9sxlpOJW8kIzLKKJJ1lPcXFxw3eyrMSbFOya7KZt2f5DDz2k/zbPOVn/6NGjG5azk85ES/mZlcSlVHzKMuHOTdFSnAs72zTTRkv5max3xYoVQevauXMnvve97zVs05onm1NofAvZtowrZd2mxO3IkSP1cYUjvwmXzuzuv/y+uXQW7fXETjqT9cr6JZzM5Z588knMmDHDWCJAfiPnvoSBLGOem2ZYyDXRnC/7Jftnrk8ma8WE3W2aJPxayo/nzJmjK69kXeZxWtOZHdHEebR5o+RLMu5nuK4xJf+SfZbvpRJPyGe5tsg1Rsh65aUtM7xk/+ScCz03ZT+t1x2ZXC5Xw35FE08txbmVhLdUHJrbbS48wp0n0aTt0PuNcOKdHwup0Lrjjjt0WrUuZ01noduNxMyrrPm7VGh961vfMpawT8KipWuAhHlL1xMJXwn30Guo/FbiXfLVSOcfERERnRpY6UZERJ1aly++wqB1R+Da8ynevaYHnIe/wOBHTnyXkkIezqVASiqvrG8Vy9/S+uSss87Cueeea8zteKSg3mQWsJkFK1KALN59992GypRt27Y1HOeWLVuaFEhIgYUUlMnbz6Z169bpf83xW06EiRMn6v2XgiRrPMVCCojNt8nN+JaCGGuBX7yFblPiw1oQecEFF4QtvJOCr3DHLctJQVhzhbdC1i+Fqi+99JIxJzyzIPVPf/qTMScgXCGVLCPHI4XHZiFXW4hnPEnYSgGj+Sa8nAMSfpLuoyGFgjJ+jxRSWgs75W/zs5lmZXtmmMm/UpAuhZ3yvalbt256X4S8tV9aWor33ntPfzbPYyuJJ6m8sL71L8z9km00lx7ku9A0ZaaN0AJKO37wgx8E7Uu4tGE3bZt5kBnnQv6VMTmty9kRTX4m+7tmzRr9t2xH0pmcM2b+byfOhZ1tmmmjufxMwk1e+pBCeGvFgaxX9jXaF0LMbUthtrlNiTOpKJLjkuMLFSmd2dl/cSLSmXm+WNOZ/EZ+a5K8Qyqm5djN9ZnnZqSwaI6dbVq1lB9LHrDZ0nLNPM62jPNo8kbzemC9nzDJev7973/jL3/5i/4seZuZ/uU7M6xCw0fWI+uTYzfzdjlWuT8Lvb6FpgM7oo1zCW/ZjrldM26jyY9PlNDwae5aLenMGh5yTygtfqMh6zTzKjnfTbI+ybejZecaYOd6Ip8l7YTeL8jfob8lIiKiUxMr3YiIqNOTijfpXrJfydEO08JNyMN5c63FpMBICmQ6Kun+yCwYNgshzIIVa8GJFBTJd+GYFXdmQZoUNpuFFkIK0OQN9HCFTe1FCrWkECbcW/WtFXqc7SF0m2bYm2ErFaRS0CktDuy0apDCMikstBZ0hSOFWBKHzYWfWSgZLlzMtBVOaIV1vMUznkLTkJm2I53/kUh6lHgyC2TDMZeROLUKV7BpLVSW31gr00NJfEueFK7A0M5+RWKmvXiQ+JJ0YWUnbUfKg1oj2vyspW3aCVu727STn5kvSoSmBVmvrN9aIdgSSdtyXZB9kH2xilSZ0FI6a21+3NbpzAwva6vNUBJP4QrdQ/Nju+xs06ql/FjyB2s6M4+zLeM8mrzRrMyLdC5YwzXc9iORcLSmDfO4pXvDSK0x7Yo2zkOva+a11lrBLpo7TzqKcOeJCE1nrWXmVfEIA7vXALv3SlKxLfEu6zXFkn8RERHRyYWVbkREdFLo8iVwwQtHO0yFm0kKCqTliXRXZpo6darugqkjOVbXdDw7s8BIKkWkIGHfvn36s1kwZxZ4hXtTXgrOrIVQZsWKdC/0hz/8oWF65JFHGsbVaAuyP9JVmXWbMtmpdDrZSAGYvKUucSWFSRIOZmFfa5mFWOFaJViZhVJmiysr2Qd5k18q5czlpLWLpIuOXNjYkkiFkS2RAlo7hcnNLRNtwb7JLDCUczoW0iLWer5J12Dm2DjRkvQpacS6vtDxh+ykbTMPas3YnaHinZ/ZifO2yEMjhYVsR7YXjdCKBKvQ1i2dNZ3J99LNnBTISzecsoy0ALcWusuxSviZ35uTfJb50bKzTZPd/DiUea2PVjRxbhUpbzQr8+LRNZ9UpLUU/vJCiXTPKPFsLhfaTaId8Y5zU7zOk3iyc57Ek3kta20atbJ7DbB7ryQVaxI/Ek+itecfERERnZxY6UZERNSGHnvssYaxLP74xz/qadq0afjHP/6Bzz77TFc2dGRSQCGFHjLOiXSdJKRgQeaZBW5SCSdvyUvBrxQASwGFVCpaB5033xwOHRPFnFpqTdVasn/m+EzWKfSN8lOFNTxkHBVhtwVFOC21ShBSkCoVspG6qZTvpcWDFJZLobmkHynoCu1qr7Mxj6u5gulwpHAxmlYn4bSmgFLO60itEaMhhdaS30n8meebOSZStCRdSvqUfNJcl0zhxiZqKW2beVBzlQF2xTs/sxPn7ZmHynZke/FiLeTu7OlM8jBzPC3ZtuRb1rHC5Fgl/MyxvUKn1uRpLW3TZCc/DsdOpW+0mqvYiJQ3ml2LxvqyhVS4SQsxaxxEGjfMHLfNHDdQ0lS0FW9tEefxOk/iKZrzJF7Ma5lZ+RaLaK4BLV1PhCwj8SMVbRJf5vkY7flHREREJydWuhEREbUxqXj7+te/3jB95zvfwde+9jV8/PHHcS3kao0j772J333/MvxpTdOWX2YBRa9evXRh8N69e3UBg/lWr1kYYhb0WQfyl4IJs8JNyHFKoZ7dghMpxJIKv2hbW7RGuAJvs6VVW4umsD3aygKJJ/ldpAIgiR+pGBXh4sWMw0hdb5mtEuyM+dZcQapZ0BpaYBlLhVtrw8wOKViz05omUhd+/fv3x//7f/9Pj60mBb2hJO3L+kML1K0kLGXdsg0r+Y2cN60ptG7pt+HOSUkj1i5yzTQhhdd2Wme0FE9mXtPSeIGhwqVtMw+S/ZP9jEW0+VlL7MS53W3ayc9CW2iY7J7TVqEFz1bh8qCW0pmd/Y82nbV0PWltOpM8SirBrOs2z3c7aaM16SjcNkVr4k5IfEjcRfNyQLRxHipS3ii/lXQZS9d85vFIxZD1HqQlckwyzpekqdD4aCmeoolzu1o6T0zxvFdqq/w4FuY+mdtuiVxT5doq11i51lq19hrQ3L2S2Xpf4kv2Mdrzj4iIiE5erHQjIiJqZ/Jwft5553WILmgu+fp3MXvDW/iPh19Dz8RBxtwAs4Bi/PjxukBOChKkAEgK2aU7ISnsEXYKfeQ45Xjld3beIjcLsWR8mrYmxyT7b1YeSkXCNddc06oWE9EyC9vNbYdjxoO89R5awBmJHIO0NrR20yVdaoaGvVmQFVr4KeQ7CZdwBavCrCxrqQBO4rC5LrLaosCyNWEWjhk/5jokDKUVXkukQE9atMpx/+Y3vzHmBki8SEW2GDFihP7XSsJJCn6nTJmi49Ek2za7RZVlZN2yDbPwUPZR0m20hc1C1iGtEZv7raQjKfw0z0nZ3re//W398oBJznPJK6wVgnIMUpgdrqKypXgy8xYzncp+Snexod2Z2UnbZh4klTdLlizR84Ss86c//WlDONoRbX7WEjtxbnebdvIz67rM9Qt5IcTOOR3KLHiePXu2/leEy4PspDO7+x9NOmvpemI3nUm4W8NLyG/kvJDKASHHJccXGpfhmMch19RIy9rZprCbH4cy42zdunX6X7vsxnkoCdtweaP8VsJB0qWES2uZeYr1uiXhF9rVo3wnL5RYz/tIlYEtxVM0cW6HnfPE1FLajka88uN4knQk6Sk035P9k3w7lHlNlWuspEUrM99r6Rog6SU0jw29nphk/6SiTeJLXhRozwpJIiIi6thY6UZERNSO5s6dqx/uq6qqdAu4jswsaBLm29ZmCwkp8DMLH+TNeykcCh3PRCZrKylZTlozSUGIdRkpVAotqJJ5mzdv1gUt5nKRxrGJlbktc6wkqUgoKCjQhU9tTcJEuoszty2TFGJZCwIlHh566CH9t9n9okyhBbHWdUhcyDFJ11km2ZYwl5FJCtdkvKBwBXsS5xLPkd7clkIoSQvNtUqQ+JLCz+a6yJJtS9el5tgp1skaFpJGZFmZL8tK4Z+Z5lobZi0x48fcNyn8X716ta4gsZKwkoI8s3tV+VfOHemeKvS45Vg//PBD/fff/vY3/a+VLC+/Cz2nJLzNOJRlpIJBmNuU45TCydZ0M2gWNpvneTiSBp588kld8Czbk+3LZ2kBa7VmzRqdLsx9l/PpiSeeCFuJ3VI8hZ4fcqxSaBranZndtC3LSR5kHoNMsv2//vWvDfFkN52Z67KTn7XETpwLO9uUv0Pzs5UrV+rz2ErWJS2mrOddc/lBcyRtyDbkXDfXJccRmgfZSWd29z+adGauM9L1RMLCTjqTY5E4Mdchk3STKOM/WfNIOQflPLfGpUyh+ZQIPQ6ZrAX+drdpJz+WcJf0bD3XQtclYSJhI9/JPsnyZhqxhpndOLebN8r+y/XGekytES5PkQqRDRs26PWbZDtSQSLLNrf/ppbiKZo4b4md88TUUtqWfTTnyzLWuAitWIpXfmyH3XQmJD4krzK3K5N0r/rMM88YSzQyr6lyjTW7RLcy89DmrgGyjDC/l6mleyUJV+kyPpZWmkRERHRy6aJuXr4y/iYiIupQPB4PqqurjU/hZWRk6K7o5AH9lVde0QUjrSVv8UZLCp6HDh2qC5/CFRZNnTpVjwMhBQpCWoVEWtYkBTRSyCAFU9///veNuR2XOX6KdQw3IQU1UogihTThCrE6MokDKWCROIjnWEltQdK+FEBJhUt7hbO5zRdeeKGhgCocSQNSUdVcmpeCPylMk0I167qkEsEcP6ajx0FnJ3EgXW5JfmYtCCcKJfm9VNS0Jq0wnbUNu/lxR2Veb+XljM52r9AWeJ5QW5OKaHn5r76+3phDRERE8caWbkRE1GlJQdOCBQt0ly7ydnuXLl2MbzqO5557Dt/85jcbxnO7/vrrY36TuyORwjIpgA33hr20hLO+WU4nD7Prt5Yqj6Vgp6UxTqRbSTl/Q5cxx3KhtiX5qLzF31xrRCIhaUVaNsnLCNGmFaaztmMnP+7IzK4x7bTsOtnxPCEiIiI6ObDSjYiIOi0pYLr55pt1a7DQLqVkbBrpckcGVJeuaqTCi+JPCoWkAFYKzMyxdYRUuMi4LYIFaScfaY3QUgWypA3pQqylVmpSOWsdN800e/ZsPZ/pp21JHEpcsoUJhZKWqmbXckIqd6TVdmvGLWI6azt28uOOTFrnmd26nup4nhARERGdHFjpRkREJ52LLrpIvzktFW7Tp0/He++9p1vcUNuQSpXQsYhkrA9x++23syCNmiWFi9Zx08xJWtQsW7asU3aXRnQykHPPOp6YjCUX2o0wERERERERBeOYbkRE1GHZGdPNtG7dOuzZswerV6/Wn1etWoURI0bgX//6F1577TU94Lq0qGlOa8d0k/GoTIcPH9bjcbSmW6CHH35YD3RvksHpO8OYbkRERERE1PFxTDciIqK2x0o3IiLqsGKpdBOXX345MjIyMHbsWOzevRt333238U14ral0IzLl5ORg0aJFxieiRjI+z5AhQ4xP4R07dgynn3668YmIiIiaI2O/Dhw40PgU2c6dO3HxxRcbn9qHvIC3Y8cO41PHwko3IiKitsdKNyIi6rBaW+kmD5O33norXn31VRQXF+suDvv27Yt58+YZS4fHSjciIiIiIjpZsdKNiIio7XFMNyIiOuls27ZND0Y/bdo0bNq0SVfeSeUbERERERERERERUVthSzciIuqwomnpFg9s6UZERERERCcrtnQjoo7sq69YTUEnB7Z0IyIiIiIiIiIiIiKidieVbaxwo5MJW7oREVGHxZZuRERERERE8cGWbkTUkZgVbd27d0ePHj3gcDjQpUsXPY+oM2NLNyIiIiIiIiIiIiIialdS4XbuueeiW7durHCjkwYr3YiIiIiIiIiIiIiIqF2YrdzOPvts/S/RyYSVbkRERERERERERERE1G6k4k1auBGdbFjpRkREREREREREREREbc5s5SbYpSSdjFjpRkRERERERERERERE7cZa+UZ0MmGlGxERERERERERERERtQtWuNHJjJVuRERERERERERERERERDFipRsRERERERERERERERFRjLpkZmayLScREXVIHo8H1dXVxqe29/777xt/ERERERERERFRvEnXkuZ0wQUXGHPpVJWcnIwf/OAHGDx4MLp27WrMbZ0vvvgCe/fuxf33348DBw4Yc9sfK92IiKjDau9KNyIiIiIiIiIiahvWCrcvv/wSDofD+IZOVbfffju++c1vokuXLsac2Ejaev755/HQQw8Zc9ofK92IiKjDYqUbEREREREREdHJoS0r3ZYsWaL/XbNmjf63I5kwYQJuu+02/fcjjzyCrVu36r8JWL16NdLT03Hw4EE8+eSTxtzW+fa3v41+/fqhoqICd955pzG3/bHSjYiIOixWuhERERERERERnRzaqtJt6dKluOqqq/TfL730ElatWqX/7igmTpyoW3QJaYH1pz/9Sf9NjZVu0h3kd7/7XWNu6/z617/W3VWeyEo3p9OJ04y/iYiIiIiIiIiIiIiIOg2zwu20007Tk/wt86hzuummm1BcXIzNmzfbmmRZ+U1HIBVuUtnHSjciIiIiIiIiIiIiIupUrBVuJla8RXbdddchPz8fv/vd74IqroqKinQXmDLJ39bvZFn5jfy2PXTr1k1XXkUzyW9ONNkPqXAbN24cK92IiIiIiIiIiIiIiKjzMCvcunTposcDO378uJ7kb5nHirdG0uXiAw88gPnz5+OSSy5B7969gyqtzjzzTJx++ul6kr+t38my8hv5raxD1tWW3nrrLd1FqHTBaWeSZeU3J5KEk1nhJmmPlW5ERERERERERERERNQpWCvc/vnPf+Lpp5/GF198oSf5W+ax4q2RVJilpaXpv2tra/Hyyy8HVVyVlpbqykqZ5G/rd7Ks/EbIOmRdbencc8/FgAEDkJKSYmuSZeU3J0pohdvf/vY3dE1MTPwv43siIqIORd6mqaurMz4REREREREREdHJ4KuvvkLXrl2NT/aFVrj94he/gMvlQkZGhv7+L3/5C55//nkMHjwYCQkJulLm/PPP1/NPFKkcMvevvLwcb7/9tv67PVx77bW45pprdCu2P//5z7jnnnt0xdq2bdsapu3bt+ODDz7Qk/xt/a6srExXvrndbvTv3x+9evXCxx9/rMM+Hq6++mq97vr6evzv//4vxowZg8svv1xXpPXs2bPFSeK+pqYGf//73/WxnnPOOfB6vXqf21q4Crfly5ezpRsREREREREREREREXVs4SrcDhw4YHzbSObJd+3d4k228dBDD0XVBaMsK79pq/2TSsfu3bvj3//+N37/+9/D5/Pp+d/85jfxyCOP4LHHHgs7yXeyjJDfyG9lHbIuWWdb6SzdS0aqcBOsdCMiIiIiIiIiIiIiog5r9uzZyM7ObrHCzRRa8Sa/lXW0FXP/hgwZgh/+8Ie2Kt5kGVlWftNW+ye9SMnxS+s0qRgySYs1qTxrbpJlTPJbWYesS9Z5Kmuuwi0vL4+VbkRERERERERERERE1HGtW7dOd4u4Z8+eFivcTGbFm/xGfivraCvm/km3mRdddFGLFW9mhZssK79pq/2TLiNl/WeddRZGjBhhzAU+/PBD3c1lc5MsY5LfyjpkXbLOtjJw4EDdMnHixIm2JllWftNepMLt7rvvjljhJuHEMd2IiKjDau8x3eTGgYiIiIiIiIiI4k/KXaxTtGO6ybhsf/zjH/X4X1bNjZkmy8pv2mNMN9mGjB8nrcRkPDkZV2737t16fDLr/n3xxRdBFW7SReKqVav09/HWt29fDBs2DF/72tfQrVs37NixA36/X7cAlC4jN2/eHHaS72QZIRVN3/nOd3SLvE8//RQvv/xyw3exCh3TLSkpSYedfD5y5EiLk3R5WVVVpfenrcd0MyvcRo8eHbHCTeKzS2ZmJksYiYioQ/J4PKiurjY+tR25IJqsfxMRERERERERUXxImYs5ffnllzjjjDOMb2IjLZ5uv/12/beMj9YWFS7RCB177oUXXsC8efP0d4WFhbjmmmvapcLNJOsfOXKk/vvdd9/VY6BJ+JuOHz+OkpIS/XdOTk5QvJx22mm6JdkFF1ygP+/cuTOu48+tXr0a6enpulXid7/7XWNu6/z617/WLQgrKip094/xZLfC7a9//Ssr3YiIqONqj0o3uSA29y8REREREREREcVOylrMSSp9zjzzTOOb2HS0SjdhrXh7//33destIT06SWs4CYP2qHATUhG1aNEipKWl6f0J5fP5dLgJCUepYAol+1tZWYn8/HxbXXvaJcc/atQo3WJNKstaQ9KStCCU1nhtUekWTYXbT3/6U1a6ERFRx9VelW4yCfMtH/Oz+S8REREREREREcXGLIORScpgZIyweOiIlW7CrHiT1mJWcuztVeFmdd111+GKK67QXU5aw/6TTz7BI488ov++7bbbGipDJZ6kC8ePPvoIr7zyCp599lk9P54WLFiAqVOnNgmjaB09ehSff/45evbsGfdKN3Mf7VS4SQUmK92IiKjDautKN7komv/KDc/pp5+uPxMRERERERERUXxJ+Ys5STmMw+EwvolNR610E6EVbyeqwq2jklZkCxcu1GPetTY9SHeY1vEB413ptmTJEnz9619HbW2troATkSrcBCvdiIiow2qPSjfrxEo3IiIiIiIiIqK2YS2DOVUq3YRZ8SZY4RZ/U6ZMwS233IKzzz5bf26rSreDBw/iySef1H9LV52SjkMr3ERsbfaIiIhOEnKhJCIiIiIiIiKizkW6FZQuEmWSvzsaqWQrKSnREyvc4m/z5s14/PHHcezYMWNO2+jXrx9+9KMfYdiwYREr3ARbuhERUYfVXi3d5O0q+Tdeb1gREREREREREVEwsxzGLIthOQzFk9ni7c0334xrSzdpRSmtKU2SfisrK7Fy5comFW6ClW5ERNRhtWelm0zdunUzviEiIiIiIiIiongyy2HMshhWulG8ScXbxRdfjJ///OfGnPbHSjciIuqwWOlGRERERERERHRyYKUbnQo4phsRERERERERERERERFRjFjpRkRERERERERERERERBQjVroRERERERERERERERERxYiVbkREREREREREREREREQxYqUbERERERERERERERERUYxY6UZERERERERERERERO3qq6++Mv4iOnmw0o2IiIiIiIiIiIiIiNpcly5djL9Y6UYnI+D/A4TH93xNZ9fuAAAAAElFTkSuQmCC)\n",
        "\n",
        "As we can see, titanic.csv is now added to Google colab."
      ],
      "metadata": {
        "id": "l7BisO9REYqF"
      }
    },
    {
      "cell_type": "markdown",
      "source": [
        "To access any of the files on our *Google Drive*, we can use the mount command. We can then use the *ls* command to see all the contents of the drive, or the *cp* command to copy the specific file to the desired location. If the files are publicly available and large, we can use the *gdown* command instead of the *wget* command."
      ],
      "metadata": {
        "id": "qxuFq6__omzj"
      }
    },
    {
      "cell_type": "code",
      "source": [
        "from google.colab import drive\n",
        "drive.mount('/content/drive')"
      ],
      "metadata": {
        "colab": {
          "base_uri": "https://localhost:8080/"
        },
        "id": "3uGsPqarosFb",
        "outputId": "f7b30da9-e264-4d32-eff1-f114bec2e435"
      },
      "execution_count": 40,
      "outputs": [
        {
          "output_type": "stream",
          "name": "stdout",
          "text": [
            "Mounted at /content/drive\n"
          ]
        }
      ]
    },
    {
      "cell_type": "code",
      "source": [
        "!ls \"/content/drive/MyDrive\""
      ],
      "metadata": {
        "colab": {
          "base_uri": "https://localhost:8080/"
        },
        "id": "Wt3FcPS2qQoj",
        "outputId": "931ada9b-62ce-4440-c189-7091a20108f7"
      },
      "execution_count": 41,
      "outputs": [
        {
          "output_type": "stream",
          "name": "stdout",
          "text": [
            "'Akasa 05 27.pdf'\t\t     'FIFA 22'\t\t\t      'MS Applications 2022 23'\n",
            "'Akasa Air Boarding Pass 23 12.pdf'  'Form 16 March 22.pdf'\t      'MS Applications 2023 24'\n",
            "'boarding pass 07_28.pdf'\t     'Google AI Studio'\t\t       Pokemon\n",
            "'Colab Notebooks'\t\t      GRE\t\t\t      'Sports Analytics'\n",
            "'EAFC 24'\t\t\t     'GRE Practice Test Scores.xlsx'   TOEFL\n",
            " ETS.zip\t\t\t     'M&M Wedding Planning'\t       USA\n"
          ]
        }
      ]
    },
    {
      "cell_type": "markdown",
      "source": [
        "For private files, we require authentication. If we have a folder id (and the required access), we can list and download all the files and folders under it.\n",
        "\n",
        "P.S., it may fail since I have not given access to the necessary files."
      ],
      "metadata": {
        "id": "ESknQOz17qDz"
      }
    },
    {
      "cell_type": "code",
      "source": [
        "from google.colab import auth\n",
        "auth.authenticate_user()"
      ],
      "metadata": {
        "id": "Ykiuj6F08AnJ"
      },
      "execution_count": 42,
      "outputs": []
    },
    {
      "cell_type": "code",
      "source": [
        "folder_id = \"1Hu7fxjTsmyM-G26K6FayNXklCDj_N5Yv\"\n",
        "\n",
        "'''list all ids of files in the folder'''\n",
        "def folder_list(folder_id):\n",
        "  from googleapiclient.discovery import build\n",
        "  gdrive = build('drive', 'v3').files()\n",
        "  results = gdrive.list(q=\"'%s' in parents\" % folder_id).execute()\n",
        "  return [f['id'] for f in results['files']]"
      ],
      "metadata": {
        "id": "p93ocIrt8auD"
      },
      "execution_count": 43,
      "outputs": []
    },
    {
      "cell_type": "code",
      "source": [
        "folder_list(folder_id)"
      ],
      "metadata": {
        "colab": {
          "base_uri": "https://localhost:8080/"
        },
        "id": "k0EinRZS91i1",
        "outputId": "6872c5e8-8da4-4f2a-fe63-192cd41c92f1"
      },
      "execution_count": 44,
      "outputs": [
        {
          "output_type": "execute_result",
          "data": {
            "text/plain": [
              "['1lNbTWtpM6xM816aFKCAY6m7Hi9np9Qia',\n",
              " '1eBgPlq8XREIq-Yj7y5gtoUPmeDZ988VQBERGrAj0ZCE',\n",
              " '1PnkXVLBNL8Vb9VZC7T8d9Fi7cu90lT37poJHicnWZ-U',\n",
              " '1L-aDs1PxnqaO3G4Wtw_gWsPF5vyxU2nrHntYWkGDB4c',\n",
              " '1utCKCX9jglYoD2nC41dbUZ-aYngaFurSZMBdaSmySjc']"
            ]
          },
          "metadata": {},
          "execution_count": 44
        }
      ]
    },
    {
      "cell_type": "code",
      "source": [
        "def folder_download(folder_id):\n",
        "  for fid in folder_list(folder_id):\n",
        "    !gdown -q $fid"
      ],
      "metadata": {
        "id": "304I735t-O8m"
      },
      "execution_count": 45,
      "outputs": []
    },
    {
      "cell_type": "code",
      "source": [
        "folder_download(folder_id)"
      ],
      "metadata": {
        "id": "PwBo5Q1y-cHI"
      },
      "execution_count": 46,
      "outputs": []
    },
    {
      "cell_type": "markdown",
      "source": [
        "![Screenshot (167).png](data:image/png;base64,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)\n",
        "\n",
        "As we can see, four files from my drive were added to the google colab."
      ],
      "metadata": {
        "id": "bBO6CY4i_oDO"
      }
    },
    {
      "cell_type": "markdown",
      "source": [
        "Google colab also supports **Jupyter widgets** which allow us to create form-like inputs."
      ],
      "metadata": {
        "id": "eYF11hJOBvUi"
      }
    },
    {
      "cell_type": "code",
      "source": [
        "input_text = 'value' #@param\n",
        "date_input = '2024-09-04' #@param {type: \"date\"}\n",
        "number_slider = 0 #@param {type: \"slider\", min: -1, max: 1}\n",
        "dropdown = 'option 1' #@param [\"option 1\", \"option 2\", \"option 3\"]"
      ],
      "metadata": {
        "id": "dky1tKJoCZKw"
      },
      "execution_count": 47,
      "outputs": []
    },
    {
      "cell_type": "markdown",
      "source": [
        "Google colab has 500 pre-installed libraries. To install more, we can use *pip* command. *apt* command can also be used for installing package names."
      ],
      "metadata": {
        "id": "7Tc9ZVcMDKMJ"
      }
    },
    {
      "cell_type": "code",
      "source": [
        "!pip freeze"
      ],
      "metadata": {
        "colab": {
          "base_uri": "https://localhost:8080/"
        },
        "collapsed": true,
        "id": "q5IfXJajDpp4",
        "outputId": "391d8a40-a394-459b-d2cc-6a80a4a401b6"
      },
      "execution_count": 48,
      "outputs": [
        {
          "output_type": "stream",
          "name": "stdout",
          "text": [
            "absl-py==1.4.0\n",
            "accelerate==0.33.0\n",
            "aiohappyeyeballs==2.4.0\n",
            "aiohttp==3.10.5\n",
            "aiosignal==1.3.1\n",
            "alabaster==0.7.16\n",
            "albucore==0.0.14\n",
            "albumentations==1.4.14\n",
            "altair==4.2.2\n",
            "annotated-types==0.7.0\n",
            "anyio==3.7.1\n",
            "argon2-cffi==23.1.0\n",
            "argon2-cffi-bindings==21.2.0\n",
            "array_record==0.5.1\n",
            "arviz==0.18.0\n",
            "asn1crypto==1.5.1\n",
            "astropy==6.1.3\n",
            "astropy-iers-data==0.2024.8.27.10.28.29\n",
            "astunparse==1.6.3\n",
            "async-timeout==4.0.3\n",
            "atpublic==4.1.0\n",
            "attrs==24.2.0\n",
            "audioread==3.0.1\n",
            "autograd==1.7.0\n",
            "babel==2.16.0\n",
            "backcall==0.2.0\n",
            "beautifulsoup4==4.12.3\n",
            "bidict==0.23.1\n",
            "bigframes==1.15.0\n",
            "bigquery-magics==0.2.0\n",
            "bleach==6.1.0\n",
            "blinker==1.4\n",
            "blis==0.7.11\n",
            "blosc2==2.0.0\n",
            "bokeh==3.4.3\n",
            "bqplot==0.12.43\n",
            "branca==0.7.2\n",
            "build==1.2.1\n",
            "CacheControl==0.14.0\n",
            "cachetools==5.5.0\n",
            "catalogue==2.0.10\n",
            "certifi==2024.8.30\n",
            "cffi==1.17.0\n",
            "chardet==5.2.0\n",
            "charset-normalizer==3.3.2\n",
            "chex==0.1.86\n",
            "clarabel==0.9.0\n",
            "click==8.1.7\n",
            "click-plugins==1.1.1\n",
            "cligj==0.7.2\n",
            "cloudpathlib==0.19.0\n",
            "cloudpickle==2.2.1\n",
            "cmake==3.30.2\n",
            "cmdstanpy==1.2.4\n",
            "colorcet==3.1.0\n",
            "colorlover==0.3.0\n",
            "colour==0.1.5\n",
            "community==1.0.0b1\n",
            "confection==0.1.5\n",
            "cons==0.4.6\n",
            "contextlib2==21.6.0\n",
            "contourpy==1.3.0\n",
            "cryptography==43.0.0\n",
            "cuda-python==12.2.1\n",
            "cudf-cu12 @ https://pypi.nvidia.com/cudf-cu12/cudf_cu12-24.4.1-cp310-cp310-manylinux_2_28_x86_64.whl#sha256=57366e7ef09dc63e0b389aff20df6c37d91e2790065861ee31a4720149f5b694\n",
            "cufflinks==0.17.3\n",
            "cupy-cuda12x==12.2.0\n",
            "cvxopt==1.3.2\n",
            "cvxpy==1.5.3\n",
            "cycler==0.12.1\n",
            "cymem==2.0.8\n",
            "Cython==3.0.11\n",
            "dask==2024.7.1\n",
            "datascience==0.17.6\n",
            "db-dtypes==1.3.0\n",
            "dbus-python==1.2.18\n",
            "debugpy==1.6.6\n",
            "decorator==4.4.2\n",
            "defusedxml==0.7.1\n",
            "distributed==2024.7.1\n",
            "distro==1.7.0\n",
            "dlib==19.24.2\n",
            "dm-tree==0.1.8\n",
            "docstring_parser==0.16\n",
            "docutils==0.18.1\n",
            "dopamine_rl==4.0.9\n",
            "duckdb==0.10.3\n",
            "earthengine-api==0.1.418\n",
            "easydict==1.13\n",
            "ecos==2.0.14\n",
            "editdistance==0.8.1\n",
            "eerepr==0.0.4\n",
            "einops==0.8.0\n",
            "en-core-web-sm @ https://github.com/explosion/spacy-models/releases/download/en_core_web_sm-3.7.1/en_core_web_sm-3.7.1-py3-none-any.whl#sha256=86cc141f63942d4b2c5fcee06630fd6f904788d2f0ab005cce45aadb8fb73889\n",
            "entrypoints==0.4\n",
            "et-xmlfile==1.1.0\n",
            "etils==1.7.0\n",
            "etuples==0.3.9\n",
            "eval_type_backport==0.2.0\n",
            "exceptiongroup==1.2.2\n",
            "fastai==2.7.17\n",
            "fastcore==1.7.1\n",
            "fastdownload==0.0.7\n",
            "fastjsonschema==2.20.0\n",
            "fastprogress==1.0.3\n",
            "fastrlock==0.8.2\n",
            "filelock==3.15.4\n",
            "fiona==1.9.6\n",
            "firebase-admin==6.5.0\n",
            "Flask==2.2.5\n",
            "flatbuffers==24.3.25\n",
            "flax==0.8.4\n",
            "folium==0.17.0\n",
            "fonttools==4.53.1\n",
            "frozendict==2.4.4\n",
            "frozenlist==1.4.1\n",
            "fsspec==2024.6.1\n",
            "future==1.0.0\n",
            "gast==0.6.0\n",
            "gcsfs==2024.6.1\n",
            "GDAL==3.6.4\n",
            "gdown==5.1.0\n",
            "geemap==0.34.0\n",
            "gensim==4.3.3\n",
            "geocoder==1.38.1\n",
            "geographiclib==2.0\n",
            "geopandas==0.14.4\n",
            "geopy==2.4.1\n",
            "gin-config==0.5.0\n",
            "glob2==0.7\n",
            "google==2.0.3\n",
            "google-ai-generativelanguage==0.6.6\n",
            "google-api-core==2.19.2\n",
            "google-api-python-client==2.137.0\n",
            "google-auth==2.27.0\n",
            "google-auth-httplib2==0.2.0\n",
            "google-auth-oauthlib==1.2.1\n",
            "google-cloud-aiplatform==1.64.0\n",
            "google-cloud-bigquery==3.25.0\n",
            "google-cloud-bigquery-connection==1.15.5\n",
            "google-cloud-bigquery-storage==2.25.0\n",
            "google-cloud-bigtable==2.26.0\n",
            "google-cloud-core==2.4.1\n",
            "google-cloud-datastore==2.19.0\n",
            "google-cloud-firestore==2.16.1\n",
            "google-cloud-functions==1.16.5\n",
            "google-cloud-iam==2.15.2\n",
            "google-cloud-language==2.13.4\n",
            "google-cloud-pubsub==2.23.0\n",
            "google-cloud-resource-manager==1.12.5\n",
            "google-cloud-storage==2.8.0\n",
            "google-cloud-translate==3.15.5\n",
            "google-colab @ file:///colabtools/dist/google_colab-1.0.0.tar.gz#sha256=bc44566644911149dfef762158f18940d386952e18789291c8114ca38fd8e65a\n",
            "google-crc32c==1.5.0\n",
            "google-generativeai==0.7.2\n",
            "google-pasta==0.2.0\n",
            "google-resumable-media==2.7.2\n",
            "googleapis-common-protos==1.65.0\n",
            "googledrivedownloader==0.4\n",
            "graphviz==0.20.3\n",
            "greenlet==3.0.3\n",
            "grpc-google-iam-v1==0.13.1\n",
            "grpcio==1.64.1\n",
            "grpcio-status==1.48.2\n",
            "gspread==6.0.2\n",
            "gspread-dataframe==3.3.1\n",
            "gym==0.25.2\n",
            "gym-notices==0.0.8\n",
            "h5netcdf==1.3.0\n",
            "h5py==3.11.0\n",
            "holidays==0.55\n",
            "holoviews==1.18.3\n",
            "html5lib==1.1\n",
            "httpimport==1.3.1\n",
            "httplib2==0.22.0\n",
            "huggingface-hub==0.24.6\n",
            "humanize==4.10.0\n",
            "hyperopt==0.2.7\n",
            "ibis-framework==8.0.0\n",
            "idna==3.8\n",
            "imageio==2.34.2\n",
            "imageio-ffmpeg==0.5.1\n",
            "imagesize==1.4.1\n",
            "imbalanced-learn==0.12.3\n",
            "imgaug==0.4.0\n",
            "immutabledict==4.2.0\n",
            "importlib_metadata==8.4.0\n",
            "importlib_resources==6.4.4\n",
            "imutils==0.5.4\n",
            "inflect==7.3.1\n",
            "iniconfig==2.0.0\n",
            "intel-cmplr-lib-ur==2024.2.1\n",
            "intel-openmp==2024.2.1\n",
            "ipyevents==2.0.2\n",
            "ipyfilechooser==0.6.0\n",
            "ipykernel==5.5.6\n",
            "ipyleaflet==0.18.2\n",
            "ipyparallel==8.8.0\n",
            "ipython==7.34.0\n",
            "ipython-genutils==0.2.0\n",
            "ipython-sql==0.5.0\n",
            "ipytree==0.2.2\n",
            "ipywidgets==7.7.1\n",
            "itsdangerous==2.2.0\n",
            "jax==0.4.26\n",
            "jaxlib @ https://storage.googleapis.com/jax-releases/cuda12/jaxlib-0.4.26+cuda12.cudnn89-cp310-cp310-manylinux2014_x86_64.whl#sha256=813cf1fe3e7ca4dbf5327d6e7b4fc8521e92d8bba073ee645ae0d5d036a25750\n",
            "jeepney==0.7.1\n",
            "jellyfish==1.1.0\n",
            "jieba==0.42.1\n",
            "Jinja2==3.1.4\n",
            "joblib==1.4.2\n",
            "jsonpickle==3.2.2\n",
            "jsonschema==4.23.0\n",
            "jsonschema-specifications==2023.12.1\n",
            "jupyter-client==6.1.12\n",
            "jupyter-console==6.1.0\n",
            "jupyter-server==1.24.0\n",
            "jupyter_core==5.7.2\n",
            "jupyterlab_pygments==0.3.0\n",
            "jupyterlab_widgets==3.0.13\n",
            "kaggle==1.6.17\n",
            "kagglehub==0.2.9\n",
            "keras==3.4.1\n",
            "keyring==23.5.0\n",
            "kiwisolver==1.4.5\n",
            "langcodes==3.4.0\n",
            "language_data==1.2.0\n",
            "launchpadlib==1.10.16\n",
            "lazr.restfulclient==0.14.4\n",
            "lazr.uri==1.0.6\n",
            "lazy_loader==0.4\n",
            "libclang==18.1.1\n",
            "librosa==0.10.2.post1\n",
            "lightgbm==4.4.0\n",
            "linkify-it-py==2.0.3\n",
            "llvmlite==0.43.0\n",
            "locket==1.0.0\n",
            "logical-unification==0.4.6\n",
            "lxml==4.9.4\n",
            "malloy==2024.1091\n",
            "marisa-trie==1.2.0\n",
            "Markdown==3.7\n",
            "markdown-it-py==3.0.0\n",
            "MarkupSafe==2.1.5\n",
            "matplotlib==3.7.1\n",
            "matplotlib-inline==0.1.7\n",
            "matplotlib-venn==0.11.10\n",
            "mdit-py-plugins==0.4.1\n",
            "mdurl==0.1.2\n",
            "miniKanren==1.0.3\n",
            "missingno==0.5.2\n",
            "mistune==0.8.4\n",
            "mizani==0.9.3\n",
            "mkl==2024.2.1\n",
            "ml-dtypes==0.4.0\n",
            "mlxtend==0.23.1\n",
            "more-itertools==10.3.0\n",
            "moviepy==1.0.3\n",
            "mpmath==1.3.0\n",
            "msgpack==1.0.8\n",
            "multidict==6.0.5\n",
            "multipledispatch==1.0.0\n",
            "multitasking==0.0.11\n",
            "murmurhash==1.0.10\n",
            "music21==9.1.0\n",
            "namex==0.0.8\n",
            "natsort==8.4.0\n",
            "nbclassic==1.1.0\n",
            "nbclient==0.10.0\n",
            "nbconvert==6.5.4\n",
            "nbformat==5.10.4\n",
            "nest-asyncio==1.6.0\n",
            "networkx==3.3\n",
            "nibabel==5.0.1\n",
            "nltk==3.8.1\n",
            "notebook==6.5.5\n",
            "notebook_shim==0.2.4\n",
            "numba==0.60.0\n",
            "numexpr==2.10.1\n",
            "numpy==1.26.4\n",
            "nvidia-nccl-cu12==2.22.3\n",
            "nvtx==0.2.10\n",
            "oauth2client==4.1.3\n",
            "oauthlib==3.2.2\n",
            "opencv-contrib-python==4.10.0.84\n",
            "opencv-python==4.10.0.84\n",
            "opencv-python-headless==4.10.0.84\n",
            "openpyxl==3.1.5\n",
            "opt-einsum==3.3.0\n",
            "optax==0.2.2\n",
            "optree==0.12.1\n",
            "orbax-checkpoint==0.6.1\n",
            "osqp==0.6.7.post0\n",
            "packaging==24.1\n",
            "pandas==2.1.4\n",
            "pandas-datareader==0.10.0\n",
            "pandas-gbq==0.23.1\n",
            "pandas-stubs==2.1.4.231227\n",
            "pandocfilters==1.5.1\n",
            "panel==1.4.5\n",
            "param==2.1.1\n",
            "parso==0.8.4\n",
            "parsy==2.1\n",
            "partd==1.4.2\n",
            "pathlib==1.0.1\n",
            "patsy==0.5.6\n",
            "peewee==3.17.6\n",
            "pexpect==4.9.0\n",
            "pickleshare==0.7.5\n",
            "Pillow==9.4.0\n",
            "pip-tools==7.4.1\n",
            "platformdirs==4.2.2\n",
            "plotly==5.15.0\n",
            "plotnine==0.12.4\n",
            "pluggy==1.5.0\n",
            "polars==0.20.2\n",
            "pooch==1.8.2\n",
            "portpicker==1.5.2\n",
            "prefetch_generator==1.0.3\n",
            "preshed==3.0.9\n",
            "prettytable==3.11.0\n",
            "proglog==0.1.10\n",
            "progressbar2==4.2.0\n",
            "prometheus_client==0.20.0\n",
            "promise==2.3\n",
            "prompt_toolkit==3.0.47\n",
            "prophet==1.1.5\n",
            "proto-plus==1.24.0\n",
            "protobuf==3.20.3\n",
            "psutil==5.9.5\n",
            "psycopg2==2.9.9\n",
            "ptyprocess==0.7.0\n",
            "py-cpuinfo==9.0.0\n",
            "py3Dmol==2.4.0\n",
            "py4j==0.10.9.7\n",
            "pyarrow==14.0.2\n",
            "pyarrow-hotfix==0.6\n",
            "pyasn1==0.6.0\n",
            "pyasn1_modules==0.4.0\n",
            "pycocotools==2.0.8\n",
            "pycparser==2.22\n",
            "pydantic==2.8.2\n",
            "pydantic_core==2.20.1\n",
            "pydata-google-auth==1.8.2\n",
            "pydot==1.4.2\n",
            "pydot-ng==2.0.0\n",
            "pydotplus==2.0.2\n",
            "PyDrive==1.3.1\n",
            "PyDrive2==1.6.3\n",
            "pyerfa==2.0.1.4\n",
            "pygame==2.6.0\n",
            "Pygments==2.16.1\n",
            "PyGObject==3.42.1\n",
            "PyJWT==2.9.0\n",
            "pymc==5.10.4\n",
            "pymystem3==0.2.0\n",
            "pynvjitlink-cu12==0.3.0\n",
            "PyOpenGL==3.1.7\n",
            "pyOpenSSL==24.2.1\n",
            "pyparsing==3.1.4\n",
            "pyperclip==1.9.0\n",
            "pyproj==3.6.1\n",
            "pyproject_hooks==1.1.0\n",
            "pyshp==2.3.1\n",
            "PySocks==1.7.1\n",
            "pytensor==2.18.6\n",
            "pytest==7.4.4\n",
            "python-apt==2.4.0\n",
            "python-box==7.2.0\n",
            "python-dateutil==2.8.2\n",
            "python-louvain==0.16\n",
            "python-slugify==8.0.4\n",
            "python-utils==3.8.2\n",
            "pytz==2024.1\n",
            "pyviz_comms==3.0.3\n",
            "PyYAML==6.0.2\n",
            "pyzmq==24.0.1\n",
            "qdldl==0.1.7.post4\n",
            "ratelim==0.1.6\n",
            "referencing==0.35.1\n",
            "regex==2024.5.15\n",
            "requests==2.32.3\n",
            "requests-oauthlib==1.3.1\n",
            "requirements-parser==0.9.0\n",
            "rich==13.8.0\n",
            "rmm-cu12==24.4.0\n",
            "rpds-py==0.20.0\n",
            "rpy2==3.4.2\n",
            "rsa==4.9\n",
            "safetensors==0.4.4\n",
            "scikit-image==0.23.2\n",
            "scikit-learn==1.3.2\n",
            "scipy==1.13.1\n",
            "scooby==0.10.0\n",
            "scs==3.2.7\n",
            "seaborn==0.13.1\n",
            "SecretStorage==3.3.1\n",
            "Send2Trash==1.8.3\n",
            "sentencepiece==0.1.99\n",
            "shapely==2.0.6\n",
            "shellingham==1.5.4\n",
            "simple_parsing==0.1.5\n",
            "six==1.16.0\n",
            "sklearn-pandas==2.2.0\n",
            "smart-open==7.0.4\n",
            "sniffio==1.3.1\n",
            "snowballstemmer==2.2.0\n",
            "snowflake-connector-python==3.12.1\n",
            "sortedcontainers==2.4.0\n",
            "soundfile==0.12.1\n",
            "soupsieve==2.6\n",
            "soxr==0.5.0\n",
            "spacy==3.7.6\n",
            "spacy-legacy==3.0.12\n",
            "spacy-loggers==1.0.5\n",
            "Sphinx==5.0.2\n",
            "sphinxcontrib-applehelp==2.0.0\n",
            "sphinxcontrib-devhelp==2.0.0\n",
            "sphinxcontrib-htmlhelp==2.1.0\n",
            "sphinxcontrib-jsmath==1.0.1\n",
            "sphinxcontrib-qthelp==2.0.0\n",
            "sphinxcontrib-serializinghtml==2.0.0\n",
            "SQLAlchemy==2.0.32\n",
            "sqlglot==20.11.0\n",
            "sqlparse==0.5.1\n",
            "srsly==2.4.8\n",
            "stanio==0.5.1\n",
            "statsmodels==0.14.2\n",
            "StrEnum==0.4.15\n",
            "sympy==1.13.2\n",
            "tables==3.8.0\n",
            "tabulate==0.9.0\n",
            "tbb==2021.13.1\n",
            "tblib==3.0.0\n",
            "tenacity==9.0.0\n",
            "tensorboard==2.17.0\n",
            "tensorboard-data-server==0.7.2\n",
            "tensorflow==2.17.0\n",
            "tensorflow-datasets==4.9.6\n",
            "tensorflow-hub==0.16.1\n",
            "tensorflow-io-gcs-filesystem==0.37.1\n",
            "tensorflow-metadata==1.15.0\n",
            "tensorflow-probability==0.24.0\n",
            "tensorstore==0.1.64\n",
            "termcolor==2.4.0\n",
            "terminado==0.18.1\n",
            "text-unidecode==1.3\n",
            "textblob==0.17.1\n",
            "tf-slim==1.1.0\n",
            "tf_keras==2.17.0\n",
            "thinc==8.2.5\n",
            "threadpoolctl==3.5.0\n",
            "tifffile==2024.8.28\n",
            "tinycss2==1.3.0\n",
            "tokenizers==0.19.1\n",
            "toml==0.10.2\n",
            "tomli==2.0.1\n",
            "tomlkit==0.13.2\n",
            "toolz==0.12.1\n",
            "torch @ https://download.pytorch.org/whl/cu121_full/torch-2.4.0%2Bcu121-cp310-cp310-linux_x86_64.whl#sha256=6f3aabcec8b7728943d22bec2d8017b1bd2d69cd903eefb7dd3a373e4f779c40\n",
            "torchaudio @ https://download.pytorch.org/whl/cu121_full/torchaudio-2.4.0%2Bcu121-cp310-cp310-linux_x86_64.whl#sha256=8bc4c22a701f4567a15cc98ff48c392147583b9ec4157d147025f297bf305acc\n",
            "torchsummary==1.5.1\n",
            "torchvision @ https://download.pytorch.org/whl/cu121_full/torchvision-0.19.0%2Bcu121-cp310-cp310-linux_x86_64.whl#sha256=53c7ee4a98c8464ec964a6ab3804f5925b19bac698ef728f148bffebe27a9081\n",
            "tornado==6.3.3\n",
            "tqdm==4.66.5\n",
            "traitlets==5.7.1\n",
            "traittypes==0.2.1\n",
            "transformers==4.44.2\n",
            "tweepy==4.14.0\n",
            "typeguard==4.3.0\n",
            "typer==0.12.5\n",
            "types-pytz==2024.1.0.20240417\n",
            "types-setuptools==74.0.0.20240831\n",
            "typing_extensions==4.12.2\n",
            "tzdata==2024.1\n",
            "tzlocal==5.2\n",
            "uc-micro-py==1.0.3\n",
            "uritemplate==4.1.1\n",
            "urllib3==2.0.7\n",
            "vega-datasets==0.9.0\n",
            "wadllib==1.3.6\n",
            "wasabi==1.1.3\n",
            "wcwidth==0.2.13\n",
            "weasel==0.4.1\n",
            "webcolors==24.8.0\n",
            "webencodings==0.5.1\n",
            "websocket-client==1.8.0\n",
            "Werkzeug==3.0.4\n",
            "widgetsnbextension==3.6.8\n",
            "wordcloud==1.9.3\n",
            "wrapt==1.16.0\n",
            "xarray==2024.6.0\n",
            "xarray-einstats==0.7.0\n",
            "xgboost==2.1.1\n",
            "xlrd==2.0.1\n",
            "xyzservices==2024.6.0\n",
            "yarl==1.9.4\n",
            "yellowbrick==1.5\n",
            "yfinance==0.2.43\n",
            "zict==3.0.0\n",
            "zipp==3.20.1\n"
          ]
        }
      ]
    },
    {
      "cell_type": "markdown",
      "source": [
        "We can also store libraries directly on the drive after mounting it."
      ],
      "metadata": {
        "id": "nkTfwKDyEpQ-"
      }
    },
    {
      "cell_type": "code",
      "source": [
        "import os, sys\n",
        "from google.colab import drive\n",
        "\n",
        "drive.mount('/content/drive')\n",
        "nb_path = '/content/notebooks'\n",
        "os.symlink('/content/drive/My Drive/Colab Notebooks', nb_path)\n",
        "sys.path.insert(0, nb_path)\n",
        "\n",
        "!pip install --target=$nb_path jdc\n",
        "\n",
        "import jdc"
      ],
      "metadata": {
        "colab": {
          "base_uri": "https://localhost:8080/"
        },
        "id": "A4lQZp8jFGWJ",
        "outputId": "87e2c902-ae64-490c-ce73-87440405393e"
      },
      "execution_count": 49,
      "outputs": [
        {
          "output_type": "stream",
          "name": "stdout",
          "text": [
            "Drive already mounted at /content/drive; to attempt to forcibly remount, call drive.mount(\"/content/drive\", force_remount=True).\n",
            "Collecting jdc\n",
            "  Downloading jdc-0.0.9-py2.py3-none-any.whl.metadata (817 bytes)\n",
            "Downloading jdc-0.0.9-py2.py3-none-any.whl (2.1 kB)\n",
            "Installing collected packages: jdc\n",
            "Successfully installed jdc-0.0.9\n",
            "\u001b[33mWARNING: Target directory /content/notebooks/jdc already exists. Specify --upgrade to force replacement.\u001b[0m\u001b[33m\n",
            "\u001b[0m\u001b[33mWARNING: Target directory /content/notebooks/jdc-0.0.9.dist-info already exists. Specify --upgrade to force replacement.\u001b[0m\u001b[33m\n",
            "\u001b[0m"
          ]
        }
      ]
    },
    {
      "cell_type": "markdown",
      "source": [
        "![Screenshot (170).png](data:image/png;base64,iVBORw0KGgoAAAANSUhEUgAAAbIAAAJECAYAAABzUKGFAAAAAXNSR0IArs4c6QAAAARnQU1BAACxjwv8YQUAAAAJcEhZcwAADsMAAA7DAcdvqGQAAKaNSURBVHhe7Z0HYBRF+8bfdEhCAoQWepEqRXqX4kdRwQYiAgqKgA1Rgb+CnyAoVkARLKAIKE2KqGAB/OjdgPReQoBEegsBUv/7zO2Gy+UuV3JJ7uD54Xq7s312M8+877wz69Pwu/1pQgghhHgpvvovIYQQ4pVQyAghhHg1FDJCCCFeDYWMEEKIV0MhI4QQ4tVQyAghhHg1d1T4fcFAH6kQ6iuFtd+wAB/xkVR9DSGEZOZmqo9cTEyTMzfS5PDVXCwvtFI5Tfvn4+OjJ5CsyLaQ3R3uK40i/KRiqI8U0gSiUJDjGX/xZpp6SY5cS5Mt51Jk7+WceVHaRfpL0whfqapdKyGEuMLVpDTZfC5Vlv2bIqcS3FlW6WVmmlYUU7dcwiUhy+fnI22K+8oDJf2lsBPCZY8LmrD9dipFVp1JkRsp2TcUWxf3kyfK+SvrixBC3AUq3tOOJssVTdyyC47AEip7OC1ksLrerhUoxfPlXNb/ez1NxuxJVMLmKt3K+svDZfz1JUIIcS9nb2jl1O5EOetyOaWVobTC3IJTvrZSwT4yunbOihgokd9H3tHEskyIa67A7uX8KGKEkBylqFYOjq4TKEWCXCun0tBGTxFzCw4/gQIBPvJGjUC3uhKzIkI7z5Dq/pLfz7nz1Y/wk86lA/QlQgjJOdBs8Wo15yvNJkOMKuYuHBIyZPer1QKUuOQmqOm8XCXA4ccdoW9PCCG5BSKhe1ZwRsw0CaOGuRWHhKxJEV+pFuaa+Zxd7insq87vCHApBubNZRJC7mAQ+BYZbL/wQWuacikSt2I35/P7+0j38nnb3vREuQAJ8M26CoM+Ys2K+ulLhBCSu7Qvbl/I4E6kS9H92M35ewr6uNyY6S7QqFpbu46saBiRwyIGpzYhhNjAsTLICWtMK3N8UlPVpMofJ6YM+90B2FWoOoXyVsQM7F1HowgXrjMtVXvOZi8W5s2X4QgwluHUVi+J+XpCCDGBwSDuKmCnHEpzzBpLQ1mjlTlpvr5qUuWPPqVZmczXq23M97sDxMxuP7L37wmUci6GwbuT49dSZfj2RH0pM1MaBUmIox2f9ZcknbQU7X94Aczu03wbrMfkG2haBpbHIITc8Uw7kiR//YvyxAZOlBtBl85Ikx0rpfz5E1L8+lUpePO6hCffFP/UFJNz0hAo7XipWtmV6OsnF/0D5GpQsJzJV0BOFiouf9dsJVeLljFtdxtjV8i+bBgo4R4QQXE5MVVe/Nu2kM1qnk+fc5z8V1ZI8JXl4p8Yoy1pL0K+SnI9/H65EdJIW/aRwGv/SMilxRJ484BIapKkBEXK9dC2Eh92v/j4mYkaIYRozD2eIotPJulLmXFUx8LPxMjoiS9J01OH9BTX2KeJ2bBBkyW2bDU95fbErkIF+3uG1eHO6/BJviJFTgyW4seflcLxcyQsdb02rZUi8dOl2NGnJN/VzRJ6ZqqUOv6kFLn6nYQlautTtkiha79IydhBUjymn/gmntWP5jhTp06RKlXLZ5g2blyvr3UNHOPgIU1o84BfF/+c4V5cwfIYzh4H2zt6/++NGaXO5yjY3vLajMmZ47gLI68uXLigp2QNtnXnu2GZH1h2lOjjx+SJ7o/pS/aJjj4mFy86dp+OskH7W+v7XG+5du2annILpGEdtskO9ur8jjpx/rNyjhKxm/6BkuLnLymatZVp0qwvq+n6hH2rXzwtrVbN1Y/qHF90LCNbnqkqD1UJ11Oy5t1WkbKiZ2V9KXexK2T2ogWtsWXLJn3OOvbWW8OV67CKZpbnWzNGwg79ojyJSZqRdz2xqNxIKqpy42ZwXQlM2CQlzr0rknJTkrXKVWqylp4YJGnar/afhJxYJ/lWva3tfN10TCd44/+Gy8ED0WpasmSp9O7T02ExgxBi8gRQQA4Z8mr6vYwd+5lTBRtAYbhz5470Y2CaMX1WtsXdXfz3rZHp1/X008+oezSWH+r8iL5V1kB0cJ+Oik9W4Jw4d+HChfWU3AHPGvdQu3ad9PvHFFki0i33lVvMnDlD1q5dLc/165NBzDCPNKzDNp5AhZh9yl3op5VXfinJ4puWaprHJGmmX61wUvPm67TJfFsco0LsYf2ozlE9Ip/EJ6ZKh4pheornYlfInOXHeXOk11Pd5f33R+spGUE61v/8y096Su4SePRPCTq0RC4eCpL4M5FyruwHEldpkcRV+FFOh70hCeGdpMDFhZKKIFmfNEkMqiz/Rn4gp8t/J2dKviPxVyrI5YPBEnR0tQQe/EU/qmtUqVxVFY7/W/GXnuI9nD93ThXuBtWqVZeYmOP6kn0gehB1iIU5TZs2VxPxHDp16qAqGJbi3bdv/1wX1ezw6fiJcm/LVrJ169/pYmaIGNKwDtt4AuUvn9NKoDRNlNJUMIeP0R4GAgNRqxVp00arZSNATVuHwA4dbIt9sC+OUU47lrMMbKBV7DUWHbikBM3TcbuQ+WkmLb6hM33Gd5nEDMtIx3pf88CKXCTgwCLx99MetmbhXYx8Q+ILPikpQaUlOV9FuVLsBW2LFAmWEyq2I9G/jJwpO0WuRTwpNws0lyuF+8jFom9IWqr2gvn5SsDBxaaDugGj1mtZw0WBb7gkP/r4fTVh3tK1hTRjsnQnGcc2JkvLCcs4Hn6Nbey5zqpWrS7ffz8t/XrnzZurFXgPqXmAY9iqreN6sC8KQnsY7jRHr8vSfWvtGsy3scwLZzDy1RyczzgvrrVJ03oqHb+W2xrXYEzmGM/DuFYsW57POJcx5YS1jvOiwuJI5cL8/cF06NBBfY11Zs3+QT7+5AOZ9MUEWb58qZ6aEbgXY2Nj5fLlS5KiWSbZISgoSL74Ykq6mPV97mk1GSKGddjGEwi7Hm8SJO1fBhEDiYki//mPyFItz8aOFYmIMAmaGaZ9TPsWvpHZlWqPxqVCZN/5GzIxytSEYgibOXAlwvVoTOb88nhFmflwxncaxzDfDm5IY19LlyTSjO2NyfIazNe7XU26du0mY977SM1DtMaNM83jF8sA6x96yDHXjLvxuXBE1VQSg0tKcrlW2rPWXgBVq0FkYqoE3EDjqo/4B6RJfPhDkpSvgsm3qJnp2Ca1xD2SHFRIm9fE7AqCRLLH2TNnlIsG1lnr1m1l3fo1+hpTQYUC/9FHuypXDiwYwzVpXjtGjdlw98DCw7IB3HRY3rRxW/o2wLIAh5uwW7fuaj1cnli2JgIGqImjlm4U0Pe1/Y/D7rb9+/dlsOZsgYJ5yZJf068bE67LlpgZ12tsi7x4c9gQlWaA/WvUuDt9G1iROSEAAPmBfAdG/gNDgJB/5teKNHPw7IsWK6bWW8vbRYsWZHiuqOS42y0L1y9civboP+BZ9R4b14J3qEvXh+TIEetuLYhc0ybN5P+GDpOXXxokBcLC1HthzokTJyRfvnxSsmRJCQ8vmB6klx0MMatXr75s27ZVTS1a3OtRIgZ8UN6Y5vRfM2B9Xbyo1coDRAYPRluNyIAB+spbGHv6J9sOkrNFlcJBsv/cDTUfG5+khM0ciBhcju+t/1caTTugfs1dkDvPXJeSoRmHC8QxDl64qeax//qT8WpfTFcTUzIJ31O1Cqev/zsuQR6tWlBfYxIxrP9h1wW1PkfMIojZiBEma2zylK+UKxG/YOTId9X6PEN/uj6wyswHJNZbYc1SJNU/Qvvj0U13TNpOPkla7Sb5hlbX0cimVYlCB4UPhArAokHBYXDggKnAt+e+QYFo0KL5verXKNSnTZ+q1psf48UXBmawpgAEEmIKDFHF+W0BMUH7HgosXCPm04VEsxywf1bXjUIvK3As5M2HH2g1TjNwLxA3a+B85lYe8mLVqhX6kgncp7l1MWTIG+o8uQkEyPI6IFTIM3MhwnJWlQNL1x6Oefac80FI9ihaJHNt3Bzjms3zHu/Q66//n2zatEFPyUjlylWkYsVK+pJI2TLlJOF6gr5kIjIyUvLnD9aXUH7njRcnLzAvh6yC8spQdrwDBW8V8pZksujsAJFA25hhjW0+dU0JmznNS4fK0qNX5NeDl9UyfiE2Bm+vjpPQQN8MVhSOgWMBrMdkAOErYBEpg+MbYB7HMwJP/lOhgDqfcY059mb06vm0DB8+Qs0bwR1Y7tnjKTWfV6QVrKjavwKuxorf0dUmMVJ/INqkzScF3YWtNOPMR/IlbNLeFy3dT6tZ+JmG6fLfPVsCU65pR/CR1AjnI3QM1yAmFP6ovRqFEQpec4FB2xksHXtEFCmiz5kKc3DuvOkBoyCHG9AcbINC0tgGoOZvTtmy5WwWihAqI9ADBRbauQzrDNe+ds3qDG5Ga8T9e+sltgauzZoY4l4sxckcnN/IX8OtZ+QnsLzPIhGmPzTzbXIa3DusQksaN2qSIc/xDOxh7ibFuwUL3xFQETH2w5SVVWpPHLEe124J2k1PnzmtL2Xm6NEj6a7FpUt/l/j4eH2NCX//jEPjueOz/zdv3pSXXuqvLDFYZZjWrVuj0rDOU0hOv1crIgQPUoECJjGbMUOkbl2tYDF5vswx9kzSyy5HMdyKBhALCBusKAOIirlwgQvXM7p+YX0Zlhz2NRdHYO6ahDVXIDDjyChnrt06niGY5cJM3Z4iNWvPXOhyTMhAn97PposZfrGc1yRWfUSSUyBUaVLo34+lwKUF4pcYK/43j0vY2W80kfOThLTSmvGVJr7H10v+te+If8xa8Y9eJflXDJegPXO0bXwlVXuJEquZLClnMFyDxmQOCm1YN7CEULBC1Dwx8AFChfswB9dpuPJQoBqWoTVQw3cmMMRRUDhDvAx3m+HWcwRLwfQGIEDAeJcsn0lWwNIz9sNkq70SlrOj4ugMv/y6SDZq1prhWuzQ4QF9Tc5hiNiataulfv2GMvXb79WEeaR5kphdzxdiCvLQ/qmRO8xBsMfOnSLdu2uFbB/0VdAr47fAPqZQD1EdpJ0BllPDyOB0kcEE4apdLL++hWPA+jLcixUKBmUQR7ShwaozXIfmouQKOSpkAOI1e9Y8jxAxkFTxfkms/KAUrHJTQoqdksLHh0jkkS5S4kg3KX5pjIRcXiLXCj8mCXH+cvOgSMjeeRK89CUJXjZQQg4vUrXCEP9UuVH5Ue1Yt9qi3AUsMFhiEDNnCiZbwKqxdBFCJGHVGNaIuzDcYJauTEsgeji/rbYugGvDNpaWEu4F92QNuGXNz21ucRpYFspZHc8e1qw5a+e0BOKwd+8efekWm7dssuvGMzDct+YCZM/KdYWW97ZSFROczxa4Zly7JWjzKl6suL6UkfXr1sojD9/qV3bdwq0IkpMz1vDVsE3Z4LXXB6aL2LffTJeQkBA1Yd4QM2zjCUQXLKqECBVmFfRhLmZJSSKPPy7y448mqwwiZhbskb6t9pvm4ysxYRGmZQcwLCdDYIwJbVGwggzXHraB2JkDsTLHPFAE4mguVjjWZ3/f+lssnN85q9Hy/DkuZKBBA4yU4SFoZvaNVm/L1UoPiI/27APzieQPiJP8gae1l0EkX0KU3AhuIGcKv6NtG6wssxDfJAnxSxZfvCDai3Gu8hNyvdmbppfIzaCQhyUGMUMhYg7cYs4WVs/06Zuh/Qp8+dVEJZKuWiHWCjccHxYC3GGW57OGEVBiKWZob8GEa8M1WgZr4Ni4J1uYC8TYsZndLZbXbe94WYFrhJigzcvA8pzWRBVtorgO8/YwIx+cscDNhR7HwnvjbuA6NgKILMUM7kic37hmc/ckth0//mN54IFOekpmTp/+V/1CxNasWaXmzYmLi8tgIaWkZDH0kwP06tVbWrZslS5iBoaYYR228QSiS1ZW/cGMzs3oD5aiTfhNTU2T1OQUSdXKMjSTaIumdPNtMK8JHI5xrETGIIqsgNVlbjkZGO5FI6AD25gHdxhiZQkCRdCeFaf9Gu5BA0OIII6WomgPBIrg/Iaw2hUyDA3lCbjzOlL9w+Rc2c/l3zLaH2L+rnLFp4k2NZXzoT3l3wo/yI2Q5pJUu5dcfniGXKn9glwu014ul/6PXK7ZR+I7TZUbLUdqCpgxisedoACH680IvjAw2tAgGFlZM+agkDHar4z2EFgEtlxJjoDrghChcDOOabj0zNvLkG6rJo9jwKWFwA3jGJgg4EbBiGtE24v5ehzbVmGPIBYIhLEtAjksQaEMsTG2wbIz4mEJglHsnRPP08grAHFDXkFEjf2QD1Mmm6J6HQH5h+Ma+QwBx3JOAEsb12v+vDGhYmUINa4dVpmxDtuuWrlBChWyXlnq1+959S6jjex///vLqmuxTJkycv78+fTw++wGezTTnvPUb2dkEDEDpGEdtslRHLQqV7V+QvYXKiFByYm3OjtrogRhSp9STB2lzSfzztGByUlyKqSgrG7zpH5U+8BSMqIVLYF4GX3KXvrzhGoDM1yPECtr7kG4F3FMBHOYg20hRNj31YbFnHYtIlAE+/y3eQl1jNtm0GCnxlrEy2RuTaVibDSY6GbmreU2FsDN4Y7GZ2sgNB4hz1lFrBFCPI+fTqTIwhjbYy2qRisHi43w08elxfqfpHrcUSlxPV7Ckq5LmCZeECkViWgcR5uFOxGW2xVMgcFyJriAHIgoLRuaPSxny2SsEN+O2BWy5yv7S8tizvkvc4K1Z5Ll60O2O0S6Mmiw6kOmxEh/I7AMNLNcoWpPeGGMZXz2BYs5J+ywYFCbRQ3YqO0SQrwDu0LmqJJZqUjjCzC+vhhMwnQEHAkY88rFqP3Px1hhYOVYtxt2S+QdFz3DtZgj16EEykdZV+nLhmgBPPwMy77af3azzCWMNiaIGNx2FDFCbkccLD9Q9mjlkvlHNSFQaSlpkpKcJsnahF/zeaxTImZsj30x3eYiBuzmatSFVLl4Uy/o84hLiWnadeTcNeSUi9AZIFxGKLRl2xghxDvI8KFeq2iCA6FxBK1cyvBRTUfRt1f75qD3yJOwe5dJ2nP5Lda2Sy83+OlksnYdth++wx/UJISQHCTEgc9NqUEWiFtxKEf/jE2R/Zft1TRyhu0XU2VFXNZhtwUzDulFCCF5QphDlWqT64+4D4eEDFk+4UCSnLuZu2J2/maaTNLOa++RF6RFRgjxAMIDHSuLTCNvUMzchcM27pWkNPl0f5LcTMmdzEe3sXH7EuW6A+erGEpTnRCS91QMdUzIsJWPVvxmd7QSYsIpBYiOT5OX/k6UqPM5a5ltPJciL2y5KcevOfaQG0RQyAgheU9+Px+5u6Cj5VGamALNKGbZxWkFgIX06f5E+USzlk7fcO8DOKMd76O9ScqdeMNBy6+gZsrfVYBCRgjxDBoWdrY8gpuRcpYd7HaItkeNcF9pVMRPKoX4SCFNVAoFOd5ehbD+i4lpclSz9LacT5E9LgSU9KoQIPeXzDj8PyGE5BXXk9Nk6PZE17stKXejqQ3NE7oGeQPZFrK8pGR+X/mknun7NIQQ4imsP5MiXx7KaoQP4k681icHX/Sr1Rl3TwjxPJoX85NmRekpyi28VsiGVPeXUvlpdhNCPJOXqgRI9XCKWW7glUL2ivaCVOMLQgjxcAZrFe5aBVlW5TReJWQYimpU7QBpTJOdEOIFoAnkzbsDpHNpNoPkJF4jZPiUzBhNxO4qQBEjhHgX3cv5yds1A6R4PjaH5AQeHbVYKthXahf0lQ6RflKULwAh5Dbgt1PJ8veFVDl0JW/Gr70d8Sgha1zET0oHi5TO7ytVw3wkPNBrY1EIISRLriWlyb6rqXLyWppEa9Pf57MeHJ3YxqaQNSjsJxVCfaScNlUMoagQQgjxTDIJWbF8PvJy1QCpxIF4CSGEeAEZ1KptCX/54J5AihghhBCvIV2x/lPCT/pW8pd8fgyqIIQQ4j0oIUNIKAbfJYQQQrwNJWQDqwRIAL2JhBBCvBDfqmG+UoHf8yKEEOKl+FaiiBFCCPFifH5YfyQNHZEJIa7j7+cn/gH+4ufnK76+psnPz0d8fFhRJCSn8dm482haRBD/2AhxlgBNuIKCAtUvhIsQkjf4UsQIcQ5YXwUKhEhYWKgSMooYIXkL/wIJcRAIVkhIfgkLLyCBgeyuQoinQCEjxAF8fX0kNDRY8uULEh+OGUCIR0EhI8QOCOAICyug2sIIIZ6Hz8ED0R77PTJC8hqIV2hoiLLI7JGWliZJycmSnJwiqampkpaSJvjn6+MrPtr+EEQcz88vd6OEfbR/uLY0WpLkNoVCRogNEDofFhYi/v5ZCw+EK+H6DUlKTNJTsgZtbXBR5s8fpKe4Hx8fk3gRcidA1yIhNigQmj9LEYNQXItPkMuXrzosYgDWWkLCdbl0SdsvKVlPdR/QL4oYuZOgkBFiBVhMAVlEJkKMrlyOlxs3E/UU50lJSZErV7RjXL+pp7iDNAajkDsOChkhFsClmJXbDwJ0WROxZO3XHVzTrDNM7oEqRu48KGSEWAARs9XJOTU1TbOirimLzJ3AKnOvZUbInQOFjOQ527ZtlYcfeUD95jWIKMyXL1Bfygjana5edb+IGcAqQ+AIIcQ5ci1qMTHxpnzx5UR54fmXtYIin57q2SQnJ8uuXTulTp17bNbQPYXDhw/Jhg3r5OjRI3Ly5AmJLFlK6t5TT9q1ay8FCoSpbV59baCcO3dWZv4wVy17AlO++Uo+/XSsctdBRF57bYj07/eCvjb3CQ7Ob9OtiACN6zlsNeE9K1iwgIo6JIQ4Rq6UzhCx51/oJ199NUnGj/9YT/V8tm2L0oRsh6xY+VeO1cKzC/J25DtvyQMPtpP3xoyS2XNmypq1q+XHH2fLm8OGSNNmDeXzzz/VtkuUHTv+kS1bNpl2zGOuXr0iA57vK2PHfiRhYeHy37dGql8sIx3r84KAQOudnuFSvHHDuoidPv2v9Ov/jNSqXVUeevgB2bBxvb7GefCeXbdxHlu4tyb6t3xWpKA89dNpfdkxoiYUlIgJf+tLBNy+eeLaO5KT5LiQJSUlaQXTc7Ju3RrNsqkrgwYN1td4PnXr1pciRYtK7KlT8r8VnidmEKe+z/WWOXNmqeWOHR+Qqd/OkGVLV8ovP/8ur2p5HR4eJpO+mCB9nuklN296RhvMgQP7pfND98vKlf+TRo2ayJLFS+Xpp59Rv1hGOtZju9wEFiEGBLbGdc0asxbRjjx9uncP2bhxg9SsWVtiYqLlGS2v9+zZrW/hPDedjISk7UbudHJUyCBi/Qc8K+vXr1UiNn3aTAkJCdHXej4BAQHS7j8dlJjFxXqemH340RjZvHmT1KtXX3799Q/5fMKX0rJlKylfvoJUr15DXnxxoPz+219KHKKitii3Yl4DS7FL14clLi5WXnjhZfl+xmwpquUvwC+WkY712A7b5xa2BgKGgN3UKg3WWL16pRw7dlTefvsdmTN7vixftlqlf//DdPU7Zsxo6fVUd6vThQvn1TaWpKakqhFCCCGOkWNC5u0iZuCpYrZv316ZOXOGZgXUkhnTZ0u1qtX1NSauXLmiRG7//n3yZPeeHtHm8n9vDJa3RwxX78G0736Q114dkqntEctIx3psh+2xX26AIaSskZySbNUaA0nJekdoiw0M63ff/r3KnWttgkVti5s3XO+fRsidRo4I2e0iYgaeKGbTpn2rfuGqDQrKHJwAoXvq6e5qeu31gSriLq/5+eeFKvDk119+l2bNWuip1sF6bIftsV9uYGs8xZQk25GEjTVrNyQkVEa/O1KGD/8/6fr4wyqvO3a4X61HYM3BA9FWpxIlItU21sDfECHEMdwuZPgDfPHFfkrEChUqLC88/5Ls3r1LWQf2prwCjfX2JriBatWqo0QDYoZ2nLwUMwQU4Fqa2xCEUqVKy8CXX7U65SVhYWFSvHgJfSlrsB22zy38bESmpmTxnIsUKSpfffmNBAcHy4KF85RL9JVXXlPtldkBwSWucPqnnhJRpKDZ9KlE6euAvfXWMTXuZ9jPVhDD6YXylPl2Ty2UrEIC0gMioj7V9zG/HsvzWl7rafnpKfP1mQMQLO83U4BC+nlvTZ9lOInpGpCmrhXbmN97pv17SqYYCIs8cSRIIvN1/22610z5nvnZWD9+5ryy9QzT71OfPotyMLjDyWdvwt71278/5JXbhezV116W1WtWqfmLFy/I8y88l24Z2JvyiqVL/3BoWqlZYobL6NSpk7JGv8+84OLFi6qi4O9vPcqudGlNyAZqwmVlItbxsSFk9iosTZo0lfXr/pYF83+Wv7fskJdfGqSvyV1QANXoL/LNnkty/pxpWvq2vlIvyGr0byBL9XWm9aOkg7XC14zTP30m8uetfc7vmSoPvNsuc8EW9Zk8NURkbPrxl8vbf/SVGvYKNOy3voW+z2vSAGmqUGwnW6cc0NONazXEDPdTVfo1WJ6+HtdVX60zYcoPs/vV1kv/qmbXrR1jgvb3b6zXpr1THpR3O2bOj60Tesq65vp2gxqqNCU2HUfJ22Z5s3eKuvpbaPkUYZ4nf46U37VryCiWGcl03ecOyKOL2km/P/QNDJSIZswj4x4ziJTKS4u8wrPBtWV4NqZ3pEPUVNlrtp10bCfv6lvYBNdyd1+pn54XB+QbsfPs9Wf87ts2nqGj96fh9n5ka9as1sSrr+qDFR4eLlUt2m6yIq/6Ny1b9qc+Zx+IM8TMTxOQ1q3aKMsnL2jQsLZqT9qyebuekjXop/XllxMlKF9QnvXTqlK1vMqvlSvWqeXlfy2T/fv2qnlzqlWvIe3+017Nt2nbQlUa4IrLaQoXDlPDU1mCQYHzoqNyRERBfc4B8EffMUoTsVnyWHE9zRy1HoW2LhTpmAmCKqBRAzYVHj9YPZAJFLYdxNhHX353ZObjo7DSC7hXLcp4YGs/lY4C9YcucusqzK8tRs1DYK0d19Z5IT4mkbDMBwPTOW4d17SsClv9XhV27gtYvzfL/LZAHfcneTTTc7S8DtNxFj1q5TlZvAuWzyody3uw9Y7o20n6O2H5jti4pyzzyE4+OHF/OWKR3XtvK/lmyjTVrnT16lXp9nh3JVCOTHlF+/YdHZqqVq2mXKe+fn7SpnXbPBMxUK5sebl06ZJyZTnC9u3/yMRJn8mSJYv1lLznL03IcE2WE9LzghQb7jxfG0EgzrJgwTx54YV+8tZbb8jBgwf0VPcQtX6UyP2PSXOLv3kDtf7tFlYK7+LS/NEHNcthnR0XIwqWW+6dDqiiR8VoqWZYO37xsqqGvTXGZr1cu+6yUkafNfG3rNOO//YgcxEDZaXs/SK/n4hJn7dmPYHT63+S3++fKk9aXFDxskiIkgyXgwI33XVlsj4sr/eBMmX1ORPq+DJSWmTO0IxkypPiYroEi7zTMR23gZTN9BxN95vO6XWy6I8H5VFrD7xBC3lbfpNF63EGPS+bWxGL4i3kUeThepN1Y3qHLJ+Fhv4MbaJfyzfdLc6R1bNX+9i4LuDw/Zlwu5CB5s1bypTJ36l+Of/3xuvy55+/62u8l+PHo2Xt2tWaDesjbdvcJyVLltLX5A3Nmpvaxr76+gv1a48lv/2qflu0aKl+PYnhw0fID9/PVb95SZoNFyI+jJldJkwYL8Pf+j/534rlMn/Bj9Kl60PZ6muWkdMSAxVqUNai4DfQ17sIavQRRUy1Y8PFc8tl6QYsr/t0jGCwsnc73hJO06TV4NPda8XlsR9wHb9Jv7tN681dnSdO/CYCt2aG/bWpo1ZYpwPLQktTFpDuuoLLTV9rTn0LZVHHt1boZxOHj6uJuUOlqp6X9rH3DmWBupZbz+HWlIVLUu3zoJS1daOO3p9OjggZMBczRM15s5h5moiBp3r1UcEec+fOUu13WfH7H0tk1qzvVXRdr55P66meQ/VqNaRx4ybqNy+xFWBh78OacJFOnKhZk1am2NhTKlDoiy8/l2ra/W3/Z6+MGztBuac/mzBOP0Jm/OycMyN6Ld8m9tZnQdSnmvWl1ba1gj4rV6M9LIUgS/SavHnbU4bJzBXVYJCeprc9GW0nZcpoVqZmkd1q6zGfDJebVtCqbWy4Y7NAHT8v0SxEh8KJ7FlT7kBdi+kdyZzXNt4be9fv6P3p5JiQAUPMVN8gLxUzTxQxUKxYMRk/7nOVt4NefUm+++6bTP2SMHzVwoXzZejQ19V248dN8Jjr90RSUqxbZLY6ShvYcpFiio2LlZgYuMJEHnn4URXd2Lnzw1K1SjWJjj6m0q0RZOeclqiCNQv3oO31p2X9Is0KsOp2tIXJXZUJa8ePWqfVyrOoeVtFdxvqLi+HaPCaCtQwXHbKhfjHT2LmfXIMdb32cfn4dmjQfKT14+quuHSUQGV0r6Wj57nJLZdFXmZw72XhYraXJ1ldiy3s7ePw/ZnIUSED3ixmnipiBu3adVDtkYGBgWqUj0aN75Fn+z4tH3z4nho5ol792jJs+FAJDQ2Vr7/6Vtpo90Bsk2jjK8/oTJ6VVda//wvKNWptqlqlqiYiZdT7/9OiBWpgZ1QuDh0+KHdVqqwfITN4ps5Q/LHx8s395lF9JqImmJZtr4e7bqQstdrgrqFqxhkLFGXJ6PMZ0Y5vGS0HV97br+oWj97OZjcsu7g8Nkgr0K1ERhr3o9yCGSLXdEE2XGMNemj3C3dXxvvFNX2mH1OJewbR0I6ZwfWYBZpwmtyaGdvoTv/0aZYRoJlA4EIRs5B/q9et5duQvhautobyqm6FZsgjPc8fmDJez3MtL8eaokwzRvpp93q3dsy3l6cHYhR/7FV5G88ww/NxJE8aypNaJSJzNKZ23ROMY1k+e9vXb3o+jt6fiRwXMmCIGf44rXXe9VRQ+Pj6+nmkiBlgSKrfflsu93d8UAXYYExLdJbGyBGFChWSHk/2UmMvtm7dVt8jb4FLzeg3aGvILKQb2xjdHXIDRHba+lgmvhhti0oVKynXqLUJHbojIoood+KxY8fUmJeoXJTRBGLECOsFBETT1igjtjHajCBWt9opOohhadlYr0KtbUXwaRTvIj8Ybjt9H4ShW20j0wrFvWU+S98O4diIdLMelWYHTSjSQ62N42nThDI9bl0rCuf0dZYRcNbvN+LuGGmhl4DFH5uli5Gxfp20sNFGZg24NfdOkQxtQzUWlbUZcOMYuO4DeqXDOO7rImORpm9iYC2P9CjBDO48PEMj3D79mHpYe4Zno4kHtsvQtuhYniAv4d7N2K5ZVWKaWwbsmGH1+n+SskYGOnp/Grn2GReAYZNys4OrO4B7LjDQe8QXIoB2mQoVKqZ/vsVTqFK1vD6XEVguKPQhXLb6E+ZG+D0ICc4v+Wx8xuXSpatK7FwFrsSVq1ZIwfBwzZruqCxla4SFhWqVEuv9A8mdCiwaG+HoOQ6CYrLo6uAB5KqQkTsbBD9Y49FHu6oO3CdPnpRFixboqRnJrY7csIQKFrReAbiZmCTxV6/pSzlD/uB8Epzfue/14Q+YI+Df5sClZrNPVg5j0W/LE6GQEWJBSKhmldlwgSdcu+7098IcJcDfX8LCrVtpdsFYmj6UM+9Hs36eipEnrXQEz9Qp291ALOeWlR/Mz6EL6K3O0J4JhYwQC9ABumC47a80x19LcPvo9DgXLEFbAxfbB/vxT9n7MbkQLYejeiBXhEQXTH3JAN0gPNWlaEAhI8QKWbWVAXz88ppmnbnjqwL+Af5SIDQkGyJGyJ1NrkQtEuJtJFy/ocYLtUVQUKCEh4W6EF2YEbSH4TgUMUJch0JGiBVgaV29ek1SshgsGKNvhIeHSWhosN3RPzLiowZvhisRwR3uxoduRnKHQdciIVkAsQor4JjFhBHyEQiSlJioYi8swXBtQfnQlzJQfHMjMAPnSMNoJbT2yO0NhYwQO8B9GBoa4qTVRQjJLehaJMQOGIPxypX4TGNZEkI8AwoZIQ5gajNLkPj4BJuj5BNC8gYKGSFOgLD7y5evuL0fGSHEdShkhDgJLDJ0ilbuxptJtNAIyWMY7EGIG8CXHQIDMWq9n4oWRFQivp5ACMl5KGSEEEK8GlYZCSGEeDUUMkIIIV4NhYwQQohXQyEjhBDi1VDICCGEeDUUMkIIIV4NhYwQQohX4zN37kL2IyOEEOK1+DRp0oRCRgghxGuha5EQQohXQyEjhBDi1VDICCGEeDUUMkIIIV4NhYwQQohXQyEjhBDi1VDICCGEeDUUMkIIIV4NhYwQQohXQyEjhBDi1VDICCGEeDUUMkIIIV4NhYwQQohXQyEjhBDi1VDIPIA0P5EbhTNPKfn0DQghxO1Uk7ZtKuvz3g2FLK8J8pXknsXk30aSaer7yElpU/OiviEhhLgP/7o1pWatOnKPv57gxfDDmnlMaqtwSa0bKpf/vSxXL8XrqSJh/imyp8k/cvR0fhnwdXW5keRanaNKi/ZSvoC+kE68RP+xQQ7qSzlLFWl2f3kJvXlBdq+Iklg91TsoKQ16PimdK4Vp81fkwG9zZPbW7N6Bdsy27aVViwqCo4KbZ6Nk2eLFEnVST8gmpmeeKBd2rXLtmKUbSOtahSXwarQsW+fiW2IcQ1/MEm96N7T76tG5vlxdNVkW79PTnKRk/dZSs1igxEcvkw0uHiP7hEjzpwZI46IiZ7ZMlpnrrunp3gmFLA9JKxYgKT2KmeaTUyXu2GlJTUlVy19XPSIPFjVZY5OXlZaZa0qoeWcZPnejdC6nL1gSHytRSybLBxOW5WAhMlzmbOws5eOjZGK7gTJbT/V4SveQcV8MkGZagXOLeDk4f6T0Hr9BX3aGKtJlxFvyzH1VJMJa6Z6SKLHbF8jkDyfKsmwKmumZx0vUhHYycK6e6AzdJ8ryQQ0k9Phiadr9fT3RSYxj6ItZ4jXvRgMZNX+itC+tzZ5ZJSMfHibLTCucosek5TKwfqhEL2kqT47RE3Ob4u2lb8+aEo75K7tl5rfL5Ixa4Z3QtZiHpDYx6uRajcLfV8ILmUynBgXi00UMdG16WooXTNSXXCQxURKvm004XKhmHXQfJTMm9dDshOwwWGasWC2rfxonXfQU76akDHxfF7H4aNnwxzJZteO8JGrFcpXHBsrwRvpmjgJR/OUbGXK/ScQSz0TL7o3LZJl23GV/aFbTURw7UKup95BR02bI4Bb6ft6MJsxXzN83TCn6Ost38Wqi3NRXOUuXTxbKau3dmzFUT8gtgkOliD7rjVRuWNkkYiCssjSuos97KRSyPCKtcn5Jq5gxmiOkSKgE+QfKh6Vi9BQTEQWSpGuT0/qSK2i1869aSau2ZlOrptL7myhtjaZn9QfIqH7ZkbIgCcwfKIEFArW524E+0qyypjgpB2XBM0/K4NEjZdjz/WX27nhNhOLlpsmIdhBNxL4emC6Ky8b3llYPPyn9Xh8pI7Xjjhw9TAb27CSt+k2WDWe02oVWuah2TzN9Xy9m/mDpYv6+adPk7SbXefSyjOmtHhssC9Ua5wnKH2Z696xZuW4nSkaOGCsL/lgsk0d5kXfBEv97pE5F/KUmy83rydpvkFSoc494c1MZhSyPSG2SqeFKUfOGj1QtkqAv3aJr0zNSpWTm9Oxw8LuB8vnG89pcoNRseXvYUm7l+hWJS3fzxWqFV2958rF+Mm6JnuQAPSY8I80itJlLUTJRE8WR8220Oe2bLoNf+lwmjn9J+k1yxXVJcoV9C2Xc6Pdl+jp92QsJaVJTykK1rh+TZf87pqxh/zI1pbH1IskrYBtZHpDaIFRSW6Qb9re4kiL+0/6VFzuclCdb/Ksn3mLZjgh5d34Ffckx7LaXmLeHvBctgx+rKmGJx2Tph9PFanHaqIcM7qhtkxIr68fESoURDaSk9q/+/TUl4nq0bFh1UFl5clarvX61WJsxbyP7QM4NGizPtK0tJTXrTVKuSuyupTJtvK12oZLSvt9Aefz+BlKloKnKnXjpoEQt/1WmacfOKAmdZQCuRZ13q7R36jyWtJcPfhklrYslyu7vNOvpGxdbEEsPlhlzu0oVv/OyYUwnGeyEAFpS5fHhMvCRZlItsoAKoEi8Giv7Ny6WGTNnZwrosP7M9by8r5aUL2Z+jAUy8cOFGfMyQxvZAuny5kCtIlXtVl4e2CALvnhfFjoZqJBV21DnF0ZJg6JX5MCf42T2Fj3RDMv1DXoOVkE4oTVaS7NygXJ+9zLZegJbWh7D1XfogHQZMVR6NK0iRYISJXbVJ/Lk6GUinQbIqHol5cqRxTJuVpS+n0bp9jLg5celdfXypnySRLkat182/DxR3reovOR4G1n+SKlZq6JEFC4mRQv4afXUUIkoGKJZXH7iF+Sfbnld3jVTpi7X3vbneklNo5UjWbPSUlK032ty+UK83JAUSThzRs5fOCrbd8W57ALOaXLdIgvwS5XmlS7KK22iZVL3PfLnK3/L6sGbZOGAbTKu6z55qfVx6VTrjJQqeEPfI2t8fdKkdumr8lyLEzLhib0yu+92+X3g3/K/1zarY3771C556/7D0q76OQnPDzM6jwn2y9A2Zo7vpisiWrXiyz9LS3KKj556i/Z1zsu9NS7pS+6hZKUitxrkd1+Vko3aS/uHB8iA1627Gjt37yFd79e2qRoqu6WWtMY8RAwr85eXZmpZm1rVUtvfIkyazpojo7o30wrSUAkMDNT+viKkfNMeMuqbidIDDejmoF3pJ237Z1tLzUhte+U+CpTQyJrS+unh8s0v4yz20a+lVTMZ7sx5rLJMJs6D21WzVHuNk+EutlmV7K0Vnlo5Isc3OGXFZaSZDP5uucx4vbM0qBghoUY+FCsvDR4eKBMdaVPTCtlRyBPkZTntGChn048xRGYssZEvfpGmtr2HG2TMy/qdZcjXS2Rcz+y1rJpTqxXem47StKKeYIHl+ipNO6r3DCIGImrq7535MbLzDs1Fm2ZNKamJX2D+UClSTG8Rq9NanaejJnAGJduNkjmzRkmfVjVN+QTt0PaJqNhAOr8+Q5ZMyG4btJNcj5P954KkQuUKUrZMWSlbvLCEBAVJkJmIiZyR/ZsQ3nFG1u83C/Pw99e207YNKSzFsG+ZCnJXhSA5s89zRQzkmpAVCk6Soe2PypKXouT9R7TaTr1/pVapq5I/wNQCXCQ0URqUuyzd6sep7WY+u12GtjsqBfMnqfXWaFT+kvzY7x+Z+MQeearxKbmn9BUlgCGBmmXjm6aOWbnYNWlf45z894HDsuj5rfL8vTGSL8AUGZgXpDbV7Hf/zCLlc+Km+O695Tqc+EcZfS4jTzTPbKm5jPaHPqx1eTUbexDxV4tlzjaT9VGl6QBpoObM6SMP3QPJ0iyMeeMkVrTavGrnWWWKeozfLbPVsjZNWoCUW4RW0Qpi7Tyrx0rvpk2laYum0nu8th+CTgo2kB5aQX0LrSAZO0CaRWqFFNqVJg2ULsY+YxbI7vNaQVGsmQz8/ANtSwvKtZbOFRPl4C/vWz1Pl/6Z7yozzeTJDtVMAh9YXjq/OU6rqztP60hT4Rd7xNWo0JJa7X2UdK2uXUlirETNv3VPXV6eKKtOok2tinQd/Y0MyEKgaz7yuKnA1yyRxeN7a/u3klZGXqJeFNFABvy3j2ljc0o3kGbF8MwmysDHb5132VHN5g6MkGb9NZF3NvDFTayaNka9Z2i3BLErjDbHMTJDuf2y8Q5FNpMO5bS3fMdimayOOVkWbLThEpaa0qWbVmnCafYtlrHPaudo1UqaNu2tWWK7lXciopFmxT1r2jq3SD66Qqb/sEJirusJkixnohbJzB+myhfjx8v48TNl/VXTmmvrZmrL4+WLb2dq6xfJ1tO3Kvw3j6+QGdNXyDEPsAGyIleErKsmWnOf+0dZWo6KiK9W1neqfUYJVe8mpyTI/9Z+IUEpMqrzQfmky34pVgAllGP4aeL2ZMNYzWr7R+propnbpGl/VKm1QvSljPhu0t8qnZ82FZOYc5mH9qhdLl66NXM28CNQijQaJaNGmE3jtZrirIHSAKX1pShZOMLkJomaskoOIktL15cnO6mkdEq+3kZq5tdmTm6VOcrCOKgi+pb9cVVMT+GGnFfL2mSl/9H5dWOly5u33FgH5w+Tgb+YliKqaDVdNaedZ9AArSBByaC3K8261cfo4JJx0u/5iRKFAjiytQx8K7MwoVDr/eEtt5E6z7JoNV+yemc7teOSMuBrTTwqaxlz/qDshlhENJNXXIjsLF/EZOsmJpi5oJyh02DpUV87RkqsLHuriwwcf+ueYrfOlmGPD5PFx7Xry19Tur7ZQ1+Tmd2T+knvUWNl7EgUrreei8rLMaZKSGCV5jLAlJyB2D+Gac/slvsS5x3Zc6TpvJrId3jWigDmArFbV6n37LxuJiQmmEWBatearXdIs9oSt06W/s+/L9PVMafLZHM3YgZ2y8R+vWXk+LEy7FlzdysqDf1k5AqVu6pimOtc2i4Lvlkk2y9AhfylWIPO8kDNwmIEj1pyM8FPqnfsLPWLw25Llgv/LJLJC7dL7peUzpOjQgYxglU1sE20y1YQ9nu2+QlpVMHkUitX+LpMe3qntK5yQS27QkRIkoztsk96aVZcbpLazIZLcfc18TmV2XBH/zFrPNH8tITks/U6WiNQyjc1XC/61FQPBY/bIJNfN4vAOjlRFmxFAEiENOhkXkiVlCfvMblTDm6cLM4XzdGyYQLazDISuy7WVMAEaWKrUkS61K+i2nCiV30gs621aZ2cLR8sNxXI5e/pbGE5RsvWrzK37sUeOWdquytYWFqrFBt0HyZd62jigeCM53tLv9cWKGFHZOe4t3I3mrB9q6rKZRu/faGMtBpcsEHenxml2cfa9dVoo9nLtoldvlAWbjF1xu7zulaReb2PtG/bQEqu2yWxyBi4wkyb3uL6blk82lpL6a3zBlaqL7YlNO/I7ju08sPZTljRWkVj/kKJQifw+/vIYK2iOPjp9tK6fknZsCtWvXeBBTLlbu6QfExWzJwpq4+rkA4pXPdR6dupmmSqTheoJp01wa9fFCJ2U2JWa9bZymOanHkHOSpkz1U/Ke1qnNOXXGf7yTBZe6iwckWizat4WPa9tRDZpxudkr6Vc0fMUvPnlxvx1eXakYZyNbqVmq4dri8391WSgLP3S0CVpzJNG5MHyvLNdeXYmki5uLaEXNWmk9r8ue0Rcm95k0vFMRIlOr3fkjEtkMlDe6vQ5+kWjfaL52411dJrtpHBhpY2GiDNMCybVritHO/4n3g68eck2lqBssWw5gx6SJVI/J6XWN3NaY3YedGmgkYTpgxdYGydx0F6tDC5FA8u1wtATdiHTTG1l5VvP9CsvayHjJo0SrpU1xetEH3O9IwKFDRsTedoUMZU+MUeyiLQe8lWOaaEqLBUsOleLCnth86Q5esWysQxo2TA41pF5vEBMmrMRFm4boDUhpVtjbhjMl2fzYRx3tAiYnJOexK5/A6Vbq/aMTfOnygfjBig2pC7vjBKPpi0UDb2r+1Yp/CcJPmCbF34rSw7Zio3QwoXV78ZyFdSiqmoxZtybPm3WmX2gteIGMgxIetW+ow8EH5BDm0Lk8Rk10+DkMpP/6ogRQskygePHJBAMxdjdrhx01f2rS8onYucly6lcr5Pu+/16xJ/uKFcinlArhxrraZLJzpJwJWeElS2rwRU7W11mnFhvBRcX0JkXaQka1OINl9Im1YdsBL1aJNEObfFaEMwpnEy3dbwQ1smy4ZD2q9fFWmmtyl17l5fudbOb//VduHmVq7K+T/0WWucvGkSwPxhmS2JbGByB8ZK9LxbBWDsrIEmFxHay94yBUaU7NdGq3G3lyGjR0lNfTtLZh8yHSOifHMr7Y2OEi9XHPIkB0moZXyNToM3x8lbj1WRUL94id26TKaPN70Dk+fDDZeoghOsEX/R5I71XnLjHWogwz96y9SOiZFy/pguY412tRVREp0Cu9ATuCn+vqYHfe1cjKgBqYLKyj13R5oCQM4ekziV6Cd+vtk3FHKbHBGy8sE35MkypqCEUsmJsi8bYvbbrmISfT6/jHzwkBTI5546AkRs/4aCUi7IFBnZq+y/UiEkvVU0xyj476/6nImggAApWKSSvmSds4XryurIjvqSiR+SfOV6jnaaiJVx8zYo11HJek9KZyPII+WgZo1ldg+6l4MSr5oLi0hkT5VgnfsjRFUgr14x1ardhfLYhknhpmopnQ1vjTO1CxVsIANGDpaB99dUriu4WXebNsnMwii9vbGZ9HYhwu/8VewcKiWrZLVvhIQpi8pWod1enmxRXl1r7B8jpcvLEDCTVT59/DAZ2H2aRNkw7kOLV82iXbC86E2AuUADURHtDpOL79D9T0qzitrFoR1zVBcZqAnYQr1dbdxbA+XJqaZBB/KeClKyiKnt6/ypE1K41gPS57mu0rbDkzLg6QekZpETEnvO1JYWUcq5Lj6eQI4I2UuVTop5XF5ZTcwObA+T5NRbqbtOFZBPlleUF2bXlA6fN5Inv60rb/1SVX7YXEqS9NDzm5r4fbuujLStel65FbMC2363obQMW1RVnvimrnT8vKG8NOduGbe8ghw4fcsjnKRtt9dMxADO9kLFnHcxBl07LAXOr9GXtD+z8EL6XNb8WL63pPmYHtUJzSD9Lck8d3OIJXNkK9wrEQ3koUmmII/E3StlXDbcdo4RJRuiVauP1G49wGZB2uPB2qoWnXh8q8ujQlgjKtZ07gpNLeMUN8j7QyarQj+wZldpDddVfJQszcrNenKiTF6H9aHSABF+dsP4m8nw7+bIB4+Z7nrxPj1A5Z6BmSPrdBq81cwU4n/yoI1x/4pIoBpuJVZ2f2elvatTfalgS5BK15SBNq65wVu1TC7FuGiXxhu0jg3RbtRZdxU6Si6+Q+H6aDZxu7VnrVIy0LlRBe0qPICiFSRSFYMpEtFwgPRpV00K68PwBBWpJu2fHiD1C5va3UNKVBCnBq/xANwuZG2KXpTKoZlHoCidmCi7t4ZrImUSnFd+vFuW7Cwme+NC1cjusZeDZN3hQkq4+v1QW2Iu5JfpG0vL9SQ/eblN1i6Ow2eDpc+M2jJD237D0ULy75Ugtd/u2ALy687iSixnbykpN7XzbF9TSCqYiZhBFe2a7y3i3j5a1gg/DYsmTULzB0tYsGOv+IX8JWSGJmbgi0RfcY9z1R5RMlmFHAdKzfpoQTgvUUvsOBVDS0otN4RjL567QaK1v6nAmj1k3Ij2mQqiZi9/I88gms+Ra3KSZfNN545o+opMtLSiTq6SZdtRQJqIXvaB3WGK0i05uCXHLJSJgzLfDyjZbqBM/OUD6Vy9vLR+YZgKoIgdv9RkLUW2llGT+mRsx9Eo+dgHMqw95CRRDq6zFYBzThKVp6iklO9mcebSPWTiS82ycKuVlNa6K9Uc9JsabJx39UQXAn8yE3XClK+ZRVsT99db2xQjg5LlM0YF5to7dFkfJzKyvDxpmU89J8orTV13WrqVssX1sRWDJCQMCnZTLuxdJjNnLZP953AHQRJeQFe2gsXFeucfz8XtQtYp0nZwR7mkRHljZnUlOKlZuMaOnc8vfX+oJQu2lZB7K19QUYa22BoTLgNm1pLYS7a/QpmiWYKT15aV4bOryV35bLsQO2dx7e7CL+myRJyYIZFOukn/rPC0fONfRvZa6SidU6QXpCA95N4aURKtmhm1gu+TJTJn1hxZ8s1wtcYltrwvE/+I1orJQCl//yiZ88sMrTBCt4Fx8s1Py2Vcz5paLTdRope8n63RMqySfm7Ninp5oSyfiwZ87dxjJmr3P0ezqm4VTOXbaoJjM8DCAJbcGFlwCKacaZDmhSuQR9+oexr39Rzt/lbLwtE9pAHGY0yMlVVfGQI5Wz6YHiXntQIZUZMz/pijgjVGjfhAJs7SjjFUK+C1XeK3TpZhE2xZhstkzjrcD0YHmSELJ32QsftFcLzE2/iTSIyLlfiCDWQgzqXvN+47bX50e9VvKvHoUpls87zOsWy+KcAIoj1u+RzT80aeLx8nncslSrwN/9zs/bHq3gJr9pHlP2l5qU3jumsJufUOac9kw1HtCvyqSNdppmCa9Hx6uYEEXopX15fXVCtVWJ/TJOzcfln2/WSZ/uduOXN6t/yO+eX75UJ601hhKVlNn/US3CpkYf7JUimLtqZlpwvL1nPKK20XtKlhalLB9oclryX6yZjf78rgssyKqHNhsvzMrQdqyV2aVRYWkPOxOqEXNkjiqj6S8PuDjk9L2sviy+4pNBxnlRw8YfozzDrkfpkM+2SBHERhExgh5SuWlwjHHrNNNozB0FAbJFZ7nQKL4Ztm6DbQTI3QINdjJWrWMHlyTM6MSYhzD0O/I+3coeUQUq2du20DKa/6K2jn1sRtGays4ApSv72tUA8zTi6TcU/3lpHfrZJoGP35kUc11T01q1NeykPAUuIleiP6aHWRYT/des4INOk/Sstb7FewvAqfb39/azXKRyD2+WOs9H4561DxqA8HKxcnxBnfwkrvfpESLasmTJP9Jo9SJhJjF+r9rzCah2m/ZtW182pHUv3Yer5vfRgzV9gyUsbN2q1EW0L1EWKQ54F41iNl5S1DOCOThun3pu2mWUXlI4uo9kCQO+9QlLz/xmTZEKddAb4moZ6PKZ/k+Cr5fOZ+DxCyYlKyiGZt3bwg+5dPl8nf/y67VXuYQbJc2PW7TJ88XZbtvaDZakFSLNK7nItuHWuxbdGL8spdasCzTJy9GSADt1eVG6mOayfk6beX/1YdoK0x5o+7tIx37mMK+XxTZeI9B6VokPXX6/PDZWTFWcfarm57GmnWw4T2UvK8ZlV0GiyOhHlk+6OOmUDh0FTqN6qtWR9X5Ni61bIs1z7CmMW5S2sFVvllssyFwWPVhxXvri/Ny4dp5tQxWb99t0MflkTeNmvUXCqE3pTYfatk5XwnP45avZl0ad1aahfVBNKp/TUReLyNtK5eUvtD3imrVi3MuQ9Coi9W21bSRsubK9FLZfH3Dl6j8SFPqx8DzZ13qEqLLtKmhXYO7cg7162Uha5+lNTd5L9H2rdKlqi/dovqG20H/yI1pX1df/nf8u0mt6kX4FYhe6ZcnDxc8qy+lJEFp4rJzBjnPg6JkPsF/bfpSxlBcEf7Ca41yCBKsauNkPufY4vK9ONOtSzfthiDm8YuHyhd9JE/CCHE03CrazHY34aPQuPMTcPgd5zQQNvHi7usN0y6QFbXEuxn+5x3FKUHS4d7QgUh9xumUMQIIZ6LW4Us0Nd2PN3lpFvjLjtKVp2fL10P0OecJ6trCfLN0Q5aXkPnQW1UWHfuhNwTQojruFXIrmYhEGXyO/ZZFnOu3LB9vLuKuv6RyVL5bXt+ryTbGObgjqKHtK5SQBKvx8oGN4e3E0KIu3GrkGVl6bgycsbFBNtWV2hQcpZh+VmRVWTlhUTXLb3bh9ky+GF8hr6LDHN3eDshhLgZtwpZdILtvlwNC12VIoHOCQ86Sp++Yrst7OE6zn7ORCRCu4aGha7oS5nJ6h4IIYR4Hm4Vsl2XQyUlzXqfLrSfvVjJ+caWTccK6nOZ6dn4lJQMdy5AtH+FUzbb8pJSfWT3FfT2J4QQ4i24VcjQR2zfVesfjgT1Cl6VJsUc+0xbgF+qCvbYEm1byPAV6FdaR0uAgwEaTQtflsaFbVtje7Rrh5gRQgjxHtwqZGDpadsjZxwPCJT3ehyQp5ucUt8Ds0WFiOvyzVO7pHuDONl0tKCcvWo9XP76TT/JF+Mj42odyjKAw9cnTbqXOS1Dq8ToKdZZdtpDxkUjhBDiMH6lS5d+R593CzEJ+aRpxGUpaDHU08nAQLm7/mXN0kqTemWvSL0yl8VPk1F/bfnqTX8pViBRapW+Kh3vPifD7j+sAjkw4v3vu4tJ3JUgaXlXxqGqjO+JVch3Q8K1c7UvdkFZZkGaJQf3JqZKodelfqGr0rd8nBrM2CcL8Twcn1+mRtsbmpQQQoin4daRPQzKh9xQVpKfZgmBGH+TiEG0nGXNocIy4tcq8mm3vVK3jMktCBHbs76QVMxiAGBngDvxtZ1V5OR11ztZE0IIyRvc7loE0dfyyeRjpdT8KU3Eqte74pKIAYx+X6/sZRmxuIqciw+UxET3ihiYeKQMRYwQQrwUt7sWDY5cyy8hBZLl3hbnJCiLETocoVapeJm/NVJ2niogRc+nSuX87hOxP09HyMJT3vYZOUIIIQY5JmRg+7kwiQhNlOolrukprlEgX7Kcvhok6w8XloNXgqVBoasSksW4jo4A+3BWTAn5PoYDBBNCiDeTo0IGNh0rpII56pR2zb145bq/TF5XVn7fVUxS03zU6CH4zEpkvkQpE+zaRwYuJgbIBwfKy0p+roUQQryeHAn2sEbhkCTp1+KE3FfNMVdjvCZ+P2wqJT/vKK5G+LBG3YJX5aVKJx0eMQSRjL/GFZG5J4rLTSe+i0YIIcRzyTUhM0An50blL0vNkleV27FISKJULpYgFxIC5NDpENkTFyr7/w2VQ2dCJMmBz/ojMrJKaIIKs69e4JoU1kQtPCBFgnxT5ZJmvcGCQyDH3xfDZMelULmS7Pwo/IQQQjyXXBcyQgghxJ3Qv+ZBBLcfJOO/nCjDH9cDUJoOkolTp8rEVxqblr2GbjJSu+6pI7uZFuv0lPcmfC0fveBp91Fbeo6eKF9/9JJ4Ww6TvCJYOrw6Xr6eMFy6mXoYkazIpTKMFlmugIK9g5TVlzIRv1OmDJoguzoPl/GPVJJz//uv/Hd2nOkleK62yI4pMvDzzfrGuUPjVyZK/zrB+lJmErK8Jv1+Y5ZK31HzNCHrLx9pL3Lwrlky8LMV+jY5QMU+8tFbLaXImbXy32HTRcvBTAQ/ouVx50qStFe7lnHnpP9Hg6Rxvp0yS8v/HLwyN9FYBk3or8mv6X3J3TciD9H/DjK9jUkJci56k/w0eZZszjjwTw4SLJ3eGi+Plj8nK975r8w6pSd7ON1GTpUONgsggwTZ+e1AmbBRX3QHuVSG0SLLTS7ukxX/W5F5WrNNMApkwuL35fm+fU0i5hEkSVyUlevFtC3rcSszoL3Eb2j3lUHEnhgpU7Wa2sgn9GV3cHSp7ETWFasunWuYkjKi1abvLisB2h/s4Q24Fk0Q3ugrfb1CxDwfFJZTp47UqjE5Q9KpbWbv4FrZeUakSOW20v/tQdLSdp0rG6DioN3TBK2yo6egsF8y5nnp2897RAzs32j2t6tN+5TwX5Z9ZmmYnPmz9iQoZLnJ1RiZNXtW5mnhWqvWQ96TJGe3W7lebVq0zhOvOE4W7cJfYhGp1KK6Kcmc4A5SvUyAVqHYLyvdWeskuULSuSizd3C6TBihWQ9Rl0XCa0vbzjmiZLcNO5dl/PuNuYrUyxJjljZr9iJZ60XibA5di7mChavNFrBS2peVmGV9ZdSP2rINszy8cU959YmWUjbc9DXrhLidsuS7CbL0qFp0CybXovYHYNfVECz1egyVXm3KSjiqRUnaH8eaIxJwXz2JNO7X/D7+bmLFTRQjS/uOkixyxnGCH5Xh4ztJpcubZewbU2SfngyCtfydqOXv5agJ8vpXO7UU66664GqdpF+vDlI70nSVSZdjZO3MT2TWtgSROi/J+FfqiWz7Ql7/YptaLxIpfT54T1qG75N5L46VpXqqdB4uXz9SSeKWDdSep7Zvtsl8venPaf4SkRad0q850zsRXF06PddTOtSKlGA8p9QEOXdkk/z4+SzBbRlk/W7dOv+KPUWlSUPtWAna/JG7pK2lG9reu+4MWbmnMqwTG65Xi78/4+/sf1/I4Uq9pGXZcAlAnmjPeYX+nK254gx3umndrXc2/Rn8vkkKNjfPu22yaNwXcrzxIHnmwdqiHk1qknaatTJznHm+h0vjXq/KEy20vyHsqj2buF1LZNrnS+WIaQO3Y3kPGakkHV54RjrUidSvx3TNP06ydOE6sJ21Z+fgu+gMtMi8jOAWg2Rk/7YSmRojm+EOWLdPEorUlm7/N1w6WZQluUGlJ4ZK//u0P8AE/Xq2nZPwezUR09dnYsc8+WzcWBmrW3Rx67T5cdNuFf7ZJWGp7DuRpBlllaRlBvdisHSqhpLpnOz8FSJmg4rdZOirj0rt8Muycx3cLZslLqCstH1ppCqsZMdOOR6vFT2ltYLJtId26JZSDqOcBZWTak1NSaBlpUgJ0M53fJ07RCwrAqT6I93krpu7lHto86HLEhBZWx59qpt+jdq9vzZIHq1TRBL2r1XbrN2fIOGV28pLI1Hwm3D43QrVLKCG4VpBHSMxx+Jkz/zPtGc4VtaqRxona/F8Z7jtiWZJcPEQ7e61x37D9ncGbRF5b39pGRwrm1Zq+bEjThLCtefcu59yIy6dgfdykezTnrXE79MEaax8Nn+X2s86wVK7Y0sJPrVJy9+1svNUggRH1pNuoyfK0MfvEjmEfNfS45IkvHxbeeY5w1kZLC1f0d6tNtqTit6c/myK1NHew7c6WVT4coNI6fb2UOnWQHt3T+nXs+ucBGjXnNGF6+h2ljj2LjoLhcyraCz9Hq8t4fE7ZdaI92UK3AHTxsqon7QCJ0AruHtZcaflKJ3kCc0SC0jQLJFho0zXM+V9ef3jtVrxbYOEODmyd5/sSzB1Yk/S9t23N0Yc+9yqIyTIor8PS5KlezG4k1SHjmkWxlKb7hPtj/OptlJWK4xXfPpfmTAN7pYpMupT3E8Rqdepk7bNWjlyRrv2YuWkpWknCW5/l7ZnkiQlBctdDY0CqrpURxX83BHZnOPumgBJ2Dtd3nh3inIRTfnwE9l0RkstW12/xk5Sv6JW3J9aK6PGTVfbTB83Shbth+BXk5YNsI0z75Ym8jPekDdGjJJRn82T7XFHtGeobaceaZJ2LdozjXbfE7VOuJS9t48M71hJApLiZOdf5ra3g8StkE+GjZXpyI/P/ytLkB+h5aSBlh+Xo/FentXuBiTJWe2ejsRlVSFJkriVn8gbKn/h9vxM1uIZBGtVmf99Jv/93EhfIvtuau9M+Qai2fWaxdJPutXRKgW7Zsl/PzQ9P9OzSZCAii2ll9W23hykTU9pWV57n3bdep+QN58ti5GkcK1y1FuXGke3y4Qj76LzUMhyk7IdVIBDxsmJxvGmTeSuUK1s3LNM1pr9TSUs2y9aRU+KRNbSU9yFVst8zvJ6tckIq29RSSK1dzJBq20uNf8bP5qgyUkesmybHNYuoEiVtresjc7VVdRo3P4VttsjNcuqetkASTqxSWaZu2mPbpYjmjIHFKukausrDuMIkVK2vVorbRFAckariWuWYHCpOpqEaQTXksgiWt6c2pHBvZkzJMjxv9ea5blWWTht/gTOyTUshkdK22pGVTlBln7yvPTt+7p8EaUtOvNuxR+XTTluZWYmuE5/s/dwvIzs3VIiNRHbPPP9jM/LQeL2z8vgult7CtWvAPGHiec0mtgdMz/aEc1KxO852fezefpSiTmt/fj5K0uyccO7tL+yc7Jrmfnz057N/jjtiEXE7X/SdujQwNr1aHfz4yY5rAlwePkm6v12dLvMOPAuugCFLDexGrW4Sfbrq+1StqD28miFSuMhZn/QmB6VSi798dnDRtTiRv2KS5mu59xpi3aLPGeFbIvW/loKaZYE3IGa6DxaS5OxpCOy9acsglTqRGpFh1aUVXzUIn+HSGOs0ElYd1z7cwyQkpVRp+4g1Uppte5jm2UJBK6IJnboX9SirLLSju/Pm7xJzDAK3ApZ9Ns+uRxcXR4dOlGmTvxI3hvcRzrUCtfXa+T6u+U85lGLa7XKEt7PmHVfyBQ3iWpCisn+ci+apZ7F5ZUrpHJdGg82z3NtekSzNE2b5CrhmgUJYbm017R8C12Aw4tIJfw4uF1mHHgXXYBClptYjVpcKlm02FjlsmZVZBAWYzIExm3YiFpc5uwV5z4r/tovlyVcKjXTbLJSbaV6pHY3J/ZltBxtkDHM22zSu0nIKZOFptrJ2tSSckGXJWbzPklYvE9bX0Sq/ydS6lUuKQFJMbJ/mTpknnPkz7Hy+v+Nkuk/b1ah1+HVWkq3V8fLxKGdNMG9Re69W85jHrU4/dMVciQpQMo266asZO8mcxi8MW3KJBR5RbAE+OmzWWJ/O0ffRWegkHkTF69p0qIRvyujsBhTbgvMqUvKrRBeRHn7PYsda+UI/kgqtZSWbaor6yhm56IMbpBMxFw2rb8ZK4us5W96N4l9suOUtmWxcvJYrXISHH9conZoyQlrRRll5TtI7dJaDTPusGf0TytUVqrXgGs1RtYuniJjR7whAweNlRWnkiS4Wlt5DO0SnvZu2SNhkSzZcVkktLp0fMLV4i/vuay3FV/fYyXPtWlpVvElOYDpeoKlYKa2uZbKVS6Xzyl3rKPbZcKRd9EFKGTexLL9EqO9P+F1OsmjGb5AEywte/SUtrn9VZp1u+S4Vp6HV9HEwnB3gzpFNVsor9kpKw5qZlOhavJoPa2gSzgsmxbrq2yhW1oBFZvIMw3Mb0ik0iM95dF0n77I5v3HtYI/UmrVCJakk/v1UO84WXFIO0BkfamvPYtz0RnbD/KMFr1k0OAh8mp3swb4hH2y4ggCMvQ2IU97txxg5wytsgKrrIV2fSpll5zDLYUWlHIe9z5aZ+meGO09CpdanR7NeI3BLaVnr7a5ft1Low5r72wRqdW+pfbkb1HpiSZyV5CmT9GbVJuvo9tlwpF30QUoZF7FEvlxpfbiB1SSTqPfk0HP9JSePfrIoNEfSZ/7Wkrb+603r7pOgBS9B+ewMrXHi7hCFq3Trie0tvT5YKT0R3r/4TL+hXr2/wDPXFOFfGStl7TjPSotc2Dcun2/7dSkJVjCtYtJiN7mgHW0T2Yu3imXtT/Qes+9J8P7m+61/5vjZWjnttKyYxNtjY4q+AMkICBJDu+4FWoe9/cRORcQLMEBWo307yza43KTxf+TXVo5Ed7gRflocB/T8+s/Uoa30O4m4bjsUv0Es/9unYtXT1Rqv6Tt20WrmZuScw7DKguuLm174WwJWuUFeV5W2o4cIn20++zzynsy8WUH3kerxMg5dBwOLSf3IT/UO+9mfv9RVmg1iICKneS90YPUNfd8ZpC891EfaduirXSqpm+XW6ycJWujNeuoVh/56O3+6l1BHr7avqwEXN4pi2bolrmj21ni0LvoPBQyL+PIj6Pkk/nbJC6piNTWXvS2WiFTPfSybFs4Qd6f7e74uACJbIBzWJmamv7Cjvz4iUz5X4xcDi4rjZFer4hcXrNEdqL/TVasXKRZL+jvVE87XkupnROl3qkVsk9piTEklX0S1k2Q/36xQo5cDpBKjU332rhUksSsnCKjPlshiGszsUK5EcWyHWyvZiVgo/hY2eEx7Rub5Yv/fqHyO7iaJkp4Tg0jJSlum8z7dGy6wGf33VqxyJRvkfXwfpj1s8tBTFaZJp+Ne0oHzTSImzlN5u2Ik6TC1aWldp8tNYv53EoH3kerxMmiPzdLXEK4VEJ+NLYevpA9jsi8UZ/IvCjtmovVVtfctll1Cb64TRZ99r7MyvWmyTiZ965+PaUaq3elZa0ikhS9Qqa8O8EsotXR7Sxx7F10Fo7sQQghxKuhRUYIIcSroZARQgjxaihkhBBCvBoKGSGEEK+GQkYIIcSroZARQgjxaihkhBBCvBoKGSGEEK+GQkYIIcSroZARQgjxaihkhBBCvBoKGSGEEK/G55lnnuGgwYQQQrwWjn5PCCHEY6levbrs25f1Z4ToWiSEEOLVUMgIIYR4NRQyQgghXg2FjBBCiFdDISOEEOLVUMgIIYR4NRQyQgghXg2FjBBCiFdDISOEEOLVUMgIIYR4NRQyQgghXg2FjBBCiFdDISOEEOLVUMgIIYR4NRQyQgghXg2FjBBCiFdDISOEEOLVUMgIIYR4NRQyQgghXo1PkyZN0vR5QgghOcCzzz4rDz/8sISGhuop7iEtLU1OnTolU6ZMkfXr1+uptxfVq1eXffv26UvWoUVGCCE5SNu2beWhhx5yu4gBHx8fKV26tPTs2VPy58+vp+YMnTt3ljFjxki5cuX0FMdwdT9n8NMy4R19nhBCiJtp1aqV3HPPPeLn5ydnzpyR06dPy8WLF+1Ovr6+ki9fPv0o9tm/f7/8+++/+pJ76dixo/Tt21cqVaok1apVkz179sjly5f1tbZxdT9zihYtKufOndOXrEOLjBBCcomtW7dKv379HJqOHj2q75X3BAYGql9YgFWrVpX/+7//s2thQcRwHwULFlTL2DckJETNuxsKGSGEkCz59ddf5ZtvvpFLly45JGbmIoZ2vAMHDshHH30ke/fu1bdwLy4LGfyxI0aMkD///FOWL18u48ePz1EfKCGEkLwDZb0jYmZNxD7++GM5fvy4voX7cVnIevXqJc2bN5eAgADly61du7ZKA2jcnDdvnixZssTpadGiRdKjRw91HEIIIZ6DPTHLCxEDLgtZsWLFxN/fX18y+T/RKAfQqBkcHKysNlcmwx9LCCF3KgirRztZVlNCQoK+de5hS8weeeSRPBEx4HI/Mlxw165d08UMF75y5UoVZgmL7Pnnn1di5ixJSUkyf/58mT17tp7iXhAC26ZNGwkLC9NTMnPlyhV1L4UKFZJHH31URcwsXLhQbt68qSzPWrVqpW8THx+v70UIIZnp06ePdO/eXXmv/vjjDxk7dqy+Jvt89913yhpCGfXhhx/KP//8o6/JeSytr9TUVGXEuFvEHOlH5rKQwXIaOnSoNGvWTF38rl27ZMKECbmivtmhVKlSMmjQIImIiNBTMnP+/Hl1L08//bTcdddd6gH99ttv8vPPP0u3bt2kQ4cO6dug1kQIIba4XYUMWEYm5oQllqMdoq9fvy6jR49WN9KuXTt5/fXXPV7ELElMTFSmueWEe0tJSVFihQcDK/HChQv6XoQQQjyJOzr8Hq7BgQMHZppGjhypOhZ+++23KmQU7tI1a9boexFCCLF0LaLy70hofk6QLSGrU6eOvPbaazJs2DBp0aKFnnr7gM57aANEWx8iM+1RoEABNRwLrNP+/fsrSzUoKEhfmxH09H/mmWdkyJAhyu2Anu+EEOINWItO/PLLLx3uZ+ZuXB6iqlGjRupC69atKxUrVlTLCHw4ePCgil5s0qSJal9CAe3MVL58edUm5ewwJo6CIA9cG8TpyJEjasgUW2BoGQz2effdd6vtrl69quZxX3A/bt68WaUBDAiKAJeaNWuqiE6Mf4Z5tCFiSBpMAGKHtkW0s+EhI69w3+jKULJkSeXjxotBCLk9QKUVZQFiCQ4fPiwbNmzQ12QflDsQEzSJrFu3LseGqDLHmoihTQzlIYLgUEYihgJxCK4OS2WOI0NUuSxkTz75pLLIDBAyD+tj2bJlqlCGpYboQFhqzkxNmzaVa9euyfbt2/UjuxdnhAwCU6NGDRWtaIiWNSFr3769ssTQmHvy5EklRjExMRIeHq4iHyH0hw4dUg/ziSeeUC82zPBt27apIWsg3HjoELLk5GS1LSHk9uB2EjJbImbER+D+3C1mOTrWIh6KJTApvQlYRVOnTs0wTZ48WbkEHQWZDMsNQo7ITQTA/PDDDzJjxgz5/PPPVZBIkSJF5N5771Xb4wVAPuHBf/XVVyoSElFMc+fOVe1xv//+u9qOEEI8CXsiZuDoCCDuxGWLDJF8sMiMQSBhRf3000/KtQgrBZ31UPNALcHZCZZKbrgWrQHrCOOB4fodscgw37hxY5Ufa9euVaNVw7WICeKG8yHkHyBgBA8VDxTWGvaFOxa1DZwPI14TQm4vbgeLzFERM3CnZeaIRZatD2tCyND5GYU3CnFkpKdj3o9s6dKlaigtW8AyQ6dvZLzRZ8yyHxlcoXjI9qzRs2fPymeffaYEH21pVapUSQ8ggZvxxIkTamDOHTt2qDRCyO2BeT8yfMbFnYMolChRQlXKc7ofGb6n1rt3b1UBtydi5hgCiP1g5EyaNMnpgYMd6UeWre+RIYBh06ZNSsDQJuQNuLuNLDIyUipXrqwECnmBYx47dizThIcHkULfNdTIIFx4sVEJwIS2NATO4LjYnhBye1C4cGGpX7++iiGABwt/6+6aUIYAlCcYDQlt7DkBxAtlEyrsaDJxRMQALDPz/bDsLDka7OGtuFvI8HIabgNYpRj4GG1lxhQdHa1+8SIYwO2IoJCNGzeq4BiIHMxuXBuuyxssW0KIY6Biir9rBH25exxZuPngKZo+fbpqnshJYFGtWLHCadegq/sZ5Khr8XYYosodrkWsQz4g3B7uQzRyQiABhBBmNWphOFdUVJQK569QoYKyztDvAm1ycDEOHjxYiRmE791331X7E0LInU6OjrWIAtobBw12t5AhrV69esp/jAGJYdobfcaKFy+u8gc+cUQxIojlpZdeUi5EgMZQBHigbxncBABRi/iUDSGEkBwea5GfcbkFBOr7779Xofa4d4glJszHxcXJlClT1DYAw179/fffKsADDaDoAA5RhQCuXr1afvnlF7UdIYQQx7jjLLKcBsKEiMQbN24oFyMsNmvACkNbG1yScMfCj442OEIIIbfgZ1wIIYR4NRAye2SrHxkhhBCSk0DI7A1ZmK3R7wkhhJCcBjEYiO62OenbEUIIIR4JhCyriUJGCCHEo7EmXuYThYwQQohHY028zCcKGSGEEI/GmniZTxQyQgghHg3EysBSxDBRyAghhHgFEC1rUMgIIYR4NRQyQgghHo8tawxQyAghhHg0WYkYoJARQgjxaihkhBBCvBoKGSGEEK+GQkYIIcSroZARQgjxaihkhBBCvBoKGSGEEK+GQkYIIcSroZARQgjxaihkhBBCvBoKGSGEEK/Gp0mTJmn6PLFDgwYNpF27dlKuXDnx8/PTU62TlJQkv/76q/z55596CiGEEGepXr267Nu3T1+yDoXMQTp37iz9+vWTkJAQPcU+165dk2+++UYWL16spxCSM6CChcrTqlWr9BRCbg8cETK/0qVLv6PPkyx46qmnpFKlSvqSYwQGBkqtWrUkPj5eDh48qKcS4l5QyXrhhRekadOmfNfIbUfRokXl3Llz+pJ1aJE5yNixY6Vu3bpy/fp1mTBhgixfvlxfk5khQ4bI/fffry95p2WWP39+efjhh6VVq1ZSqlQpCQ4OVp9SSEtLk4SEBImOjpalS5fKb7/9praHRTBo0CC13z///KPywFPo2bOnPPTQQ1KkSBE9JTOnT59W13/27Fk9xTvAH/mbb74pderUUc/H2rvWokUL9XyqVq0qYWFhEhQUpK8RuXnzply5ckWOHz8ua9asSX+ehHgKtMjcSPv27SUyMlKSk5Nl8+bNcvToUX1NZpo1ayaVK1fWl7zPMoMIDx8+XIkYCn9cv/E9IPxiuVixYqJVguS+++5ThX9AQIBaxu+///4ry5YtU9vnNY0aNZKhQ4cqIc6K0NBQVeCjMIdQewu41rVr16o/9hIlSmR61yB0zz33nMoHuMX9/f31PU1gGeklS5ZUzw/WXXh4uCo48K4Tktc4YpFRyBwkO0IGvEXMnnnmGTUVKlQo3QK7fPmyxMbGysWLF9WEdNTq8YsaPgpAWKoVKlTwOCFr3bq1sqQdAWLWsmVLKVCggNxzzz12J1iquNfExET9CHkD3snt27fLXXfdlUnMYB0bQle4cGE5c+aMqngYzxLb4FlC0PA8YVHXrFlTVWKw3YkTJ/SzEJI30LXoRrLjWjTHk92Mffv2la5du6qCEAIGsf7+++9l3bp1+ha3gKuqW7duSrxQACLQAJGcvr6+HuVa7N27tzz99NP6kvuBGCAICL95DaJpke81atRQy9beNQhVw4YNlXjBrfj333+rd7pt27by2GOPSZUqVdIjciFys2fPlh9//FEtE5IX0LXoRrJrkRl4qmUGtxoKfLiZUlNTlXi9/fbbNu8T6X/99ZeUKVNGTUaNHniSRQbLCe1HznL+/Hk5dOiQajvDBKGGy80SCAPu98CBA3pK3oE2TTxHWMXAmpsRLuMnn3xSWZ6wViFeqIz88ccfsmDBAvVc8e7CKoXYwTrDcWDxEZIXOGKRsUN0HgCxgOvGk3jkkUekYMGCyhJDofXxxx+rmnpWYD22w/bY73Zi2rRp8vrrr6dPCASxlR/It7wGbVuwpiGsqIhcunRJPRO8a7AYsR6uwnfeeUdZzMbzypcvn7Rp00alw6Jbv369supgqeE4ELNHH31U7U+Ip0IhywHgyvnwww8zTdOnT7crDnkBwrZRKwewROBOsnWdAwcOlCVLlqRP8+fPT3dl3S7s2rVL7r33XuUmNUA7IdysnggECCIG0TIqInhORgXDXMzwXBH88p///EdGjhwpR44cUceAS7F79+5qHoI3evToDPvj+DgPIZ4IhSwHgJsJbWiWE1xQnghcb3AlARTiqLHbAjV01PrNJ9TqDbeip2FYHo6C7cePHy8rVqxQ7mRzfvrpJ498hhAgRB2CY8eOyaRJk1RwzkcffWRVzAzgPh4zZowKvYdo16tXLz0wBoKH4+B4AMc3hI4QT8PtQgZ/JhqOEQxg9F25k/DG+0WIPRr40Q6EQi0rECCAQi6r6caNG/rWeY+zAgtrOiYmRlU80I4EkTZA++i3336rL3kGCKtH8AaE6OrVqzJnzpz0ZwjLCu2YxvOwJmbYFm7ElJQUtd7c6sK6hQsXqjY2HB/nwfkI8TTcJmSI0ps6dapyS7311luqkyamL774Qn7++WflzoDI3c7AnfPJJ5+oX2/CaONBQW3P4pg4caJ06tQpy+m///2vvrV3gQIb77DBd999J0888YS+ZGLlypUqCMRTQDAHug0AWGEbN25U8wYIxzfvO2ZNzCB0aA/DdpbtfatXr5ZTp06peZwH5yPE08i2kMG1NGLECHnttdekfPnyGdoVAGrEcFt17NhRxo0bJ82bN9fX3F5AvB544AFVUODX28SMmAI8IGYGaD+ChR0REaGnmPj888/1ubwHFheiKgHaOdElwhxUTFBBMcdSzBBeD5cy+sPBGjUHQUD4uwaIHLMUSkI8gWwJGUQMtW+4YOCagi8ef1QI5YVlAutsx44d6R1G0YEUBfzt5p4wRAxhygC/3iRmiHADqJGjBn8nggIcXyswB242vKvPPvusnmJi7969ylLxBOD+g7hArPDewTNi/ve1Z88eFcBjibmYwR2MyijaAM2tTRwHIf1oF8Xx0aaGeyfE08iWkPXo0UM1EMMKQ9sJanZIQ+dhfL4EbhqELqM/kjFCANyLffr0USJ4O2ApYgbeJGaoaaONBP2PXI1Mg+sYnW+//PJLefDBB/VU7wEBHnCvmYOQe3gUEPRhWCUGU6ZMyWTp5BUzZsyQ/fv3q3n8fUGgjOeIvzsMu2Vt9BFLMUNUrfF3ikjU/v37pzcH4Pg4DyGeiMtChk6wCFFGgY0/EjQKoyCzRlRUlCrg0PgM4AKBy8LbGTBgQLqIIVDCaFTHL5YNMcN2ngysZgQKALSBODqkkwE64WKYqooVK6oxGI3n7C2goIdrzRx0SUAHaOQN1r3yyitK7Izp//7v/+wGxuQWEKFZs2al5zuew7vvvpvuxkeFEp93QWXFEmttZrDE3njjjfQuGTgujo/zEOKJuCxkGL3CqK3BLQM3YlZs2bJFWWlGAV+/fn19jfeyadMm1QaBe0KUm9FWgV8sIx1j22UVzu4JwDVlhFmjPQhWtaMWM7aD+wmFPlzLqLnjWXsT27Zt0+dMwMWKII+XX345Q6doywkWm7Ph/TkF8hyBOIaYwY0PMcI94BkhFB8VTXy1wBA0/FoLzYdw473GOhwPx/W2Z0ruLFwWMvQrgSDhjwEFtSO1NdRu0bEUoOYOq86bwf189dVXqqMsAlnMwTLSEbXpDYUAIkvRVgZXGoZ1gsVhT8ywHtthe+x34cKFTO1M3gCE2zxICcKMSpe9dxqBFc6G9+ckGJXjgw8+UGJlCBRG5YA1NWzYMGVBYjxNuErx1QLcpzHKh6WbESN9YMgqHA/HJcSTcVnIIGL4I0a7gqP9hvBHg4FMARqQs/o+lLcAkbJljSLdW2qyaMj//ffflZsYhToCeDA4MtyG1kAfQUTvYTujjRRBPt5Yc0elCi5ggAhbeBsgZFmBihzGLPQ0ULlCtxd0EzDaxWAtYyQPiBLuy3xUFqMSAizF7Ouvv1bHI8TTcVnIrPnb7YEavGV4PvEc0JYyb948JUoo3PBFbNTMjfZPY8Iy3FZoi8F2KPTmzp2rwtc9Dbh3HQEDJmOEk+eff15VuDCf1YTuJsbgvI6eI7eAOxAjdiDICm5T84omrhl/h8Zk+fdorc2MEE/H5dHv0cZlfPIhLi5ONmzYoK+xDUYGwAClGC0B7UiI/PIWHBn9vkOHDqogQLiztS/tQhg88eOT5mBII7gIEaWHDrAQKjwvfJ/MmIwhqeCSQmdZWG6o4XsisLDatm2rL9kGH97E88M3vRDsgvmsJrwLBosWLfLI73ahg7T58Gh4d1EBNZ4dPsqJdITU4/nhucI6hbfFE7/QQO5MEIuRYx/WRIGG0Hu89PgDQC3WaP+yBQYeNUYGwPb44J+34IiQQbzgTrT1uXhvEDJw+PBh5YJCQQchwPPFNZsXgOhvNHPmTDX6vSd/fBFCCxc23ld7X4l2FvxxIRoQbUnIF08FzwtBOHA3og0T3WTwnuIXy0iHmG3dutXqxzkpZiQvcUTIXP6wJtwSCGjAyAdoJ8Mfw6effmqzgRyuCrgsYLEg1BvtKxiY1VtAODPaTtwFLFi4fgjxJFBowG1stJ158odgyZ1Bjn5YE5YJ/OuotSFwA64odKI8efJkegiwQa9eveSpp55KHxMO/cowjp03YYwzh5pqdkHhgIKBNV3iacB6g7fE3DLDhzbhgUATAiG5TY5aZAbmn8cHiJRC+5fRAI5+SWFhYap2ZwCrDUEFnvp9J1s0aNBAReth1ATjc/DOgPYJhECjzQJiToinAo8LvkmGdnCM+E+LjOQVjlhk2RYygM6j6ItjWFzWgMChczDClmHJeauYEXKnADHD37Slh4WQ3CRHXYvmYGBSjA4Bq6xw4cLK1QixQgM4GosxUgA+0ofwbAQ8GJ2p0b6GURTYV4UQzwPNB3A1EpKX5Ipr0VlQy8OI+RjPjZYZIYSQrMg1i8wZUMuD9UbLjBBCiD1ytB9ZdqCYEUIIcQSPFTJAMSOEEGIPjxYyYE3MypYtq6IbPeVbT4QQQvIOR4Qsz0fwRbDHe++9p0ZNNzoKe8pn5AkhhHg+uR61aAtEM2IsQ2tjGBJCCLkzcSRq0WO+qQLLjCJGCCHEWfhxMEIIIV4NhYwQQohX4zFtZLkF/K2EEELci712LFfJtUGDCSGEkJzAq4I9CCGEEFegkBFCCPFqKGSEEEK8GgoZIYQQr4ZCRgghxKuhkBFCCPFqKGSEEEK8GgoZIYQQr4ZCRgghxKvhyB45yEMPPSS9evWSwoULi4+Pj56akbS0NPnnn39kxIgR6gsAhBBCbsGRPfKQGjVqSLdu3SQiIsKmiAGsq1u3rowePVp9k40QQohz0CLLIdq1ayeDBg1yWJxgmZ05c0Z9Jdsely5dkp07d8qCBQtoxRFCbms4aHAe4qyQOQtdkoSQOwG6Fm9j4JKsXLmyNGrUSE8hhJA7E1pkOYS5RQbLaciQIfoaQgghjkKLjBBCyG0PLbIcwpZFNnToUKlSpYqadxcI/vj222/lwIEDegohhNwe0CLzMBCSj1D7ihUrunUKCgqiiBFC7lgoZLlIrVq1pGDBgvqSe0hNTZVDhw7pS4QQcudBIctFEGUI68mdJCQkyJ49e/QlQgi586CQ5RJlypRRQuZuzp07Jxs3btSXCCHkzoNClkugfQxjLrqbY8eOsUM0IeSOhkKWSyDyJl++fPqSe4CA7d69W18ihJA7EwpZLlGtWjXx9XVvdl++fNluWCohhNzuUMhyAVhiRYsW1ZfcR3R0tN2w+2bNmsnEiRPljTfeSBdS9GmbNGmStGjRQi0TQog3QyHLBdA2Fhoaqi+5h6SkJIfD7jEuo7+/vwQHB6cv+/n5SWBgoFomhBBvxiNG9kAgxM2bN1XgAvpF3Q6Yj+yBe3K3WxGjeYwdO5YRi4SQ25ocH9lDE0EZM2aMLFy4UGbPnq2nOk/Pnj3l66+/ll9++UX69eunp3o3p06dUmID3C1iICYmhiJGCCEafqVLl35Hn3eKe+65Rz766CPR9pf58+fL+++/L8nJyfpa51ixYoWsXbtWHnvsMTX6xYULF+TgwYP6Wu/k7NmzKj/QdwxWWVZfiXYGfIfs5MmTMm3aNCWWhBByO4P4AvSXzQqXXYtfffWVGvwWAQd9+/bVU7PH+PHjpU6dOnLkyBHp37+/nkoIIeROJUddi6VKlVK/EB13ERcXp35zIsKPEELI7YnLQmaMGQhXlyUBAQFy7733yltvvSXff/+9/Prrr/Lwww/ra0WaNm0qU6ZMUW1iCPQwSElJUb/uHo+QEELI7Yv7oxA0atasKSNGjFDjC5YsWVJCQkJUQAeAwL377rtSqVIlFZJev359lU4IIYS4Qo4I2f79++XRRx+V559/XtasWaPSIiIilIihYy6CQ2bNmqWCPH7//Xe1nhBCCHEFl4XMcClacy1iDMCrV6+q+b///lv9gmHDhsnWrVtl8uTJ8t1336nQ/fPnz+trsz4mIYQQYg2XhMwYGQLEx8erX1vs3btXn9NO5usrn3/+ub6UGXSKBmhjI4QQQhzBJSFDxKLRydfeRx1PnDiR/pkRiFpW/QGMcQMhkiVKlFDzhBBCSFY4JWQYM7B169YqkAOsWrVKTVkBN6HhPkTn4KxGuVi5cqVs2rRJzeMcrVq1koIFC6plQgghxBpOW2Tm7VdwMdprz+rVq5ca/QNghIuKFSuqeVsYIfjFihVT/cnoZiSEEJIVLo3sUa5cORWsAWA5rV+/Xs1bglE6xo0bJ1u2bJHGjRurNHxS5Oeff5ayZcvKtWvXMgR7tG/fXkU1gmeffVaOHz+u5gkhhHguS5cu1efcR4cOHdRvjo3sgQFrjVHqcRIDuA1hccFSK168uBI5RCmi35hhadWuXVtZZiNHjpQ+ffqoNAO4Hg0wniAhhBBiD5eEDO7ExMRENW/+na0nnnhCvvnmG5k+fbq89957atBcDCaMYA8jKAQj5uOjjkWKFJGpU6eqNAPz72PdLp9zIYQQkrO4JGTACNowH9U9PDxc/aJNDKN6QMzwOX6A0e0Bhp+CaxLrjM+cGJgfy3yeEEIIsYXLQmYNRB1u3rxZtYHhu2K7du3S14gab3HOnDmyevVq9cFJ847ShBBCiKu4VcjQD2z48OEqoAP9x8yBm/Hbb7+V0aNH2+17RgghhDiKy0JmjMKRVb8wZzGOBdFjGxkhhBBHcFmFjLB5RCe6C4yUD86cOaN+CSGEEHu4LGSLFy9Wv/Xq1ZN27dqpeVdBYEenTp1UvzOAkfEJIYQQR3BZyBDQMXfuXBVa/+abb6qOz66CfREcguGp3nnnHfnzzz/1NYQQQm4XEPSXE7g0soc5aNeqUKGCCqs3H+meiDz00ENqiC6MUWmrOwH65P3zzz+q87gxuDIhhHgTjozsYS5iKBvtkeMje5iDoIwjR45QxCyoUaOGdOvWTX1QNKs+cVhXt25dFc2JEU8IIeR2w9ISc7dllm2LjFgH7YboL+eoOMEyQ5ALxp+0BzqS79y5UxYsWEArjhCS52RlkWUlWllZZrlqkRH3AMsMEaAYq9LehACb3r17Z8uKg7WIIcLwmxUPPPCAfPbZZ/L444/rKYQQ4hj2LC93WWYUMi8FwodBlhs1aqSn5Axo+wwODs4wDiYhhDgCLC57kzugkHkx/v7+OS4wixYtkv79+7NLBCHEY6GQEUII8WruiGAPjBjyzDPPSPny5fUU+0RHR8u0adMkNjZWT3EOZ4M9XAGBHhMmTJDly5frKdaJjIxUbWqVKlVSywgWwTfl7rnnHtVIO2/ePBk4cKDUrFlTDeaMX1w3gkkKFSqkGl2x3dGjR9U35JAnH374YfowYlWqVJEXX3xRrl69Kh999JHEx8erzu1dunRR5wY4J6y7DRs2qGVCyO2DV35Y09tAwYvCHm44a8ETlhO2w/auipgnUaBAAXnuueeUiEG8Vq1aJRcvXlQfOLXEz89Pfckb35qDkF+4cEFfY2Lbtm0qsrJYsWJy11136ammD6KiHe3w4cNKxBCMgi98h4WFqU7u69atU8dGn7p7771X34sQQtzDHeNa3LJli3zxxRd2vzyN9dgO298OtG7dWsqWLatqNGPGjFFtXfjYqS3LaMeOHWqklg8++EB93dscWGD4wkFISIjqJ2dQtWpVJX74qgE+tPrggw+qjvI//PCDioycMWOGGgUGXQyaN2+u70UIIe7hjmojsydmt5uIAYy6AgHCt+HMvyhgrb9aSkqKEirz7SxB/zXsa1hkpUqVkhIlSqhBpPfv368sWnQjgDVrLoToNI+PrMJViX0IIcRd3HHBHrbE7HYUMQDhgLXkLjcphA7uRbR9QSThsoT70nArQsQCAgKU0MEaM6aPP/7YrV9KIIR4Htu3b8/25Ap3ZNSipZjdriKWE5i7F6tVq6bcirDkLBtj8WHVFStWZJrWrl2rLDNCCHEXd6SQAUPMoqKibmsRQ2AHLCR3WkMYV/PGjRsqWhHtb4ZbESA6ER9GhRU4Z84c1SZnPuHzP7DcCCHEXdyxQgYgXm+88cZtbYkdOnRIjQKCkHrzr3nD5egqsL5Onz6trDFEMELYDHFCiD7ErHTp0irQxJyOHTtK/fr19SVCCHEPd7SQ3Qkg9B2u01q1aslbb70lPXv2lOHDhytBQRShq0DMYOklJSVlcCvCOlu9erUST/Qje+GFF9LP+dhjj0mLFi3UsFeEEOIuKGS3Oeik/O2336qoQbgBYSXBGlu/fr1q23IVWGGIXkTgx+7du/VUE8uWLVOh92gLQ5+yNm3aKNcmBO7rr7+Wmzdv6lsSQkj24WdccghPGtmDEEJyEmNkD1ejDs3BiEOAI3t4AKdOnVJtRTkJjo/zEELInQyFLIeA6w1jGKLNKDttUdbA8XBcHJ9f5iaE3OnQtUgIISRb0LVICCGEZAMKGSGEEK+GQkYIIcRruVo+kEJGCCHEewk5kUghI4QQ4r34ptC1SAghxMuhkBFCCPFqKGSEEEK8GgoZIYQQr4ZCRgghxKuhkBFCCPFqKGSEEEK8GgoZIYQQr6J8+fLyxRdfyP/+9z81UcgIIYR4Fd26dZOiRYvKyJEj1UQhI4QQ4lXExMTITz/9JOvWrVNTtr9HBlVs0aKFVK5cWfLlyyeJiYly7NgxWbFihZw9e1bfihBCyO1KXn6P7IknnnBdyPLnzy99+/aV9u3bS0hIiJ56ixs3bsiGDRtkypQpFDRCCLmNySshe+ihh+Tpp592zbUIK2z06NHyyCOPWBUxAOusTZs2MmbMGClXrpyeSgghhGQfeAIff/xxWbNmjWtCNmTIEKlbt674+PgoVyJ8lMOGDZP77rtPXnzxRVm2bJlcu3ZNra9UqZK8/vrryoIjhBBCskvjxo3lpZdekr1798rnn3/uvGvxySeflKeeekqCgoKUWE2fPl01ulnSvHlzGThwoLLe0tLSlKvRWdCgB2EktoFp3atXLylcuLCqOFgD+f/PP//IiBEj5Pr163oqIYS4h9x2LQ4dOlQeeOABfcmFfmT169dXIpacnCy///67EjFYWzDxUFD26dNHidf69evll19+kZs3b6oCFts4O8E9SWxTo0YNFYYaERFhU8QA1sGChjsY+UoIId7MJ598opqujMkpi6xq1apKrEqUKCGnT5+W9957T5l2b775pnIr+vr6Zqj9g/Hjx0uZMmXUvKNAwFD4Hj9+XJ599lk9lVjSrl07GTRokMPihGdz5swZZUnb49KlS7Jz505ZsGABrThCSJbkZdQicErIUKuHaBUpUiRdZMzTDFDwTZgwQZYvX66nOI554UwhyxpnhcxZbieXZLNmzeSxxx6Tw4cPy9dff62nEkLcQV4LmVOuRVhcli4sa2nAz89PnyPeCp4r+gc2atRIT7HO3XffLRMnTpRvv/1WtZ/aAu8KRHHq1KmqN76joK0V+5hPkyZNkpdfftlha9/f31+Cg4OVW5wQcnvhlJDFx8dLUlKSmof7D200W7dulW3btklqaqpKRy0e6rl69WplKXz11VeyZMkSq9OiRYukR48eaj+4KZEGC4NtY54DBCAwMFBfyhoIH94JtJFao169elKsWDF9yTlSUlJUbQ8d7VetWqVc27Vr15bBgwer49oDIboIHIKngBBye+GUkB04cEDi4uLUPAIM7r33XjWPwgEdnyFeM2fOlI8//li5otDPDH3IIGi2JqOQhHgZadYsPOL5oDJTsGBB5QqwBgKF8JyNSo8zoIK0f/9+mTVrlvzwww/y7rvvqncNlj8CXkqVKqVvSQi50/ArXbr0O/q8Q0DA4EqCAGEEYkQl7tq1SwV9QMhQa05ISFDh9+hxHRYWpgohhN8j0hETQAGEAm337t1qH4wQEhkZqbbFMWH5nT9/Xn777Te1vadTsmRJeeWVV9Q9IyTekQkWxZEjR+Tq1av6UZwDffSaNGkiAQEBeor7wfPavHmzHD16VE/JDKysBg0aqBFc0EEeYrVx40Z9rQlUaO6//371HqDvIZ4x2qvefvttefDBB9Xx8bwB3jGkd+7cWbWTVqxYUZ0D75j5dWAdAo8QhITjwhMAUUO/RaR3795dDV+D68HzeeONN6RChQrqOG+99ZaqaOEY586d048oqj8kupjgXmJjY6VOnTqqvwo8B3hmqLwhWObEiRP6HoQQo0nh33//Vb/ZAX+7ABVVAA+P+d+oNZwOv58zZ44SLggOCq1+/frJqFGj0ttRUKigwMBkuJj27NmjwvM7deqkJoiXLVBwzp8/X23nTX3IUOghuAUCj4LX3oTtsD32u12AECEqsmzZspmsspo1a0qBAgWUVQU3ITh16pQScrxHcEkaIH/Cw8OV+9BeIy/eJQhjlSpV9BQTDRs2VJUlS6ECcJFDzHBevK8GEDkELV24cEGdFy5LBBuhMrZp0ybV8R/HRL89wxtBCMl7nBYyMHbsWBXNBjFDgYyhQj744AP1XZgvv/wyffxFrEdBhRB8a1FvsCSg5NgP0Y/ezpYtWwTfyDl58qSeYh2sx3bY/nYCBT5C9vHsYW0aIMgDlg3eAaw3B4KBystdd92lp4hUq1ZNvVf2RAzA+odlj+3NQWd6BJTABYl2NUtwbFiF5oKL84aGhsrBgwfVMixFXDtcmQgwmTFjhsydO1e91/A4EEI8A5eEDG4XRJ/9/PPPNvskwdWzcuVK5cJBrfhOwZ6Y3a4iBlDoR0VFyeXLl5WFBVEAsGzg2sO9w42KdlADWOsXL15UbmVYRDgGfvFeoU3WVbBvVi5bWHKwhmGB4XwAYgqXNkQOVmHx4sXVNghoMkDFDPdXqFAhtssR4iG4JGQAtWuEQGMEfPyiHwHayOAuQ+AHRvjAgMHWRr6HSwltHdYmfAIGrh1vxpaY3c4iZoBKCya0aRnRhAjygPUN0YJQmQN3JJ453I4QP4gJhtuCizI7QmYPWHE4PsTWiLSE2OJ64P6EiOGacT3mYf8IZMI6Qojn4LKQGUCoEEaPP3AMgfThhx/Kjz/+aFXADD799FPVtmZteuGFF+TXX3/Vt/ReLMXsThAxgx07dqhfBIBAIBAUhMoJrDVrINgHlhDaqyAq6O8FkXEkuhGWEboIoJ3MWdBOhgoZzosJ7XIIQEEbmgGCOuCatJzWrl2rLDNCSN6TbSEjtjHEDAX4nSJiAP0KYVHB9da6dWtlYUE0bFVu4MqD0MEiQkQs2r2wvSNgewiZ0a7lDBBLXCeipHAcCKfRLochutB2B4FEgBPC/s2nxYsXZxA8QkjeQSHLYSBeiOC8U0QMoIBHUAfcha1atVJWjy1rDGB7CBEsIlhvjroVEVSE4WzgDkRUobNAuCCYCFJBMArOCxEGcHNDzEqXLq3E2JyOHTsqdykhxDOgkJEcAcJ15coVFdgBt6q9CEQjihBYcyuikzyiCnv27KkiXRGRiC4d2GfevHmq3dUVIGQITELUo/l5IY5o88V5u3TpolzeOPfw4cPVmI2I1OVwV4R4BhQykiMYQR9wzyHIwx6whNDfC9GK1tyK6L8F66tt27bKykPbG9rixo0bl25FuQIsQfRXMzpUm4MPxCL0Hm1hCFzB5yIQ6AGBw8DDhvASQvIWpz+sSTyHnB79HsAt6OqXDJwBI39gcGC0lSFgyJFAD0KIZ+BVo98TzwLuNLTj5CQ4vqtuO2eoVauWCoV3NFqREEIMKGReDFxwaB9Cew5Gm3AnOB6Oi+M7GkHoCmhrQvsTxmGEaLoStEEIubOha5HkKRAxtD9BxDD8k/koGoQQ74CuRXJHg+/VoSP80KFDKWKEEJegkBFCCPFqKGSEEEK8GgoZIYQQr4ZCRgghxKuhkBFCCPFqKGSEEEK8GgoZIYQQr4ZCRgghxKuhkBFCCPFqKGSEEEK8GgoZIYQQr4ZCRgghxKuhkBFCCPFqfH9uulMwEUIIId4ILTJCCCFeDYWMEEKIV0MhI4QQ4tVQyAghhHg1Pv++FpyGmUc21lYJhFjy0EMPSa9evaRw4cLi4+Ojp2YkLS1N/vnnHxkxYoRcv35dTyWE3AksXbpU/W7fvl39Zod77rlH/Xbo0EH9Vq9eXfbt26fmbUGLjGRJjRo1pFu3bhIREWFTxADW1a1bV0aPHi358+fXUwkhJOehRUaypF27djJo0CCHxQmW2ZkzZ+TatWt6im0uXbokO3fulAULFtCKI8SLoUVGbitgmRUvXlwqVqxod6pXr5707t07z6y4UqVKyccff6wmzDvK3XffLRMnTpSRI0fqKd7NwIEDZfLkyarSklu4mveEWINCRvIUCF/lypWlUaNGekrWlClTRoYOHSpffvmlTJ06Vb755htVGLZo0ULfwrOB+OGan3jiCT0lI3khKoR4OxQykuf4+/tLYGCgvmQbWHCDBw9WwhcXFyerVq2Sbdu2KWsOll2PHj30LT0bX19fadq0qdSpU0dPyT60cMidDIWMeAWhoaHy4IMPKtH6+eef5d1335UffvhBvvrqK/nss8/kypUryqqrVq2avodnU6BAAbn//vuVqBFCsgeDPbyIkiVLyjPPPCPly5fXU+wTHR0t06ZNk9jYWD3FOZwN9nAFBHpMmDBBli9frqdkBq7Dnj17yokTJ+TDDz+U1NRUfY2JAQMGSIMGDeS3335TQgeaNWsmnTp1kqJFiyoXZnx8vKxcuVIWL16s9oflgnsDOP+pU6eUsEAwW7VqJeHh4WodglIWLVokGzZsUMtoI3v++eflwoULKrClZs2ayqJEgMuaNWvkp59+ynR9BnAtog3x8uXLqjsDrmXJkiX6WpNrEcdDAIyRH5GRkereK1WqpM6TmJgoe/bskR9//FHOnj2rjlm2bFm1rQEa3dGOB2D5denSRR0HWN6PcU4s47dgwYIq/fjx4zJnzhw5cuSIWgb28tTAlbyHuL/66qvqPf/111/ljz/+kKCgIOWGRSUF72BKSop6B5DHyAPiGTDYgzgMxAiFGwoza8ETlhO2w/auipgngcIN93Ps2DGrIoGCH5bZ2rVr1XLbtm3lqaeeUpbc5s2bVfqNGzdU4dq9e3e1jTWwrnPnznLz5k0lStg3X758qguCpSsQ1wQ3Z1RUlBIBXBf++B5++GF9C+ugMMb1QJDatGmjBMoWRoFfpUoVJSgrVqxQBTmuBWKKwn/GjBmqXe3ixYtqwjwKegB37LPPPithYWGyadMmWbdunfj5+al+gffee6/aBiCtefPman+4bJHP5cqVU/tCjICjeepK3qMCAfcw2kCxPUQMIK1ly5Zy+vRpde87duyQ0qVLS79+/bzG+iY5j0tClt8vVQbdFSMLmuxSI+fbmsbXPiThAcn6XsQdbNmyRb744gs5efKknmIdrMd22P52AFYMgAhY4/z586qGjl8UoLCokpOTVSH/7bffql+4IbEetXvU8iwpVqyYEox///1XBZPAdYl9UbCHhISk1xQNYIF9/fXXKugEE7ZHgd2wYUPV7y4rYO2gkIfAwAK05WKEKOBYENWxY8fKrFmzlEWKAh1WWPv27ZXVDYsGQooJ85gMdyyOjWvDNSIf5s6dq7pJQLjMgSC///776efYtWuXyhNs52ieupL3uL4XX3xRiTO6Y+D6QIkSJVSFDBYkvAq4LrzTEGScB9YjIcAlIXuk5FlpVeSS+Psor6RNKoZcl5HVj1HM3Iw9MbvdRMxZUFAWKVJEWaJbt27VU03iARcFRKlq1ap66i3gJnznnXfU6CQQAgO0v0EgIDrmwHrZv3+/viTqXDgGrCQUwvb45ZdfVNAKXJXWohRRWENYIZjmzxLXAhGERYf1toAIoAJgmQ+w7ODaLFSoUHpgCCoIsMIMcI7du3erdFhJjuapK3kPsa5du7YSTkR04twA7khYxrCIze8Tovbcc88pK5wQ4JKQVSmQIL4+Wo002U+2XSogWy6EZZpOXg9S20LMxtU6JMOrRtudXtWsvDZFLyqLj2SNLTG700UMoI0HkZAoCC1BAYuC0nCXWYI2GbRHwU2JQhVWDNxhOJ4jwHqACxRuR3tcvXpV/vrrLyUWcDFaRhuijQ7XA8Gy7GCO+0AaRNOW9QcRCwgIkLvuukvdhzEhstGwcLMC7rykpCTVludonjqb9xC2xo0bKwvxwIEDSrgMcAy4xpE/eCaTJk2SYcOGqfZSWxYsuTPJ1ttw5maAjD9UVt4/UD7TNHRXZYm6aKrBFglKkkaFr9idWhe9JIPuOiFj7j5CK84BLMXsdhYxFKoAbTnWQGEOy8aeSy8rUDi+9NJLyjUWExMj3333nYwfP15+//135SrLCeAyRAM5rvuRRx7RU+2DAApMjoA2NbQvWU5oi4JllpdAqA8fPqzcjnCTWrYXok3v7bfflvnz5ysrGWLfp08fFeBiKfzkziXHqjXXU3xlnCZyhpg5Q7ngG1InPHONjmTGEDO0b9zOlhhq87BMKlSoYLU23rVrVxXxhsAAWEUQHrjmLIGlhP0R7WcJXF44PioEsMg2btyo2t3gWnQEHBfuOlwnrtdREGmJghxCDLecAUQGFgosPFgu5iACMTg4WFl12NcaRj7gehB9iDYm8wkRhNYsJwMjwAbRmY7mqbN5D/fsvHnz5M8//1RRibB+jX1hbcJVCZcu1n/wwQeqHyFckBAx9MUjBOSofQ4xe29/eRXa78g0al9FuaHt4+eTJkG+dC86CsTrjTfeuG1FDMBqgTggks6yPQm1eKMtCW1WaIs5d+6cKjjr16+vb6VVkLR9UTBiO7ixLDEE0vg1gBvOMg3A5YaoQAMMmgy3GQp+tAk5CiwNWEiwsBCRZwCROXjwoBIxBEkY4FrgjoPIYL0tjh49qoQFx2zdurWeaqJjx44Z8gaWLoTcPA+QVwAWk6N56mzew6WICZYpKg3YDl9bAAj+eOWVV1TkonFdEHZcD1yU1p4JuTPxG9I04B3MzD1p32duABdgZL5EuZTkLyvPFpbEVPe8UDhmi4hL4u+bJn9rltzRaxxFPa+BSDRp0kS1teQUqMEjeAEFry1gVaBgR6QaAgPwi0IP7SUIl4d1AjcUIgyxLQq5WrVqqQm1d/yiAzJceOvXr1d9mlDTx70BnB/uSwgTtscvrLPHHntMnQvHQzQjKguI5EOfNVgQWGdsj9B7uMpwbARKWAOCgmuFBW1umSDQAsEZCBJBIb13716VH7C2cO0INTcsRoSxYxnuT1hWuF+IAcQO4gpLBpYdLBe0V0FAMCG/cAzkF6wZXD8qCBAcnBeCDfFAcAe6EBgRnIgiRN47kqeu5j0sS1RU8GyRDwiagbDh6wu4Z+O6IOCIokQe4TjOWL4k50B3C4D3JbsYgVIzZ85Uv6gconKUFazSEK8Bw1EhBP3QoUMq9BzRbrCC4Pr7/vvvlfvMABYOQs5RAKPwg8sR0W/ofGyEd1uCbRFOj6g+FMDo1IvCHq4/dNpGQWxuBcCSgnUBIYAwoHDF8c07ODsK9sV5YEGZg3OgwzAsL1QqcM8o0BF+j2uFAABc++rVq5XFgvuF0IJly5apfICbEmKLoBIIFrbF/kZwBSoTsIogMBBb5C/yAWHzxjkczVNX8h7gXnG9EF904Eawy+eff65EH9eMe8fxcNzZs2erdEKASyN7jKxxTOqGX5Vj1/LJ23srSXyy9QZ4Z6lbMF7eqBIt+fxS5YsjpWX5mcL6GpJXeMrIHoQQz4UjexCPBrVkSyvB3eD4OA8hhLgChYxkCdpqEFWGthq0w7gTHA/HxfFxHkIIcQW6FgkhhGQLuhYJIYSQbEAhI4QQ4tVQyAghhHg1FDJCCCFeDYWMEEKIV5OtqEV8xuVAfLAkpzo2Crc9Qv1TpGqBBDXWIqMWCSHEO/DKqMWDV4MlVZO/EE146hW8mulzLK5ONcKuKRGDQBrfMyOEEEKywiUh+zm2qKw+V1CS09xjiZkDEZt2PFL2X8342QpCCCHEGi65FgkhhBADdogmhBBCsgGFjBBCiFdDISOEEOLVUMgIIYR4NRQyQgghXg2FjBBCiFdDISOEEOLVUMgIIYR4NRQyQgghXg2FjBBCiFfDIaqIR/DQQw9Jr169pHDhwuLjY30Mz7S0NPnnn39kxIgRcv36dT2VEJLXcIgqcsdTo0YN6datm0RERNgUMYB1devWldGjR0v+/Pn1VELInQ4tMpLntGvXTgYNGuSwOMEyO3PmjFy7dk1Psc2lS5dk586dsmDBAlpxhOQQeW6RQcAoYiQrypQpo895BrDMihcvLhUrVrQ71atXT3r37u2QFde2bVv59NNP5fHHH9dTrHP33XfLxIkTZeTIkXoKISQvoWuR2GXAgAEyePBgfcn7gPBVrlxZGjVqpKdYJyQkRIKDg6VAgQJ6CiHEG6CQEbvky5dPuf+8Wcz8/f0lMDBQX7LO4sWLlWh/9913egohxBugkBGHCAgI8HoxI4TcnlDIiMPc7mKGe5s8ebIMHDhQT9H+QHx9VbeAL7/8UqZOnSqTJk2S1q1bZ4quLFq0qLz88svy1Vdfqe3w+/rrr6t0QkjOQiEjTnGnWWbdu3eXVq1aqYjHNWvWyJ49e1R3AfPAEbSpPf/881KnTh05cuSIrFixQv0i2grpbHMjJGehkBGnuVPErFKlStKwYUO5cuWKsshmzJihLK3vv/9ebt68qW8l0qJFCyldurQK8x87dqzMmjVL/UZFRan0Jk2a6FsSQnICChlxGbjdbueOyQjfRxRjdHS0srAM4uPjJSUlRV8yheOnpqaqUUfM+euvv2TlypVy+vRpPYUQkhNQyIjTJCUlyfLly+WTTz65rTsZFypUSEU72hMihO0nJyfLxYsX9RQTEL+5c+cqS40QknNQyIhTGCI2btw4PYUQQvIWChlxmDtNxGBhwdKyF3mI7eBmhRvSHAR5IOADY0gSQnIOChlxiDvREjt48KBcvXpVypcvL+XKldNTRQkTXI4Gx44dU52tMRyWOY899pi8+uqrdkcUIYRkDwoZscuNGzfuSHfi8ePHZdu2bVKwYEF55ZVX1JiNL7zwghqp31zIVq1aJTExMdKgQQMZMmSI9OzZU/02b95cTp48KevWrdO3JITkBBQyYhd0Er5T28QQrLF69WoVnXnvvfeqCEVEJ2JUfQNYbV9//bXs2LFDhexj8GH8IsgD6VhPCMk5fJo0aaI+40JIXoE+ac58xsUVEF05YcIEZVnaAtfRtWtX2b17txrdnhDiGPywJrnjOXXqVAYLJyfA8XEeR0AHaEKI90AhI3nO3r17Zd68eXL+/Hn10Ux3guPhuDg+zpMVbdq0Ub/4aCchxHuga5EQnW+++Ua5FfEZF7ZrEeI4dC0S4iH069dPtaNRxAjxLihkhBBCvBoKGSGEEK+GQkYIIcSroZARQgjxaihkhBBCvBoKGSGEEK+GQkYIIcSroZARQgjxaihkhBBCvBoKGSGEEK+GQkYIIcSroZARQgjxaihkhBBCvBoKGSGEEK+GQkYIIcSroZARQgjxaihkhBBCvBoKGSGEEK/Gp0mTJmn6PCF5xkMPPSS9evWSwoULi4+Pj56akbS0NPnnn39kxIgRcv36dT2VEJLXLF26VP1u375d/WaHe+65R/126NBB/VavXl327dun5m1Bi4zkOTVq1JBu3bpJRESETREDWFe3bl0ZPXq05M+fX08lhNzp0CIjeU67du1k0KBBDosTLLMzZ87ItWvX9BTbXLp0SXbu3CkLFiygFUdIDkGLjHg8ZcqU0ec8A1hmxYsXl4oVK9qd6tWrJ71793bIimvbtq18+umn8vjjj+sp1rn77rtl4sSJMnLkSD3lzsUyL4oWLSpvvfWWyu9SpUqpNHfSrFkzGTt2rDz//PN6inM89thj8vnnn8vUqVPl3XfflYIFC+priDdDISN2GTBggAwePFhf8j4gfJUrV5ZGjRrpKdYJCQmR4OBgKVCggJ6S86Dgf/nll+Wrr75SheuUKVPkjTfekMjISH0L27Ro0UI++eQT+eabb+Tbb7+Vzz77TDp37qyvtQ2OPWTIEJk8ebI6Jwr2Hj16iK+ve4oD5CEqDf7+/nqK+8AxcfygoCA9xXHuvfde+c9//iOpqamyYcMGWbdunbLYifdDISN2yZcvn3L/ebOYoQAMDAzUl6yzePFiJdrfffednpKzQDj69u0rderUkRMnTsiKFSvk4MGDUqlSJXnhhReyFFQUyhCfgIAA2bRpk6xdu1ZSUlKkU6dOarIFjvncc89J1apV5dChQ7Jq1SqJj4+XNm3aSPfu3fWtXOfs2bPKIhs6dKgcP35cT7UP3i8I68CBA/UU66xZs0ZefPFFmTBhgp7iOLhnvAfLly9XAm64w4j3QyEjDoEC09vFzNOoX7++ctseO3ZMPvzwQ5k1a5Zym+3atUu5TmFx2QLWJSzNn376SRXKM2bMkB9++EFu3rwpDRs2lNDQUH3LjNx3331StmxZiYqKUufCPhAQWCY4JtojbldQIUP7amJiop5CbhcoZMRhbncxs2YVwGpCt4Avv/xSCcakSZOkdevWmaIrLV2E+H399ddVui3KlSunrMS9e/cqd5fB/v371W/p0qXVryUlSpSQIkWKyMWLF2XPnj16qqiglgsXLkh4eLiULFlST80IRAwF+bZt2/QUUZbT7t27lWsVVostHMkLtIt9/PHHajLayOAGfPrpp9X22A/u07ffflu1rxltbLAGYS2hoR/PAM/CGpbPyNj/nXfeUddmnAPXiGVcs7ENjo1z4Fzm54CVCkvc/PrefPNNj2sbJrahkBGnuNMsMxR6rVq1UhGPcGtBONBdwDxwBAUhgg/gIjxy5IhyEeIX1g3SbbkIYXVBwCyjLxGRmZSUpCwIaxQqVEiJDqyv8+fP66mijgUh8/PzU8/JGtgX2yUkJOgpJs6dO6esFYigLRzJC2sg2KZly5Zy+vRplTc7duxQIt2vXz8lNF988YX8/vvvkpycrI6Jtj64S50B7X4NGjRQUXNo/4JY45ywQA8fPqzOgWPjHDiXcQ5Yrq+88ora17g+RMhVqFBBXnrpJVXZIJ4PhYw4zZ0iZmirgpvuypUrqoYP9x0sre+//16JiAFcgCiYYRHBXWe4COG+Q3qTJk30LTOCQtwaKGwhKugcbg1b+wHsByvPlkUG0cT+CJgwBwU/9g0LC9NTMuJoXlgC6xHRo3BdTps2TeUNRMUQEViAsEBxXAABh5BcvXpVLTvKjRs31LUg6AVWFdrBYClWqVJFXR/OgWMDnMs4B8QOVircuWPGjFHXh8jV1atXq36NHTt2VPsQz4ZCRlwGBaKjfb+8ERTAKPCjo6OVhWWA4AgEVhjAdQUrB6OOmPPXX3/JypUrVU3fU0B7HIQO3RIM4PqDNQm3GwTBGo7mhSVYDyGBdQlRMYCoIegE/fvcASxRc3fpyZMnlThnJfrAeHbYF78GGzduVIIHiwyCRjwbChlxGtRsUeNF6Pft3MkYbjgU7vaECG4+WFFoszIHBf7cuXOV+w9tRrAUjMledF5OAUsI14NAE4TgP/XUU2rIL1hcKMgvX76sb5kRR/PCEggZ3hWIXc+ePVU71LBhw5QVm5XIGG1truaZYdXaw9azg+BDyCDeFDLPh0JGnMIQsXHjxukpxB4QB4THo/3FmGC9mVsA5kAw4BaDlWENW/sB7AdLJDY2Vk/JyKlTp1Sk4r///qvcegjjR2Vk8+bNSmwsC3R3gP5aCO6YP3++Oj9Eqk+fPqoTta1O07byLLeAyFoG9BDPhUJGHOZOEzEU6qitZxV5CLCdtXYnBHkg4AOuO/RRQ/uLMaFwh3WD/SwDLIoVK6baIW25+XA+tHXBrYs2KAMcC+1qECSjPcgaCHqAFYZgC0zvv/++alPD+Wz1/XI0Lywx8gBtb3/++ad88MEHqm0VbVIQsaZNm+pbZgSWnLU8czfIR1QcYHGaA5cirh1BMeYBNcQzoZARh7gTLTF0TkZAQPny5TNEr8HVhMLPwFq7E8BwSK+++qrNEUXQ3oT2I7QdGW42/NaqVUvNY701YE0hshECaN7uhMg7CA0sOUTqOQq+PIBQc3QDwD1bw9G8sARtb4gKROSicY+4Z1wfLEsjLa+AqOMa8OzMrwUCC/GFsFPIPB8KGbELaup3ojsRhRiCADAen1EYY8QNjNRvXnhjdIyYmBglJGh3QlsQfps3b66CDmxZEjj20aNHVag3RsPAfuh7BgsG+xkh6Bip4+uvv1bBEQY4JoSga9euKh3XhvB4FMbYD+sgMqNGjVLPrVq1avqeoqIFMZQVRhVBR+wHH3xQnW/OnDn6FpnP6WheWIJweBzb/B5xTAwICxco7h/A4kNlCSKJdrvatWur9JwG7ks8O1QejOt77bXXVDcDCBisSOL5UMiIXdB59E5tE0OwBkKx4cZDexKi3NBWYz5GHywVFProH4WgibZt26pfhOMj3VYoOcQG4ySisIdrD/vBwoK1gjByYz+01WAyH19wy5Ytyt0G66Zx48YqjBwihj5Sy5Yt07cy7Yt+Zeb7wpLD9tgP67A9uguYX6e1czqSF5bARYixHNEVAf3mcI84L9Jnz56t0gFEEu5GuPNwbIyNmRtYuz5UJGBlo5uALVcr8Sz4GReS56BPmjOfcXEFBDRgfD5YlrbAdcDCwSgXGAmCEOIY/IwLueNBJFtWtXp3gOPjPI5gdM4lhHgHFDKS5yDIYN68eapNwpG+P86A4+G4OD7OkxUYAR4gkIIQ4j3QtUiIDtqr4FbEZ1xstWsRQjJD1yIhHgL6VKEdjSJGiHdBISOEEOLVUMgIIYR4NRQyQgghXg2FjBBCiFdDISOEEOLVUMgIIYR4NRQyQgghXg2FjBBCiFdDISOEEOLVUMgIIYR4NRQyQgghXg2FjBBCiFdDISOEEOLVUMgIIYR4NRQyQgghXg0/rEk8jgYNGki7du2kXLly4ufnp6daJykpSX799Vf5888/9RRCSG6T1x/WpJARj6Jz587qA5chISF6in2uXbumvu68ePFiPYUQkpvwC9GEmNGoUSOnRAxge4gfRJAQcudBISMeRf78+fU5+1y9elXOnDmj5ilmhNy5UMiI13Lz5k2ZMWOGnDx5Ui1TzAi5M6GQEa/m9OnT8sUXX1DMCLmDoZARr2fLli1eI2Z33323TJw4UUaOHKmnEFCqVCn5+OOP1YR5R+nWrZtMnTpV/ZI7F0YtEo9i7NixUrduXX0pa86dOycffvih/PPPP2oZgSIvvfSSlC5dWi07G80IkXn++eclODhYTzGRmpoqly5dkpUrV8rvv/+up7qGcQ5c+6hRo/TUvCEoKEj69OmjosQCAwPl+vXrsnr1alm4cKG6Z3uUKVNGunfvLhUqVFDHwj4XL15U3SHWrVunb+UYEK9Bgwap+QkTJsipU6fUvD0gYIhuQ9TcvHnz9NSssfWcLTl//rxT13Inw6hFQtyENcusVatWat4ZLly4ICtWrEiftm3bJvny5ZNHH31UevTooW9lH/SFmzx5sgwcOFBP8SwgAuizd/bsWXWfEKH//Oc/6QVIVtSrV08GDx4slStXlri4OFm1apXKJwTr9O7d26l8ym0QIATBNp7vxo0bJTExMdNzX7t2rVy+fFnfK2toGeYtFDLitRQuXFjeffddWbJkSfo0YsQIKVKkiKSlue5oiI+Pl1mzZqVPX331lUybNk0SEhJUAY6O2rcDFStWVAEzCxYsUPeJX3Qwv+uuu/QtrBMaGioPPvigEq2ff/5ZPYMffvhB5dNnn30mV65cUdZxtWrV9D08Cwi3cc+YIGTJycmZnjsseaQRz4dCRrwWX19fVZhaTrCefHx89K3cA6yNEydOSIECBZQVg7YcFNpVqlTRtxCJiIiQ999/XyZNmiRffvmlcrv5+/srVwksM1hoBri+Xr16qW1Rk8f2WMY9GURGRsqQIUOUQGAb/L788stStGhRfQtR1h6O/fjjj8vo0aOVKxUT5uFCc4YSJUqo64UbNStwPyVLlpTjx49nGlHlyJEjcvDgQWUNmwvZAw88oNzGxvV98skn0qJFC32tdZAXaOe03K9Zs2b6FrcIDw/PcP9jxoyR+vXr62tdw1a7nXk7p2F1G1YsfrHO2bwn2YNCRoiDwHoBsDhQYKOwrlGjhkoDsHBQoMbGxsrnn3+u2tNQ09+zZ48SvU2bNulbmkQKgog2hQ0bNijXVsuWLeW+++5T6402IwglzgVXF4S0Tp06qn0HgmqAAr9t27bKmoKL79ixY+r4jz32mLKebAHBQdtW69at5ZFHHpFOnTopEVuzZo2+hXUgYmhTw3mstaXB2sH9wjUHnnjiCeWWhXij7Qz5EBAQID179pT27durbayBigCEDPmOa9q8ebOqpMB9h3wwBxYgrHBst3fvXmWVP/XUUzluFeJecK9GmyB+4d4+fPiwWia5A4WMEAeAIKBwhDChsEfjM+bN3XAoNFHAoyDdv3+/EjwAgcH26MBtcOPGDfn+++/l22+/VdbW8uXLVUFvWHgQJlh4KJhhkcDVhcCWHTt2SNmyZTMIAPaDWMIKwXYQ0X///VeKFSumAjJsAVdsTEyMEgWIGNq6ENwASysrihcvrn5TUlLUryUIksD14Bdu2IYNG6o8w3Wh3x/uF/cO8W7Tpk0GC9MA1468wH3AWoXrEnkFoUYFwggIMIDYI3gG23366adKRLEdKgc5CZ4pni0CiwB+8eyNSg/JHShkhNgB1s2zzz6rLBFYWyi4UFAjOALrELUHqwi/KMgOHDig72kbBBbAXWmAABUU7DgORBOFOI6FABYDWD+wSrCduUsTgoJzGtYR2nXQDgTMXZWWQMAglgBiGxUVpcTMndSsWVPCwsKU9WcukIartmDBglK1alU99RYIyHjnnXdUm6d51CAqB7hPHNOco0ePZrAOt27dqioLeGbk9odCRogFsHhgNRjTe++9J7Vr11YiNnPmTCUUsDbgWoOLD+5FWGYIPkEB7IiQWQLrzghQgXsSLj8IllHTN8A1IA3nNUTIGvaCXRC0gnY1iCACNnAuBHAgHW1lsP7c0dcNVhG+YGAt+g/WINrkYOlaA3kA9yNcd2j3wrMw2h3tAcFDdwKc35l+acQ7oZARYoFlGPZvv/0mH330kSrYza0KtG/BkoFFATFDvyRzyygngBsRU3ZBUALcoL/88ouKzsM9YhntTxBytEVZiqgBRlMBtj6xA4FFsENWQguy+kQPLEn0CUT3CQjed999J+PHj09vdyTEHAoZIRZYhmH/9NNPcujQIX3tLeBihOjBfYWCG+H5aB/LLrBe0MYCYYFFYQ5cmRBMtM3AKnQFWFyw+nAMtC2BZcuWqXYliM/TTz+tzgGL0xqwCmHBGS5VS7p27Sqvvvqqap+CGMLqw/ksgaUEUULncEtQOcDx4XKFRYYQebhzjXZHe+A+cA84Pzs03/5QyAhxEQge2n5QSJcvX95lt6IlxnEhYojGM4BoNG7cWAkc1rsKAigglnBPVqpUSU8VmTt3rhILdGGAQK9fv15fkxFYohAzBHKYdykAOJ7Rvoegh927dyvxQZp5/zu4MBGIgiAQa3lmCKSlUCLQxJp4QvjMIznhCoZrEm1nroL2QlROIIjm1iXmHXFvktyDQkZINoBVZkSoWboVEQwC1yMKcISCo3B1FLg0YXHde++9qi8Z2orefPNNFaABVxssqOyAoBGAdrIXXnhBHf+NN95QLlLcAwrrtm3bqm0sgdDCFYlgii5dusiwYcPU/jgOLDEICo4PIYMr9u+//1ZBHa+88ooa9aNv377K6oMgY9gvIzDFHOwHMYXVhoCPZ555RvUTg6vRmpDBHYr8QT4jv5BvEFB0bXAV5AMsVrhZ0TaHY6NLxJNPPplJyGDdwrqsVauW2haCjvxDKD7yBcBti76A+EVAz/Dhw1WEpWVXAuI8FDJCsgGi7+AagwVi6VbEul27dqmCHQUrhnNyFLjDEAoPy8soFGHBIPz+66+/VgVndoBQIlQdx4F1ZBwfLlQUvhBRdFi2JWa4N3QLwPYQEWyHMTIhHt9//73MmTNH31Lkxx9/lEWLFqkAFByzSZMmSuDhtrUlyBBL3CeEBGKGTtCwFCGgCOKA0BqChuOiPxdcmMhnWGewOtGuZrhOXQWBMBjLE+dDfzs8Q0R3WnYaR/8x5AXcthBb5AmEGu2A+AUQLwgg+tABpGM+q7ZC4hgcNJh4FM4MGuwIKIRQQ88pYG1hdA1YD4j0y8lAD0I8FQ4aTIgXA1cSato5Ha1ICLENhYwQF4CLDG0f999/v3IzmQ8/RQjJXShkxKNA+4c7cffxDGCJoW0JUW3z589niDcheQiFjHgUGJLJVkdcZ8FxzId4cieIPsNXqIcOHaqGQyKE5B0M9iAeB0aFR/8kBFK4EtGF6DWEb2MgXkSYEUJylrwO9qCQEUIIyRaMWiSEEEKyAYWMEEKIV0MhI4QQ4tVQyAghhHg1FDJCCCFeDYWMEEKIV0MhI4QQ4tVQyAghhHg1FDJCCCFeDYWMEEKIFyPy/0TD8fEM39hVAAAAAElFTkSuQmCC)"
      ],
      "metadata": {
        "id": "QU7QF9_QFqrM"
      }
    },
    {
      "cell_type": "markdown",
      "source": [
        "We can also use the **Magic %%** to send the cell content directly to another function instead of running it directly. We can create our own language or use existing ones such as R, HTML, etc. As shown in the below example, the presence of %%R tells the notebook that it needs to execute R code here. We can also define our own magic for javascript."
      ],
      "metadata": {
        "id": "hdEz_BIAFur1"
      }
    },
    {
      "cell_type": "code",
      "source": [
        "%load_ext rpy2.ipython"
      ],
      "metadata": {
        "id": "l5lMJCLfGH9f"
      },
      "execution_count": 50,
      "outputs": []
    },
    {
      "cell_type": "code",
      "source": [
        "%%R\n",
        "x <- 42\n",
        "print(x)"
      ],
      "metadata": {
        "colab": {
          "base_uri": "https://localhost:8080/"
        },
        "id": "U4Rv7aGWGbnG",
        "outputId": "e946aa66-f1dc-4a58-f11c-f9937b852e53"
      },
      "execution_count": 51,
      "outputs": [
        {
          "output_type": "stream",
          "name": "stdout",
          "text": [
            "[1] 42\n"
          ]
        }
      ]
    },
    {
      "cell_type": "code",
      "source": [
        "import re\n",
        "from IPython.display import HTML\n",
        "from IPython.core.magic import register_cell_magic"
      ],
      "metadata": {
        "id": "O1u8wZCjHju9"
      },
      "execution_count": 52,
      "outputs": []
    },
    {
      "cell_type": "code",
      "source": [
        "def var_sub(m):\n",
        "  v = globals()[m[1]]\n",
        "  if type(v) != str:\n",
        "    v = repr(v)\n",
        "  return v\n",
        "\n",
        "@register_cell_magic\n",
        "def javascript(line=\"\", cell=\"\"):\n",
        "  # var sub\n",
        "  cell = re.sub(r'\\{\\{(\\w+)+}}', var_sub, cell)\n",
        "\n",
        "  m = re.match(r'\\w+', line)\n",
        "  if m:                       # assign to a variable\n",
        "    globals()[m[0]] = cell\n",
        "  else:                       # normal display\n",
        "    display(HTML(\"\"\"\n",
        "<div id=\"drawing\"></div>\n",
        "<script src=\"https://cdnjs.cloudflare.com/ajax/libs/svg.js/2.6.5/svg.js\"></script>\n",
        "<script>\n",
        "var draw = SVG('drawing').size('100%', 100)\n",
        "var y_cursor_pos = 0\n",
        "function print(x){\n",
        "  draw.text(x.toString()).move(400, y_cursor_pos)\n",
        "  y_cursor_pos += 20\n",
        "}\n",
        "\n",
        "text = s=> draw.text(s).font('anchor', 'middle')\n",
        "line = (x1,y1, x2,y2)=> draw.line(x1,y1, x2, y2).stroke({width: 1})\n",
        "max = Math.max\n",
        "\"\"\" + cell))"
      ],
      "metadata": {
        "id": "LuUqXrnNHqm6"
      },
      "execution_count": 53,
      "outputs": []
    },
    {
      "cell_type": "code",
      "source": [
        "%%javascript\n",
        "\n",
        "draw.rect(100, 100)"
      ],
      "metadata": {
        "colab": {
          "base_uri": "https://localhost:8080/",
          "height": 122
        },
        "id": "okKOYtcyHrwW",
        "outputId": "bb7895c1-9a19-4973-de51-eadcf7b9ec9c"
      },
      "execution_count": 54,
      "outputs": [
        {
          "output_type": "display_data",
          "data": {
            "text/plain": [
              "<IPython.core.display.HTML object>"
            ],
            "text/html": [
              "\n",
              "<div id=\"drawing\"></div>\n",
              "<script src=\"https://cdnjs.cloudflare.com/ajax/libs/svg.js/2.6.5/svg.js\"></script>\n",
              "<script>\n",
              "var draw = SVG('drawing').size('100%', 100)\n",
              "var y_cursor_pos = 0\n",
              "function print(x){\n",
              "  draw.text(x.toString()).move(400, y_cursor_pos)\n",
              "  y_cursor_pos += 20\n",
              "}\n",
              "\n",
              "text = s=> draw.text(s).font('anchor', 'middle')\n",
              "line = (x1,y1, x2,y2)=> draw.line(x1,y1, x2, y2).stroke({width: 1})\n",
              "max = Math.max\n",
              "\n",
              "draw.rect(100, 100)\n"
            ]
          },
          "metadata": {}
        }
      ]
    },
    {
      "cell_type": "markdown",
      "source": [
        "We can also use magic %% with **Elasticsearch**."
      ],
      "metadata": {
        "id": "-A5_T-gLGsov"
      }
    },
    {
      "cell_type": "code",
      "source": [
        "!wget https://artifacts.elastic.co/downloads/elasticsearch/elasticsearch-7.0.0-linux-x86_64.tar.gz -q\n",
        "!tar -xzf elasticsearch-7.0.0-linux-x86_64.tar.gz\n",
        "!chown -R daemon:daemon elasticsearch-7.0.0"
      ],
      "metadata": {
        "id": "LJbRreQcH9ae"
      },
      "execution_count": 55,
      "outputs": []
    },
    {
      "cell_type": "code",
      "source": [
        "# start server\n",
        "import os\n",
        "from subprocess import Popen, PIPE, STDOUT\n",
        "es_server = Popen(['elasticsearch-7.0.0/bin/elasticsearch'],\n",
        "                  stdout=PIPE, stderr=STDOUT,\n",
        "                  preexec_fn=lambda: os.setuid(1)  # as daemon\n",
        "                 )"
      ],
      "metadata": {
        "id": "MdzSvonhIUDU"
      },
      "execution_count": 56,
      "outputs": []
    },
    {
      "cell_type": "markdown",
      "source": [
        "Give a few seconds before running the next step as it needs some time to set up the server."
      ],
      "metadata": {
        "id": "X1Gd0cMNg9XO"
      }
    },
    {
      "cell_type": "code",
      "source": [
        "!curl -X GET \"localhost:9200/\""
      ],
      "metadata": {
        "colab": {
          "base_uri": "https://localhost:8080/"
        },
        "id": "zHdA8J4WIU52",
        "outputId": "e377dd63-d097-4d7b-fc25-c9e566ff1712"
      },
      "execution_count": 62,
      "outputs": [
        {
          "output_type": "stream",
          "name": "stdout",
          "text": [
            "{\n",
            "  \"name\" : \"13dc96935532\",\n",
            "  \"cluster_name\" : \"elasticsearch\",\n",
            "  \"cluster_uuid\" : \"HCgrsKW2TYmNdDByKys9-Q\",\n",
            "  \"version\" : {\n",
            "    \"number\" : \"7.0.0\",\n",
            "    \"build_flavor\" : \"default\",\n",
            "    \"build_type\" : \"tar\",\n",
            "    \"build_hash\" : \"b7e28a7\",\n",
            "    \"build_date\" : \"2019-04-05T22:55:32.697037Z\",\n",
            "    \"build_snapshot\" : false,\n",
            "    \"lucene_version\" : \"8.0.0\",\n",
            "    \"minimum_wire_compatibility_version\" : \"6.7.0\",\n",
            "    \"minimum_index_compatibility_version\" : \"6.0.0-beta1\"\n",
            "  },\n",
            "  \"tagline\" : \"You Know, for Search\"\n",
            "}\n"
          ]
        }
      ]
    },
    {
      "cell_type": "code",
      "source": [
        "from requests import models, Session, Request\n",
        "from urllib.parse import urljoin\n",
        "from IPython.core.magic import register_cell_magic\n",
        "import re\n",
        "\n",
        "# to display json response\n",
        "def render(r):\n",
        "  text = r.text\n",
        "  if text[0] in \"[{\":  # really json\n",
        "    return \"\"\"\n",
        "    <script src=\"https://rawgit.com/caldwell/renderjson/master/renderjson.js\"></script>\n",
        "    <script>\n",
        "    renderjson.set_show_to_level(1)\n",
        "    document.body.appendChild(renderjson(%s))\n",
        "    new ResizeObserver(google.colab.output.resizeIframeToContent).observe(document.body)\n",
        "    </script>\n",
        "    \"\"\" % text\n",
        "  else:    # other status text\n",
        "    return \"<pre>%s</pre>\" % text\n",
        "models.Response._repr_html_ = render"
      ],
      "metadata": {
        "id": "ZZMug4YrIZI6"
      },
      "execution_count": 63,
      "outputs": []
    },
    {
      "cell_type": "code",
      "source": [
        "# %%es magic\n",
        "@register_cell_magic\n",
        "def es(line=None, cell=\"\"):\n",
        "  cell = re.sub(r'(?m)^\\s*#.*\\n?','', cell) # remove comment\n",
        "  line1 = (cell + '\\n').find('\\n')\n",
        "  method, path = cell[:line1].split(None, 1)\n",
        "  body = cell[line1:].strip()\n",
        "  args = {}\n",
        "  if body:\n",
        "    args['data'] = (body + '\\n').encode()  # in case _bulk\n",
        "    args['headers'] = {'Content-Type': 'application/json'}\n",
        "\n",
        "  rsp = Session().send(\n",
        "          Request(method, urljoin('http://localhost:9200', path), **args)\n",
        "            .prepare())\n",
        "  return rsp"
      ],
      "metadata": {
        "id": "M2Mb0oiaIb8S"
      },
      "execution_count": 64,
      "outputs": []
    },
    {
      "cell_type": "code",
      "source": [
        "%%es\n",
        "GET /"
      ],
      "metadata": {
        "colab": {
          "base_uri": "https://localhost:8080/",
          "height": 138
        },
        "id": "pwTiRcjQIds-",
        "outputId": "3e5c55ab-d50c-45c8-ff51-3d719baae7bf"
      },
      "execution_count": 65,
      "outputs": [
        {
          "output_type": "execute_result",
          "data": {
            "text/plain": [
              "<Response [200]>"
            ],
            "text/html": [
              "\n",
              "    <script src=\"https://rawgit.com/caldwell/renderjson/master/renderjson.js\"></script>\n",
              "    <script>\n",
              "    renderjson.set_show_to_level(1)\n",
              "    document.body.appendChild(renderjson({\n",
              "  \"name\" : \"13dc96935532\",\n",
              "  \"cluster_name\" : \"elasticsearch\",\n",
              "  \"cluster_uuid\" : \"HCgrsKW2TYmNdDByKys9-Q\",\n",
              "  \"version\" : {\n",
              "    \"number\" : \"7.0.0\",\n",
              "    \"build_flavor\" : \"default\",\n",
              "    \"build_type\" : \"tar\",\n",
              "    \"build_hash\" : \"b7e28a7\",\n",
              "    \"build_date\" : \"2019-04-05T22:55:32.697037Z\",\n",
              "    \"build_snapshot\" : false,\n",
              "    \"lucene_version\" : \"8.0.0\",\n",
              "    \"minimum_wire_compatibility_version\" : \"6.7.0\",\n",
              "    \"minimum_index_compatibility_version\" : \"6.0.0-beta1\"\n",
              "  },\n",
              "  \"tagline\" : \"You Know, for Search\"\n",
              "}\n",
              "))\n",
              "    new ResizeObserver(google.colab.output.resizeIframeToContent).observe(document.body)\n",
              "    </script>\n",
              "    "
            ]
          },
          "metadata": {},
          "execution_count": 65
        }
      ]
    },
    {
      "cell_type": "code",
      "source": [
        "%%es\n",
        "PUT /customer/_doc/1\n",
        "{\n",
        "  \"name\": \"John Doe\"\n",
        "}"
      ],
      "metadata": {
        "colab": {
          "base_uri": "https://localhost:8080/",
          "height": 191
        },
        "id": "nwmGJhEJIfV9",
        "outputId": "117b4c2f-b539-42c2-abeb-da172d3aab05"
      },
      "execution_count": 66,
      "outputs": [
        {
          "output_type": "execute_result",
          "data": {
            "text/plain": [
              "<Response [201]>"
            ],
            "text/html": [
              "\n",
              "    <script src=\"https://rawgit.com/caldwell/renderjson/master/renderjson.js\"></script>\n",
              "    <script>\n",
              "    renderjson.set_show_to_level(1)\n",
              "    document.body.appendChild(renderjson({\"_index\":\"customer\",\"_type\":\"_doc\",\"_id\":\"1\",\"_version\":1,\"result\":\"created\",\"_shards\":{\"total\":2,\"successful\":1,\"failed\":0},\"_seq_no\":0,\"_primary_term\":1}))\n",
              "    new ResizeObserver(google.colab.output.resizeIframeToContent).observe(document.body)\n",
              "    </script>\n",
              "    "
            ]
          },
          "metadata": {},
          "execution_count": 66
        }
      ]
    },
    {
      "cell_type": "markdown",
      "source": [
        "Python and Javascript can communicate with each other. There are 3 ways to call JS from Python."
      ],
      "metadata": {
        "id": "5M9Sf_rrJhTX"
      }
    },
    {
      "cell_type": "code",
      "source": [
        "%%html\n",
        "<script>\n",
        "document.body.append(document.createTextNode(\"Hello\"))\n",
        "</script>"
      ],
      "metadata": {
        "colab": {
          "base_uri": "https://localhost:8080/",
          "height": 34
        },
        "id": "Xo_Nj_A7Jn7e",
        "outputId": "157a96d5-9018-4c71-f081-6ced4346a2d4"
      },
      "execution_count": 69,
      "outputs": [
        {
          "output_type": "display_data",
          "data": {
            "text/plain": [
              "<IPython.core.display.HTML object>"
            ],
            "text/html": [
              "<script>\n",
              "document.body.append(document.createTextNode(\"Hello\"))\n",
              "</script>\n"
            ]
          },
          "metadata": {}
        }
      ]
    },
    {
      "cell_type": "code",
      "source": [
        "from IPython.display import Javascript\n",
        "Javascript('document.body.append(document.createTextNode(\"Hello\"))')"
      ],
      "metadata": {
        "colab": {
          "base_uri": "https://localhost:8080/",
          "height": 34
        },
        "id": "n4T-w0qDJofY",
        "outputId": "46f29107-ba84-4a54-e868-b6edfc041a90"
      },
      "execution_count": 70,
      "outputs": [
        {
          "output_type": "execute_result",
          "data": {
            "text/plain": [
              "<IPython.core.display.Javascript object>"
            ],
            "application/javascript": [
              "document.body.append(document.createTextNode(\"Hello\"))"
            ]
          },
          "metadata": {},
          "execution_count": 70
        }
      ]
    },
    {
      "cell_type": "code",
      "source": [
        "from google.colab.output import eval_js\n",
        "eval_js('1+1')"
      ],
      "metadata": {
        "colab": {
          "base_uri": "https://localhost:8080/",
          "height": 34
        },
        "id": "LiMKHsHbJps7",
        "outputId": "c4db9857-69e4-4fe8-a67c-fc3a8f4a9be7"
      },
      "execution_count": 71,
      "outputs": [
        {
          "output_type": "execute_result",
          "data": {
            "text/plain": [
              "2"
            ]
          },
          "metadata": {},
          "execution_count": 71
        }
      ]
    },
    {
      "cell_type": "markdown",
      "source": [
        "Similarly, JS can also call Python. There are two examples of such given below. The first example calls Python to concatenate two strings and return the result, which it displays."
      ],
      "metadata": {
        "id": "xR4qIIKhJ1V7"
      }
    },
    {
      "cell_type": "code",
      "source": [
        "from IPython.display import JSON\n",
        "import IPython.display as idisplay\n",
        "from google.colab import output\n",
        "\n",
        "def concat(a, b):\n",
        "  return JSON({'result': '%s %s' % (a, b)})\n",
        "\n",
        "output.register_callback('notebook.concat', concat)"
      ],
      "metadata": {
        "id": "1agJvFtmJ5mR"
      },
      "execution_count": 72,
      "outputs": []
    },
    {
      "cell_type": "code",
      "source": [
        "idisplay.Javascript('''\n",
        "(async function() {\n",
        "\n",
        "  const result = await google.colab.kernel.invokeFunction(\n",
        "    'notebook.concat',\n",
        "    ['hello', 'world!'],\n",
        "    {});\n",
        "\n",
        "  const text = result.data['application/json'].result;\n",
        "\n",
        "  document.querySelector(\"#output-area\").appendChild(document.createTextNode(text))\n",
        "\n",
        "})();\n",
        "''')"
      ],
      "metadata": {
        "colab": {
          "base_uri": "https://localhost:8080/",
          "height": 34
        },
        "id": "Z5-dZ43ZJ85x",
        "outputId": "a89db7ed-b524-4eb8-ed62-378c72327e13"
      },
      "execution_count": 73,
      "outputs": [
        {
          "output_type": "execute_result",
          "data": {
            "text/plain": [
              "<IPython.core.display.Javascript object>"
            ],
            "application/javascript": [
              "\n",
              "(async function() {\n",
              "\n",
              "  const result = await google.colab.kernel.invokeFunction(\n",
              "    'notebook.concat',\n",
              "    ['hello', 'world!'],\n",
              "    {});\n",
              "\n",
              "  const text = result.data['application/json'].result;\n",
              "\n",
              "  document.querySelector(\"#output-area\").appendChild(document.createTextNode(text))\n",
              "\n",
              "})();\n"
            ]
          },
          "metadata": {},
          "execution_count": 73
        }
      ]
    },
    {
      "cell_type": "markdown",
      "source": [
        "The second example uses the system's camera to stream video and take a photo of the user when clicked."
      ],
      "metadata": {
        "id": "G15S_914KPJN"
      }
    },
    {
      "cell_type": "code",
      "source": [
        "from IPython.display import HTML, Image\n",
        "from google.colab.output import eval_js\n",
        "from base64 import b64decode"
      ],
      "metadata": {
        "id": "9XI8SSzsKSIx"
      },
      "execution_count": 74,
      "outputs": []
    },
    {
      "cell_type": "code",
      "source": [
        "VIDEO_HTML = \"\"\"\n",
        "<video autoplay\n",
        " width=800 height=600></video>\n",
        "<script>\n",
        "var video = document.querySelector('video')\n",
        "navigator.mediaDevices.getUserMedia({ video: true })\n",
        "  .then(stream=> video.srcObject = stream)\n",
        "\n",
        "var data = new Promise(resolve=>{\n",
        "  video.onclick = ()=>{\n",
        "    var canvas = document.createElement('canvas')\n",
        "    var [w,h] = [video.offsetWidth, video.offsetHeight]\n",
        "    canvas.width = w\n",
        "    canvas.height = h\n",
        "    canvas.getContext('2d')\n",
        "          .drawImage(video, 0, 0, w, h)\n",
        "    video.srcObject.getVideoTracks()[0].stop()\n",
        "    video.replaceWith(canvas)\n",
        "    resolve(canvas.toDataURL('image/jpeg', %f))\n",
        "  }\n",
        "})\n",
        "</script>\n",
        "\"\"\""
      ],
      "metadata": {
        "id": "fugicp5pKTxK"
      },
      "execution_count": 75,
      "outputs": []
    },
    {
      "cell_type": "code",
      "source": [
        "def take_photo(filename='photo.jpg', quality=0.8):\n",
        "  display(HTML(VIDEO_HTML % quality))\n",
        "  data = eval_js(\"data\")\n",
        "  binary = b64decode(data.split(',')[1])\n",
        "  with open(filename, 'wb') as f:\n",
        "    f.write(binary)\n",
        "  return len(binary)"
      ],
      "metadata": {
        "id": "7E09cgBwKV38"
      },
      "execution_count": 76,
      "outputs": []
    },
    {
      "cell_type": "code",
      "source": [
        "take_photo()"
      ],
      "metadata": {
        "colab": {
          "base_uri": "https://localhost:8080/",
          "height": 639
        },
        "id": "ZY4CmULyKX_Q",
        "outputId": "a6e5114f-9cda-4852-b364-887ee3c94ce6"
      },
      "execution_count": 78,
      "outputs": [
        {
          "output_type": "display_data",
          "data": {
            "text/plain": [
              "<IPython.core.display.HTML object>"
            ],
            "text/html": [
              "\n",
              "<video autoplay\n",
              " width=800 height=600></video>\n",
              "<script>\n",
              "var video = document.querySelector('video')\n",
              "navigator.mediaDevices.getUserMedia({ video: true })\n",
              "  .then(stream=> video.srcObject = stream)\n",
              "\n",
              "var data = new Promise(resolve=>{\n",
              "  video.onclick = ()=>{\n",
              "    var canvas = document.createElement('canvas')\n",
              "    var [w,h] = [video.offsetWidth, video.offsetHeight]\n",
              "    canvas.width = w\n",
              "    canvas.height = h\n",
              "    canvas.getContext('2d')\n",
              "          .drawImage(video, 0, 0, w, h)\n",
              "    video.srcObject.getVideoTracks()[0].stop()\n",
              "    video.replaceWith(canvas)\n",
              "    resolve(canvas.toDataURL('image/jpeg', 0.800000))\n",
              "  }\n",
              "})\n",
              "</script>\n"
            ]
          },
          "metadata": {}
        },
        {
          "output_type": "execute_result",
          "data": {
            "text/plain": [
              "23863"
            ]
          },
          "metadata": {},
          "execution_count": 78
        }
      ]
    }
  ]
}